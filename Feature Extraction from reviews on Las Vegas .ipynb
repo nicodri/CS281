{
 "cells": [
  {
   "cell_type": "code",
   "execution_count": 16,
   "metadata": {
    "collapsed": false
   },
   "outputs": [
    {
     "name": "stdout",
     "output_type": "stream",
     "text": [
      "Compiling with /usr/local/bin/clang-omp\n"
     ]
    }
   ],
   "source": [
    "import time\n",
    "import numpy as np\n",
    "%matplotlib inline\n",
    "import matplotlib.pyplot as plt\n",
    "from scipy.special import psi\n",
    "import collections\n",
    "import json\n",
    "from scipy import sparse\n",
    "import sklearn.cluster\n",
    "import sklearn.decomposition\n",
    "# lda package for gibbs sampler\n",
    "import lda\n",
    "\n",
    "import sys\n",
    "import os.path\n",
    "sys.path.append('util')\n",
    "\n",
    "import set_compiler\n",
    "set_compiler.install()\n",
    "\n",
    "import pyximport\n",
    "pyximport.install()\n",
    "\n",
    "import numpy as np\n",
    "sys.path.append('OVI')\n",
    "import lda_ovi\n",
    "import time"
   ]
  },
  {
   "cell_type": "markdown",
   "metadata": {},
   "source": [
    "# Features Extraction\n",
    "\n",
    "We use here three different methods to extract features from the reviews, ie to convert the document term matrix into a document features latent matrix:\n",
    "* online variationnal inference LDA (coded from scratch)\n",
    "* Gibbs sampling LDA (coded from scratch)\n",
    "* Non-negative Matrix Factorisation (from scikit)"
   ]
  },
  {
   "cell_type": "markdown",
   "metadata": {},
   "source": [
    "### Loading the data"
   ]
  },
  {
   "cell_type": "code",
   "execution_count": 2,
   "metadata": {
    "collapsed": false
   },
   "outputs": [],
   "source": [
    "# Vocabulary\n",
    "lv_vocab10 = np.load('temp/Lasvegas_data/lv_vocab10.npy')"
   ]
  },
  {
   "cell_type": "code",
   "execution_count": 3,
   "metadata": {
    "collapsed": true
   },
   "outputs": [],
   "source": [
    "# Loading the dtm\n",
    "dtm_train = np.load('../Lasvegas/dtm_lv_train.npy')\n",
    "dtm_test = np.load('../Lasvegas/dtm_lv_test.npy')\n",
    "dtm = dtm_test + dtm_train"
   ]
  },
  {
   "cell_type": "code",
   "execution_count": 26,
   "metadata": {
    "collapsed": true
   },
   "outputs": [],
   "source": [
    "# Global parameters\n",
    "num_topics = 54"
   ]
  },
  {
   "cell_type": "markdown",
   "metadata": {},
   "source": [
    "### Online variationnal inference"
   ]
  },
  {
   "cell_type": "code",
   "execution_count": 27,
   "metadata": {
    "collapsed": false
   },
   "outputs": [
    {
     "name": "stdout",
     "output_type": "stream",
     "text": [
      "CPU times: user 2min, sys: 2.8 s, total: 2min 3s\n",
      "Wall time: 51.2 s\n"
     ]
    }
   ],
   "source": [
    "%%time\n",
    "tau = 512\n",
    "kappa = 0.7\n",
    "batchsize = 40\n",
    "\n",
    "model_ovi = lda_ovi.LDA(num_topics=num_topics, num_threads=8)\n",
    "model_ovi.fit(dtm, batchsize, tau, kappa)"
   ]
  },
  {
   "cell_type": "code",
   "execution_count": 11,
   "metadata": {
    "collapsed": false
   },
   "outputs": [
    {
     "name": "stdout",
     "output_type": "stream",
     "text": [
      "CPU times: user 30.5 s, sys: 932 ms, total: 31.5 s\n",
      "Wall time: 13.7 s\n",
      "CPU times: user 34.9 s, sys: 859 ms, total: 35.8 s\n",
      "Wall time: 15.4 s\n",
      "CPU times: user 43.4 s, sys: 1.09 s, total: 44.5 s\n",
      "Wall time: 20.8 s\n",
      "CPU times: user 45.6 s, sys: 1.2 s, total: 46.8 s\n",
      "Wall time: 20.5 s\n",
      "CPU times: user 52.8 s, sys: 1.39 s, total: 54.2 s\n",
      "Wall time: 24.4 s\n",
      "CPU times: user 57.2 s, sys: 1.42 s, total: 58.6 s\n",
      "Wall time: 25.9 s\n",
      "CPU times: user 1min 3s, sys: 1.51 s, total: 1min 5s\n",
      "Wall time: 28.4 s\n",
      "CPU times: user 1min 12s, sys: 1.75 s, total: 1min 14s\n",
      "Wall time: 32.3 s\n",
      "CPU times: user 1min 17s, sys: 1.82 s, total: 1min 19s\n",
      "Wall time: 34.1 s\n",
      "CPU times: user 1min 27s, sys: 2.14 s, total: 1min 29s\n",
      "Wall time: 38.5 s\n",
      "CPU times: user 1min 53s, sys: 2.38 s, total: 1min 56s\n",
      "Wall time: 50.1 s\n",
      "CPU times: user 2min, sys: 2.43 s, total: 2min 2s\n",
      "Wall time: 51.6 s\n",
      "CPU times: user 2min 8s, sys: 2.58 s, total: 2min 10s\n",
      "Wall time: 55.1 s\n",
      "CPU times: user 2min 19s, sys: 2.83 s, total: 2min 22s\n",
      "Wall time: 1min 2s\n"
     ]
    }
   ],
   "source": [
    "# Cross validation on the number of topics\n",
    "K = range(30, 70, 3)\n",
    "model_ovi = lda_ovi.LDA(num_topics=num_topics, num_threads=8)\n",
    "perplexity_dict = {}\n",
    "for k in K:\n",
    "    model_ovi.set_topics(k)\n",
    "    %time model_ovi.fit(dtm_train, batchsize, tau, kappa)\n",
    "    perplexity_dict[k] = model_ovi.perplexity(dtm_test,batchsize,tau,kappa)"
   ]
  },
  {
   "cell_type": "code",
   "execution_count": 24,
   "metadata": {
    "collapsed": false
   },
   "outputs": [
    {
     "data": {
      "text/plain": [
       "[(30, -0.86500487888369282),\n",
       " (33, -0.86256166352652996),\n",
       " (36, -0.80447093946197168),\n",
       " (39, -0.80466106414470784),\n",
       " (42, -0.80987776140965051),\n",
       " (45, -0.75569058556394497),\n",
       " (48, -0.75880192806942381),\n",
       " (51, -0.71814601711573811),\n",
       " (54, -0.71552191289501321),\n",
       " (57, -0.85865804786348465),\n",
       " (60, -1.0727739734523476),\n",
       " (63, -1.0737854717759028),\n",
       " (66, -1.1582356662244455),\n",
       " (69, -1.1584515121693173)]"
      ]
     },
     "execution_count": 24,
     "metadata": {},
     "output_type": "execute_result"
    }
   ],
   "source": [
    "perp_val = sorted(perplexity_dict.items(), key=lambda x: x[0])\n",
    "perp_val"
   ]
  },
  {
   "cell_type": "code",
   "execution_count": 25,
   "metadata": {
    "collapsed": false
   },
   "outputs": [
    {
     "data": {
      "image/png": "[encoded data removed]",
      "text/plain": [
       "<matplotlib.figure.Figure at 0x1445fc1d0>"
      ]
     },
     "metadata": {},
     "output_type": "display_data"
    }
   ],
   "source": [
    "plt.plot([p[0] for p in perp_val], [p[1] for p in perp_val])\n",
    "plt.xlabel('Number of topics')\n",
    "plt.ylabel('Perplexity')\n",
    "\n",
    "plt.title('Cross validation on the number of topics')\n",
    "plt.show()"
   ]
  },
  {
   "cell_type": "code",
   "execution_count": 28,
   "metadata": {
    "collapsed": true
   },
   "outputs": [],
   "source": [
    "np.save('temp/reviews_features/ovi_54_gamma', model_ovi.gamma)\n",
    "np.save('temp/reviews_features/ovi_54_topics', model_ovi.topics)"
   ]
  },
  {
   "cell_type": "markdown",
   "metadata": {},
   "source": [
    "### Gibbs sampling\n"
   ]
  },
  {
   "cell_type": "code",
   "execution_count": 34,
   "metadata": {
    "collapsed": false
   },
   "outputs": [
    {
     "name": "stderr",
     "output_type": "stream",
     "text": [
      "WARNING:lda:all zero column in document-term matrix found\n"
     ]
    },
    {
     "name": "stdout",
     "output_type": "stream",
     "text": [
      "CPU times: user 1h 7min 23s, sys: 17.6 s, total: 1h 7min 41s\n",
      "Wall time: 1h 8min 9s\n"
     ]
    }
   ],
   "source": [
    "%%time\n",
    "iterations = 1500\n",
    "\n",
    "model_gs = lda.LDA(n_topics=num_topics, n_iter=iterations, random_state=1)\n",
    "model_gs.fit(dtm)"
   ]
  },
  {
   "cell_type": "code",
   "execution_count": 39,
   "metadata": {
    "collapsed": false
   },
   "outputs": [],
   "source": [
    "np.save('temp/reviews_features/lda_gs_54_gamma', model_gs.doc_topic_)\n",
    "np.save('temp/reviews_features/lda_gs_54_topics', model_gs.components_)"
   ]
  },
  {
   "cell_type": "markdown",
   "metadata": {},
   "source": [
    "### NMF\n"
   ]
  },
  {
   "cell_type": "code",
   "execution_count": 29,
   "metadata": {
    "collapsed": false
   },
   "outputs": [
    {
     "name": "stdout",
     "output_type": "stream",
     "text": [
      "CPU times: user 7min 57s, sys: 1min 55s, total: 9min 52s\n",
      "Wall time: 6min 41s\n"
     ]
    }
   ],
   "source": [
    "%%time\n",
    "\n",
    "model_nmf = sklearn.decomposition.NMF(num_topics,max_iter=2000)\n",
    "model_nmf.fit(dtm)"
   ]
  },
  {
   "cell_type": "code",
   "execution_count": 31,
   "metadata": {
    "collapsed": false
   },
   "outputs": [],
   "source": [
    "gamma_nmf = model_nmf.transform(dtm)"
   ]
  },
  {
   "cell_type": "code",
   "execution_count": 38,
   "metadata": {
    "collapsed": false
   },
   "outputs": [],
   "source": [
    "np.save('temp/reviews_features/nmf_54_gamma', gamma_nmf)\n",
    "np.save('temp/reviews_features/nmf_54_topics', model_nmf.components_)"
   ]
  },
  {
   "cell_type": "code",
   "execution_count": null,
   "metadata": {
    "collapsed": true
   },
   "outputs": [],
   "source": []
  }
 ],
 "metadata": {
  "kernelspec": {
   "display_name": "Python 2",
   "language": "python",
   "name": "python2"
  },
  "language_info": {
   "codemirror_mode": {
    "name": "ipython",
    "version": 2
   },
   "file_extension": ".py",
   "mimetype": "text/x-python",
   "name": "python",
   "nbconvert_exporter": "python",
   "pygments_lexer": "ipython2",
   "version": "2.7.9"
  }
 },
 "nbformat": 4,
 "nbformat_minor": 0
}
