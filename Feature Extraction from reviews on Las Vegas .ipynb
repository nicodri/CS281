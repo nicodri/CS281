{
 "cells": [
  {
   "cell_type": "code",
   "execution_count": 1,
   "metadata": {
    "collapsed": false
   },
   "outputs": [
    {
     "name": "stdout",
     "output_type": "stream",
     "text": [
      "Compiling with /usr/local/bin/clang-omp\n"
     ]
    }
   ],
   "source": [
    "import time\n",
    "import numpy as np\n",
    "%matplotlib inline\n",
    "import matplotlib.pyplot as plt\n",
    "from scipy.special import psi\n",
    "import collections\n",
    "import json\n",
    "from scipy import sparse\n",
    "import sklearn.cluster\n",
    "import sklearn.decomposition\n",
    "# lda package for gibbs sampler\n",
    "import lda\n",
    "\n",
    "import sys\n",
    "import os.path\n",
    "sys.path.append('util')\n",
    "\n",
    "import set_compiler\n",
    "set_compiler.install()\n",
    "\n",
    "import pyximport\n",
    "pyximport.install()\n",
    "\n",
    "import numpy as np\n",
    "sys.path.append('OVI')\n",
    "import lda_ovi\n",
    "import time"
   ]
  },
  {
   "cell_type": "markdown",
   "metadata": {},
   "source": [
    "# Features Extraction\n",
    "\n",
    "We use here three different methods to extract features from the reviews, ie to convert the document term matrix into a document features latent matrix:\n",
    "* online variationnal inference LDA (coded from scratch)\n",
    "* Gibbs sampling LDA (coded from scratch)\n",
    "* Non-negative Matrix Factorisation (from scikit)"
   ]
  },
  {
   "cell_type": "markdown",
   "metadata": {},
   "source": [
    "### Loading the data"
   ]
  },
  {
   "cell_type": "code",
   "execution_count": 2,
   "metadata": {
    "collapsed": false
   },
   "outputs": [],
   "source": [
    "# Vocabulary\n",
    "lv_vocab10 = np.load('temp/Lasvegas_data/lv_vocab10.npy')"
   ]
  },
  {
   "cell_type": "code",
   "execution_count": 3,
   "metadata": {
    "collapsed": true
   },
   "outputs": [],
   "source": [
    "# Loading the dtm\n",
    "dtm_train = np.load('../Lasvegas/dtm_lv_train.npy')\n",
    "dtm_test = np.load('../Lasvegas/dtm_lv_test.npy')\n",
    "dtm = dtm_test + dtm_train"
   ]
  },
  {
   "cell_type": "code",
   "execution_count": 11,
   "metadata": {
    "collapsed": true
   },
   "outputs": [],
   "source": [
    "# Global parameters\n",
    "num_topics = 78"
   ]
  },
  {
   "cell_type": "markdown",
   "metadata": {},
   "source": [
    "### Online variationnal inference"
   ]
  },
  {
   "cell_type": "code",
   "execution_count": 12,
   "metadata": {
    "collapsed": false
   },
   "outputs": [],
   "source": [
    "tau = 512\n",
    "kappa = 0.7\n",
    "batchsize = 40"
   ]
  },
  {
   "cell_type": "code",
   "execution_count": 13,
   "metadata": {
    "collapsed": false
   },
   "outputs": [
    {
     "name": "stdout",
     "output_type": "stream",
     "text": [
      "CPU times: user 4min 9s, sys: 4.63 s, total: 4min 13s\n",
      "Wall time: 2min\n"
     ]
    }
   ],
   "source": [
    "%%time\n",
    "model_ovi = lda_ovi.LDA(num_topics=num_topics, num_threads=8)\n",
    "model_ovi.fit(dtm, batchsize, tau, kappa)"
   ]
  },
  {
   "cell_type": "code",
   "execution_count": 14,
   "metadata": {
    "collapsed": false
   },
   "outputs": [
    {
     "name": "stdout",
     "output_type": "stream",
     "text": [
      "Topic 0: dorito alert hound decrease terrible frangrium ethnicity jjanga\n",
      "Topic 1: prestige campechana buddha tryst five-spice time mayonaise width\n",
      "Topic 2: hatch bugolgi presenter boothe comer amandine renovation sisig\n",
      "Topic 3: pizza crust sauce cheese slice garlic salad wing\n",
      "Topic 4: assignment sham salamander helpfulness whisky brushetta hip-hop karai\n",
      "Topic 5: wing fry flavor garlic chicken boneless pepper lemon\n",
      "Topic 6: coffee latte sisig shop drink tea burrito barista\n",
      "Topic 7: chicken lunch rice beef flavor egg skin sauce\n",
      "Topic 8: beef tapas soup date sauce cheese wine flavor\n",
      "Topic 9: sandwich banh mi bread bahn meat pork veggies\n",
      "Topic 10: meat chicken burrito bark bowl rice steak bean\n",
      "Topic 11: surgeon good-bye mutton wichcraft two-top allowance gondola shrip\n",
      "Topic 12: nitrate fireball paddle brunt two-person violinist dawn lassi\n",
      "Topic 13: manapua notification mahimahi beefsteak oodles timeframe glazier fad\n",
      "Topic 14: drink strip bar margarita chip taco atmosphere salsa\n",
      "Topic 15: mi banh bahn bread sandwich hue pate nem\n",
      "Topic 16: symbol pre-cut za sequel sighting option shoestring robertos\n",
      "Topic 17: table boner checking pepe onions acceptance waterfront seawater\n",
      "Topic 18: tapas date cheese skewer drink night strip pitcher\n",
      "Topic 19: equipment coca-cola accountability pescado nectarine sal passionfruit buckle\n",
      "Topic 20: shogun ipad sleeveless troll hash-brown happy-hour wintertime nicht\n",
      "Topic 21: taco chicken salad night waiter meal dinner nachos\n",
      "Topic 22: mundo handicap takeover cantonese erection made-to-order over-the-top spiel\n",
      "Topic 23: chicken bar jam flavor cheese bread skin bacon\n",
      "Topic 24: minute meal girl drive employee gravy chicken dinner\n",
      "Topic 25: statistic in-between passer-by steamed crostacei creperie sooner schon\n",
      "Topic 26: sushi rice roll chicken sauce soup beef pork\n",
      "Topic 27: taco drink beer bar salsa night chip music\n",
      "Topic 28: sandwich subway location sanwich coupon daughter employee decorum\n",
      "Topic 29: dog fry beef bun wall giardiniera gyro hotdog\n",
      "Topic 30: pizza cheese sauce buffet crust roll kid chicken\n",
      "Topic 31: gamut gae tweet yoghurt kikurage wizard ghanoush yonaka\n",
      "Topic 32: eye-candy post-club eggwork indicator overabundance sprucing natto mannerism\n",
      "Topic 33: beurre fore combine anglaise corral bahn carnival must-go\n",
      "Topic 34: cheese date wine salad tapas meal steak drink\n",
      "Topic 35: popover steak meal waiter drink salad lobster flavor\n",
      "Topic 36: shiroi director scheduling shelter checkin yum-yum zingy growler\n",
      "Topic 37: dog chili fry hotdog bun topping mustard pink\n",
      "Topic 38: drink strip bar margarita taco atmosphere waitress nachos\n",
      "Topic 39: sandwich co-worker crisps sign pool couple potato fry\n",
      "Topic 40: lechon pancit halo lau bark sisig kalua filipino\n",
      "Topic 41: taco bacon chicken sauce skin cheese jam flavor\n",
      "Topic 42: dieter morale shipping reef make-up vegis following quickie\n",
      "Topic 43: pizza chicken bread night flavor cheese sandwich bacon\n",
      "Topic 44: pricewise dan skylight shi restaurants yorkshire supper mind-blowing\n",
      "Topic 45: pepperocini sharpness kaiseki mid-strip pew hai off-night cylinder\n",
      "Topic 46: pizza crust topping salad cheese sauce pepperoni pie\n",
      "Topic 47: pizza buffet chicken delivery night salad dessert breakfast\n",
      "Topic 48: bangus balancing cuke panhandler cruda brussell enlightenment economic\n",
      "Topic 49: sandwich breakfast coffee egg pancake tea location morning\n",
      "Topic 50: burger sandwich patty carb nyc tropicana rhythm sauce\n",
      "Topic 51: fifth riserva mediocre zoozacracker prowess lotion dolma roughy\n",
      "Topic 52: aperitif sparkly quick intermezzo shitty bitsy muddle comb\n",
      "Topic 53: command eraser beaucoup hardest athlete pakoda knotch cougar\n",
      "Topic 54: itis bellydancer challah wi extraordinaire tenant instrumental larb\n",
      "Topic 55: oreos stead ama martin posture bit dw rerun\n",
      "Topic 56: dreamsicle gospel frisco dork province thanx all-beef trattorium\n",
      "Topic 57: tapas paella date sangria sangrium ceviche empanada slider\n",
      "Topic 58: naan masala tikka paneer lassi tandoori chutney samosa\n",
      "Topic 59: westside vienna connect bouch variable vegatable mousseline hound\n",
      "Topic 60: cheese skin bacon chicken jam flavor bread bar\n",
      "Topic 61: potata wth stump dead wimp wings amuse fore\n",
      "Topic 62: hubbie compassion bus-boy rig half-roll mileage saba sunrise\n",
      "Topic 63: buffet dessert selection line crab leg station rib\n",
      "Topic 64: wine drink taco night chicken beef meal bar\n",
      "Topic 65: sono katsus follow-up backing darts printing listener saint\n",
      "Topic 66: prestige eavesdropping emperor repeating fife pod ago rind\n",
      "Topic 67: buffet breakfast dessert selection oyster seafood lunch rib\n",
      "Topic 68: uno onions på gusto caucasian rw kabocha mastery\n",
      "Topic 69: rice lunch chicken beef noodle egg soup sauce\n",
      "Topic 70: bugging ga puppet tue brine downtime deployment one-star\n",
      "Topic 71: pizza delivery night chicken sandwich rail salad hold\n",
      "Topic 72: tapas date taco drink cheese night strip salad\n",
      "Topic 73: straw location number ice fry collar highway correct\n",
      "Topic 74: complete clubhouse sais polka crudite heartiness rellena crème\n",
      "Topic 75: burger meal steak fry cheese sauce salad chicken\n",
      "Topic 76: coffee lunch chicken rice beef drink shop latte\n",
      "Topic 77: protection crossaint rich phoenix daal ape soley two-star\n"
     ]
    }
   ],
   "source": [
    "model_ovi.print_topic(lv_vocab10, num_top_words=8)"
   ]
  },
  {
   "cell_type": "code",
   "execution_count": 8,
   "metadata": {
    "collapsed": false
   },
   "outputs": [
    {
     "name": "stdout",
     "output_type": "stream",
     "text": [
      "CPU times: user 30.2 s, sys: 1.19 s, total: 31.4 s\n",
      "Wall time: 13.3 s\n",
      "CPU times: user 33.1 s, sys: 840 ms, total: 34 s\n",
      "Wall time: 13.6 s\n",
      "CPU times: user 43.5 s, sys: 1.2 s, total: 44.7 s\n",
      "Wall time: 20.9 s\n",
      "CPU times: user 46.7 s, sys: 1.31 s, total: 48 s\n",
      "Wall time: 20.6 s\n",
      "CPU times: user 54.3 s, sys: 1.57 s, total: 55.9 s\n",
      "Wall time: 25 s\n",
      "CPU times: user 59.1 s, sys: 2.06 s, total: 1min 1s\n",
      "Wall time: 27.2 s\n",
      "CPU times: user 1min 1s, sys: 1.39 s, total: 1min 3s\n",
      "Wall time: 25.7 s\n",
      "CPU times: user 1min 9s, sys: 1.73 s, total: 1min 11s\n",
      "Wall time: 29 s\n",
      "CPU times: user 1min 17s, sys: 1.92 s, total: 1min 19s\n",
      "Wall time: 34.7 s\n",
      "CPU times: user 1min 22s, sys: 1.84 s, total: 1min 24s\n",
      "Wall time: 33.6 s\n",
      "CPU times: user 1min 49s, sys: 2.18 s, total: 1min 51s\n",
      "Wall time: 44.1 s\n",
      "CPU times: user 1min 58s, sys: 2.3 s, total: 2min\n",
      "Wall time: 47.1 s\n",
      "CPU times: user 2min 8s, sys: 2.76 s, total: 2min 11s\n",
      "Wall time: 55.1 s\n",
      "CPU times: user 2min 35s, sys: 3.88 s, total: 2min 39s\n",
      "Wall time: 1min 21s\n",
      "CPU times: user 2min 53s, sys: 3.9 s, total: 2min 57s\n",
      "Wall time: 1min 27s\n",
      "CPU times: user 2min 59s, sys: 3.46 s, total: 3min 2s\n",
      "Wall time: 1min 22s\n",
      "CPU times: user 3min 44s, sys: 4.31 s, total: 3min 48s\n",
      "Wall time: 1min 53s\n",
      "CPU times: user 3min 55s, sys: 4.08 s, total: 3min 59s\n",
      "Wall time: 1min 47s\n",
      "CPU times: user 2min 41s, sys: 3.1 s, total: 2min 44s\n",
      "Wall time: 1min 17s\n",
      "CPU times: user 2min 58s, sys: 4.32 s, total: 3min 2s\n",
      "Wall time: 1min 43s\n",
      "CPU times: user 2min 57s, sys: 4.58 s, total: 3min 1s\n",
      "Wall time: 1min 48s\n",
      "CPU times: user 2min 56s, sys: 4.29 s, total: 3min 1s\n",
      "Wall time: 1min 42s\n",
      "CPU times: user 2min 57s, sys: 3.48 s, total: 3min\n",
      "Wall time: 1min 21s\n",
      "CPU times: user 3min 9s, sys: 4 s, total: 3min 13s\n",
      "Wall time: 1min 33s\n"
     ]
    }
   ],
   "source": [
    "# Cross validation on the number of topics\n",
    "K = range(30, 100, 3)\n",
    "model_ovi = lda_ovi.LDA(num_topics=num_topics, num_threads=8)\n",
    "perplexity_dict = {}\n",
    "for k in K:\n",
    "    model_ovi.set_topics(k)\n",
    "    %time model_ovi.fit(dtm_train, batchsize, tau, kappa)\n",
    "    perplexity_dict[k] = model_ovi.perplexity(dtm_test,batchsize,tau,kappa)"
   ]
  },
  {
   "cell_type": "code",
   "execution_count": 9,
   "metadata": {
    "collapsed": false
   },
   "outputs": [
    {
     "data": {
      "text/plain": [
       "[(30, -6.8391309122424513),\n",
       " (33, -6.8381610741950993),\n",
       " (36, -6.8445232545921382),\n",
       " (39, -6.8442936662109854),\n",
       " (42, -6.8359113425377371),\n",
       " (45, -6.8444019677161458),\n",
       " (48, -6.8448411339914959),\n",
       " (51, -6.8483053836372454),\n",
       " (54, -6.8487135094854121),\n",
       " (57, -6.8245853620207333),\n",
       " (60, -6.81559105593736),\n",
       " (63, -6.815552891732449),\n",
       " (66, -6.777649840140973),\n",
       " (69, -6.7776584608007893),\n",
       " (72, -6.7755080925953672),\n",
       " (75, -6.7747733890389403),\n",
       " (78, -6.7319431610533931),\n",
       " (81, -6.7317558282885424),\n",
       " (84, -6.8244497389271217),\n",
       " (87, -6.824255135466176),\n",
       " (90, -6.7917669759139896),\n",
       " (93, -6.7920548972512478),\n",
       " (96, -6.7971592087188002),\n",
       " (99, -6.7962470877237742)]"
      ]
     },
     "execution_count": 9,
     "metadata": {},
     "output_type": "execute_result"
    }
   ],
   "source": [
    "perp_val = sorted(perplexity_dict.items(), key=lambda x: x[0])\n",
    "perp_val"
   ]
  },
  {
   "cell_type": "code",
   "execution_count": 10,
   "metadata": {
    "collapsed": false
   },
   "outputs": [
    {
     "data": {
      "image/png": "[encoded data removed]",
      "text/plain": [
       "<matplotlib.figure.Figure at 0x1033b97d0>"
      ]
     },
     "metadata": {},
     "output_type": "display_data"
    }
   ],
   "source": [
    "plt.plot([p[0] for p in perp_val], [p[1] for p in perp_val])\n",
    "plt.xlabel('Number of topics')\n",
    "plt.ylabel('Perplexity')\n",
    "\n",
    "plt.title('Cross validation on the number of topics')\n",
    "plt.show()"
   ]
  },
  {
   "cell_type": "code",
   "execution_count": 15,
   "metadata": {
    "collapsed": true
   },
   "outputs": [],
   "source": [
    "np.save('temp/reviews_features/ovi_78_gamma', model_ovi.gamma)\n",
    "np.save('temp/reviews_features/ovi_78_topics', model_ovi.topics)"
   ]
  },
  {
   "cell_type": "markdown",
   "metadata": {},
   "source": [
    "### Gibbs sampling\n"
   ]
  },
  {
   "cell_type": "code",
   "execution_count": 34,
   "metadata": {
    "collapsed": false
   },
   "outputs": [
    {
     "name": "stderr",
     "output_type": "stream",
     "text": [
      "WARNING:lda:all zero column in document-term matrix found\n"
     ]
    },
    {
     "name": "stdout",
     "output_type": "stream",
     "text": [
      "CPU times: user 1h 7min 23s, sys: 17.6 s, total: 1h 7min 41s\n",
      "Wall time: 1h 8min 9s\n"
     ]
    }
   ],
   "source": [
    "%%time\n",
    "iterations = 1500\n",
    "\n",
    "model_gs = lda.LDA(n_topics=num_topics, n_iter=iterations, random_state=1)\n",
    "model_gs.fit(dtm)"
   ]
  },
  {
   "cell_type": "code",
   "execution_count": 40,
   "metadata": {
    "collapsed": false
   },
   "outputs": [
    {
     "name": "stderr",
     "output_type": "stream",
     "text": [
      "WARNING:lda:all zero column in document-term matrix found\n"
     ]
    },
    {
     "name": "stdout",
     "output_type": "stream",
     "text": [
      "CPU times: user 56min 12s, sys: 16.2 s, total: 56min 28s\n",
      "Wall time: 57min 5s\n"
     ]
    }
   ],
   "source": [
    "%%time\n",
    "# Computing the perplexity of the Gibbs sampling to compare it to the OVI one\n",
    "gs_perp =  lda.LDA(n_topics=num_topics, n_iter=iterations, random_state=1)\n",
    "# Fit the model on the trainset\n",
    "gs_perp.fit(dtm_train)"
   ]
  },
  {
   "cell_type": "code",
   "execution_count": 42,
   "metadata": {
    "collapsed": false
   },
   "outputs": [
    {
     "name": "stderr",
     "output_type": "stream",
     "text": [
      "WARNING:lda:all zero row in document-term matrix found\n",
      "WARNING:lda:all zero column in document-term matrix found\n"
     ]
    },
    {
     "name": "stdout",
     "output_type": "stream",
     "text": [
      "CPU times: user 2min 39s, sys: 3.51 s, total: 2min 42s\n",
      "Wall time: 2min 49s\n"
     ]
    },
    {
     "name": "stderr",
     "output_type": "stream",
     "text": [
      "/usr/local/lib/python2.7/site-packages/lda/lda.py:197: RuntimeWarning: invalid value encountered in true_divide\n",
      "  theta_doc /= sum(theta_doc)\n"
     ]
    }
   ],
   "source": [
    "%%time\n",
    "# Infering the gamma on the test set\n",
    "gamma_test = gs_perp.transform(dtm_test)"
   ]
  },
  {
   "cell_type": "code",
   "execution_count": 48,
   "metadata": {
    "collapsed": false
   },
   "outputs": [
    {
     "name": "stdout",
     "output_type": "stream",
     "text": [
      "Gibbs sampling perplexity is -6.40572218054\n"
     ]
    }
   ],
   "source": [
    "# Computing the perplexity (log-likelihood of the test set corpus based on the lda model fitted on the train set)\n",
    "topics = gs_perp.components_\n",
    "\n",
    "num = 0\n",
    "denom = 0\n",
    "for i in range(gamma_test.shape[0]):\n",
    "    doc_idx = np.nonzero(dtm_test[i, :])[0]\n",
    "    doc_cts = dtm_test[i, doc_idx]\n",
    "    num += np.sum(np.log(np.dot(gamma_test[i, :],\n",
    "                  topics[:, doc_idx]))*doc_cts)\n",
    "    denom += np.sum(doc_cts)\n",
    "gs_perplexity = num/denom\n",
    "print'Gibbs sampling perplexity is', gs_perplexity"
   ]
  },
  {
   "cell_type": "code",
   "execution_count": 39,
   "metadata": {
    "collapsed": false
   },
   "outputs": [],
   "source": [
    "np.save('temp/reviews_features/lda_gs_54_gamma', model_gs.doc_topic_)\n",
    "np.save('temp/reviews_features/lda_gs_54_topics', model_gs.components_)"
   ]
  },
  {
   "cell_type": "markdown",
   "metadata": {},
   "source": [
    "### NMF\n"
   ]
  },
  {
   "cell_type": "code",
   "execution_count": 29,
   "metadata": {
    "collapsed": false
   },
   "outputs": [
    {
     "name": "stdout",
     "output_type": "stream",
     "text": [
      "CPU times: user 7min 57s, sys: 1min 55s, total: 9min 52s\n",
      "Wall time: 6min 41s\n"
     ]
    }
   ],
   "source": [
    "%%time\n",
    "\n",
    "model_nmf = sklearn.decomposition.NMF(num_topics,max_iter=2000)\n",
    "model_nmf.fit(dtm)"
   ]
  },
  {
   "cell_type": "code",
   "execution_count": 31,
   "metadata": {
    "collapsed": false
   },
   "outputs": [],
   "source": [
    "gamma_nmf = model_nmf.transform(dtm)"
   ]
  },
  {
   "cell_type": "code",
   "execution_count": 38,
   "metadata": {
    "collapsed": false
   },
   "outputs": [],
   "source": [
    "np.save('temp/reviews_features/nmf_54_gamma', gamma_nmf)\n",
    "np.save('temp/reviews_features/nmf_54_topics', model_nmf.components_)"
   ]
  },
  {
   "cell_type": "code",
   "execution_count": null,
   "metadata": {
    "collapsed": true
   },
   "outputs": [],
   "source": []
  }
 ],
 "metadata": {
  "kernelspec": {
   "display_name": "Python 2",
   "language": "python",
   "name": "python2"
  },
  "language_info": {
   "codemirror_mode": {
    "name": "ipython",
    "version": 2
   },
   "file_extension": ".py",
   "mimetype": "text/x-python",
   "name": "python",
   "nbconvert_exporter": "python",
   "pygments_lexer": "ipython2",
   "version": "2.7.9"
  }
 },
 "nbformat": 4,
 "nbformat_minor": 0
}
