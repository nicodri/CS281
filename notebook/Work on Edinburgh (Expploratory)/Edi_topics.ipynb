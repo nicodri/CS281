{
 "cells": [
  {
   "cell_type": "code",
   "execution_count": 1,
   "metadata": {
    "collapsed": true
   },
   "outputs": [],
   "source": [
    "import LDA\n",
    "import time\n",
    "import numpy as np\n",
    "import matplotlib.pyplot as plt\n",
    "import collections\n",
    "import json\n",
    "from scipy import sparse"
   ]
  },
  {
   "cell_type": "code",
   "execution_count": 90,
   "metadata": {
    "collapsed": true
   },
   "outputs": [],
   "source": [
    "import sys\n",
    "sys.path.append('/Library/Frameworks/Python.framework/Versions/2.7/lib/python2.7/site-packages')"
   ]
  },
  {
   "cell_type": "markdown",
   "metadata": {},
   "source": [
    "## Preparing the data:"
   ]
  },
  {
   "cell_type": "code",
   "execution_count": 3,
   "metadata": {
    "collapsed": false
   },
   "outputs": [],
   "source": [
    "with open('temp/Edimbourg/Edi10.json', 'r') as fp:\n",
    "    reduced_edi = json.load(fp)\n",
    "\n",
    "with open('temp/Edimbourg/word_to_index.json', 'r') as fp:\n",
    "    word_to_index = json.load(fp)\n",
    "\n",
    "with open('temp/Edimbourg/index_to_word.json', 'r') as fp:\n",
    "    index_to_word = json.load(fp)\n",
    "\n",
    "with open('temp/Edimbourg/bid_to_index.json', 'r') as fp:\n",
    "    bid_to_index = json.load(fp)\n",
    "\n",
    "with open('temp/Edimbourg/index_to_bid.json', 'r') as fp:\n",
    "    index_to_bid = json.load(fp)"
   ]
  },
  {
   "cell_type": "code",
   "execution_count": 6,
   "metadata": {
    "collapsed": false
   },
   "outputs": [],
   "source": [
    "all_words = []\n",
    "for k in reduced_edi.keys():\n",
    "    all_words.extend(reduced_edi[k])"
   ]
  },
  {
   "cell_type": "code",
   "execution_count": 61,
   "metadata": {
    "collapsed": true
   },
   "outputs": [],
   "source": [
    "vocab = list(set(all_words))"
   ]
  },
  {
   "cell_type": "code",
   "execution_count": 53,
   "metadata": {
    "collapsed": false
   },
   "outputs": [],
   "source": [
    "word_to_index = dict(zip(vocab,range(len(vocab))))\n",
    "index_to_word = dict(zip(range(len(vocab)),vocab))"
   ]
  },
  {
   "cell_type": "code",
   "execution_count": 8,
   "metadata": {
    "collapsed": false
   },
   "outputs": [
    {
     "data": {
      "text/plain": [
       "Counter({u'food': 7344, u'place': 6367, u'time': 3339, u'menu': 3333, u'restaurant': 3211, u'bit': 2778, u'staff': 2682, u'service': 2558, u'table': 2429, u'bar': 2377, u'dish': 2192, u'meal': 2147, u'lunch': 1789, u'thing': 1767, u'drink': 1757, u'price': 1731, u'night': 1608, u'day': 1569, u'person': 1546, u'friend': 1473, u'burger': 1469, u'coffee': 1380, u'sauce': 1370, u'wine': 1336, u'way': 1309, u'chicken': 1272, u'lot': 1272, u'beer': 1224, u'selection': 1211, u'cheese': 1205, u'order': 1198, u'option': 1177, u'atmosphere': 1175, u'pub': 1157, u'salad': 1131, u'quality': 1102, u'portion': 1089, u'course': 1059, u'cake': 1036, u'experience': 1024, u'bread': 1016, u'dinner': 1007, u'area': 991, u'soup': 985, u'chip': 978, u'starter': 942, u'meat': 936, u'tea': 932, u'cocktail': 899, u'sandwich': 879, u'taste': 855, u'visit': 854, u'star': 841, u'breakfast': 831, u'potato': 823, u'fish': 812, u'room': 796, u'choice': 790, u'steak': 780, u'pizza': 759, u'plate': 739, u'cafe': 723, u'dessert': 715, u'evening': 686, u'decor': 670, u'cream': 669, u'year': 663, u'glass': 624, u'chocolate': 623, u'home': 614, u'pork': 604, u'group': 598, u'rice': 590, u'kind': 579, u'range': 570, u'shop': 562, u'couple': 554, u'location': 552, u'size': 551, u'fact': 550, u'roll': 540, u'music': 538, u'value': 533, u'waiter': 529, u'space': 528, u'egg': 524, u'waitress': 523, u'spot': 507, u'seat': 506, u'end': 503, u'beef': 493, u'style': 491, u'window': 486, u'town': 476, u'city': 472, u'minute': 471, u'wall': 466, u'street': 460, u'deal': 460, u'point': 459, u'door': 449, u'list': 448, u'type': 439, u'week': 439, u'tomato': 437, u'sushi': 429, u'customer': 429, u'fry': 426, u'review': 425, u'offer': 424, u'bottle': 422, u'bean': 418, u'dining': 416, u'flavour': 413, u'seating': 409, u'hour': 406, u'salmon': 405, u'fan': 397, u'afternoon': 387, u'lamb': 387, u'pudding': 384, u'ingredient': 382, u'money': 378, u'work': 377, u'student': 375, u'inside': 374, u'half': 373, u'ice': 371, u'variety': 370, u'feel': 368, u'bite': 365, u'bacon': 361, u'favourite': 357, u'reason': 355, u'light': 350, u'man': 349, u'kitchen': 344, u'pasta': 342, u'reviews': 341, u'house': 336, u'weekend': 332, u'main': 332, u'idea': 330, u'onion': 330, u'prawn': 325, u'hand': 324, u'fun': 319, u'bowl': 318, u'eating': 318, u'view': 318, u'family': 316, u'guy': 315, u'haggis': 313, u'party': 312, u'vegetable': 311, u'sausage': 310, u'piece': 309, u'sort': 305, u'brunch': 304, u'juice': 301, u'stuff': 301, u'book': 301, u'mushroom': 299, u'seafood': 299, u'slice': 299, u'water': 295, u'standard': 293, u'pint': 291, u'interior': 285, u'mix': 283, u'gluten': 283, u'world': 282, u'number': 278, u'venue': 277, u'chef': 273, u'pie': 273, u'yelp': 272, u'pot': 270, u'share': 270, u'plenty': 265, u'chair': 264, u'tourist': 263, u'pepper': 263, u'treat': 262, u'rest': 258, u'round': 257, u'boyfriend': 256, u'dog': 255, u'touch': 254, u'diner': 252, u'level': 252, u'corner': 252, u'floor': 251, u'duck': 251, u'mussel': 247, u'garlic': 245, u'scone': 244, u'apple': 244, u'girl': 243, u'occasion': 243, u'chain': 241, u'flavor': 241, u'morning': 240, u'item': 236, u'ale': 233, u'owner': 233, u'problem': 231, u'month': 229, u'fruit': 227, u'trip': 227, u'tender': 227, u'butter': 226, u'bun': 225, u'mash': 224, u'board': 223, u'date': 223, u'spice': 222, u'cuisine': 222, u'veggie': 221, u'fine': 220, u'vibe': 216, u'eye': 214, u'cup': 214, u'business': 213, u'whisky': 212, u'takeaway': 212, u'establishment': 211, u'head': 210, u'sign': 209, u'set': 208, u'pastry': 207, u'word': 206, u'server': 206, u'centre': 203, u'addition': 203, u'noodle': 202, u'chilli': 201, u'tapas': 200, u'boy': 197, u'combination': 194, u'special': 194, u'change': 193, u'case': 192, u'wing': 192, u'mouth': 190, u'birthday': 190, u'life': 188, u'lunchtime': 187, u'box': 187, u'deli': 186, u'roast': 186, u'load': 184, u'mind': 182, u'burrito': 182, u'ambiance': 181, u'chance': 180, u'look': 179, u'need': 179, u'road': 177, u'event': 176, u'scallop': 176, u'toilet': 175, u'lemon': 175, u'booth': 173, u'lady': 171, u'pound': 171, u'hotel': 169, u'chat': 169, u'wait': 168, u'carrot': 168, u'walk': 168, u'offering': 167, u'kebab': 167, u'yelper': 167, u'chili': 166, u'sample': 166, u'snack': 166, u'nachos': 165, u'crowd': 165, u'toast': 165, u'downstairs': 165, u'thought': 165, u'salsa': 164, u'today': 164, u'husband': 164, u'oil': 164, u'ceiling': 162, u'heart': 162, u'folk': 161, u'olife': 160, u'building': 160, u'veg': 159, u'vodka': 158, u'note': 157, u'goat': 156, u'opinion': 156, u'issue': 155, u'summer': 153, u'ham': 152, u'surprise': 151, u'voucher': 151, u'medium': 151, u'sea': 151, u'try': 151, u'job': 151, u'kid': 150, u'pancake': 150, u'face': 150, u'start': 149, u'belly': 148, u'texture': 148, u'moment': 148, u'reservation': 148, u'surrounding': 147, u'spinach': 147, u'topping': 147, u'gem': 147, u'middle': 147, u'taco': 146, u'branch': 146, u'wood': 145, u'lack': 145, u'partner': 145, u'bag': 144, u'dip': 144, u'scottish': 143, u'goodness': 143, u'expectation': 142, u'love': 140, u'cut': 140, u'aubergine': 139, u'age': 139, u'ginger': 138, u'setting': 138, u'thank': 138, u'tuna': 137, u'grub': 137, u'wifi': 137, u'caf\\xe9': 137, u'milk': 135, u'line': 135, u'presentation': 134, u'attention': 134, u'wife': 133, u'risotto': 132, u'spring': 131, u'gravy': 130, u'cost': 130, u'term': 130, u'feeling': 129, u'pea': 129, u'fare': 129, u'complaint': 128, u'perfection': 127, u'veggies': 126, u'queue': 126, u'sun': 126, u'ambience': 126, u'filling': 125, u'picture': 125, u'local': 125, u'yum': 124, u'impression': 124, u'salt': 124, u'rib': 124, u'conversation': 124, u'fault': 123, u'child': 122, u'right': 122, u'spirit': 120, u'craving': 120, u'sister': 120, u'section': 119, u'buffet': 118, u'dressing': 118, u'member': 118, u'game': 117, u'chorizo': 116, u'jam': 116, u'sofa': 116, u'pig': 116, u'shame': 115, u'card': 115, u'scene': 113, u'character': 112, u'tortilla': 112, u'dumpling': 112, u'winter': 111, u'castle': 111, u'crab': 111, u'cold': 111, u'recommendation': 111, u'chunk': 110, u'class': 110, u'version': 109, u'sense': 109, u'wrap': 108, u'guacamole': 108, u'bartender': 107, u'coconut': 107, u'manager': 107, u'eatery': 107, u'\\xa310': 107, u'white': 106, u'squid': 106, u'cheesecake': 105, u'stair': 105, u'venison': 105, u'smile': 105, u'desert': 105, u'environment': 104, u'paper': 104, u'art': 104, u'discount': 103, u'latte': 103, u'comfort': 102, u'lime': 102, u'air': 101, u'rating': 101, u'decoration': 101, u'reviewer': 101, u'colour': 101, u'avocado': 100, u'matter': 100, u'photo': 100, u'mood': 100, u'stew': 100, u'chutney': 99, u'basement': 99, u'doubt': 99, u'margarita': 98, u'parent': 98, u'milkshake': 98, u'couch': 98, u'batter': 98, u'brownie': 97, u'hit': 97, u'vanilla': 97, u'curry': 96, u'train': 96, u'skin': 95, u'sharing': 95, u'furniture': 95, u'baby': 95, u'country': 95, u'club': 94, u'base': 94, u'ball': 94, u'banter': 93, u'falafel': 93, u'garden': 93, u'school': 92, u'panini': 92, u'theme': 92, u'result': 92, u'delight': 92, u'companion': 92, u'syrup': 92, u'winner': 92, u'cider': 92, u'banana': 91, u'bunch': 91, u'booking': 90, u'alcohol': 90, u'd\\xe9cor': 90, u'station': 90, u'store': 90, u'oyster': 90, u'example': 89, u'arrival': 89, u'foot': 89, u'guest': 89, u'charm': 89, u'array': 88, u'good': 88, u'strawberry': 88, u'fillet': 87, u'toffee': 87, u'return': 87, u'effort': 86, u'shot': 86, u'bagel': 86, u'clientele': 85, u'broth': 85, u'rock': 85, u'suit': 85, u'red': 85, u'produce': 85, u'lover': 85, u'mayo': 84, u'smell': 84, u'tempura': 84, u'upstairs': 84, u'bistro': 84, u'bed': 84, u'mint': 83, u'nut': 83, u'thai': 83, u'heaven': 83, u'py': 83, u'festival': 83, u'memory': 82, u'product': 82, u'company': 82, u'lighting': 82, u'pesto': 82, u'visitor': 82, u'leaf': 82, u'beetroot': 81, u'mustard': 81, u'twist': 81, u'bone': 80, u'mini': 80, u'edge': 80, u'delivery': 80, u'display': 80, u'bathroom': 79, u'website': 79, u'opportunity': 79, u'\\xa35': 79, u'rush': 79, u'notch': 79, u'movie': 79, u'request': 79, u'lettuce': 78, u'mistake': 78, u'disappointment': 78, u'difference': 78, u'candle': 78, u'peanut': 78, u'use': 78, u'stock': 78, u'appetizer': 78, u'green': 77, u'background': 77, u'heat': 77, u'mile': 77, u'breast': 77, u'tofu': 77, u'spoon': 77, u'orange': 77, u'office': 76, u'basis': 76, u'whiskey': 76, u'market': 76, u'question': 76, u'mark': 76, u'bonus': 76, u'bench': 76, u'kick': 76, u'sum': 75, u'concept': 75, u'pickle': 75, u'sure': 75, u'outside': 75, u'pleasure': 75, u'alternative': 75, u'future': 74, u'lobster': 74, u'tv': 74, u'eater': 74, u'meeting': 74, u'espresso': 74, u'honey': 73, u'shopping': 73, u'woman': 73, u'miso': 73, u'king': 73, u'haddock': 73, u'cucumber': 73, u'manner': 72, u'tip': 72, u'stop': 72, u'tray': 72, u'layer': 72, u'cooking': 71, u'herb': 71, u'mozzarella': 71, u'sugar': 71, u'cappuccino': 71, u'walking': 71, u'stone': 71, u'weather': 71, u'entrance': 70, u'bass': 70, u'hole': 69, u'naan': 69, u'beverage': 69, u'stomach': 69, u'almond': 68, u'seed': 68, u'hummus': 68, u'fork': 68, u'charge': 68, u'smoothy': 68, u'step': 68, u'rocket': 68, u'edinburgh': 67, u'leather': 67, u'cool': 67, u'lentil': 67, u'mate': 67, u'hangover': 67, u'combo': 67, u'bus': 67, u'budget': 66, u'seasoning': 66, u'burritos': 66, u'highlight': 66, u'reputation': 65, u'balance': 65, u'gin': 65, u'form': 65, u'creme': 65, u'feature': 64, u'break': 64, u'waffle': 64, u'stool': 64, u'carte': 64, u'premise': 64, u'joy': 64, u'quiz': 64, u'band': 63, u'story': 63, u'coleslaw': 63, u'coriander': 63, u'description': 62, u'supper': 62, u'mother': 62, u'hint': 62, u'decision': 62, u'advance': 61, u'screen': 61, u'sashimi': 61, u'feast': 61, u'site': 61, u'dosa': 61, u'appetite': 60, u'ton': 60, u'rate': 60, u'booze': 60, u'cheek': 60, u'rabbit': 60, u'worth': 59, u'croissant': 59, u'downside': 59, u'meatball': 59, u'sport': 59, u'shrimp': 59, u'maple': 59, u'mess': 58, u'tune': 58, u'bargain': 58, u'advantage': 58, u'neighbourhood': 58, u'design': 58, u'crust': 58, u'secret': 58, u'sight': 58, u'comparison': 58, u'element': 58, u'accompaniment': 58, u'layout': 57, u'prosecco': 57, u'raman': 57, u'team': 57, u'hip': 57, u'entree': 57, u'counter': 57, u'knowledge': 57, u'state': 57, u'muffin': 56, u'brother': 56, u'welcome': 56, u'corn': 55, u'sorbet': 55, u'phone': 55, u'run': 55, u'savoury': 55, u'al': 55, u'vegetarian': 55, u'tummy': 55, u'caramel': 55, u'grease': 54, u'mug': 54, u'craft': 54, u'mango': 54, u'fridge': 54, u'pear': 54, u'platter': 54, u'plan': 54, u'buzz': 54, u'yesterday': 54, u'leg': 54, u'bakery': 54, u'dad': 54, u'truffle': 54, u'total': 53, u'rain': 53, u'suggestion': 53, u'care': 53, u'\\xa36': 53, u'plastic': 53, u'berry': 53, u'jug': 53, u'excuse': 53, u'champagne': 53, u'porridge': 53, u'haunt': 53, u'staple': 53, u'cabbage': 53, u'coke': 53, u'host': 53, u'bank': 52, u'finger': 52, u'basket': 52, u'squash': 52, u'cash': 52, u'playing': 52, u'brie': 52, u'hake': 52, u'affair': 52, u'noise': 52, u'eat': 52, u'machine': 51, u'mins': 51, u'skewer': 51, u'yoghurt': 51, u'season': 51, u'strip': 51, u'vinegar': 51, u'paninis': 51, u'holiday': 51, u'criticism': 50, u'average': 50, u'palate': 50, u'coat': 50, u'temperature': 50, u'drinking': 50, u'great': 50, u'wedge': 50, u'martini': 50, u'pineapple': 49, u'classic': 49, u'chickpea': 49, u'\\xa33': 49, u'venture': 49, u'fajita': 49, u'sound': 49, u'cupcake': 49, u'walnut': 49, u'liking': 49, u'attempt': 48, u'\\xa34': 48, u'cod': 48, u'car': 48, u'son': 48, u'quantity': 48, u'notice': 48, u'supermarket': 48, u'aspect': 48, u'girlfriend': 48, u'crackling': 48, u'mouthful': 48, u'cheddar': 48, u'cause': 48, u'tonight': 48, u'comment': 48, u'watering': 47, u'judge': 47, u'dance': 47, u'health': 47, u'pumpkin': 47, u'theatre': 47, u'pad': 47, u'film': 47, u'stick': 47, u'pigeon': 47, u'blend': 47, u'poster': 47, u'\\xa315': 47, u'tad': 47, u'feta': 47, u'cutlery': 47, u'university': 47, u'trap': 47, u'shell': 47, u'hope': 47, u'carnita': 47, u'effect': 47, u'\\xa320': 47, u'fritter': 46, u'warm': 46, u'think': 46, u'hat': 46, u'smoothie': 46, u'soy': 46, u'fiver': 46, u'advice': 46, u'nibble': 46, u'salami': 46, u'penny': 46, u'tenner': 46, u'page': 46, u'biscuit': 46, u'struggle': 45, u'metal': 45, u'fusion': 45, u'block': 45, u'competition': 45, u'bucket': 45, u'search': 45, u'colleague': 45, u'park': 45, u'speciality': 45, u'thumb': 45, u'custard': 45, u'dozen': 44, u'fuss': 44, u'plus': 44, u'football': 44, u'fat': 44, u'grill': 44, u'broccoli': 44, u'brand': 44, u'boot': 44, u'terrine': 43, u'cracker': 43, u'maki': 43, u'post': 43, u'mixture': 43, u'square': 43, u'calamari': 43, u'hurry': 43, u'quesadilla': 43, u'attitude': 43, u'gourmet': 43, u'self': 43, u'majority': 43, u'sip': 43, u'trout': 43, u'stage': 43, u'recipe': 42, u'god': 42, u'gentleman': 42, u'slab': 42, u'pile': 42, u'cinema': 42, u'sweetness': 42, u'sale': 42, u'piping': 42, u'culture': 42, u'patty': 42, u'mayonnaise': 42, u'stay': 42, u'pate': 41, u'oven': 41, u'regular': 41, u'hunger': 41, u'basil': 41, u'check': 41, u'appeal': 41, u'living': 41, u'benedict': 41, u'pop': 41, u'ravioli': 41, u'mousse': 41, u'lacking': 41, u'asparagus': 41, u'tag': 41, u'lager': 41, u'tequila': 40, u'diet': 40, u'journey': 40, u'joint': 40, u'draft': 40, u'factor': 40, u'arm': 40, u'rum': 40, u'upstair': 40, u'spaghettus': 40, u'sirloin': 40, u'credit': 39, u'war': 39, u'cook': 39, u'\\xa37': 39, u'alley': 39, u'ground': 39, u'direction': 39, u'situation': 39, u'pan': 39, u'leith': 39, u'dough': 39, u'sweet': 39, u'flight': 39, u'crap': 39, u'patron': 39, u'hair': 39, u'draught': 39, u'glance': 38, u'ring': 38, u'brulee': 38, u'watch': 38, u'policy': 38, u'tour': 38, u'brick': 38, u'success': 38, u'passion': 38, u'sunshine': 38, u'meh': 37, u'writing': 37, u'drinker': 37, u'mum': 37, u'pakora': 37, u'serving': 37, u'pain': 37, u'tooth': 37, u'hipster': 37, u'crisps': 37, u'concoction': 37, u'purpose': 37, u'lamp': 37, u'appearance': 37, u'award': 36, u'worker': 36, u'sake': 36, u'cheap': 36, u'improvement': 36, u'knife': 36, u'grassmarket': 36, u'banquet': 36, u'custom': 36, u'sit': 36, u'crowds': 36, u'bet': 36, u'painting': 36, u'laugh': 36, u'vintage': 36, u'gastropub': 36, u'daughter': 35, u'travel': 35, u'content': 35, u'fashion': 35, u'plum': 35, u'leek': 35, u'vegan': 35, u'trouble': 35, u'sheer': 35, u'preference': 35, u'dairy': 35, u'lasagne': 35, u'history': 35, u'trade': 35, u'quiche': 35, u'compliment': 35, u'pricing': 35, u'chai': 35, u'collection': 35, u'scoop': 35, u'mention': 35, u'jar': 35, u'bud': 35, u'distance': 34, u'sage': 34, u'jelly': 34, u'refill': 34, u'exception': 34, u'satay': 34, u'apology': 34, u'artisan': 34, u'breath': 34, u'image': 34, u'hen': 34, u'masala': 34, u'loaf': 34, u'consistency': 34, u'treacle': 34, u'novelty': 34, u'goody': 34, u'influence': 34, u'wallet': 34, u'punch': 34, u'staircase': 34, u'relish': 34, u'position': 34, u'teriyaki': 34, u'like': 34, u'cushion': 33, u'cow': 33, u'catch': 33, u'baguette': 33, u'gnocchi': 33, u'soul': 33, u'lounge': 33, u'hall': 33, u'dream': 33, u'jd': 33, u'period': 33, u'sampling': 33, u'mezze': 33, u'wheat': 33, u'luck': 33, u'song': 33, u'garnish': 33, u'hell': 33, u'flower': 33, u'let': 33, u'community': 33, u'liver': 33, u'punter': 33, u'relaxed': 33, u'flour': 33, u'ice-cream': 33, u'accent': 33, u'handful': 33, u'second': 32, u'soda': 32, u'caper': 32, u'incarnation': 32, u'sunday': 32, u'\\xa32': 32, u'stuffed': 32, u'jazz': 32, u'pal': 32, u'substance': 32, u'pitcher': 32, u'past': 32, u'tradition': 32, u'selling': 32, u'session': 32, u'hype': 32, u'damn': 32, u'body': 32, u'artichoke': 32, u'management': 32, u'cauliflower': 32, u'opening': 32, u'mackerel': 31, u'monster': 31, u'nature': 31, u'spread': 31, u'flavoursome': 31, u'icing': 31, u'slow': 31, u'terrace': 31, u'sat': 31, u'turkey': 31, u'marshmallow': 31, u'contrast': 31, u'sesame': 31, u'process': 31, u'butternut': 31, u'south': 31, u'volume': 31, u'plain': 31, u'promise': 31, u'function': 31, u'banger': 30, u'calory': 30, u'polenta': 30, u'personality': 30, u'taster': 30, u'stopping': 30, u'halloumi': 30, u'gift': 30, u'mit': 30, u'sponge': 30, u'working': 30, u'beach': 30, u'macaroon': 30, u'satisfying': 30, u'doctor': 30, u'omelette': 30, u'corkage': 30, u'stand': 30, u'crunch': 30, u'deliciousness': 30, u'malt': 30, u'grace': 30, u'ciabatta': 30, u'bruschetta': 30, u'creation': 30, u'cuppa': 30, u'haven': 30, u'measure': 30, u'genius': 30, u'news': 30, u'skill': 30, u'da': 30, u'bang': 29, u'pocket': 29, u'furnishing': 29, u'frill': 29, u'blueberry': 29, u'update': 29, u'reception': 29, u'puree': 29, u'drop': 29, u'sprout': 29, u'\\xa312': 29, u'west': 29, u'trick': 29, u'energy': 29, u'pick': 29, u'granola': 29, u'poppadom': 29, u'quest': 29, u'warning': 29, u'indian': 29, u'institution': 29, u'chap': 29, u'seaweed': 29, u'supply': 29, u'tongue': 29, u'pride': 28, u'path': 28, u'fix': 28, u'flatmate': 28, u'courgette': 28, u'peppercorn': 28, u'approach': 28, u'chill': 28, u'kale': 28, u'yep': 28, u'tin': 28, u'tile': 28, u'requirement': 28, u'\\xa38': 28, u'chewy': 28, u'newspaper': 28, u'anchovy': 28, u'mom': 28, u'loo': 28, u'allergy': 28, u'browny': 28, u'fancy': 28, u'brioche': 28, u'belt': 28, u'shirt': 28, u'popcorn': 28, u'map': 28, u'refreshing': 28, u'talk': 28, u'condiment': 28, u'stag': 28, u'carnivore': 27, u'greek': 27, u'mean': 27, u'tatty': 27, u'strength': 27, u'snob': 27, u'scotch': 27, u'chandelier': 27, u'wedding': 27, u'feed': 27, u'shit': 27, u'bustle': 27, u'slaw': 27, u'track': 27, u'pricy': 27, u'napkin': 27, u'reaction': 27, u'chopstick': 27, u'ribeye': 27, u'par': 27, u'taxi': 27, u'charcuterie': 27, u'loudon': 27, u'dancing': 27, u'match': 27, u'stack': 27, u'entry': 27, u'raspberry': 27, u'parsnip': 27, u'weekday': 27, u'turn': 27, u'yogurt': 27, u'joke': 27, u'neighbour': 27, u'inch': 27, u'paste': 27, u'es': 27, u'celebration': 26, u'smoke': 26, u'chilly': 26, u'trend': 26, u'hazelnut': 26, u'reserve': 26, u'trust': 26, u'warmth': 26, u'jacket': 26, u'focus': 26, u'microwave': 26, u'pillow': 26, u'attraction': 26, u'lad': 26, u'ratio': 26, u'challenge': 26, u'\\xa37.50': 26, u'tikka': 26, u'den': 26, u'mission': 26, u'scot': 26, u'macaroni': 26, u'bouche': 26, u'clean': 26, u'simple': 26, u'eel': 26, u'cellar': 26, u'standing': 26, u'tap': 26, u'rhubarb': 26, u'fear': 26, u'rump': 26, u'langoustine': 26, u'tick': 26, u'jalapeno': 26, u'fireplace': 25, u'abundance': 25, u'fudge': 25, u'trek': 25, u'tree': 25, u'lemonade': 25, u'cherry': 25, u'gig': 25, u'barista': 25, u'favour': 25, u'\\xa33.50': 25, u'wonder': 25, u'authenticity': 25, u'dark': 25, u'benefit': 25, u'nose': 25, u'cabinet': 25, u'freshness': 25, u'mass': 25, u'apartment': 25, u'boozer': 25, u'neighborhood': 25, u'anniversary': 25, u'tiramisu': 25, u'print': 25, u'source': 25, u'spending': 25, u'depth': 25, u'barbecue': 25, u'animal': 25, u'wave': 25, u'friendliness': 25, u'access': 25, u'compote': 25, u'envy': 25, u'grain': 25, u'wish': 25, u'jack': 24, u'blue': 24, u'hog': 24, u'shallot': 24, u'desire': 24, u'artwork': 24, u'nom': 24, u'outlet': 24, u'honesty': 24, u'boat': 24, u'fringe': 24, u'parcel': 24, u'hill': 24, u'gf': 24, u'degree': 24, u'roof': 24, u'toddler': 24, u'truth': 24, u'category': 24, u'yard': 24, u'claim': 24, u'antipasti': 24, u'variation': 24, u'adult': 23, u'root': 23, u'hollandaise': 23, u'best': 23, u'tone': 23, u'teapot': 23, u'enchilada': 23, u'couscous': 23, u'comforting': 23, u'cheeseburger': 23, u'tattie': 23, u'potential': 23, u'proportion': 23, u'region': 23, u'armchair': 23, u'statue': 23, u'shortbread': 23, u'clam': 23, u'power': 23, u'pool': 23, u'cookies': 23, u'hungover': 23, u'waitstaff': 23, u'brewery': 23, u'stroll': 23, u'connection': 23, u'shape': 23, u'scale': 23, u'epic': 23, u'praise': 23, u'la': 23, u'debate': 23, u'cube': 23, u'ability': 23, u'hmm': 23, u'groupon': 23, u'flake': 23, u'excitement': 23, u'shelve': 22, u'fig': 22, u'elegance': 22, u'baklava': 22, u'loin': 22, u'extra': 22, u'crepe': 22, u'hula': 22, u'\\xa39': 22, u'spanish': 22, u'dollop': 22, u'pair': 22, u'tiger': 22, u'speed': 22, u'respect': 22, u'island': 22, u'dragon': 22, u'shore': 22, u'guac': 22, u'popularity': 22, u'expert': 22, u'bridge': 22, u'patient': 22, u'tastiest': 22, u'buffalo': 22, u'charity': 22, u'account': 22, u'entertainment': 22, u'pho': 22, u'center': 22, u'proximity': 22, u'glory': 22, u'campus': 22, u'relaxing': 22, u'enjoy': 21, u'cardboard': 21, u'pomegranate': 21, u'hangout': 21, u'away': 21, u'split': 21, u'shoulder': 21, u'church': 21, u'elephant': 21, u'liquid': 21, u'midnight': 21, u'monkfish': 21, u'shoe': 21, u'artist': 21, u'cumin': 21, u'concern': 21, u'tub': 21, u'vacation': 21, u'finish': 21, u'traffic': 21, u'nook': 21, u'caf\\xe9s': 21, u'dress': 21, u'stir': 21, u'calzone': 21, u'ask': 21, u'paint': 21, u'mountain': 21, u'gold': 21, u'century': 21, u'port': 21, u'task': 21, u'aroma': 21, u'dude': 21, u'barman': 21, u'marinade': 21, u'capital': 21, u'app': 21, u'high': 21, u'arrangement': 21, u'wallpaper': 21, u'whilst': 21, u'route': 21, u'min': 21, u'instance': 21, u'mocha': 21, u'sehr': 21, u'nigiri': 21, u'heel': 21, u'pairing': 21, u'rule': 21, u'sorry': 20, u'baking': 20, u'iron': 20, u'seadog': 20, u'shellfish': 20, u'reference': 20, u'score': 20, u'tang': 20, u'magazine': 20, u'heap': 20, u'ship': 20, u'row': 20, u'everybody': 20, u'mac': 20, u'macaron': 20, u'shake': 20, u'internet': 20, u'ideal': 20, u'treasure': 20, u'picnic': 20, u'stretch': 20, u'hubby': 20, u'thali': 20, u'field': 20, u'response': 20, u'help': 20, u'introduction': 20, u'chowder': 20, u'error': 20, u'assortment': 20, u'meadow': 20, u'go-to': 20, u'planet': 20, u'saffron': 20, u'gra': 20, u'land': 20, u'moon': 20, u'gastro-pub': 20, u'mojito': 20, u'pitta': 20, u'boom': 20, u'doughnut': 20, u'roti': 20, u'memorabilium': 20, u'limit': 20, u'straw': 19, u'foody': 19, u'hop': 19, u'answer': 19, u'law': 19, u'hidden': 19, u'slate': 19, u'bream': 19, u'rosemary': 19, u'speaking': 19, u'oatcake': 19, u'goujon': 19, u'habit': 19, u'extent': 19, u'cousin': 19, u'parsley': 19, u'tartar': 19, u'gallery': 19, u'trio': 19, u'eteaket': 19, u'test': 19, u'designer': 19, u'fennel': 19, u'gusto': 19, u'pre': 19, u'gathering': 19, u'angel': 19, u'parking': 19, u'freezer': 19, u'drive': 19, u'dill': 19, u'disappointed': 19, u'enjoyment': 19, u'ace': 19, u'saturday': 19, u'ticket': 19, u'hash': 19, u'component': 19, u'destination': 19, u'brim': 19, u'sucker': 19, u'mmm': 19, u'statement': 19, u'blackboard': 19, u'californian': 19, u'pm': 19, u'buck': 19, u'snail': 19, u'chow': 19, u'sock': 19, u'apricot': 19, u'peace': 19, u'department': 19, u'smiley': 19, u'sensation': 19, u'stockbridge': 19, u'gent': 19, u'seabass': 19, u'brew': 19, u'swift': 19, u'smoking': 19, u'novel': 19, u'cocoa': 19, u'patisserie': 19, u'hate': 18, u'convenience': 18, u'en': 18, u'voice': 18, u'elbow': 18, u'beauty': 18, u'loyalty': 18, u'wind': 18, u'skink': 18, u'glow': 18, u'earl': 18, u'ears': 18, u'lassi': 18, u'discovery': 18, u'upscale': 18, u'thingy': 18, u'guess': 18, u'reality': 18, u'gut': 18, u'neck': 18, u'gesture': 18, u'farmer': 18, u'formula': 18, u'wi-fi': 18, u'\\xa34.50': 18, u'rugby': 18, u'itison': 18, u'\\xa31': 18, u'pay': 18, u'foam': 18, u'stranger': 18, u'tower': 18, u'canteen': 18, u'package': 18, u'ox': 18, u'parmesan': 18, u'norm': 18, u'action': 18, u'male': 18, u'simplicity': 18, u'horse': 18, u'play': 18, u'eggplant': 18, u'conveyor': 18, u'firm': 18, u'bin': 18, u'paneer': 18, u'russian': 18, u'\\xa311': 18, u'nan': 18, u'meaning': 18, u'rack': 18, u'carbonara': 18, u'bird': 18, u'maker': 18, u'charcoal': 18, u'rubbish': 18, u'ride': 18, u'delay': 18, u'comedy': 18, u'cardamom': 18, u'slider': 18, u'timing': 18, u'fellow': 18, u'resident': 18, u'warming': 18, u'drizzle': 18, u'museum': 18, u'balcony': 18, u'fishcake': 18, u'conclusion': 18, u'blanket': 17, u'linguine': 17, u'tatin': 17, u'relax': 17, u'confit': 17, u'delicacy': 17, u'silver': 17, u'pence': 17, u'crawl': 17, u'morsel': 17, u'watermelon': 17, u'coley': 17, u'disaster': 17, u'mex': 17, u'mouse': 17, u'ease': 17, u'hunt': 17, u'hassle': 17, u'tex': 17, u'tartare': 17, u'cinnamon': 17, u'sweetcorn': 17, u'montpelier': 17, u'el': 17, u'summary': 17, u'\\xa36.50': 17, u'existence': 17, u'teeny': 17, u'ya': 17, u'sit-in': 17, u'thinking': 17, u'color': 17, u'mixer': 17, u'cottage': 17, u'patata': 17, u'clothe': 17, u'flaw': 17, u'phrase': 17, u'signature': 17, u'radar': 17, u'wasabi': 17, u'pud': 17, u'difficulty': 17, u'beginning': 17, u'tandoori': 17, u'hostess': 17, u'frozen': 17, u'pace': 17, u'horseradish': 17, u'yolk': 17, u'mummy': 17, u'peppermint': 17, u'casserole': 17, u'stream': 17, u'oh': 17, u'minimalist': 17, u'length': 17, u'employee': 17, u'take-out': 17, u'bear': 17, u'skittle': 17, u'packet': 17, u'email': 17, u'courtyard': 17, u'key': 17, u'winning': 17, u'surface': 17, u'\\xa325': 17, u'village': 17, u'ketchup': 17, u'baker': 17, u'pancetta': 16, u'dry': 16, u'kudo': 16, u'raisin': 16, u'preparation': 16, u'luxury': 16, u'caffeine': 16, u'confusion': 16, u'accident': 16, u'chum': 16, u'yes': 16, u'trimming': 16, u'pillar': 16, u'escape': 16, u'bisque': 16, u'fairness': 16, u'grape': 16, u'sundae': 16, u'octopus': 16, u'tonic': 16, u'container': 16, u'refurbishment': 16, u'performance': 16, u'surf': 16, u'professional': 16, u'enthusiasm': 16, u'imagination': 16, u'miniature': 16, u'parfait': 16, u'weight': 16, u'lip': 16, u'activity': 16, u'vino': 16, u'mozarella': 16, u'indication': 16, u'missus': 16, u'tart': 16, u'danger': 16, u'humus': 16, u'donut': 16, u'touristy': 16, u'remember': 16, u'\\xa330': 16, u'brain': 16, u'doorway': 16, u'waste': 16, u'bbq': 16, u'appetising': 16, u'heating': 16, u'candy': 16, u'count': 16, u'record': 16, u'\\xa35.95': 16, u'pic': 16, u'hanging': 15, u'feedback': 15, u'gym': 15, u'jean': 15, u'chipotle': 15, u'pretzel': 15, u'uni': 15, u'height': 15, u'showing': 15, u'smoker': 15, u'laptop': 15, u'shout': 15, u'evidence': 15, u'shift': 15, u'max': 15, u'samosas': 15, u'profit': 15, u'sheet': 15, u'hug': 15, u'fraction': 15, u'somebody': 15, u'noble': 15, u'towel': 15, u'choc': 15, u'sardine': 15, u'carpet': 15, u'tail': 15, u'prosciutto': 15, u'friday': 15, u'plant': 15, u'blood': 15, u'patio': 15, u'absence': 15, u'kofta': 15, u'ass': 15, u'cookie': 15, u'relationship': 15, u'justice': 15, u'paella': 15, u'shower': 15, u'exchange': 15, u'demand': 15, u'bon': 15, u'snag': 15, u'fortune': 15, u'\\xa313': 15, u'bell': 15, u'rainbow': 15, u'peach': 15, u'clue': 15, u'outing': 15, u'mosque': 15, u'magic': 15, u'shock': 15, u'consideration': 15, u'skirt': 15, u'farm': 15, u'richness': 15, u'boring': 15, u'samosa': 15, u'ear': 15, u'act': 15, u'icecream': 15, u'curtain': 15, u'focaccia': 15, u'dust': 15, u'flesh': 15, u'desk': 15, u'penne': 15, u'pit': 15, u'toasty': 15, u'foie': 15, u'gelato': 15, u'yellow': 14, u'buddy': 14, u'specialise': 14, u'study': 14, u'tex-mex': 14, u'croquette': 14, u'setup': 14, u'curiosity': 14, u'whim': 14, u'storm': 14, u'korma': 14, u'nip': 14, u'flame': 14, u'bomb': 14, u'prix': 14, u'celery': 14, u'gyoza': 14, u'hang': 14, u'tho': 14, u'makeover': 14, u'meringue': 14, u'tastebud': 14, u'intolerance': 14, u'fisher': 14, u'die': 14, u'filler': 14, u'suspect': 14, u'frosting': 14, u'hospitality': 14, u'ipa': 14, u'figure': 14, u'presence': 14, u'vicinity': 14, u'grandma': 14, u'adventure': 14, u'tarte': 14, u'crime': 14, u'palette': 14, u'quiet': 14, u'madness': 14, u'satisfaction': 14, u'purse': 14, u'worry': 14, u'mole': 14, u'cullen': 14, u'spoonful': 14, u'veal': 14, u'blow': 14, u'death': 14, u'execution': 14, u'rear': 14, u'chop': 14, u'refurb': 14, u'brandy': 14, u'pheasant': 14, u'airport': 14, u'splash': 14, u'information': 14, u'meze': 14, u'fraiche': 14, u'hard': 14, u'lemongrass': 14, u'grocery': 14, u'solo': 14, u'shortcake': 14, u'gap': 14, u'gal': 14, u'quail': 14, u'timber': 14, u'liqueur': 14, u'bamboo': 14, u'rug': 14, u'italian': 14, u'letter': 14, u'nonsense': 14, u'vine': 14, u'link': 14, u'baba': 14, u'curd': 14, u'empire': 14, u'code': 14, u'suite': 14, u'button': 14, u'eve': 14, u'win': 14, u'indulgence': 14, u'\\xa37.95': 14, u'control': 14, u'biryani': 14, u'delicatessen': 14, u'society': 14, u'wander': 14, u'barley': 14, u'marrow': 14, u'explanation': 14, u'piano': 14, u'volunteer': 14, u'happiness': 14, u'library': 14, u'swimming': 14, u'intention': 14, u'risk': 13, u'supplier': 13, u'specialist': 13, u'pecan': 13, u'pinto': 13, u'lump': 13, u'deck': 13, u'fave': 13, u'f\\xfcr': 13, u'snow': 13, u'beet': 13, u'rigatoni': 13, u'crockery': 13, u'population': 13, u'hunk': 13, u'wax': 13, u'role': 13, u'skip': 13, u'anticipation': 13, u'father': 13, u'brown': 13, u'peep': 13, u'bourbon': 13, u'graduation': 13, u'discussion': 13, u'pine': 13, u'cola': 13, u'quarter': 13, u'theory': 13, u'fabric': 13, u'punk': 13, u'turf': 13, u'cr\\xe8me': 13, u'paprika': 13, u'glaze': 13, u'duty': 13, u'wake': 13, u'cask': 13, u'property': 13, u'booster': 13, u'treatment': 13, u'crouton': 13, u'rye': 13, u'beacon': 13, u'chestnut': 13, u'\\xa34.95': 13, u'alcove': 13, u'testament': 13, u'scheme': 13, u'munchy': 13, u'double': 13, u'cover': 13, u'individual': 13, u'league': 13, u'squirrel': 13, u'guide': 13, u'marmalade': 13, u'rub': 13, u'silence': 13, u'filet': 13, u'piri': 13, u'flow': 13, u'notion': 13, u'scratch': 13, u'chippies': 13, u'tarragon': 13, u'musician': 13, u'tab': 13, u'umbrella': 13, u'liquor': 13, u'mezzanine': 13, u'courtesy': 13, u'feat': 13, u'powder': 13, u'routine': 13, u'outsider': 13, u'doner': 13, u'chalk': 13, u'cross': 13, u'beast': 13, u'vinaigrette': 13, u'dose': 13, u'chick': 13, u'replacement': 13, u'naff': 13, u'cranberry': 13, u'lift': 13, u'prize': 12, u'wednesday': 12, u'passionfruit': 12, u'ware': 12, u'worn': 12, u'purchase': 12, u'fit': 12, u'series': 12, u'heck': 12, u'tastiness': 12, u'client': 12, u'left': 12, u'appetiser': 12, u'teenager': 12, u'quirk': 12, u'peek': 12, u'flatbread': 12, u'facility': 12, u'competitor': 12, u'zone': 12, u'regret': 12, u'sigh': 12, u'uniform': 12, u'decade': 12, u'explosion': 12, u'strudel': 12, u'title': 12, u'bob': 12, u'tale': 12, u'promotion': 12, u'childhood': 12, u'hub': 12, u'copy': 12, u'pro': 12, u'urge': 12, u'specialty': 12, u'dome': 12, u'millionaire': 12, u'boar': 12, u'cure': 12, u'mound': 12, u'fool': 12, u'cartoon': 12, u'awesomeness': 12, u'duration': 12, u'slick': 12, u'throat': 12, u'equivalent': 12, u'throw': 12, u'industry': 12, u'cranny': 12, u'vindaloo': 12, u'mary': 12, u'premium': 12, u'papilio': 12, u'pass': 12, u'sarnie': 12, u'flag': 12, u'marble': 12, u'hamburger': 12, u'imitation': 12, u'jerk': 12, u'shade': 12, u'plaice': 12, u'status': 12, u'research': 12, u'english': 12, u'elderflower': 12, u'gratin': 12, u'nutella': 12, u'complement': 12, u'license': 12, u'pack': 12, u'humour': 12, u'arcade': 12, u'verdict': 12, u'mural': 12, u'banoffee': 12, u'singing': 12, u'fee': 12, u'panna': 12, u'sin': 12, u'hock': 12, u'cotta': 12, u'jukebox': 12, u'practice': 12, u'swordfish': 12, u'southern': 12, u'\\xa32.50': 12, u'monkey': 12, u'privacy': 12, u'beard': 12, u'steel': 12, u'doughy': 12, u'rooftop': 12, u'una': 12, u'vault': 12, u'oat': 12, u'pressure': 12, u'breadcrumb': 12, u'nightclub': 12, u'sweat': 12, u'payment': 12, u'caviar': 12, u'spiral': 12, u'irish': 12, u'\\xa312.95': 12, u'shoot': 11, u'excited': 11, u'thyme': 11, u'bunny': 11, u'acoustic': 11, u'negociant': 11, u'home-made': 11, u'traveller': 11, u'toy': 11, u'close': 11, u'coast': 11, u'quarters': 11, u'brasserie': 11, u'temptation': 11, u'union': 11, u'grapefruit': 11, u'spin': 11, u'ownership': 11, u'peckham': 11, u'confusing': 11, u'burn': 11, u'tartan': 11, u'chippie': 11, u'support': 11, u'tr\\xe8s': 11, u'pur\\xe9e': 11, u'excellence': 11, u'connoisseur': 11, u'katsu': 11, u'immer': 11, u'tendency': 11, u'killer': 11, u'cannelloni': 11, u'carb': 11, u'craic': 11, u'pump': 11, u'guitar': 11, u'monsieur': 11, u'kilt': 11, u'kilo': 11, u'ethos': 11, u'giggle': 11, u'favorite': 11, u'heater': 11, u'anise': 11, u'grass': 11, u'yoga': 11, u'glimpse': 11, u'te': 11, u'roe': 11, u'fall': 11, u'sub': 11, u'del': 11, u'decorating': 11, u'soya': 11, u'candlelight': 11, u'american': 11, u'consequence': 11, u'inconvenience': 11, u'barrel': 11, u'boozy': 11, u'fianc\\xe9': 11, u'sex': 11, u'guilt': 11, u'damp': 11, u'territory': 11, u'tiki': 11, u'butcher': 11, u'development': 11, u'cheer': 11, u'hotdog': 11, u'cue': 11, u'format': 11, u'saucer': 11, u'audience': 11, u'lesson': 11, u'sightseeing': 11, u'cloth': 11, u'\\xa39.95': 11, u'\\xa316': 11, u'dram': 11, u'consumption': 11, u'fizzy': 11, u'dal': 11, u'timer': 11, u'mocktail': 11, u'portrait': 11, u'stereo': 11, u'meant': 11, u'beat': 11, u'frame': 11, u'toastie': 11, u'puff': 11, u'general': 11, u'sky': 11, u'conference': 11, u'rosehip': 11, u'shaving': 10, u'niche': 10, u'jasmine': 10, u'catch-up': 10, u'der': 10, u'patience': 10, u'player': 10, u'caution': 10, u'hostel': 10, u'velvet': 10, u'masterpiece': 10, u'elevator': 10, u'anybody': 10, u'queen': 10, u'twee': 10, u'sporting': 10, u'report': 10, u'bay': 10, u'boss': 10, u'oomph': 10, u'advert': 10, u'saltiness': 10, u'cone': 10, u'moussaka': 10, u'smokey': 10, u'ocean': 10, u'bibimbap': 10, u'partridge': 10, u'dauphinoise': 10, u'bath': 10, u'fast-food': 10, u'haloumi': 10, u'technique': 10, u'blast': 10, u'tear': 10, u'boost': 10, u'honour': 10, u'cab': 10, u'critic': 10, u'tastebuds': 10, u'si': 10, u'splurge': 10, u'obsession': 10, u'training': 10, u'language': 10, u'origin': 10, u'americano': 10, u'sheep': 10, u'set-up': 10, u'german': 10, u'blah': 10, u'protein': 10, u'fame': 10, u'pak': 10, u'breeze': 10, u'nosh': 10, u'claw': 10, u'chive': 10, u'log': 10, u'project': 10, u'\\xa340': 10, u'brass': 10, u'horror': 10, u'bulgogi': 10, u'celebrity': 10, u'hesitation': 10, u'pre-dinner': 10, u'legend': 10, u'advertising': 10, u'flash': 10, u'vin': 10, u'glitch': 10, u'indoors': 10, u'occassion': 10, u'revelation': 10, u'pleasing': 10, u'minimum': 10, u'creature': 10, u'mystery': 10, u'malone': 10, u'fixture': 10, u'blanc': 10, u'scrummy': 10, u'reflection': 10, u'lid': 10, u'niggle': 10, u'triangle': 10, u'mein': 10, u'snapfax': 10, u'profiterole': 10, u'batch': 10, u'ray': 10, u'bouncer': 10, u'tablet': 10, u'message': 10, u'prop': 10, u'quote': 10, u'oatmeal': 10, u'plethora': 10, u'reduction': 10, u'structure': 10, u'gang': 10, u'topic': 10, u'cloister': 10, u'video': 10, u'manage': 10, u'pour': 10, u'geek': 10, u'transformation': 10, u'meantime': 10, u'disco': 10, u'boutique': 10, u'counterpart': 10, u'exam': 10, u'shelf': 10, u'receptionist': 10, u'border': 10, u'stovy': 10, u'conservatory': 10, u'btw': 10, u'nightmare': 10, u'carpaccio': 10, u'immense': 10, u'gaze': 10, u'pre-theatre': 10, u'coating': 10, u'frontage': 10, u'tagliatelle': 10, u'bravas': 10, u'stereotype': 10, u'commitment': 10, u'poppadum': 10, u'frustration': 10, u'bum': 10, u'squeeze': 10, u'pil': 10, u'cashew': 10, u'gossip': 10, u'monday': 10, u'inspiration': 10, u'jewel': 10, u'macchiato': 10, u'chippy': 10})"
      ]
     },
     "execution_count": 8,
     "metadata": {},
     "output_type": "execute_result"
    }
   ],
   "source": [
    "import collections\n",
    "collections.Counter(all_words)"
   ]
  },
  {
   "cell_type": "code",
   "execution_count": 18,
   "metadata": {
    "collapsed": true
   },
   "outputs": [],
   "source": [
    "toremove = ['food','place','time','menu','restaurant','bit','staff','service','table','dish','meal','thing','price','day','person','option','friend','lot','way','quality','selection','area','year','minute','hour','location','door','point','yelp','horror','blah']"
   ]
  },
  {
   "cell_type": "code",
   "execution_count": 19,
   "metadata": {
    "collapsed": false
   },
   "outputs": [
    {
     "data": {
      "text/plain": [
       "31"
      ]
     },
     "execution_count": 19,
     "metadata": {},
     "output_type": "execute_result"
    }
   ],
   "source": [
    "len(toremove)"
   ]
  },
  {
   "cell_type": "code",
   "execution_count": 62,
   "metadata": {
    "collapsed": false
   },
   "outputs": [],
   "source": [
    "from scipy import sparse\n",
    "\n",
    "nonzero_data = []\n",
    "rows_s = []\n",
    "cols_s = []\n",
    "\n",
    "for k in reduced_edi.keys():\n",
    "    counter = collections.Counter(reduced_edi[k])\n",
    "    for r in toremove:\n",
    "        counter[r] = 0\n",
    "    nonzero_data += list(np.floor(np.array(counter.values())*100/np.max(counter.values()))) #Rescaling to account for the important differences in the lengths of the reviews\n",
    "    rows_s += [bid_to_index[k]]*len(counter.values())\n",
    "    cols_s += [word_to_index[ck] for ck in counter.keys()]\n",
    "\n",
    "sparse_mat = sparse.csc_matrix((nonzero_data,(rows_s,cols_s)),shape = (len(bid_to_index),len(word_to_index)))\n",
    "\n",
    "dtm_edi = sparse_mat.toarray()"
   ]
  },
  {
   "cell_type": "code",
   "execution_count": 22,
   "metadata": {
    "collapsed": true
   },
   "outputs": [],
   "source": [
    "train = {}\n",
    "test = {}\n",
    "\n",
    "for k in reduced_edi.keys():\n",
    "    spl = np.split(range(len(reduced_edi[k])),[int(np.floor(0.8*len(reduced_edi[k]))),len(reduced_edi[k])])\n",
    "    train[k] = np.array(reduced_edi[k])[spl[0]]\n",
    "    test[k] = np.array(reduced_edi[k])[spl[1]]"
   ]
  },
  {
   "cell_type": "code",
   "execution_count": 26,
   "metadata": {
    "collapsed": false
   },
   "outputs": [],
   "source": [
    "from scipy import sparse\n",
    "\n",
    "nonzero_data_tr = []\n",
    "rows_s_tr = []\n",
    "cols_s_tr = []\n",
    "nonzero_data_ts = []\n",
    "rows_s_ts = []\n",
    "cols_s_ts = []\n",
    "\n",
    "for k in reduced_edi.keys():\n",
    "    \n",
    "    counter_tr = collections.Counter(train[k])\n",
    "    for r in toremove:\n",
    "        counter_tr[r] = 0\n",
    "    nonzero_data_tr += counter_tr.values()\n",
    "    rows_s_tr += [bid_to_index[k]]*len(counter_tr.values())\n",
    "    cols_s_tr += [word_to_index[ck] for ck in counter_tr.keys()]\n",
    "    \n",
    "    counter_ts = collections.Counter(test[k])\n",
    "    for r in toremove:\n",
    "        counter_ts[r] = 0\n",
    "    nonzero_data_ts += counter_ts.values()\n",
    "    rows_s_ts += [bid_to_index[k]]*len(counter_ts.values())\n",
    "    cols_s_ts += [word_to_index[ck] for ck in counter_ts.keys()]\n",
    "\n",
    "sparse_mat_tr = sparse.csc_matrix((nonzero_data_tr,(rows_s_tr,cols_s_tr)),shape = (len(bid_to_index),len(word_to_index)))\n",
    "sparse_mat_ts = sparse.csc_matrix((nonzero_data_ts,(rows_s_ts,cols_s_ts)),shape = (len(bid_to_index),len(word_to_index)))"
   ]
  },
  {
   "cell_type": "code",
   "execution_count": 29,
   "metadata": {
    "collapsed": true
   },
   "outputs": [],
   "source": [
    "dtm_train = sparse_mat_tr.toarray()\n",
    "dtm_test = sparse_mat_ts.toarray()"
   ]
  },
  {
   "cell_type": "markdown",
   "metadata": {},
   "source": [
    "## Loading the functions:"
   ]
  },
  {
   "cell_type": "code",
   "execution_count": 21,
   "metadata": {
    "collapsed": true
   },
   "outputs": [],
   "source": [
    "from scipy.special import psi\n",
    "\n",
    "def rho(tau,kappa,t):\n",
    "\treturn pow(tau + t, - kappa)\n",
    "\n",
    "def digamma(mat):\n",
    "\tif (len(mat.shape) == 1):\n",
    "\t\treturn(psi(mat) - psi(np.sum(mat)))\n",
    "\telse:\n",
    "\t\treturn(psi(mat) - psi(np.sum(mat, 0))[np.newaxis,:])\n",
    "\n",
    "def lda_batch(dtm,ntopic,batch_size,tau,kappa):\n",
    "\tnvoc = dtm.shape[1]\n",
    "\tndoc = dtm.shape[0]\n",
    "\tnu = 1./ntopic\n",
    "\talpha = 1./ntopic\n",
    "\n",
    "\ttopics = np.random.gamma(100.,1./100.,(nvoc,ntopic))\n",
    "\tgamma  = np.random.gamma(100.,1./100.,(ndoc,ntopic))\n",
    "\n",
    "\tnumbatch = ndoc / batch_size\n",
    "\tbatches = np.array_split(range(ndoc),numbatch)\n",
    "\n",
    "\n",
    "\tfor it_batch in range(numbatch):\n",
    "\t\tELogBeta = digamma(topics)\n",
    "\t\tExpELogBeta = np.exp(ELogBeta)\n",
    "\t\t\n",
    "\t\ttemp_topics = np.zeros(topics.shape)\n",
    "\n",
    "\t\tindices = []\n",
    "\n",
    "\t\tfor d in batches[it_batch]:\n",
    "\t\t\t# print d\n",
    "\t\t\tids = np.nonzero(dtm[d,:])[0]\n",
    "\t\t\tindices.extend(ids)\n",
    "\t\t\tcts = dtm[d,ids]\n",
    "\t\t\tExpELogBetad = ExpELogBeta[ids,:]\n",
    "\n",
    "\t\t\tgammad = gamma[d,:]\n",
    "\t\t\tElogTethad = digamma(gammad)\n",
    "\t\t\tExpLogTethad = np.exp(ElogTethad)\n",
    "\n",
    "\t\t\t# print gammad\n",
    "\n",
    "\t\t\tfor inner_it in range(1000):\n",
    "\t\t\t\t\n",
    "\t\t\t\toldgammad = gammad\n",
    "\n",
    "\t\t\t\tphi =  ExpLogTethad * ExpELogBetad\n",
    "\t\t\t\tphi = phi / (phi.sum(axis=1)+0.00001)[:, np.newaxis]\n",
    "\n",
    "\t\t\t\tgammad = alpha + np.dot(cts,phi)\n",
    "\n",
    "\t\t\t\tElogTethad = digamma(gammad)\n",
    "\t\t\t\tExpLogTethad = np.exp(ElogTethad)\n",
    "\t\t\t\t# print gammad\n",
    "\n",
    "\t\t\t\tif np.mean((gammad-oldgammad)**2)<0.0000001:\n",
    "\t\t\t\t\tbreak\n",
    "\n",
    "\t\t\t#print inner_it\n",
    "\t\t\tgamma[d,:] = gammad\n",
    "\n",
    "\t\t\ttemp_topics[ids,:] += phi * cts[:,np.newaxis]\n",
    "\n",
    "\t\tindices = np.unique(indices)\n",
    "\n",
    "\t\trt = rho(tau,kappa,it_batch)\n",
    "\n",
    "\t\ttopics[indices] = (1 - rt) * topics[indices,:] + rt * ndoc * (nu + temp_topics[indices,:]) / len(batches[it_batch])\n",
    "\n",
    "\treturn topics,gamma\n",
    "\n",
    "def inference(lda,dtm,tau,kappa):\n",
    "\n",
    "\tntopic = lda[0].shape[1]\n",
    "\tnvoc = dtm.shape[1]\n",
    "\tndoc = dtm.shape[0]\n",
    "\tnu = 1./ntopic\n",
    "\talpha = 1./ntopic\n",
    "\n",
    "\ttopics = lda[0].copy()\n",
    "\tphi = np.random.gamma(100.,1./100.,(nvoc,ntopic))\n",
    "\tgamma  = np.random.gamma(100.,1./100.,(ndoc,ntopic))\n",
    "\n",
    "\tnumbatch = ndoc\n",
    "\tbatches = np.array_split(range(ndoc),numbatch)\n",
    "\n",
    "\tfor it_batch in range(numbatch):\n",
    "\t\tELogBeta = digamma(topics)\n",
    "\t\tExpELogBeta = np.exp(ELogBeta)\n",
    "\t\t\n",
    "\t\ttemp_topics = np.zeros(topics.shape)\n",
    "\n",
    "\t\tindices = []\n",
    "\n",
    "\t\tfor d in batches[it_batch]:\n",
    "\t\t\t# print d\n",
    "\t\t\tids = np.nonzero(dtm[d,:])[0]\n",
    "\t\t\tindices.extend(ids)\n",
    "\t\t\tcts = dtm[d,ids]\n",
    "\t\t\tExpELogBetad = ExpELogBeta[ids,:]\n",
    "\n",
    "\t\t\tgammad = gamma[d,:]\n",
    "\t\t\tElogTethad = digamma(gammad)\n",
    "\t\t\tExpLogTethad = np.exp(ElogTethad)\n",
    "\n",
    "\t\t\t# print gammad\n",
    "\n",
    "\t\t\tfor inner_it in range(1000):\n",
    "\t\t\t\t\n",
    "\t\t\t\toldgammad = gammad\n",
    "\n",
    "\t\t\t\tphi =  ExpLogTethad * ExpELogBetad\n",
    "\t\t\t\tphi = phi / (phi.sum(axis=1)+0.00001)[:, np.newaxis]\n",
    "\n",
    "\t\t\t\tgammad = alpha + np.dot(cts,phi)\n",
    "\n",
    "\t\t\t\tElogTethad = digamma(gammad)\n",
    "\t\t\t\tExpLogTethad = np.exp(ElogTethad)\n",
    "\t\t\t\t# print gammad\n",
    "\n",
    "\t\t\t\tif np.mean((gammad-oldgammad)**2)<0.0000001:\n",
    "\t\t\t\t\tbreak\n",
    "\n",
    "\t\t\t#print inner_it\n",
    "\t\t\tgamma[d,:] = gammad\n",
    "\n",
    "\t\t\ttemp_topics[ids,:] += phi * cts[:,np.newaxis]\n",
    "\n",
    "\t\tindices = np.unique(indices)\n",
    "\t\tif indices.size == 0:\n",
    "\t\t\tcontinue\n",
    "\t\trt = rho(tau,kappa,it_batch)\n",
    "\n",
    "\t\ttopics[indices] = (1 - rt) * topics[indices,:] + rt * ndoc * (nu + temp_topics[indices,:]) / len(batches[it_batch])\n",
    "\n",
    "\treturn topics,gamma\n",
    "\n",
    "def perplexity(lda,newdocs,tau,kappa,perword = False):\n",
    "\t\n",
    "\tnew = inference(lda,newdocs,tau,kappa)\n",
    "\t\n",
    "\ttopics = new[0]\n",
    "\tgammas = new[1]\n",
    "\t\n",
    "\ttopics = topics/topics.sum(axis=0)\n",
    "\t\n",
    "\tif len(gammas.shape) == 1:\n",
    "\t\tgammas = gammas/np.sum(gammas)\n",
    "\t\tdoc_idx = np.nonzero(newdocs)[0]\n",
    "\t\tdoc_cts = newdocs[doc_idx]\n",
    "\t\treturn np.exp(-np.log(np.sum(np.dot(topics[doc_idx,:],gammas)*doc_cts))/np.sum(doc_cts))\n",
    "\t\n",
    "\telse:\n",
    "\t\tnorm = lambda x: x/np.sum(x)\n",
    "\t\tgammas = np.apply_along_axis(norm,axis = 1,arr = gammas)\n",
    "\t\t\n",
    "\t\tnum = 0\n",
    "\t\tdenom = 0\n",
    "\t\t\n",
    "\t\tfor i in range(gammas.shape[0]):\n",
    "\t\t\tdoc_idx = np.nonzero(newdocs[i,:])[0]\n",
    "\t\t\tdoc_cts = newdocs[i,doc_idx]\n",
    "\t\t\tnum = np.sum(np.log(np.dot(topics[doc_idx,:],gammas[i,:]))*doc_cts)\n",
    "\t\t\tdenom += np.sum(doc_cts)\n",
    "\t\t\t\n",
    "\t\tif ~perword:\n",
    "\t\t\treturn num\n",
    "\t\telse:\n",
    "\t\t\treturn num/denom"
   ]
  },
  {
   "cell_type": "code",
   "execution_count": 33,
   "metadata": {
    "collapsed": false
   },
   "outputs": [
    {
     "name": "stdout",
     "output_type": "stream",
     "text": [
      "CPU times: user 12min 1s, sys: 4.1 s, total: 12min 5s\n",
      "Wall time: 12min 13s\n"
     ]
    }
   ],
   "source": [
    "%%time\n",
    "batchsize = 40\n",
    "Kappa = [0.5,0.6,0.7,0.8]\n",
    "Tau = [64,128,256,512,1024]\n",
    "\n",
    "K = range(10,60,10)\n",
    "\n",
    "perplexity_dict = {}\n",
    "\n",
    "for k in K:\n",
    "    for kappa in Kappa:\n",
    "        for tau in Tau:\n",
    "            np.random.seed(0)\n",
    "            train_lda = lda_batch(dtm_train,k,batchsize,tau,kappa)\n",
    "            perplexity_dict[(k,tau,kappa)] = perplexity(train_lda,dtm_test,tau,kappa,True)"
   ]
  },
  {
   "cell_type": "code",
   "execution_count": 34,
   "metadata": {
    "collapsed": false
   },
   "outputs": [],
   "source": [
    "best_combi = max(perplexity_dict, key=perplexity_dict.get)"
   ]
  },
  {
   "cell_type": "code",
   "execution_count": 35,
   "metadata": {
    "collapsed": false
   },
   "outputs": [
    {
     "data": {
      "text/plain": [
       "(50, 128, 0.5)"
      ]
     },
     "execution_count": 35,
     "metadata": {},
     "output_type": "execute_result"
    }
   ],
   "source": [
    "best_combi"
   ]
  },
  {
   "cell_type": "code",
   "execution_count": 84,
   "metadata": {
    "collapsed": false
   },
   "outputs": [
    {
     "name": "stdout",
     "output_type": "stream",
     "text": [
      "CPU times: user 5.79 s, sys: 21.5 ms, total: 5.81 s\n",
      "Wall time: 5.84 s\n"
     ]
    }
   ],
   "source": [
    "%%time\n",
    "np.random.seed(10)\n",
    "model = lda_batch(dtm_edi,20,10,512,0.3)"
   ]
  },
  {
   "cell_type": "code",
   "execution_count": 85,
   "metadata": {
    "collapsed": false
   },
   "outputs": [
    {
     "name": "stdout",
     "output_type": "stream",
     "text": [
      "Topic 0: writing doner dollop cream sake topping couscous indian introduction cake\n",
      "Topic 1: ware fig truffle uni foot lemongrass cure bone fun freezer\n",
      "Topic 2: imagination madness custard fisher weekend farmer refurbishment cupcake shortcake act\n",
      "Topic 3: spot towel flesh hostess respect plan sweetness suggestion wonder poppadum\n",
      "Topic 4: theme atmosphere bon plastic help meal wifi taco game coke\n",
      "Topic 5: fee supper traveller pig leek bay treasure use suite castle\n",
      "Topic 6: phone branch refurb killer list nachos sex loyalty wing whiskey\n",
      "Topic 7: pretzel convenience let soul degree basket field flavour care team\n",
      "Topic 8: minimum dollop entrance attraction bank deli visitor pair sort tonight\n",
      "Topic 9: eel title armchair hummus goat half hassle industry soda chunk\n",
      "Topic 10: chutney ball tiramisu grapefruit tastebuds spanish furniture clothe nachos temperature\n",
      "Topic 11: bulgogi soul warmth bun pre-dinner cinnamon smoking pair specialise family\n",
      "Topic 12: fan £15 cake italian gluten region lover sake deliciousness law\n",
      "Topic 13: feta noble dark jazz opening loyalty component artwork del fall\n",
      "Topic 14: hula vinegar tomato duck lassi temperature celebration route expectation layer\n",
      "Topic 15: shame saltiness performance wifi way mocha mash bench maki complaint\n",
      "Topic 16: attraction green think tale section trade waiter painting sort code\n",
      "Topic 17: passion border home-made tapas flaw upstairs regular gig log disco\n",
      "Topic 18: answer host candlelight pm main frontage meze noble medium form\n",
      "Topic 19: pine session teenager woman artwork lip fennel improvement purpose pack\n"
     ]
    }
   ],
   "source": [
    "topic_word = model[0].T  # model.components_ also works\n",
    "n_top_words = 10\n",
    "for i, topic_dist in enumerate(topic_word):\n",
    "    topic_words = np.array(vocab)[np.argsort(topic_dist)][:-(n_top_words+1):-1]\n",
    "    print(u'Topic {}: {}'.format(i, ' '.join(topic_words)))"
   ]
  },
  {
   "cell_type": "code",
   "execution_count": 88,
   "metadata": {
    "collapsed": false
   },
   "outputs": [
    {
     "name": "stdout",
     "output_type": "stream",
     "text": [
      "Topic 0: attraction meringue brown benedict bang section tastiness tale min fun\n",
      "Topic 1: theme trade meal basis atmosphere bon code entrance portion vinegar\n",
      "Topic 2: chutney ball pine ware relax meringue button kebab fun painting\n",
      "Topic 3: waiter flatmate deli pair barbecue noble host vindaloo loyalty bang\n",
      "Topic 4: cake fan sake ware care £15 strawberry tonight region claw\n",
      "Topic 5: mit chutney painting glance cash midnight relax clientele tastebuds quarter\n",
      "Topic 6: writing £15 pair sunday italian painting fan second ball hotdog\n",
      "Topic 7: green vin relax cash section discount painting hula evening think\n",
      "Topic 8: tale code animal update route craic discount strawberry trade rice\n",
      "Topic 9: minimum entrance visitor bang rum atmosphere silver attraction deli pair\n",
      "Topic 10: sort bang update sin portion brown kebab flatmate half rice\n",
      "Topic 11: tiramisu chutney ball tastebuds clothe painting grapefruit spanish furniture rear\n",
      "Topic 12: section talk shame video error check fancy vindaloo warming discount\n",
      "Topic 13: dollop topping doner almond fan business try convenience £15 visitor\n",
      "Topic 14: soul heater portion supper flavour boozy pair nibble star title\n",
      "Topic 15: pretzel flatmate trade excellence discount basis animal £2.50 code strawberry\n",
      "Topic 16: grapefruit chutney think peppercorn tale tastebuds fellow rum brown patio\n",
      "Topic 17: atmosphere theme think portion wedge trade fun loo bang spot\n",
      "Topic 18: answer host hula think phone trade lack garlic hair sin\n",
      "Topic 19: bulgogi soul warmth atmosphere bun update ball think phone brown\n"
     ]
    }
   ],
   "source": [
    "from sklearn.decomposition import NMF\n",
    "nmf10 = NMF(n_components=20, init='random', random_state=0,max_iter=1500)\n",
    "mat10 = nmf10.fit_transform(dtm_edi)\n",
    "topic_word = nmf10.components_  # model.components_ also works\n",
    "n_top_words = 10\n",
    "for i, topic_dist in enumerate(topic_word):\n",
    "    topic_words = np.array(vocab)[np.argsort(topic_dist)][:-(n_top_words+1):-1]\n",
    "    print(u'Topic {}: {}'.format(i, ' '.join(topic_words)))\n"
   ]
  },
  {
   "cell_type": "code",
   "execution_count": 93,
   "metadata": {
    "collapsed": false
   },
   "outputs": [
    {
     "name": "stderr",
     "output_type": "stream",
     "text": [
      "WARNING:lda:all zero column in document-term matrix found\n"
     ]
    },
    {
     "data": {
      "text/plain": [
       "<lda.lda.LDA instance at 0x10b25c200>"
      ]
     },
     "execution_count": 93,
     "metadata": {},
     "output_type": "execute_result"
    }
   ],
   "source": [
    "import lda\n",
    "\n",
    "mod = lda.LDA(20)\n",
    "mod.fit(dtm_edi.astype(int))"
   ]
  },
  {
   "cell_type": "code",
   "execution_count": 94,
   "metadata": {
    "collapsed": false
   },
   "outputs": [
    {
     "name": "stdout",
     "output_type": "stream",
     "text": [
      "Topic 0: tiramisu chutney grapefruit ball tastebuds mit clothe painting peppercorn cash\n",
      "Topic 1: bulgogi soul warmth atmosphere think pretzel update bun catch phone\n",
      "Topic 2: heater soul shame latte pair title taco portion think answer\n",
      "Topic 3: atmosphere code portion mit trade tale flatmate rice theme midnight\n",
      "Topic 4: mit sort bang wedge eel rice sin atmosphere glance flatmate\n",
      "Topic 5: attraction sort waiter kebab green writing sin think cash quarter\n",
      "Topic 6: minimum entrance attraction bang sort waiter visitor deli pair writing\n",
      "Topic 7: pretzel route convenience pie degree entrance update green heater trade\n",
      "Topic 8: writing £15 cake dollop fan topping doner sake minimum almond\n",
      "Topic 9: theme entrance atmosphere excellence bon basis trade think wifi portion\n",
      "Topic 10: fee phone castle branch writing sake slow talk fancy pair\n",
      "Topic 11: flatmate vindaloo strawberry trade impression hula section animal talk performance\n",
      "Topic 12: theme atmosphere trade loo wedge think tale spot attraction error\n",
      "Topic 13: meal trade plastic code atmosphere theme basis attraction visitor vinegar\n",
      "Topic 14: noble atmosphere loyalty jazz waiter nachos feta artwork beat component\n",
      "Topic 15: care ware temperature section spanish painting attraction hula check star\n",
      "Topic 16: tale green code animal discount waiter craic bang heater excellence\n",
      "Topic 17: chutney ball pine mit glance painting relax ware green clientele\n",
      "Topic 18: answer host hula mit green think painting phone garlic sin\n",
      "Topic 19: trade vanilla booster kebab £2.50 cool crab excellence atmosphere glance\n"
     ]
    }
   ],
   "source": [
    "topic_word = mod.topic_word_   # model.components_ also works\n",
    "n_top_words = 10\n",
    "for i, topic_dist in enumerate(topic_word):\n",
    "    topic_words = np.array(vocab)[np.argsort(topic_dist)][:-(n_top_words+1):-1]\n",
    "    print(u'Topic {}: {}'.format(i, ' '.join(topic_words)))"
   ]
  },
  {
   "cell_type": "code",
   "execution_count": 11,
   "metadata": {
    "collapsed": false
   },
   "outputs": [],
   "source": [
    "np.save(\"CS281/temp/edi_topics\",BEST_EDI[0])"
   ]
  },
  {
   "cell_type": "code",
   "execution_count": null,
   "metadata": {
    "collapsed": true
   },
   "outputs": [],
   "source": [
    "np.save(\"CS281/temp/edi_assignment\",BEST_EDI[1])"
   ]
  },
  {
   "cell_type": "code",
   "execution_count": 58,
   "metadata": {
    "collapsed": false
   },
   "outputs": [],
   "source": [
    "def clean_topics(lda,thresh1):\n",
    "    topics = lda[0].copy()\n",
    "    gammas = lda[1].copy()\n",
    "    notflag_uni = []\n",
    "    for i in range(topics.shape[1]):\n",
    "        if 1 - spatial.distance.cosine(topics[:,i], [1./topics.shape[0]]*topics.shape[0])<thresh1:\n",
    "            notflag_uni.append(i)\n",
    "    newtopics = topics[:,notflag_uni]\n",
    "    newgammas = gammas[:,notflag_uni]/gammas[:,notflag_uni].sum(axis=1)[:,np.newaxis]\n",
    "    \n",
    "    \n",
    "    return newtopics,newgammas"
   ]
  }
 ],
 "metadata": {
  "kernelspec": {
   "display_name": "Python 2",
   "language": "python",
   "name": "python2"
  },
  "language_info": {
   "codemirror_mode": {
    "name": "ipython",
    "version": 2
   },
   "file_extension": ".py",
   "mimetype": "text/x-python",
   "name": "python",
   "nbconvert_exporter": "python",
   "pygments_lexer": "ipython2",
   "version": "2.7.10"
  }
 },
 "nbformat": 4,
 "nbformat_minor": 0
}
