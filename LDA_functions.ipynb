{
 "cells": [
  {
   "cell_type": "code",
   "execution_count": 7,
   "metadata": {
    "collapsed": true
   },
   "outputs": [],
   "source": [
    "import numpy as np\n",
    "import scipy as sp\n",
    "import scipy.special as spec\n",
    "from sklearn.preprocessing import normalize\n",
    "%matplotlib inline\n",
    "import matplotlib.pyplot as plt"
   ]
  },
  {
   "cell_type": "markdown",
   "metadata": {},
   "source": [
    "# Defining functions:"
   ]
  },
  {
   "cell_type": "code",
   "execution_count": 3,
   "metadata": {
    "collapsed": true
   },
   "outputs": [],
   "source": [
    "def rho(tau,kappa,t):\n",
    "    return (tau+t)**(-kappa)"
   ]
  },
  {
   "cell_type": "code",
   "execution_count": 4,
   "metadata": {
    "collapsed": true
   },
   "outputs": [],
   "source": [
    "def digamma(row):\n",
    "    return spec.psi(row)-spec.psi(np.sum(row))"
   ]
  },
  {
   "cell_type": "code",
   "execution_count": 113,
   "metadata": {
    "collapsed": true
   },
   "outputs": [],
   "source": [
    "def lda(dtm,ntopic,tau,kappa,itemax):\n",
    "    nvoc = dtm.shape[1]\n",
    "    ndoc = dtm.shape[0]\n",
    "    nu = 1./ndoc\n",
    "    alpha = 1.\n",
    "    \n",
    "    topics = np.random.gamma(100.,1./100.,(nvoc,ntopic))\n",
    "    phi = np.random.gamma(100.,1./100.,(nvoc,ntopic))\n",
    "    gamma  = np.random.gamma(100.,1./100.,(ndoc,ntopic))\n",
    "    \n",
    "    intint = 100\n",
    "    idx = range(ndoc)\n",
    "    idx *= int(float(itemax)/ndoc)\n",
    "    np.random.shuffle(idx)\n",
    "    \n",
    "    \n",
    "    for t in range(itemax):\n",
    "        old_topics = topics\n",
    "        doc = idx[t]\n",
    "        ids = np.nonzero(dtm[doc,:])[0]\n",
    "        cts = dtm[doc,ids]\n",
    "        gamma_ = gamma[doc,:]\n",
    "        Elogbeta = np.apply_along_axis(digamma, axis=0, arr=topics)[ids,:]\n",
    "        dott = lambda x: np.dot(x,cts)\n",
    "        for tt in range(intint):\n",
    "            old_gamma_ = gamma_\n",
    "            Elogtheta = digamma(gamma_)\n",
    "            E_sum = Elogbeta + Elogtheta\n",
    "            phi = np.exp(E_sum)/np.exp(E_sum).sum(axis=1)[:, np.newaxis]\n",
    "            gamma_ = alpha + np.apply_along_axis(dott,axis=0,arr=phi)\n",
    "            if np.sqrt(np.mean((gamma_-old_gamma_)**2))<0.0001:\n",
    "                break  \n",
    "        gamma[doc,:] = gamma_\n",
    "        topics_temp = nu + ndoc * phi * dtm[doc,ids][:, np.newaxis]\n",
    "        rt = rho(tau,kappa,t)\n",
    "        topics[ids,:] = (1-rt)*topics[ids,:] + rt*topics_temp\n",
    "    \n",
    "    return topics,gamma,tau,kappa"
   ]
  },
  {
   "cell_type": "code",
   "execution_count": 135,
   "metadata": {
    "collapsed": true
   },
   "outputs": [],
   "source": [
    "def inference(lda,newdocs,ite):\n",
    "    alpha = 1\n",
    "    \n",
    "    topics = lda[0]\n",
    "    tau = lda[2]\n",
    "    kappa = lda[3]\n",
    "    \n",
    "    phi = np.random.gamma(100.,1./100.,(topics.shape))\n",
    "    \n",
    "    if len(newdocs.shape)==1:\n",
    "        gamma_new  = np.random.gamma(100.,1./100.,(1,lda[1].shape[1]))\n",
    "        for it in range(ite):\n",
    "            ids = np.nonzero(newdocs)[0]\n",
    "            cts = newdocs[ids]\n",
    "            gamma_ = gamma_new\n",
    "            Elogbeta = np.apply_along_axis(digamma, axis=0, arr=topics)[ids,:]\n",
    "            dott = lambda x: np.dot(x,cts)\n",
    "            for tt in range(100):\n",
    "                old_gamma_ = gamma_\n",
    "                Elogtheta = digamma(gamma_)\n",
    "                E_sum = Elogbeta + Elogtheta\n",
    "                phi = np.exp(E_sum)/np.exp(E_sum).sum(axis=1)[:, np.newaxis]\n",
    "                gamma_ = alpha + np.apply_along_axis(dott,axis=0,arr=phi)\n",
    "                if np.sqrt(np.mean((gamma_-old_gamma_)**2))<0.0001:\n",
    "                    break  \n",
    "            gamma_new = gamma_\n",
    "            topics_temp = nu +  phi * cts[:, np.newaxis]\n",
    "            rt = rho(tau,kappa,it)\n",
    "            topics[ids,:] = (1-rt)*topics[ids,:] + rt*topics_temp\n",
    "    \n",
    "    else:\n",
    "        gamma_new  = np.random.gamma(100.,1./100.,(newdocs.shape[0],lda[1].shape[1]))\n",
    "        idx = range(newdocs.shape[0])\n",
    "        idx *= ite\n",
    "        np.random.shuffle(idx)\n",
    "        for it in range(len(idx)):\n",
    "            doc = idx[it]\n",
    "            ids = np.nonzero(newdocs[doc,:])[0]\n",
    "            cts = newdocs[doc,ids]\n",
    "            gamma_ = gamma_new[doc,:]\n",
    "            Elogbeta = np.apply_along_axis(digamma, axis=0, arr=topics)[ids,:]\n",
    "            dott = lambda x: np.dot(x,cts)\n",
    "            for tt in range(100):\n",
    "                old_gamma_ = gamma_\n",
    "                Elogtheta = digamma(gamma_)\n",
    "                E_sum = Elogbeta + Elogtheta\n",
    "                phi = np.exp(E_sum)/np.exp(E_sum).sum(axis=1)[:, np.newaxis]\n",
    "                gamma_ = alpha + np.apply_along_axis(dott,axis=0,arr=phi)\n",
    "                if np.sqrt(np.mean((gamma_-old_gamma_)**2))<0.0001:\n",
    "                    break  \n",
    "            gamma_new[doc,:] = gamma_\n",
    "            topics_temp = nu +  phi * cts[:, np.newaxis]\n",
    "            rt = rho(tau,kappa,it)\n",
    "            topics[ids,:] = (1-rt)*topics[ids,:] + rt*topics_temp\n",
    "            \n",
    "    return topics,gamma_new"
   ]
  },
  {
   "cell_type": "code",
   "execution_count": 647,
   "metadata": {
    "collapsed": true
   },
   "outputs": [],
   "source": [
    "def show_topics(lda,whichtopic,topwords,wordlist):\n",
    "    topics = lda[0]\n",
    "    for t in whichtopic:\n",
    "        idx = np.argsort(topics[:,t])[::-1][:topwords].astype(int)\n",
    "        words = []\n",
    "        for i in idx:\n",
    "            words.append(wordlist[i])\n",
    "        print \"Topic %s:\" % t\n",
    "        print \"\"\n",
    "        print words\n",
    "        print \"\""
   ]
  },
  {
   "cell_type": "code",
   "execution_count": 718,
   "metadata": {
    "collapsed": false
   },
   "outputs": [],
   "source": [
    "def perplexity_test(lda,newdocs,ite,perword = False):\n",
    "    \n",
    "    new = inference(lda,newdocs,ite)\n",
    "    \n",
    "    topics = new[0]\n",
    "    gammas = new[1]\n",
    "    \n",
    "    topics = topics/topics.sum(axis=0)\n",
    "    \n",
    "    if len(gammas.shape) == 1:\n",
    "        gammas = gammas/np.sum(gammas)\n",
    "        doc_idx = np.nonzero(newdocs)[0]\n",
    "        doc_cts = newdocs[doc_idx]\n",
    "        return np.exp(-np.log(np.sum(np.dot(topics[doc_idx,:],gammas)*doc_cts))/np.sum(doc_cts))\n",
    "    \n",
    "    else:\n",
    "        norm = lambda x: x/np.sum(x)\n",
    "        gammas = np.apply_along_axis(norm,axis = 1,arr = gammas)\n",
    "        \n",
    "        num = 0\n",
    "        denom = 0\n",
    "        \n",
    "        for i in range(gammas.shape[0]):\n",
    "            doc_idx = np.nonzero(newdocs[i,:])[0]\n",
    "            doc_cts = newdocs[i,doc_idx]\n",
    "            num = np.sum(np.log(np.dot(topics[doc_idx,:],gammas[i,:]))*doc_cts)\n",
    "            denom += np.sum(doc_cts)\n",
    "            \n",
    "        if ~perword:\n",
    "            return num\n",
    "        else:\n",
    "            return num/denom"
   ]
  },
  {
   "cell_type": "code",
   "execution_count": 192,
   "metadata": {
    "collapsed": true
   },
   "outputs": [],
   "source": [
    "def perplexity_train(lda,dtm,docs_id):\n",
    "    \n",
    "    topics = lda[0]/lda[0].sum(axis=0)\n",
    "    gammas = lda[1]/lda[1].sum(axis=1)[:, np.newaxis]\n",
    "    \n",
    "    if isinstance(docs_id, int) or len(docs_id) == 1:\n",
    "        doc_idx = np.nonzero(dtm[docs_id,:])[0]\n",
    "        doc_cts = dtm[docs_id,doc_idx]\n",
    "        return np.exp(-np.log(np.sum(np.dot(topics[doc_idx,:],gammas[docs_id,:])*doc_cts))/np.sum(doc_cts))\n",
    "    \n",
    "    else:\n",
    "        num = 0\n",
    "        denom = 0\n",
    "        \n",
    "        for i in docs_id:\n",
    "            doc_idx = np.nonzero(dtm[i,:])[0]\n",
    "            doc_cts = dtm[docs_id,doc_idx]\n",
    "            num -= np.log(np.sum(np.dot(topics[doc_idx,:],gammas[i,:])*doc_cts))\n",
    "            denom += np.sum(doc_cts)\n",
    "            \n",
    "        return np.exp(num/denom)"
   ]
  },
  {
   "cell_type": "code",
   "execution_count": 677,
   "metadata": {
    "collapsed": false
   },
   "outputs": [],
   "source": [
    "def lda_minibatch(dtm,ntopic,mb_size,tau,kappa,itemax):\n",
    "    nvoc = dtm.shape[1]\n",
    "    ndoc = dtm.shape[0]\n",
    "    nu = 1./ndoc\n",
    "    alpha = 1./ndoc\n",
    "    \n",
    "    topics = np.random.gamma(100.,1./100.,(nvoc,ntopic))\n",
    "    phi = np.random.gamma(100.,1./100.,(nvoc,ntopic))\n",
    "    gamma  = np.random.gamma(100.,1./100.,(ndoc,ntopic))\n",
    "    \n",
    "    intint = 100\n",
    "    idx = range(ndoc)\n",
    "    #np.random.shuffle(idx)\n",
    "    idx *= itemax\n",
    "    #np.random.shuffle(idx)\n",
    "    minibatchesids = np.array_split(idx,len(idx)/mb_size)\n",
    "    \n",
    "    for t in range(len(minibatchesids)):\n",
    "        topics_temp = np.zeros(topics.shape)\n",
    "        indices = []\n",
    "        \n",
    "        for id_ in minibatchesids[t]:\n",
    "            doc = idx[id_]\n",
    "            ids = np.nonzero(dtm[doc,:])[0]\n",
    "            indices.extend(ids)\n",
    "            cts = dtm[doc,ids]\n",
    "            gamma_ = gamma[doc,:]\n",
    "            Elogbeta = np.apply_along_axis(digamma, axis=0, arr=topics)[ids,:]\n",
    "            dott = lambda x: np.dot(x,cts)\n",
    "            \n",
    "            for tt in range(intint):\n",
    "                old_gamma_ = gamma_\n",
    "                Elogtheta = digamma(gamma_)\n",
    "                E_sum = Elogbeta + Elogtheta\n",
    "                phi = np.exp(E_sum)/np.exp(E_sum).sum(axis=1)[:, np.newaxis]\n",
    "                gamma_ = alpha + np.apply_along_axis(dott,axis=0,arr=phi)\n",
    "                if np.sqrt(np.mean((gamma_-old_gamma_)**2))<0.000001:\n",
    "                    break  \n",
    "            gamma[doc,:] = gamma_\n",
    "            topics_temp[ids,:] += phi * dtm[doc,ids][:, np.newaxis]\n",
    "            \n",
    "        indices  = np.unique(indices)\n",
    "        topics_temp[indices,:] = nu + (ndoc/len(minibatchesids[t])) * topics_temp[indices,:]\n",
    "        rt = rho(tau,kappa,t)\n",
    "        topics[indices ,:] = (1-rt)*topics[indices,:] + rt*topics_temp[indices,:]\n",
    "    \n",
    "    return topics,gamma,tau,kappa"
   ]
  },
  {
   "cell_type": "markdown",
   "metadata": {},
   "source": [
    "#Basic testing (Artficial corpuses)"
   ]
  },
  {
   "cell_type": "code",
   "execution_count": 2,
   "metadata": {
    "collapsed": true
   },
   "outputs": [],
   "source": [
    "dtm = np.zeros((100, 100))\n",
    "dtm_ = np.zeros((10, 100))\n",
    "for i in range(10):\n",
    "    dtm_[i,] = [0]*10*i + [10]*10 + [0]*(10*(9-i))\n",
    "for i in range(10):\n",
    "    dtm[10*i:10*(i+1),]= dtm_"
   ]
  },
  {
   "cell_type": "code",
   "execution_count": 250,
   "metadata": {
    "collapsed": false
   },
   "outputs": [
    {
     "name": "stdout",
     "output_type": "stream",
     "text": [
      "CPU times: user 268 ms, sys: 3.46 ms, total: 271 ms\n",
      "Wall time: 281 ms\n"
     ]
    }
   ],
   "source": [
    "%%time\n",
    "test = lda(dtm,10,10,0.5,300)"
   ]
  },
  {
   "cell_type": "code",
   "execution_count": 101,
   "metadata": {
    "collapsed": false
   },
   "outputs": [
    {
     "data": {
      "image/png": "[encoded data removed]",
      "text/plain": [
       "<matplotlib.figure.Figure at 0x10826eb50>"
      ]
     },
     "metadata": {},
     "output_type": "display_data"
    },
    {
     "name": "stdout",
     "output_type": "stream",
     "text": [
      "\n"
     ]
    },
    {
     "data": {
      "image/png": "[encoded data removed]",
      "text/plain": [
       "<matplotlib.figure.Figure at 0x1085e8ed0>"
      ]
     },
     "metadata": {},
     "output_type": "display_data"
    },
    {
     "name": "stdout",
     "output_type": "stream",
     "text": [
      "\n"
     ]
    }
   ],
   "source": [
    "for i in range(2):\n",
    "    plt.plot(range(100),test[0][:,i])\n",
    "    plt.show()\n",
    "    raw_input()\n",
    "    "
   ]
  },
  {
   "cell_type": "code",
   "execution_count": 63,
   "metadata": {
    "collapsed": false
   },
   "outputs": [],
   "source": [
    "new_doc = [0]*100\n",
    "new_doc[:10] = [5]*10\n",
    "new_doc[90:] = [5]*10\n",
    "new_doc = np.array(new_doc)"
   ]
  },
  {
   "cell_type": "code",
   "execution_count": 136,
   "metadata": {
    "collapsed": false
   },
   "outputs": [],
   "source": [
    "test2 = inference(test,new_doc,3)"
   ]
  },
  {
   "cell_type": "code",
   "execution_count": 137,
   "metadata": {
    "collapsed": false
   },
   "outputs": [
    {
     "data": {
      "text/plain": [
       "array([  1.00016538,   1.00205872,   1.00006296,  50.99974546,\n",
       "         1.        ,  50.99794627,   1.        ,   1.00000019,\n",
       "         1.00000194,   1.00001908])"
      ]
     },
     "execution_count": 137,
     "metadata": {},
     "output_type": "execute_result"
    }
   ],
   "source": [
    "test2[1]"
   ]
  },
  {
   "cell_type": "code",
   "execution_count": 140,
   "metadata": {
    "collapsed": false
   },
   "outputs": [],
   "source": [
    "new_docs = np.zeros((2,100))\n",
    "new_docs[0,:10] = [5]*10\n",
    "new_docs[0,90:] = [5]*10\n",
    "new_docs[1,10:20] = [5]*10\n",
    "new_docs[1,80:90] = [5]*10"
   ]
  },
  {
   "cell_type": "code",
   "execution_count": 750,
   "metadata": {
    "collapsed": false
   },
   "outputs": [
    {
     "name": "stdout",
     "output_type": "stream",
     "text": [
      "CPU times: user 3.47 s, sys: 11.3 ms, total: 3.48 s\n",
      "Wall time: 3.49 s\n"
     ]
    }
   ],
   "source": [
    "%%time\n",
    "test4 = lda_minibatch(dtm,10,2,1024,0.9,100)"
   ]
  },
  {
   "cell_type": "code",
   "execution_count": 751,
   "metadata": {
    "collapsed": false
   },
   "outputs": [
    {
     "data": {
      "image/png": "[encoded data removed]",
      "text/plain": [
       "<matplotlib.figure.Figure at 0x10b947fd0>"
      ]
     },
     "metadata": {},
     "output_type": "display_data"
    }
   ],
   "source": [
    "for i in range(10):\n",
    "    plt.plot(range(100),test4[0][:,i]/sum(test4[0][:,i]))\n",
    "plt.show()"
   ]
  },
  {
   "cell_type": "code",
   "execution_count": 697,
   "metadata": {
    "collapsed": false
   },
   "outputs": [
    {
     "name": "stdout",
     "output_type": "stream",
     "text": [
      "CPU times: user 8.67 s, sys: 48 ms, total: 8.72 s\n",
      "Wall time: 8.78 s\n"
     ]
    }
   ],
   "source": [
    "%%time\n",
    "test5 = lda_minibatch(corpus[:80,:],9,1,512,0.9,100)"
   ]
  },
  {
   "cell_type": "code",
   "execution_count": 698,
   "metadata": {
    "collapsed": false
   },
   "outputs": [
    {
     "data": {
      "image/png": "[encoded data removed]",
      "text/plain": [
       "<matplotlib.figure.Figure at 0x108b4a190>"
      ]
     },
     "metadata": {},
     "output_type": "display_data"
    }
   ],
   "source": [
    "for i in range(9):\n",
    "    plt.plot(range(450),test5[0][:,i])\n",
    "plt.show()"
   ]
  },
  {
   "cell_type": "code",
   "execution_count": 719,
   "metadata": {
    "collapsed": false
   },
   "outputs": [
    {
     "data": {
      "text/plain": [
       "-2063.5199273810185"
      ]
     },
     "execution_count": 719,
     "metadata": {},
     "output_type": "execute_result"
    }
   ],
   "source": [
    "perplexity_test(test5,corpus[80:,:],100)"
   ]
  },
  {
   "cell_type": "code",
   "execution_count": 694,
   "metadata": {
    "collapsed": false
   },
   "outputs": [
    {
     "data": {
      "image/png": "[encoded data removed]",
      "text/plain": [
       "<matplotlib.figure.Figure at 0x10a820710>"
      ]
     },
     "metadata": {},
     "output_type": "display_data"
    },
    {
     "name": "stdout",
     "output_type": "stream",
     "text": [
      "\n"
     ]
    },
    {
     "data": {
      "image/png": "[encoded data removed]",
      "text/plain": [
       "<matplotlib.figure.Figure at 0x10ff97f10>"
      ]
     },
     "metadata": {},
     "output_type": "display_data"
    },
    {
     "name": "stdout",
     "output_type": "stream",
     "text": [
      "\n"
     ]
    },
    {
     "data": {
      "image/png": "[encoded data removed]",
      "text/plain": [
       "<matplotlib.figure.Figure at 0x10b037c90>"
      ]
     },
     "metadata": {},
     "output_type": "display_data"
    },
    {
     "name": "stdout",
     "output_type": "stream",
     "text": [
      "\n"
     ]
    },
    {
     "data": {
      "image/png": "[encoded data removed]",
      "text/plain": [
       "<matplotlib.figure.Figure at 0x11006d190>"
      ]
     },
     "metadata": {},
     "output_type": "display_data"
    },
    {
     "name": "stdout",
     "output_type": "stream",
     "text": [
      "\n"
     ]
    },
    {
     "data": {
      "image/png": "[encoded data removed]",
      "text/plain": [
       "<matplotlib.figure.Figure at 0x10b03d4d0>"
      ]
     },
     "metadata": {},
     "output_type": "display_data"
    },
    {
     "name": "stdout",
     "output_type": "stream",
     "text": [
      "\n"
     ]
    },
    {
     "data": {
      "image/png": "[encoded data removed]",
      "text/plain": [
       "<matplotlib.figure.Figure at 0x10b3cb5d0>"
      ]
     },
     "metadata": {},
     "output_type": "display_data"
    },
    {
     "name": "stdout",
     "output_type": "stream",
     "text": [
      "\n"
     ]
    },
    {
     "data": {
      "image/png": "[encoded data removed]",
      "text/plain": [
       "<matplotlib.figure.Figure at 0x1101b09d0>"
      ]
     },
     "metadata": {},
     "output_type": "display_data"
    },
    {
     "name": "stdout",
     "output_type": "stream",
     "text": [
      "\n"
     ]
    },
    {
     "data": {
      "image/png": "[encoded data removed]",
      "text/plain": [
       "<matplotlib.figure.Figure at 0x1101d6610>"
      ]
     },
     "metadata": {},
     "output_type": "display_data"
    },
    {
     "name": "stdout",
     "output_type": "stream",
     "text": [
      "\n"
     ]
    },
    {
     "data": {
      "image/png": "[encoded data removed]",
      "text/plain": [
       "<matplotlib.figure.Figure at 0x10b947450>"
      ]
     },
     "metadata": {},
     "output_type": "display_data"
    },
    {
     "name": "stdout",
     "output_type": "stream",
     "text": [
      "\n"
     ]
    },
    {
     "data": {
      "image/png": "[encoded data removed]",
      "text/plain": [
       "<matplotlib.figure.Figure at 0x10afe5bd0>"
      ]
     },
     "metadata": {},
     "output_type": "display_data"
    },
    {
     "name": "stdout",
     "output_type": "stream",
     "text": [
      "\n"
     ]
    }
   ],
   "source": [
    "for i in range(10,20):\n",
    "    plt.plot(range(9),test5[1][i,:]/sum(test5[1][i,:]))\n",
    "    plt.show()\n",
    "    raw_input()"
   ]
  },
  {
   "cell_type": "markdown",
   "metadata": {},
   "source": [
    "# Test on Edimburgh words "
   ]
  },
  {
   "cell_type": "code",
   "execution_count": 592,
   "metadata": {
    "collapsed": false
   },
   "outputs": [],
   "source": [
    "import json\n",
    "with open('temp/edinburgh_word_adjective.json', 'r') as fp:\n",
    "    edi = json.load(fp)"
   ]
  },
  {
   "cell_type": "code",
   "execution_count": 594,
   "metadata": {
    "collapsed": false
   },
   "outputs": [],
   "source": [
    "r0 = edi.keys()[0]"
   ]
  },
  {
   "cell_type": "code",
   "execution_count": 600,
   "metadata": {
    "collapsed": false
   },
   "outputs": [],
   "source": [
    "vocab = []\n",
    "for i in edi.keys():\n",
    "    vocab.extend(edi[i][0][0])"
   ]
  },
  {
   "cell_type": "code",
   "execution_count": 602,
   "metadata": {
    "collapsed": false
   },
   "outputs": [
    {
     "data": {
      "text/plain": [
       "13224"
      ]
     },
     "execution_count": 602,
     "metadata": {},
     "output_type": "execute_result"
    }
   ],
   "source": [
    "vocab = list(set(vocab))\n",
    "len(vocab)"
   ]
  },
  {
   "cell_type": "code",
   "execution_count": 616,
   "metadata": {
    "collapsed": true
   },
   "outputs": [],
   "source": [
    "word_to_index  = dict(zip(vocab,range(len(vocab))))\n",
    "index_to_word = dict(zip(range(len(vocab)),vocab))"
   ]
  },
  {
   "cell_type": "code",
   "execution_count": 618,
   "metadata": {
    "collapsed": false
   },
   "outputs": [],
   "source": [
    "bid_to_index = dict(zip(edi.keys(),range(len(edi.keys()))))\n",
    "index_to_bid = dict(zip(range(len(edi.keys())),edi.keys()))"
   ]
  },
  {
   "cell_type": "code",
   "execution_count": 609,
   "metadata": {
    "collapsed": false
   },
   "outputs": [],
   "source": [
    "import collections\n",
    "from scipy import sparse\n",
    "\n",
    "nonzero_data = []\n",
    "rows_s = []\n",
    "cols_s = []\n",
    "\n",
    "for k in edi.keys():\n",
    "    counter = collections.Counter(edi[k][0][0])\n",
    "    nonzero_data += counter.values()\n",
    "    rows_s += [bid_to_index[k]]*len(counter.values())\n",
    "    cols_s += [word_to_index[ck] for ck in counter.keys()]\n",
    "\n",
    "sparse_mat = sparse.csc_matrix((nonzero_data,(rows_s,cols_s)),shape = (len(bid_to_index),len(word_to_index)))"
   ]
  },
  {
   "cell_type": "code",
   "execution_count": 613,
   "metadata": {
    "collapsed": true
   },
   "outputs": [],
   "source": [
    "dtm_edi = sparse_mat.toarray()"
   ]
  },
  {
   "cell_type": "code",
   "execution_count": 621,
   "metadata": {
    "collapsed": false
   },
   "outputs": [
    {
     "data": {
      "text/plain": [
       "numpy.ndarray"
      ]
     },
     "execution_count": 621,
     "metadata": {},
     "output_type": "execute_result"
    }
   ],
   "source": [
    "type(dtm_edi)"
   ]
  },
  {
   "cell_type": "code",
   "execution_count": 649,
   "metadata": {
    "collapsed": false
   },
   "outputs": [
    {
     "name": "stdout",
     "output_type": "stream",
     "text": [
      "CPU times: user 5min 27s, sys: 2.14 s, total: 5min 29s\n",
      "Wall time: 5min 34s\n"
     ]
    }
   ],
   "source": [
    "%%time\n",
    "test_edi = lda_minibatch(dtm_edi,10,1,1024,0.9,50)"
   ]
  },
  {
   "cell_type": "code",
   "execution_count": 652,
   "metadata": {
    "collapsed": false
   },
   "outputs": [
    {
     "name": "stdout",
     "output_type": "stream",
     "text": [
      "Topic 0:\n",
      "\n",
      "[u'plank', u'enfant', u'assez', u'\\xe7a', u'rissoto', u'taglioni', u'fran\\xe7ais', u'les', u'pager', u'blade']\n",
      "\n",
      "Topic 1:\n",
      "\n",
      "[u'flavoury', u'mozzeralla', u'subway', u'papilio', u'vinyl', u'waverley', u'deliberate', u'shredder', u'toss', u'heather']\n",
      "\n",
      "Topic 2:\n",
      "\n",
      "[u'volunteer', u'workshop', u'subway', u'documentary', u'hygeine', u'scorn', u'human', u'hallucination', u'elitism', u'alrightttt']\n",
      "\n",
      "Topic 3:\n",
      "\n",
      "[u'war', u'da', u'immer', u'dass', u'es', u'alle', u'mit', u'f\\xfcr', u'sich', u'zum']\n",
      "\n",
      "Topic 4:\n",
      "\n",
      "[u'food', u'place', u'burger', u'bar', u'restaurant', u'menu', u'pub', u'time', u'cocktail', u'dish']\n",
      "\n",
      "Topic 5:\n",
      "\n",
      "[u'hooligan', u'\\xa36.99', u'inte', u'ta', u'divide', u'hinterher', u'einen', u'blank', u'froh', u'du']\n",
      "\n",
      "Topic 6:\n",
      "\n",
      "[u'kilo', u'einer', u'zwar', u'gro\\xdfe', u'moule', u'tapferen', u'toujour', u'quickie', u'empfohlen', u'coeur']\n",
      "\n",
      "Topic 7:\n",
      "\n",
      "[u'subway', u'tipi', u'kids.it', u'princess', u'spud-u-like', u'reeeeeaaaaally', u'menu.thi', u'sniffer', u'macaron', u'workshop']\n",
      "\n",
      "Topic 8:\n",
      "\n",
      "[u'si', u'il', u'lion', u'tu', u'oink', u'boerwor', u'opci\\xf3n', u'boerewor', u'locale', u'los']\n",
      "\n",
      "Topic 9:\n",
      "\n",
      "[u'tipi', u'vinyl', u'subway', u'kids.it', u'flavoury', u'infront', u'pleine', u'diff\\xe9rente', u't\\xe9l\\xe9phon\\xe9', u'avon']\n",
      "\n"
     ]
    }
   ],
   "source": [
    "show_topics(test_edi,range(10),10,[w for w in vocab])"
   ]
  },
  {
   "cell_type": "code",
   "execution_count": 653,
   "metadata": {
    "collapsed": true
   },
   "outputs": [],
   "source": [
    "nonzero_data = []\n",
    "rows_s = []\n",
    "cols_s = []\n",
    "\n",
    "for k in edi.keys():\n",
    "    countergeq5 = collections.Counter(edi[k][0][0])\n",
    "    countergeq5 = counter.values()\n",
    "    countergeq5[countergeq5<5] = 0\n",
    "    nonzero_data += countergeq5\n",
    "    rows_s += [bid_to_index[k]]*len(counter.values())\n",
    "    cols_s += [word_to_index[ck] for ck in counter.keys()]\n",
    "\n",
    "sparse_mat2 = sparse.csc_matrix((nonzero_data,(rows_s,cols_s)),shape = (len(bid_to_index),len(word_to_index)))"
   ]
  },
  {
   "cell_type": "code",
   "execution_count": 655,
   "metadata": {
    "collapsed": true
   },
   "outputs": [],
   "source": [
    "dtm_edi2 = sparse_mat2.toarray()"
   ]
  },
  {
   "cell_type": "code",
   "execution_count": 671,
   "metadata": {
    "collapsed": false
   },
   "outputs": [
    {
     "name": "stdout",
     "output_type": "stream",
     "text": [
      "CPU times: user 4min 16s, sys: 2.43 s, total: 4min 18s\n",
      "Wall time: 4min 25s\n"
     ]
    }
   ],
   "source": [
    "%%time\n",
    "test_edi2 = lda_minibatch(dtm_edi2[:550,:],10,1,1024,0.9,50)"
   ]
  },
  {
   "cell_type": "code",
   "execution_count": 672,
   "metadata": {
    "collapsed": false
   },
   "outputs": [
    {
     "name": "stdout",
     "output_type": "stream",
     "text": [
      "Topic 0:\n",
      "\n",
      "[u'apparatus', u'distraction', u'\\xa33.60', u'i.j', u'mensen', u'elderflower', u'peeps', u'herring', u'stud', u'soooooo']\n",
      "\n",
      "Topic 1:\n",
      "\n",
      "[u'australian', u'optimism', u'burgh', u'worry', u'regularity', u'bar-eaterie', u'personalisation', u'cubit', u'funghi', u'rincette']\n",
      "\n",
      "Topic 2:\n",
      "\n",
      "[u'offal', u'semi-icy', u'kwijt', u'littering', u'digestif', u'pillar', u'detractor', u'\\xa31.00', u'lived-in', u'\\xa35.25']\n",
      "\n",
      "Topic 3:\n",
      "\n",
      "[u'well-drawn', u'window-bench', u'protester', u'woo-hoo', u'sticking', u'homeliest', u'barbajuan', u'teatime', u'patchwork', u'browny']\n",
      "\n",
      "Topic 4:\n",
      "\n",
      "[u'shite', u'matin', u'cummin', u'host', u'envelope', u'didn;t', u'wheaty', u'mentality', u'insider', u'\\xa37']\n",
      "\n",
      "Topic 5:\n",
      "\n",
      "[u'tempurad', u'peroni', u'dancing', u'mash', u'oyster', u'caliber', u'cosiness', u'cheeriest', u'sex', u'delicious-sounding']\n",
      "\n",
      "Topic 6:\n",
      "\n",
      "[u'food', u'place', u'dish', u'service', u'bit', u'vegetable', u'time', u'restaurant', u'rice', u'pickle']\n",
      "\n",
      "Topic 7:\n",
      "\n",
      "[u'briefing', u'kofte', u'swing-top', u'coinage', u'bistro', u'smokiness', u'cinema', u'dignity', u'addlestone', u'wait-staff']\n",
      "\n",
      "Topic 8:\n",
      "\n",
      "[u'pre-going', u'unease', u'trace', u'check', u'gaze', u'hebben', u'pipin', u'bar-like', u'wait-staff', u'clear']\n",
      "\n",
      "Topic 9:\n",
      "\n",
      "[u'off-night', u'september', u'monterey', u'fast', u'unfilling', u'dietry', u'snacking', u'visitors-so', u'top-choice', u'penalty']\n",
      "\n"
     ]
    }
   ],
   "source": [
    "show_topics(test_edi2,range(10),10,vocab)"
   ]
  },
  {
   "cell_type": "code",
   "execution_count": 673,
   "metadata": {
    "collapsed": false
   },
   "outputs": [
    {
     "data": {
      "text/plain": [
       "1.001833442466175"
      ]
     },
     "execution_count": 673,
     "metadata": {},
     "output_type": "execute_result"
    }
   ],
   "source": [
    "perplexity_test(test_edi2,dtm_edi2[550:,:],50)"
   ]
  },
  {
   "cell_type": "code",
   "execution_count": 674,
   "metadata": {
    "collapsed": true
   },
   "outputs": [],
   "source": [
    "test_edi3 = lda_minibatch(dtm_edi2[:550,:],1,1,1024,0.9,50)"
   ]
  },
  {
   "cell_type": "code",
   "execution_count": 752,
   "metadata": {
    "collapsed": false
   },
   "outputs": [
    {
     "data": {
      "text/plain": [
       "-2812.8394423396931"
      ]
     },
     "execution_count": 752,
     "metadata": {},
     "output_type": "execute_result"
    }
   ],
   "source": [
    "perplexity_test(test_edi3,dtm_edi2[550:,:],50)"
   ]
  },
  {
   "cell_type": "code",
   "execution_count": 753,
   "metadata": {
    "collapsed": true
   },
   "outputs": [],
   "source": [
    "test_edi4 = lda_minibatch(dtm_edi2[:550,:],1,1,1024,0.7,50)"
   ]
  },
  {
   "cell_type": "code",
   "execution_count": 754,
   "metadata": {
    "collapsed": false
   },
   "outputs": [
    {
     "data": {
      "text/plain": [
       "-2849.6234606686303"
      ]
     },
     "execution_count": 754,
     "metadata": {},
     "output_type": "execute_result"
    }
   ],
   "source": [
    "perplexity_test(test_edi4,dtm_edi2[550:,:],50)"
   ]
  },
  {
   "cell_type": "code",
   "execution_count": 3,
   "metadata": {
    "collapsed": false
   },
   "outputs": [],
   "source": [
    "def digamma(alpha):\n",
    "    if (len(alpha.shape) == 1):\n",
    "        return(spec.psi(alpha) - spec.psi(np.sum(alpha)))\n",
    "    else:\n",
    "        return(spec.psi(alpha) - spec.psi(np.sum(alpha, 1))[:, np.newaxis])"
   ]
  },
  {
   "cell_type": "code",
   "execution_count": 9,
   "metadata": {
    "collapsed": false
   },
   "outputs": [
    {
     "data": {
      "text/plain": [
       "array([[-2.93216214, -2.9041241 , -2.84506612, -2.83962013, -2.62492927,\n",
       "        -2.94130739, -2.90403642, -2.66297536, -2.76053097, -2.87949388],\n",
       "       [-2.7533019 , -2.99772054, -3.031185  , -2.56121677, -2.71645791,\n",
       "        -3.04282672, -2.95492504, -2.45175072, -3.02288248, -2.8983913 ],\n",
       "       [-2.83126438, -2.81608815, -2.8302558 , -2.99454408, -2.643125  ,\n",
       "        -2.92074225, -2.92977836, -2.85463524, -2.85204698, -2.68711258],\n",
       "       [-2.72495774, -3.1375335 , -2.61481901, -2.82917493, -2.8057266 ,\n",
       "        -2.84870488, -2.86233662, -2.79897671, -2.73493823, -3.00835371],\n",
       "       [-2.7358258 , -2.76720559, -2.96303382, -2.81386194, -2.8481392 ,\n",
       "        -2.905914  , -2.84112367, -2.84074198, -3.04407988, -3.01999279],\n",
       "       [-2.99954446, -2.8631901 , -3.01022921, -2.74122265, -2.54550144,\n",
       "        -2.65365484, -2.79029793, -2.72560841, -3.13391023, -2.87881593],\n",
       "       [-2.88618591, -2.7494686 , -2.75239609, -3.07733508, -2.85783305,\n",
       "        -2.83460042, -2.72607666, -2.6805762 , -2.78572538, -3.00612809],\n",
       "       [-2.747356  , -2.93143172, -2.8549667 , -2.90888869, -2.6331397 ,\n",
       "        -2.94764958, -2.64408104, -2.65028534, -2.86600034, -3.01473825],\n",
       "       [-2.98430573, -2.75766886, -3.20955934, -2.76703692, -2.84369729,\n",
       "        -2.4862329 , -3.05052268, -2.95509014, -2.70982218, -2.65868318],\n",
       "       [-2.74237041, -2.74127539, -2.83152351, -3.22659207, -2.62131238,\n",
       "        -2.69976559, -3.06057831, -2.79519518, -2.82602973, -3.13809337],\n",
       "       [-2.94900549, -2.97164079, -2.75335004, -2.80186249, -2.93591216,\n",
       "        -2.68299281, -2.89478446, -2.86745008, -2.85817912, -2.73049082],\n",
       "       [-3.32070578, -2.78446692, -2.64145882, -2.84700701, -2.5785207 ,\n",
       "        -2.93135923, -2.65050969, -2.77094756, -2.91489151, -3.0311538 ],\n",
       "       [-2.78499217, -2.75055969, -2.78362272, -2.59088729, -2.78239734,\n",
       "        -2.85341572, -2.94128496, -2.88767453, -3.14635298, -2.76562464],\n",
       "       [-2.7591657 , -2.95249117, -2.9373098 , -2.82366223, -2.85858566,\n",
       "        -2.8679953 , -2.72263983, -2.78813928, -2.86875534, -2.89518421],\n",
       "       [-2.57388591, -2.94903889, -2.8330684 , -3.04993245, -2.79785472,\n",
       "        -2.77040396, -2.78287012, -2.91197959, -2.7792845 , -2.78504649],\n",
       "       [-2.55392349, -2.73890131, -2.88568275, -2.98877744, -3.03098065,\n",
       "        -2.75718788, -2.77046593, -2.88953653, -2.89169438, -2.77300375],\n",
       "       [-3.1345232 , -3.11609005, -3.00688157, -2.62923761, -2.78436923,\n",
       "        -2.82585829, -2.74259735, -2.7733107 , -2.49362286, -2.80051248],\n",
       "       [-2.92999177, -2.97389454, -2.92049816, -2.99873801, -2.77232225,\n",
       "        -3.10048712, -2.87309412, -2.81120898, -2.76214189, -2.72484979],\n",
       "       [-2.70486736, -3.04035057, -2.89777942, -2.64940302, -3.14298201,\n",
       "        -2.73581344, -2.95094534, -2.94612442, -2.91413259, -2.56459637],\n",
       "       [-2.82312444, -2.62513449, -2.92092499, -2.61433216, -2.71172952,\n",
       "        -3.04216724, -2.79833414, -3.09925946, -2.85277317, -3.08534541],\n",
       "       [-2.97791958, -3.01110684, -2.8760475 , -2.70305449, -2.9257634 ,\n",
       "        -3.02779954, -2.71867809, -2.74241228, -2.69915221, -3.0463091 ],\n",
       "       [-2.89956382, -2.85736694, -3.10852061, -2.97724957, -2.97192983,\n",
       "        -2.58129639, -2.69006752, -2.92609563, -2.71210917, -2.7748109 ],\n",
       "       [-2.82755299, -2.75660651, -2.74261471, -3.02363105, -2.79116714,\n",
       "        -2.95541263, -2.83066967, -2.90032352, -2.7321218 , -2.72514075],\n",
       "       [-2.89328219, -2.67183026, -2.86370755, -2.94182391, -2.8199285 ,\n",
       "        -2.72461336, -2.87458572, -2.76622376, -2.90447575, -3.28450641],\n",
       "       [-2.63816299, -3.07490465, -2.8760835 , -2.54741171, -2.70467521,\n",
       "        -2.75059158, -2.91407593, -3.09925274, -2.76945207, -2.85839158],\n",
       "       [-2.747758  , -2.86921573, -2.60027968, -3.15863005, -2.99516029,\n",
       "        -2.76562481, -2.82553425, -2.80359478, -2.87502184, -3.00409719],\n",
       "       [-2.76064779, -2.76897038, -2.88937267, -2.95475286, -2.52567774,\n",
       "        -2.80424978, -3.09079117, -2.92375331, -2.71762068, -2.7087559 ],\n",
       "       [-2.84287381, -2.98867602, -2.79713606, -2.64222257, -2.69106301,\n",
       "        -2.87919367, -2.82821473, -2.89057606, -2.75580826, -2.89540034],\n",
       "       [-2.83233819, -2.65089966, -3.12655113, -2.92705299, -2.58908329,\n",
       "        -2.68225106, -2.74838595, -2.53834652, -2.80274269, -3.19645879],\n",
       "       [-2.80332251, -2.58415233, -2.75809795, -2.78953508, -3.18723993,\n",
       "        -2.72923204, -2.74986928, -3.03098978, -2.82330115, -2.83875583],\n",
       "       [-2.71687337, -2.70839826, -2.62167322, -2.62571795, -3.11835608,\n",
       "        -2.96732563, -3.12702252, -2.82681505, -2.77212543, -2.87014355],\n",
       "       [-2.52946933, -2.87470821, -2.84306536, -2.85828129, -2.95874399,\n",
       "        -2.90066747, -3.03541465, -2.86709372, -2.51559546, -2.86086128],\n",
       "       [-3.09238642, -2.83053373, -2.75041426, -2.93972064, -2.70612129,\n",
       "        -2.67011896, -2.87324643, -2.83629816, -2.96070415, -2.84047251],\n",
       "       [-2.70157803, -2.96943084, -2.80437169, -2.63840508, -3.20651742,\n",
       "        -3.02788025, -2.68025541, -2.77428765, -3.12170194, -2.68085405],\n",
       "       [-3.0783543 , -2.77028619, -2.65542888, -2.85608638, -2.79206652,\n",
       "        -2.83656693, -2.53638355, -2.89844073, -3.05852546, -2.5526272 ],\n",
       "       [-2.74213777, -2.65266239, -2.91305228, -2.76410455, -2.63335502,\n",
       "        -2.9499303 , -2.73885082, -3.07450584, -2.89652234, -2.76415558],\n",
       "       [-2.75362959, -2.94414981, -2.54575316, -2.9205238 , -2.71602713,\n",
       "        -2.98604589, -2.80935244, -3.00729819, -2.75492084, -2.92011927],\n",
       "       [-2.79416363, -2.71702542, -2.72552965, -3.08719696, -2.81589071,\n",
       "        -2.81010452, -2.73445132, -2.77133848, -2.92151399, -2.73642723],\n",
       "       [-2.91655585, -2.85527496, -2.80309757, -2.69640538, -2.81550515,\n",
       "        -2.93599799, -2.81129239, -2.81508389, -2.79709681, -3.06671746],\n",
       "       [-2.81833439, -2.89992979, -2.8923696 , -2.74400506, -3.00285205,\n",
       "        -3.03763299, -2.94558893, -2.4924744 , -2.74391526, -3.06126995],\n",
       "       [-2.89556677, -2.59477066, -3.05527357, -2.89288596, -2.57388011,\n",
       "        -2.86438522, -2.999792  , -2.78246959, -2.79818993, -2.80844879],\n",
       "       [-3.04330359, -2.60696723, -2.89690235, -2.6429085 , -3.04440095,\n",
       "        -2.90705997, -2.83371469, -3.30365362, -2.8592349 , -2.66914542],\n",
       "       [-2.76236876, -2.91565428, -2.99928185, -2.76300546, -3.0426062 ,\n",
       "        -2.94870097, -2.94219425, -2.90044655, -2.75223108, -2.6016506 ],\n",
       "       [-2.64260998, -2.88201438, -3.04649913, -2.6438518 , -2.82002583,\n",
       "        -2.72299795, -3.1836675 , -2.72028975, -2.85940393, -2.84136456],\n",
       "       [-2.65761195, -2.77651258, -3.19357123, -2.83172605, -2.52576788,\n",
       "        -2.74405418, -2.76194682, -2.84572952, -2.90016649, -2.90332121],\n",
       "       [-2.67720461, -2.82930524, -3.1152002 , -2.82979516, -2.93687874,\n",
       "        -2.85848541, -2.7363194 , -2.70926013, -2.85223441, -2.83226888],\n",
       "       [-2.85553658, -2.87646678, -2.8288402 , -2.60761516, -2.69259223,\n",
       "        -3.03363005, -2.92440668, -2.85416815, -2.99838687, -2.90420155],\n",
       "       [-2.78460612, -2.86226421, -2.60806348, -3.04761978, -2.97132734,\n",
       "        -2.66628336, -2.92929643, -2.8617494 , -2.64699185, -2.93357923],\n",
       "       [-2.85823928, -2.82738748, -3.01961344, -2.87578104, -2.73059262,\n",
       "        -2.87289831, -2.86010542, -2.82354727, -2.82346697, -2.72937012],\n",
       "       [-2.8113532 , -2.62581485, -2.96518538, -2.62172128, -2.82990365,\n",
       "        -3.06874326, -2.8650728 , -2.92765563, -2.82982018, -2.84338483],\n",
       "       [-2.53910307, -2.89527251, -2.70950967, -3.04375374, -2.96989441,\n",
       "        -2.84579152, -2.99622601, -2.93954988, -2.95715135, -2.75139048],\n",
       "       [-2.60030756, -2.93493343, -2.97525224, -2.76320873, -3.11261547,\n",
       "        -2.9436297 , -2.80339867, -2.80611371, -2.80690806, -2.8822493 ],\n",
       "       [-2.96378938, -2.77615253, -2.61438496, -2.80612524, -2.87330475,\n",
       "        -3.20215043, -2.77531959, -2.8287401 , -2.74975675, -2.89602131],\n",
       "       [-3.04818247, -2.93650234, -2.79811879, -3.01296138, -2.6892302 ,\n",
       "        -2.83862495, -2.9452876 , -2.78012764, -2.57366307, -2.75547783],\n",
       "       [-3.19987297, -3.00257843, -2.68135188, -2.89055406, -2.67291059,\n",
       "        -3.00047606, -2.93221367, -2.85422917, -2.52244731, -2.75603048],\n",
       "       [-3.00863474, -2.77369497, -3.13883773, -2.88199885, -2.80692827,\n",
       "        -2.93555541, -2.88054518, -2.66768521, -2.76877484, -2.68745567],\n",
       "       [-2.75604448, -2.62290344, -2.65583854, -3.01603146, -2.82400926,\n",
       "        -2.95914793, -2.68884456, -2.89983072, -2.76500689, -2.97964212],\n",
       "       [-3.20910762, -2.74445846, -2.74676022, -2.61798208, -2.85744269,\n",
       "        -2.81542343, -2.64449476, -2.9565992 , -3.22280358, -2.70886022],\n",
       "       [-2.92188999, -2.77144169, -2.60988066, -2.59467984, -3.05180237,\n",
       "        -2.99414056, -2.67782551, -3.02620639, -2.96209374, -2.83106553],\n",
       "       [-3.1337865 , -2.85580071, -3.01383396, -2.84151913, -2.92877654,\n",
       "        -2.80637766, -2.80622608, -2.97125069, -2.84641958, -2.41379362],\n",
       "       [-2.86308406, -2.69629517, -2.81186526, -3.07013827, -3.05985472,\n",
       "        -3.04701786, -2.82335517, -2.75048919, -3.01647469, -2.69203618],\n",
       "       [-3.16053918, -2.74268659, -2.73719559, -2.97369915, -2.68625382,\n",
       "        -2.70178095, -2.90845752, -2.88018824, -2.75481326, -2.82285368],\n",
       "       [-2.89768497, -2.60901932, -3.01956265, -2.94208328, -3.05136785,\n",
       "        -2.75033431, -2.91830272, -3.09323821, -2.93922855, -2.68862018],\n",
       "       [-2.83586647, -2.89783586, -2.9133795 , -2.90353312, -2.47332802,\n",
       "        -2.6552523 , -2.94697531, -2.90324104, -2.88359426, -2.83426771],\n",
       "       [-2.58199668, -2.75549623, -2.82195907, -2.79443818, -2.90074179,\n",
       "        -2.84995141, -2.73989412, -3.33641958, -2.76712004, -2.71850013],\n",
       "       [-2.74117995, -2.70439864, -2.83262125, -2.87937797, -2.63306647,\n",
       "        -3.156627  , -2.80626655, -2.86438918, -2.61860554, -2.85759261],\n",
       "       [-3.01191214, -2.79425977, -2.87071589, -2.88536798, -2.74426299,\n",
       "        -2.98529864, -2.68971289, -2.89593069, -2.69953905, -2.85402719],\n",
       "       [-2.92152169, -2.80444516, -3.05540698, -2.70850287, -2.77345272,\n",
       "        -2.83608874, -2.8901165 , -2.6899055 , -2.92426606, -2.87271578],\n",
       "       [-2.77390048, -2.92474806, -3.29734102, -2.84404009, -2.61550549,\n",
       "        -2.87020393, -3.17539506, -2.8161606 , -2.569583  , -2.67257808],\n",
       "       [-2.7525922 , -2.88412335, -3.19786115, -2.66243032, -2.77773104,\n",
       "        -2.64960717, -2.86070331, -2.79084823, -3.11277237, -2.7818857 ],\n",
       "       [-2.68420602, -2.84418276, -2.80379714, -2.94201868, -2.79754255,\n",
       "        -3.04029689, -2.49895256, -2.95744729, -2.95626379, -2.87631682],\n",
       "       [-2.71690342, -3.00789243, -2.83461373, -2.74208728, -2.84313172,\n",
       "        -2.79318334, -2.80662852, -2.69949236, -2.92875763, -2.98594532],\n",
       "       [-3.45793954, -2.95653172, -2.92161797, -2.73588969, -2.76950062,\n",
       "        -2.83391681, -2.98761285, -2.51119264, -2.79990292, -2.85006504],\n",
       "       [-2.68081384, -2.7905521 , -2.62845262, -2.72004038, -2.91470207,\n",
       "        -2.80234922, -2.84399627, -2.80688735, -3.03737537, -3.0782942 ],\n",
       "       [-2.88910331, -2.93907684, -2.81675342, -2.89069872, -2.7852706 ,\n",
       "        -2.66450565, -3.01434876, -2.76776428, -2.98835992, -2.72415293],\n",
       "       [-3.07832081, -2.73586653, -2.8614484 , -2.57007288, -2.97903822,\n",
       "        -2.56001787, -3.23395476, -2.89957492, -2.43906891, -2.92467396],\n",
       "       [-2.91273242, -2.73004771, -2.93208413, -2.90249564, -2.73976607,\n",
       "        -2.72082341, -2.82077245, -3.11716569, -2.70628217, -2.69482287],\n",
       "       [-2.67756059, -2.97082661, -2.88668114, -2.56702744, -3.03384357,\n",
       "        -2.66165948, -3.21007632, -2.99267864, -2.96434836, -2.59304478],\n",
       "       [-2.76674888, -2.75596981, -2.89072376, -2.86088484, -2.90087981,\n",
       "        -2.77867293, -2.71000045, -3.05151074, -3.01181066, -2.57962616],\n",
       "       [-2.83862599, -2.83461507, -2.67352862, -3.03071232, -2.85459187,\n",
       "        -2.81830959, -2.8124431 , -3.02385413, -2.72822368, -3.02123537],\n",
       "       [-2.74751882, -2.87514037, -3.04060082, -2.78583804, -2.47647581,\n",
       "        -2.92306796, -2.80582168, -2.99865135, -2.80346896, -2.76613659],\n",
       "       [-3.19010817, -2.64824338, -2.94068033, -2.46961335, -3.00009394,\n",
       "        -2.95575054, -2.54749276, -2.79535076, -2.88687169, -2.90298764],\n",
       "       [-2.88817532, -3.04950045, -2.81604188, -2.80304126, -2.89146752,\n",
       "        -2.75113485, -2.53521648, -2.61841162, -2.72461553, -3.26197812],\n",
       "       [-2.57252818, -2.87075352, -2.94938546, -2.73160383, -2.77373436,\n",
       "        -2.88463155, -2.77078   , -3.15147555, -2.97682166, -2.85933317],\n",
       "       [-2.63776328, -2.80479666, -2.80243884, -2.86632142, -2.88738197,\n",
       "        -2.74599711, -2.81854753, -3.02170904, -3.07460395, -2.7389451 ],\n",
       "       [-2.62417914, -2.83215763, -2.97302142, -2.96569135, -2.64802153,\n",
       "        -2.99491097, -2.99694971, -2.61080319, -2.85541231, -2.5982472 ],\n",
       "       [-2.81741468, -2.78269182, -2.872993  , -3.04912601, -2.87647248,\n",
       "        -2.66813733, -2.87569652, -2.68830274, -2.65463538, -2.84467445],\n",
       "       [-3.09653115, -2.912051  , -2.68559584, -2.76526503, -3.00598136,\n",
       "        -2.52338374, -2.76608688, -2.83649165, -3.09123839, -2.7309373 ],\n",
       "       [-2.93929232, -2.81809664, -3.29384114, -2.80592279, -2.78273705,\n",
       "        -2.58352418, -3.10479989, -2.6746579 , -2.947905  , -2.71435299],\n",
       "       [-2.61344433, -2.88184039, -2.91372313, -2.64015109, -2.75777135,\n",
       "        -2.99907911, -2.96069763, -3.05496813, -2.87737574, -2.87336902],\n",
       "       [-2.80237403, -2.67693011, -2.94077583, -2.74492515, -2.48119155,\n",
       "        -3.096094  , -2.93887461, -3.12989822, -2.66821878, -3.11432295],\n",
       "       [-2.77846242, -3.08066975, -2.93574181, -2.77405329, -2.71166154,\n",
       "        -2.61041952, -2.64156622, -3.16214538, -3.01577895, -2.68269183],\n",
       "       [-2.74817203, -2.99326384, -2.9944346 , -2.64227342, -2.9014135 ,\n",
       "        -2.53668226, -2.81137739, -2.89174747, -2.94139917, -3.02366307],\n",
       "       [-2.97907578, -2.90022362, -2.98907288, -2.86265706, -2.90655639,\n",
       "        -2.68112934, -2.93069456, -2.88535566, -2.78883925, -2.7247312 ],\n",
       "       [-2.85461812, -2.69758745, -2.72339881, -2.97517024, -2.85517689,\n",
       "        -2.81303682, -2.6235895 , -3.11460692, -2.98252165, -2.90208547],\n",
       "       [-2.81315297, -2.91000377, -2.82626094, -2.7913123 , -2.72874542,\n",
       "        -2.71942222, -3.27301013, -2.77076743, -2.57313215, -3.25647716],\n",
       "       [-2.64670421, -3.15872576, -2.70019962, -2.94548392, -2.87284273,\n",
       "        -3.19864291, -2.72786061, -2.98268051, -2.86868084, -2.47402838],\n",
       "       [-2.72168391, -2.84550844, -3.0575513 , -2.83309612, -2.75365697,\n",
       "        -2.71151543, -2.82985204, -2.89689762, -2.76158721, -2.6527744 ],\n",
       "       [-3.01329805, -2.76323982, -2.84558191, -2.83977201, -2.76311129,\n",
       "        -2.84866066, -2.7978645 , -2.87936782, -2.90173964, -2.73068147],\n",
       "       [-3.2107609 , -3.01997271, -2.6818348 , -2.80576731, -2.78747919,\n",
       "        -2.73724805, -2.99589922, -2.86905289, -2.81578035, -2.78975021]])"
      ]
     },
     "execution_count": 9,
     "metadata": {},
     "output_type": "execute_result"
    }
   ],
   "source": [
    "topics = np.random.gamma(100.,1./100.,(100,10))\n",
    "digamma(topics)"
   ]
  },
  {
   "cell_type": "code",
   "execution_count": null,
   "metadata": {
    "collapsed": true
   },
   "outputs": [],
   "source": []
  }
 ],
 "metadata": {
  "kernelspec": {
   "display_name": "Python 2",
   "language": "python",
   "name": "python2"
  },
  "language_info": {
   "codemirror_mode": {
    "name": "ipython",
    "version": 2
   },
   "file_extension": ".py",
   "mimetype": "text/x-python",
   "name": "python",
   "nbconvert_exporter": "python",
   "pygments_lexer": "ipython2",
   "version": "2.7.10"
  }
 },
 "nbformat": 4,
 "nbformat_minor": 0
}
