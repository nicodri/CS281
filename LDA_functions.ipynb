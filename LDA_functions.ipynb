{
 "cells": [
  {
   "cell_type": "code",
   "execution_count": 1,
   "metadata": {
    "collapsed": true
   },
   "outputs": [],
   "source": [
    "import numpy as np\n",
    "import scipy as sp\n",
    "import scipy.special as spec\n",
    "from sklearn.preprocessing import normalize\n",
    "%matplotlib inline\n",
    "import matplotlib.pyplot as plt"
   ]
  },
  {
   "cell_type": "markdown",
   "metadata": {},
   "source": [
    "# Defining functions:"
   ]
  },
  {
   "cell_type": "code",
   "execution_count": 2,
   "metadata": {
    "collapsed": true
   },
   "outputs": [],
   "source": [
    "def rho(tau,kappa,t):\n",
    "    return (tau+t)**(-kappa)"
   ]
  },
  {
   "cell_type": "code",
   "execution_count": 3,
   "metadata": {
    "collapsed": true
   },
   "outputs": [],
   "source": [
    "def digamma(row):\n",
    "    return spec.psi(row)-spec.psi(np.sum(row))"
   ]
  },
  {
   "cell_type": "code",
   "execution_count": 113,
   "metadata": {
    "collapsed": true
   },
   "outputs": [],
   "source": [
    "def lda(dtm,ntopic,tau,kappa,itemax):\n",
    "    nvoc = dtm.shape[1]\n",
    "    ndoc = dtm.shape[0]\n",
    "    nu = 1./ndoc\n",
    "    alpha = 1.\n",
    "    \n",
    "    topics = np.random.gamma(100.,1./100.,(nvoc,ntopic))\n",
    "    phi = np.random.gamma(100.,1./100.,(nvoc,ntopic))\n",
    "    gamma  = np.random.gamma(100.,1./100.,(ndoc,ntopic))\n",
    "    \n",
    "    intint = 100\n",
    "    idx = range(ndoc)\n",
    "    idx *= int(float(itemax)/ndoc)\n",
    "    np.random.shuffle(idx)\n",
    "    \n",
    "    \n",
    "    for t in range(itemax):\n",
    "        old_topics = topics\n",
    "        doc = idx[t]\n",
    "        ids = np.nonzero(dtm[doc,:])[0]\n",
    "        cts = dtm[doc,ids]\n",
    "        gamma_ = gamma[doc,:]\n",
    "        Elogbeta = np.apply_along_axis(digamma, axis=0, arr=topics)[ids,:]\n",
    "        dott = lambda x: np.dot(x,cts)\n",
    "        for tt in range(intint):\n",
    "            old_gamma_ = gamma_\n",
    "            Elogtheta = digamma(gamma_)\n",
    "            E_sum = Elogbeta + Elogtheta\n",
    "            phi = np.exp(E_sum)/np.exp(E_sum).sum(axis=1)[:, np.newaxis]\n",
    "            gamma_ = alpha + np.apply_along_axis(dott,axis=0,arr=phi)\n",
    "            if np.sqrt(np.mean((gamma_-old_gamma_)**2))<0.0001:\n",
    "                break  \n",
    "        gamma[doc,:] = gamma_\n",
    "        topics_temp = nu + ndoc * phi * dtm[doc,ids][:, np.newaxis]\n",
    "        rt = rho(tau,kappa,t)\n",
    "        topics[ids,:] = (1-rt)*topics[ids,:] + rt*topics_temp\n",
    "    \n",
    "    return topics,gamma,tau,kappa"
   ]
  },
  {
   "cell_type": "code",
   "execution_count": 135,
   "metadata": {
    "collapsed": true
   },
   "outputs": [],
   "source": [
    "def inference(lda,newdocs,ite):\n",
    "    alpha = 1\n",
    "    \n",
    "    topics = lda[0]\n",
    "    tau = lda[2]\n",
    "    kappa = lda[3]\n",
    "    \n",
    "    phi = np.random.gamma(100.,1./100.,(topics.shape))\n",
    "    \n",
    "    if len(newdocs.shape)==1:\n",
    "        gamma_new  = np.random.gamma(100.,1./100.,(1,lda[1].shape[1]))\n",
    "        for it in range(ite):\n",
    "            ids = np.nonzero(newdocs)[0]\n",
    "            cts = newdocs[ids]\n",
    "            gamma_ = gamma_new\n",
    "            Elogbeta = np.apply_along_axis(digamma, axis=0, arr=topics)[ids,:]\n",
    "            dott = lambda x: np.dot(x,cts)\n",
    "            for tt in range(100):\n",
    "                old_gamma_ = gamma_\n",
    "                Elogtheta = digamma(gamma_)\n",
    "                E_sum = Elogbeta + Elogtheta\n",
    "                phi = np.exp(E_sum)/np.exp(E_sum).sum(axis=1)[:, np.newaxis]\n",
    "                gamma_ = alpha + np.apply_along_axis(dott,axis=0,arr=phi)\n",
    "                if np.sqrt(np.mean((gamma_-old_gamma_)**2))<0.0001:\n",
    "                    break  \n",
    "            gamma_new = gamma_\n",
    "            topics_temp = nu +  phi * cts[:, np.newaxis]\n",
    "            rt = rho(tau,kappa,it)\n",
    "            topics[ids,:] = (1-rt)*topics[ids,:] + rt*topics_temp\n",
    "    \n",
    "    else:\n",
    "        gamma_new  = np.random.gamma(100.,1./100.,(newdocs.shape[0],lda[1].shape[1]))\n",
    "        idx = range(newdocs.shape[0])\n",
    "        idx *= ite\n",
    "        np.random.shuffle(idx)\n",
    "        for it in range(len(idx)):\n",
    "            doc = idx[it]\n",
    "            ids = np.nonzero(newdocs[doc,:])[0]\n",
    "            cts = newdocs[doc,ids]\n",
    "            gamma_ = gamma_new[doc,:]\n",
    "            Elogbeta = np.apply_along_axis(digamma, axis=0, arr=topics)[ids,:]\n",
    "            dott = lambda x: np.dot(x,cts)\n",
    "            for tt in range(100):\n",
    "                old_gamma_ = gamma_\n",
    "                Elogtheta = digamma(gamma_)\n",
    "                E_sum = Elogbeta + Elogtheta\n",
    "                phi = np.exp(E_sum)/np.exp(E_sum).sum(axis=1)[:, np.newaxis]\n",
    "                gamma_ = alpha + np.apply_along_axis(dott,axis=0,arr=phi)\n",
    "                if np.sqrt(np.mean((gamma_-old_gamma_)**2))<0.0001:\n",
    "                    break  \n",
    "            gamma_new[doc,:] = gamma_\n",
    "            topics_temp = nu +  phi * cts[:, np.newaxis]\n",
    "            rt = rho(tau,kappa,it)\n",
    "            topics[ids,:] = (1-rt)*topics[ids,:] + rt*topics_temp\n",
    "            \n",
    "    return topics,gamma_new"
   ]
  },
  {
   "cell_type": "code",
   "execution_count": 647,
   "metadata": {
    "collapsed": true
   },
   "outputs": [],
   "source": [
    "def show_topics(lda,whichtopic,topwords,wordlist):\n",
    "    topics = lda[0]\n",
    "    for t in whichtopic:\n",
    "        idx = np.argsort(topics[:,t])[::-1][:topwords].astype(int)\n",
    "        words = []\n",
    "        for i in idx:\n",
    "            words.append(wordlist[i])\n",
    "        print \"Topic %s:\" % t\n",
    "        print \"\"\n",
    "        print words\n",
    "        print \"\""
   ]
  },
  {
   "cell_type": "code",
   "execution_count": 718,
   "metadata": {
    "collapsed": false
   },
   "outputs": [],
   "source": [
    "def perplexity_test(lda,newdocs,ite,perword = False):\n",
    "    \n",
    "    new = inference(lda,newdocs,ite)\n",
    "    \n",
    "    topics = new[0]\n",
    "    gammas = new[1]\n",
    "    \n",
    "    topics = topics/topics.sum(axis=0)\n",
    "    \n",
    "    if len(gammas.shape) == 1:\n",
    "        gammas = gammas/np.sum(gammas)\n",
    "        doc_idx = np.nonzero(newdocs)[0]\n",
    "        doc_cts = newdocs[doc_idx]\n",
    "        return np.exp(-np.log(np.sum(np.dot(topics[doc_idx,:],gammas)*doc_cts))/np.sum(doc_cts))\n",
    "    \n",
    "    else:\n",
    "        norm = lambda x: x/np.sum(x)\n",
    "        gammas = np.apply_along_axis(norm,axis = 1,arr = gammas)\n",
    "        \n",
    "        num = 0\n",
    "        denom = 0\n",
    "        \n",
    "        for i in range(gammas.shape[0]):\n",
    "            doc_idx = np.nonzero(newdocs[i,:])[0]\n",
    "            doc_cts = newdocs[i,doc_idx]\n",
    "            num = np.sum(np.log(np.dot(topics[doc_idx,:],gammas[i,:]))*doc_cts)\n",
    "            denom += np.sum(doc_cts)\n",
    "            \n",
    "        if ~perword:\n",
    "            return num\n",
    "        else:\n",
    "            return num/denom"
   ]
  },
  {
   "cell_type": "code",
   "execution_count": 192,
   "metadata": {
    "collapsed": true
   },
   "outputs": [],
   "source": [
    "def perplexity_train(lda,dtm,docs_id):\n",
    "    \n",
    "    topics = lda[0]/lda[0].sum(axis=0)\n",
    "    gammas = lda[1]/lda[1].sum(axis=1)[:, np.newaxis]\n",
    "    \n",
    "    if isinstance(docs_id, int) or len(docs_id) == 1:\n",
    "        doc_idx = np.nonzero(dtm[docs_id,:])[0]\n",
    "        doc_cts = dtm[docs_id,doc_idx]\n",
    "        return np.exp(-np.log(np.sum(np.dot(topics[doc_idx,:],gammas[docs_id,:])*doc_cts))/np.sum(doc_cts))\n",
    "    \n",
    "    else:\n",
    "        num = 0\n",
    "        denom = 0\n",
    "        \n",
    "        for i in docs_id:\n",
    "            doc_idx = np.nonzero(dtm[i,:])[0]\n",
    "            doc_cts = dtm[docs_id,doc_idx]\n",
    "            num -= np.log(np.sum(np.dot(topics[doc_idx,:],gammas[i,:])*doc_cts))\n",
    "            denom += np.sum(doc_cts)\n",
    "            \n",
    "        return np.exp(num/denom)"
   ]
  },
  {
   "cell_type": "code",
   "execution_count": 677,
   "metadata": {
    "collapsed": false
   },
   "outputs": [],
   "source": [
    "def lda_minibatch(dtm,ntopic,mb_size,tau,kappa,itemax):\n",
    "    nvoc = dtm.shape[1]\n",
    "    ndoc = dtm.shape[0]\n",
    "    nu = 1./ndoc\n",
    "    alpha = 1./ndoc\n",
    "    \n",
    "    topics = np.random.gamma(100.,1./100.,(nvoc,ntopic))\n",
    "    phi = np.random.gamma(100.,1./100.,(nvoc,ntopic))\n",
    "    gamma  = np.random.gamma(100.,1./100.,(ndoc,ntopic))\n",
    "    \n",
    "    intint = 100\n",
    "    idx = range(ndoc)\n",
    "    #np.random.shuffle(idx)\n",
    "    idx *= itemax\n",
    "    #np.random.shuffle(idx)\n",
    "    minibatchesids = np.array_split(idx,len(idx)/mb_size)\n",
    "    \n",
    "    for t in range(len(minibatchesids)):\n",
    "        topics_temp = np.zeros(topics.shape)\n",
    "        indices = []\n",
    "        \n",
    "        for id_ in minibatchesids[t]:\n",
    "            doc = idx[id_]\n",
    "            ids = np.nonzero(dtm[doc,:])[0]\n",
    "            indices.extend(ids)\n",
    "            cts = dtm[doc,ids]\n",
    "            gamma_ = gamma[doc,:]\n",
    "            Elogbeta = np.apply_along_axis(digamma, axis=0, arr=topics)[ids,:]\n",
    "            dott = lambda x: np.dot(x,cts)\n",
    "            \n",
    "            for tt in range(intint):\n",
    "                old_gamma_ = gamma_\n",
    "                Elogtheta = digamma(gamma_)\n",
    "                E_sum = Elogbeta + Elogtheta\n",
    "                phi = np.exp(E_sum)/np.exp(E_sum).sum(axis=1)[:, np.newaxis]\n",
    "                gamma_ = alpha + np.apply_along_axis(dott,axis=0,arr=phi)\n",
    "                if np.sqrt(np.mean((gamma_-old_gamma_)**2))<0.000001:\n",
    "                    break  \n",
    "            gamma[doc,:] = gamma_\n",
    "            topics_temp[ids,:] += phi * dtm[doc,ids][:, np.newaxis]\n",
    "            \n",
    "        indices  = np.unique(indices)\n",
    "        topics_temp[indices,:] = nu + (ndoc/len(minibatchesids[t])) * topics_temp[indices,:]\n",
    "        rt = rho(tau,kappa,t)\n",
    "        topics[indices ,:] = (1-rt)*topics[indices,:] + rt*topics_temp[indices,:]\n",
    "    \n",
    "    return topics,gamma,tau,kappa"
   ]
  },
  {
   "cell_type": "markdown",
   "metadata": {},
   "source": [
    "#Basic testing (Artficial corpuses)"
   ]
  },
  {
   "cell_type": "code",
   "execution_count": 2,
   "metadata": {
    "collapsed": true
   },
   "outputs": [],
   "source": [
    "dtm = np.zeros((100, 100))\n",
    "dtm_ = np.zeros((10, 100))\n",
    "for i in range(10):\n",
    "    dtm_[i,] = [0]*10*i + [10]*10 + [0]*(10*(9-i))\n",
    "for i in range(10):\n",
    "    dtm[10*i:10*(i+1),]= dtm_"
   ]
  },
  {
   "cell_type": "code",
   "execution_count": 250,
   "metadata": {
    "collapsed": false
   },
   "outputs": [
    {
     "name": "stdout",
     "output_type": "stream",
     "text": [
      "CPU times: user 268 ms, sys: 3.46 ms, total: 271 ms\n",
      "Wall time: 281 ms\n"
     ]
    }
   ],
   "source": [
    "%%time\n",
    "test = lda(dtm,10,10,0.5,300)"
   ]
  },
  {
   "cell_type": "code",
   "execution_count": 101,
   "metadata": {
    "collapsed": false
   },
   "outputs": [
    {
     "data": {
      "image/png": "[encoded data removed]",
      "text/plain": [
       "<matplotlib.figure.Figure at 0x10826eb50>"
      ]
     },
     "metadata": {},
     "output_type": "display_data"
    },
    {
     "name": "stdout",
     "output_type": "stream",
     "text": [
      "\n"
     ]
    },
    {
     "data": {
      "image/png": "[encoded data removed]",
      "text/plain": [
       "<matplotlib.figure.Figure at 0x1085e8ed0>"
      ]
     },
     "metadata": {},
     "output_type": "display_data"
    },
    {
     "name": "stdout",
     "output_type": "stream",
     "text": [
      "\n"
     ]
    }
   ],
   "source": [
    "for i in range(2):\n",
    "    plt.plot(range(100),test[0][:,i])\n",
    "    plt.show()\n",
    "    raw_input()\n",
    "    "
   ]
  },
  {
   "cell_type": "code",
   "execution_count": 63,
   "metadata": {
    "collapsed": false
   },
   "outputs": [],
   "source": [
    "new_doc = [0]*100\n",
    "new_doc[:10] = [5]*10\n",
    "new_doc[90:] = [5]*10\n",
    "new_doc = np.array(new_doc)"
   ]
  },
  {
   "cell_type": "code",
   "execution_count": 136,
   "metadata": {
    "collapsed": false
   },
   "outputs": [],
   "source": [
    "test2 = inference(test,new_doc,3)"
   ]
  },
  {
   "cell_type": "code",
   "execution_count": 137,
   "metadata": {
    "collapsed": false
   },
   "outputs": [
    {
     "data": {
      "text/plain": [
       "array([  1.00016538,   1.00205872,   1.00006296,  50.99974546,\n",
       "         1.        ,  50.99794627,   1.        ,   1.00000019,\n",
       "         1.00000194,   1.00001908])"
      ]
     },
     "execution_count": 137,
     "metadata": {},
     "output_type": "execute_result"
    }
   ],
   "source": [
    "test2[1]"
   ]
  },
  {
   "cell_type": "code",
   "execution_count": 140,
   "metadata": {
    "collapsed": false
   },
   "outputs": [],
   "source": [
    "new_docs = np.zeros((2,100))\n",
    "new_docs[0,:10] = [5]*10\n",
    "new_docs[0,90:] = [5]*10\n",
    "new_docs[1,10:20] = [5]*10\n",
    "new_docs[1,80:90] = [5]*10"
   ]
  },
  {
   "cell_type": "code",
   "execution_count": 750,
   "metadata": {
    "collapsed": false
   },
   "outputs": [
    {
     "name": "stdout",
     "output_type": "stream",
     "text": [
      "CPU times: user 3.47 s, sys: 11.3 ms, total: 3.48 s\n",
      "Wall time: 3.49 s\n"
     ]
    }
   ],
   "source": [
    "%%time\n",
    "test4 = lda_minibatch(dtm,10,2,1024,0.9,100)"
   ]
  },
  {
   "cell_type": "code",
   "execution_count": 751,
   "metadata": {
    "collapsed": false
   },
   "outputs": [
    {
     "data": {
      "image/png": "[encoded data removed]",
      "text/plain": [
       "<matplotlib.figure.Figure at 0x10b947fd0>"
      ]
     },
     "metadata": {},
     "output_type": "display_data"
    }
   ],
   "source": [
    "minibatchesids[10]"
   ]
  },
  {
   "cell_type": "code",
   "execution_count": 6,
   "metadata": {
    "collapsed": false
   },
   "outputs": [],
   "source": [
    "def lda_minibatch(dtm,ntopic,mb_size,tau,kappa,itemax):\n",
    "    nvoc = dtm.shape[1]\n",
    "    ndoc = dtm.shape[0]\n",
    "    nu = 1./ndoc\n",
    "    alpha = 1.\n",
    "    \n",
    "    topics = np.random.gamma(100.,1./100.,(nvoc,ntopic))\n",
    "    phi = np.random.gamma(100.,1./100.,(nvoc,ntopic))\n",
    "    gamma  = np.random.gamma(100.,1./100.,(ndoc,ntopic))\n",
    "    \n",
    "    intint = 100\n",
    "    idx = range(ndoc)\n",
    "    #np.random.shuffle(idx)\n",
    "    idx *= itemax\n",
    "    #np.random.shuffle(idx)\n",
    "    minibatchesids = np.array_split(idx,len(idx)/mb_size)\n",
    "    \n",
    "    for t in range(len(minibatchesids)):\n",
    "        topics_temp = np.zeros(topics.shape)\n",
    "        indices = []\n",
    "        \n",
    "        for id_ in minibatchesids[t]:\n",
    "            doc = idx[id_]\n",
    "            ids = np.nonzero(dtm[doc,:])[0]\n",
    "            indices.extend(ids)\n",
    "            cts = dtm[doc,ids]\n",
    "            gamma_ = gamma[doc,:]\n",
    "            Elogbeta = np.apply_along_axis(digamma, axis=0, arr=topics)[ids,:]\n",
    "            dott = lambda x: np.dot(x,cts)\n",
    "            \n",
    "            for tt in range(intint):\n",
    "                old_gamma_ = gamma_\n",
    "                Elogtheta = digamma(gamma_)\n",
    "                E_sum = Elogbeta + Elogtheta\n",
    "                phi = np.exp(E_sum)/np.exp(E_sum).sum(axis=1)[:, np.newaxis]\n",
    "                gamma_ = alpha + np.apply_along_axis(dott,axis=0,arr=phi)\n",
    "                if np.sqrt(np.mean((gamma_-old_gamma_)**2))<0.000001:\n",
    "                    break  \n",
    "            gamma[doc,:] = gamma_\n",
    "            topics_temp[ids,:] += phi * dtm[doc,ids][:, np.newaxis]\n",
    "            \n",
    "        indices  = np.unique(indices)\n",
    "        topics_temp[indices,:] = nu + (ndoc/len(minibatchesids[t])) * topics_temp[indices,:]\n",
    "        rt = rho(tau,kappa,t)\n",
    "        topics[indices ,:] = (1-rt)*topics[indices,:] + rt*topics_temp[indices,:]\n",
    "    \n",
    "    return topics,gamma,tau,kappa"
   ]
  },
  {
   "cell_type": "code",
   "execution_count": 17,
   "metadata": {
    "collapsed": false
   },
   "outputs": [
    {
     "name": "stdout",
     "output_type": "stream",
     "text": [
      "CPU times: user 10.8 s, sys: 96.6 ms, total: 10.9 s\n",
      "Wall time: 11.1 s\n"
     ]
    }
   ],
   "source": [
    "%%time\n",
    "test5 = lda_minibatch(corpus,9,1,512,0.9,100)"
   ]
  },
  {
   "cell_type": "code",
   "execution_count": 18,
   "metadata": {
    "collapsed": false
   },
   "outputs": [
    {
     "data": {
      "image/png": "[encoded data removed]",
      "text/plain": [
       "<matplotlib.figure.Figure at 0x10836fdd0>"
      ]
     },
     "metadata": {},
     "output_type": "display_data"
    }
   ],
   "source": [
    "for i in range(9):\n",
    "    plt.plot(range(450),test5[0][:,i])\n",
    "plt.show()"
   ]
  },
  {
   "cell_type": "code",
   "execution_count": 719,
   "metadata": {
    "collapsed": false
   },
   "outputs": [
    {
     "data": {
      "text/plain": [
       "-2063.5199273810185"
      ]
     },
     "execution_count": 719,
     "metadata": {},
     "output_type": "execute_result"
    }
   ],
   "source": [
    "perplexity_test(test5,corpus[80:,:],100)"
   ]
  },
  {
   "cell_type": "code",
   "execution_count": 694,
   "metadata": {
    "collapsed": false
   },
   "outputs": [
    {
     "data": {
      "image/png": "[encoded data removed]",
      "text/plain": [
       "<matplotlib.figure.Figure at 0x10a820710>"
      ]
     },
     "metadata": {},
     "output_type": "display_data"
    },
    {
     "name": "stdout",
     "output_type": "stream",
     "text": [
      "\n"
     ]
    },
    {
     "data": {
      "image/png": "[encoded data removed]",
      "text/plain": [
       "<matplotlib.figure.Figure at 0x10ff97f10>"
      ]
     },
     "metadata": {},
     "output_type": "display_data"
    },
    {
     "name": "stdout",
     "output_type": "stream",
     "text": [
      "\n"
     ]
    },
    {
     "data": {
      "image/png": "[encoded data removed]",
      "text/plain": [
       "<matplotlib.figure.Figure at 0x10b037c90>"
      ]
     },
     "metadata": {},
     "output_type": "display_data"
    },
    {
     "name": "stdout",
     "output_type": "stream",
     "text": [
      "\n"
     ]
    },
    {
     "data": {
      "image/png": "[encoded data removed]",
      "text/plain": [
       "<matplotlib.figure.Figure at 0x11006d190>"
      ]
     },
     "metadata": {},
     "output_type": "display_data"
    },
    {
     "name": "stdout",
     "output_type": "stream",
     "text": [
      "\n"
     ]
    },
    {
     "data": {
      "image/png": "[encoded data removed]",
      "text/plain": [
       "<matplotlib.figure.Figure at 0x10b03d4d0>"
      ]
     },
     "metadata": {},
     "output_type": "display_data"
    },
    {
     "name": "stdout",
     "output_type": "stream",
     "text": [
      "\n"
     ]
    },
    {
     "data": {
      "image/png": "[encoded data removed]",
      "text/plain": [
       "<matplotlib.figure.Figure at 0x10b3cb5d0>"
      ]
     },
     "metadata": {},
     "output_type": "display_data"
    },
    {
     "name": "stdout",
     "output_type": "stream",
     "text": [
      "\n"
     ]
    },
    {
     "data": {
      "image/png": "[encoded data removed]",
      "text/plain": [
       "<matplotlib.figure.Figure at 0x1101b09d0>"
      ]
     },
     "metadata": {},
     "output_type": "display_data"
    },
    {
     "name": "stdout",
     "output_type": "stream",
     "text": [
      "\n"
     ]
    },
    {
     "data": {
      "image/png": "[encoded data removed]",
      "text/plain": [
       "<matplotlib.figure.Figure at 0x1101d6610>"
      ]
     },
     "metadata": {},
     "output_type": "display_data"
    },
    {
     "name": "stdout",
     "output_type": "stream",
     "text": [
      "\n"
     ]
    },
    {
     "data": {
      "image/png": "[encoded data removed]",
      "text/plain": [
       "<matplotlib.figure.Figure at 0x10b947450>"
      ]
     },
     "metadata": {},
     "output_type": "display_data"
    },
    {
     "name": "stdout",
     "output_type": "stream",
     "text": [
      "\n"
     ]
    },
    {
     "data": {
      "image/png": "[encoded data removed]",
      "text/plain": [
       "<matplotlib.figure.Figure at 0x10afe5bd0>"
      ]
     },
     "metadata": {},
     "output_type": "display_data"
    },
    {
     "name": "stdout",
     "output_type": "stream",
     "text": [
      "\n"
     ]
    }
   ],
   "source": [
    "for i in range(10,20):\n",
    "    plt.plot(range(9),test5[1][i,:]/sum(test5[1][i,:]))\n",
    "    plt.show()\n",
    "    raw_input()"
   ]
  },
  {
   "cell_type": "markdown",
   "metadata": {},
   "source": [
    "# Test on Edimburgh words "
   ]
  },
  {
   "cell_type": "code",
   "execution_count": 592,
   "metadata": {
    "collapsed": false
   },
   "outputs": [],
   "source": [
    "import json\n",
    "with open('temp/edinburgh_word_adjective.json', 'r') as fp:\n",
    "    edi = json.load(fp)"
   ]
  },
  {
   "cell_type": "code",
   "execution_count": 594,
   "metadata": {
    "collapsed": false
   },
   "outputs": [],
   "source": [
    "r0 = edi.keys()[0]"
   ]
  },
  {
   "cell_type": "code",
   "execution_count": 600,
   "metadata": {
    "collapsed": false
   },
   "outputs": [],
   "source": [
    "vocab = []\n",
    "for i in edi.keys():\n",
    "    vocab.extend(edi[i][0][0])"
   ]
  },
  {
   "cell_type": "code",
   "execution_count": 602,
   "metadata": {
    "collapsed": false
   },
   "outputs": [
    {
     "data": {
      "text/plain": [
       "13224"
      ]
     },
     "execution_count": 602,
     "metadata": {},
     "output_type": "execute_result"
    }
   ],
   "source": [
    "vocab = list(set(vocab))\n",
    "len(vocab)"
   ]
  },
  {
   "cell_type": "code",
   "execution_count": 4,
   "metadata": {
    "collapsed": true
   },
   "outputs": [],
   "source": [
    "word_to_index  = dict(zip(vocab,range(len(vocab))))\n",
    "index_to_word = dict(zip(range(len(vocab)),vocab))"
   ]
  },
  {
   "cell_type": "code",
   "execution_count": 618,
   "metadata": {
    "collapsed": false
   },
   "outputs": [],
   "source": [
    "bid_to_index = dict(zip(edi.keys(),range(len(edi.keys()))))\n",
    "index_to_bid = dict(zip(range(len(edi.keys())),edi.keys()))"
   ]
  },
  {
   "cell_type": "code",
   "execution_count": 609,
   "metadata": {
    "collapsed": false
   },
   "outputs": [],
   "source": [
    "import collections\n",
    "from scipy import sparse\n",
    "\n",
    "nonzero_data = []\n",
    "rows_s = []\n",
    "cols_s = []\n",
    "\n",
    "for k in edi.keys():\n",
    "    counter = collections.Counter(edi[k][0][0])\n",
    "    nonzero_data += counter.values()\n",
    "    rows_s += [bid_to_index[k]]*len(counter.values())\n",
    "    cols_s += [word_to_index[ck] for ck in counter.keys()]\n",
    "\n",
    "sparse_mat = sparse.csc_matrix((nonzero_data,(rows_s,cols_s)),shape = (len(bid_to_index),len(word_to_index)))"
   ]
  },
  {
   "cell_type": "code",
   "execution_count": 613,
   "metadata": {
    "collapsed": true
   },
   "outputs": [],
   "source": [
    "dtm_edi = sparse_mat.toarray()"
   ]
  },
  {
   "cell_type": "code",
   "execution_count": 621,
   "metadata": {
    "collapsed": false
   },
   "outputs": [
    {
     "data": {
      "text/plain": [
       "numpy.ndarray"
      ]
     },
     "execution_count": 621,
     "metadata": {},
     "output_type": "execute_result"
    }
   ],
   "source": [
    "type(dtm_edi)"
   ]
  },
  {
   "cell_type": "code",
   "execution_count": 649,
   "metadata": {
    "collapsed": false
   },
   "outputs": [
    {
     "name": "stdout",
     "output_type": "stream",
     "text": [
      "CPU times: user 5min 27s, sys: 2.14 s, total: 5min 29s\n",
      "Wall time: 5min 34s\n"
     ]
    }
   ],
   "source": [
    "%%time\n",
    "test_edi = lda_minibatch(dtm_edi,10,1,1024,0.9,50)"
   ]
  },
  {
   "cell_type": "code",
   "execution_count": 652,
   "metadata": {
    "collapsed": false
   },
   "outputs": [
    {
     "name": "stdout",
     "output_type": "stream",
     "text": [
      "Topic 0:\n",
      "\n",
      "[u'plank', u'enfant', u'assez', u'\\xe7a', u'rissoto', u'taglioni', u'fran\\xe7ais', u'les', u'pager', u'blade']\n",
      "\n",
      "Topic 1:\n",
      "\n",
      "[u'flavoury', u'mozzeralla', u'subway', u'papilio', u'vinyl', u'waverley', u'deliberate', u'shredder', u'toss', u'heather']\n",
      "\n",
      "Topic 2:\n",
      "\n",
      "[u'volunteer', u'workshop', u'subway', u'documentary', u'hygeine', u'scorn', u'human', u'hallucination', u'elitism', u'alrightttt']\n",
      "\n",
      "Topic 3:\n",
      "\n",
      "[u'war', u'da', u'immer', u'dass', u'es', u'alle', u'mit', u'f\\xfcr', u'sich', u'zum']\n",
      "\n",
      "Topic 4:\n",
      "\n",
      "[u'food', u'place', u'burger', u'bar', u'restaurant', u'menu', u'pub', u'time', u'cocktail', u'dish']\n",
      "\n",
      "Topic 5:\n",
      "\n",
      "[u'hooligan', u'\\xa36.99', u'inte', u'ta', u'divide', u'hinterher', u'einen', u'blank', u'froh', u'du']\n",
      "\n",
      "Topic 6:\n",
      "\n",
      "[u'kilo', u'einer', u'zwar', u'gro\\xdfe', u'moule', u'tapferen', u'toujour', u'quickie', u'empfohlen', u'coeur']\n",
      "\n",
      "Topic 7:\n",
      "\n",
      "[u'subway', u'tipi', u'kids.it', u'princess', u'spud-u-like', u'reeeeeaaaaally', u'menu.thi', u'sniffer', u'macaron', u'workshop']\n",
      "\n",
      "Topic 8:\n",
      "\n",
      "[u'si', u'il', u'lion', u'tu', u'oink', u'boerwor', u'opci\\xf3n', u'boerewor', u'locale', u'los']\n",
      "\n",
      "Topic 9:\n",
      "\n",
      "[u'tipi', u'vinyl', u'subway', u'kids.it', u'flavoury', u'infront', u'pleine', u'diff\\xe9rente', u't\\xe9l\\xe9phon\\xe9', u'avon']\n",
      "\n"
     ]
    }
   ],
   "source": [
    "show_topics(test_edi,range(10),10,[w for w in vocab])"
   ]
  },
  {
   "cell_type": "code",
   "execution_count": 653,
   "metadata": {
    "collapsed": true
   },
   "outputs": [],
   "source": [
    "nonzero_data = []\n",
    "rows_s = []\n",
    "cols_s = []\n",
    "\n",
    "for k in edi.keys():\n",
    "    countergeq5 = collections.Counter(edi[k][0][0])\n",
    "    countergeq5 = counter.values()\n",
    "    countergeq5[countergeq5<5] = 0\n",
    "    nonzero_data += countergeq5\n",
    "    rows_s += [bid_to_index[k]]*len(counter.values())\n",
    "    cols_s += [word_to_index[ck] for ck in counter.keys()]\n",
    "\n",
    "sparse_mat2 = sparse.csc_matrix((nonzero_data,(rows_s,cols_s)),shape = (len(bid_to_index),len(word_to_index)))"
   ]
  },
  {
   "cell_type": "code",
   "execution_count": 655,
   "metadata": {
    "collapsed": true
   },
   "outputs": [],
   "source": [
    "dtm_edi2 = sparse_mat2.toarray()"
   ]
  },
  {
   "cell_type": "code",
   "execution_count": 671,
   "metadata": {
    "collapsed": false
   },
   "outputs": [
    {
     "name": "stdout",
     "output_type": "stream",
     "text": [
      "CPU times: user 4min 16s, sys: 2.43 s, total: 4min 18s\n",
      "Wall time: 4min 25s\n"
     ]
    }
   ],
   "source": [
    "%%time\n",
    "test_edi2 = lda_minibatch(dtm_edi2[:550,:],10,1,1024,0.9,50)"
   ]
  },
  {
   "cell_type": "code",
   "execution_count": 672,
   "metadata": {
    "collapsed": false
   },
   "outputs": [
    {
     "name": "stdout",
     "output_type": "stream",
     "text": [
      "Topic 0:\n",
      "\n",
      "[u'apparatus', u'distraction', u'\\xa33.60', u'i.j', u'mensen', u'elderflower', u'peeps', u'herring', u'stud', u'soooooo']\n",
      "\n",
      "Topic 1:\n",
      "\n",
      "[u'australian', u'optimism', u'burgh', u'worry', u'regularity', u'bar-eaterie', u'personalisation', u'cubit', u'funghi', u'rincette']\n",
      "\n",
      "Topic 2:\n",
      "\n",
      "[u'offal', u'semi-icy', u'kwijt', u'littering', u'digestif', u'pillar', u'detractor', u'\\xa31.00', u'lived-in', u'\\xa35.25']\n",
      "\n",
      "Topic 3:\n",
      "\n",
      "[u'well-drawn', u'window-bench', u'protester', u'woo-hoo', u'sticking', u'homeliest', u'barbajuan', u'teatime', u'patchwork', u'browny']\n",
      "\n",
      "Topic 4:\n",
      "\n",
      "[u'shite', u'matin', u'cummin', u'host', u'envelope', u'didn;t', u'wheaty', u'mentality', u'insider', u'\\xa37']\n",
      "\n",
      "Topic 5:\n",
      "\n",
      "[u'tempurad', u'peroni', u'dancing', u'mash', u'oyster', u'caliber', u'cosiness', u'cheeriest', u'sex', u'delicious-sounding']\n",
      "\n",
      "Topic 6:\n",
      "\n",
      "[u'food', u'place', u'dish', u'service', u'bit', u'vegetable', u'time', u'restaurant', u'rice', u'pickle']\n",
      "\n",
      "Topic 7:\n",
      "\n",
      "[u'briefing', u'kofte', u'swing-top', u'coinage', u'bistro', u'smokiness', u'cinema', u'dignity', u'addlestone', u'wait-staff']\n",
      "\n",
      "Topic 8:\n",
      "\n",
      "[u'pre-going', u'unease', u'trace', u'check', u'gaze', u'hebben', u'pipin', u'bar-like', u'wait-staff', u'clear']\n",
      "\n",
      "Topic 9:\n",
      "\n",
      "[u'off-night', u'september', u'monterey', u'fast', u'unfilling', u'dietry', u'snacking', u'visitors-so', u'top-choice', u'penalty']\n",
      "\n"
     ]
    }
   ],
   "source": [
    "show_topics(test_edi2,range(10),10,vocab)"
   ]
  },
  {
   "cell_type": "code",
   "execution_count": 673,
   "metadata": {
    "collapsed": false
   },
   "outputs": [
    {
     "data": {
      "text/plain": [
       "1.001833442466175"
      ]
     },
     "execution_count": 673,
     "metadata": {},
     "output_type": "execute_result"
    }
   ],
   "source": [
    "perplexity_test(test_edi2,dtm_edi2[550:,:],50)"
   ]
  },
  {
   "cell_type": "code",
   "execution_count": 674,
   "metadata": {
    "collapsed": true
   },
   "outputs": [],
   "source": [
    "test_edi3 = lda_minibatch(dtm_edi2[:550,:],1,1,1024,0.9,50)"
   ]
  },
  {
   "cell_type": "code",
   "execution_count": 752,
   "metadata": {
    "collapsed": false
   },
   "outputs": [
    {
     "data": {
      "text/plain": [
       "-2812.8394423396931"
      ]
     },
     "execution_count": 752,
     "metadata": {},
     "output_type": "execute_result"
    }
   ],
   "source": [
    "perplexity_test(test_edi3,dtm_edi2[550:,:],50)"
   ]
  },
  {
   "cell_type": "code",
   "execution_count": 753,
   "metadata": {
    "collapsed": true
   },
   "outputs": [],
   "source": [
    "test_edi4 = lda_minibatch(dtm_edi2[:550,:],1,1,1024,0.7,50)"
   ]
  },
  {
   "cell_type": "code",
   "execution_count": 754,
   "metadata": {
    "collapsed": false
   },
   "outputs": [
    {
     "data": {
      "text/plain": [
       "-2849.6234606686303"
      ]
     },
     "execution_count": 754,
     "metadata": {},
     "output_type": "execute_result"
    }
   ],
   "source": [
    "perplexity_test(test_edi4,dtm_edi2[550:,:],50)"
   ]
  }
 ],
 "metadata": {
  "kernelspec": {
   "display_name": "Python 2",
   "language": "python",
   "name": "python2"
  },
  "language_info": {
   "codemirror_mode": {
    "name": "ipython",
    "version": 2
   },
   "file_extension": ".py",
   "mimetype": "text/x-python",
   "name": "python",
   "nbconvert_exporter": "python",
   "pygments_lexer": "ipython2",
   "version": "2.7.9"
  }
 },
 "nbformat": 4,
 "nbformat_minor": 0
}
