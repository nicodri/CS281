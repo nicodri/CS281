{
 "cells": [
  {
   "cell_type": "code",
   "execution_count": 1,
   "metadata": {
    "collapsed": true
   },
   "outputs": [],
   "source": [
    "import numpy as np\n",
    "import scipy as sp\n",
    "import scipy.special as spec\n",
    "from sklearn.preprocessing import normalize\n",
    "%matplotlib inline\n",
    "import matplotlib.pyplot as plt"
   ]
  },
  {
   "cell_type": "code",
   "execution_count": 3,
   "metadata": {
    "collapsed": true
   },
   "outputs": [],
   "source": [
    "def rho(tau,kappa,t):\n",
    "    return (tau+t)**(-kappa)"
   ]
  },
  {
   "cell_type": "code",
   "execution_count": 4,
   "metadata": {
    "collapsed": true
   },
   "outputs": [],
   "source": [
    "def digamma(row):\n",
    "    return spec.psi(row)-spec.psi(np.sum(row))"
   ]
  },
  {
   "cell_type": "code",
   "execution_count": 113,
   "metadata": {
    "collapsed": true
   },
   "outputs": [],
   "source": [
    "def lda(dtm,ntopic,tau,kappa,itemax):\n",
    "    nvoc = dtm.shape[1]\n",
    "    ndoc = dtm.shape[0]\n",
    "    nu = 1./ndoc\n",
    "    alpha = 1.\n",
    "    \n",
    "    topics = np.random.gamma(100.,1./100.,(nvoc,ntopic))\n",
    "    phi = np.random.gamma(100.,1./100.,(nvoc,ntopic))\n",
    "    gamma  = np.random.gamma(100.,1./100.,(ndoc,ntopic))\n",
    "    \n",
    "    intint = 100\n",
    "    idx = range(ndoc)\n",
    "    idx *= int(float(itemax)/ndoc)\n",
    "    np.random.shuffle(idx)\n",
    "    \n",
    "    \n",
    "    for t in range(itemax):\n",
    "        old_topics = topics\n",
    "        doc = idx[t]\n",
    "        ids = np.nonzero(dtm[doc,:])[0]\n",
    "        cts = dtm[doc,ids]\n",
    "        gamma_ = gamma[doc,:]\n",
    "        Elogbeta = np.apply_along_axis(digamma, axis=0, arr=topics)[ids,:]\n",
    "        dott = lambda x: np.dot(x,cts)\n",
    "        for tt in range(intint):\n",
    "            old_gamma_ = gamma_\n",
    "            Elogtheta = digamma(gamma_)\n",
    "            E_sum = Elogbeta + Elogtheta\n",
    "            phi = np.exp(E_sum)/np.exp(E_sum).sum(axis=1)[:, np.newaxis]\n",
    "            gamma_ = alpha + np.apply_along_axis(dott,axis=0,arr=phi)\n",
    "            if np.sqrt(np.mean((gamma_-old_gamma_)**2))<0.0001:\n",
    "                break  \n",
    "        gamma[doc,:] = gamma_\n",
    "        topics_temp = nu + ndoc * phi * dtm[doc,ids][:, np.newaxis]\n",
    "        rt = rho(tau,kappa,t)\n",
    "        topics[ids,:] = (1-rt)*topics[ids,:] + rt*topics_temp\n",
    "    \n",
    "    return topics,gamma,tau,kappa"
   ]
  },
  {
   "cell_type": "code",
   "execution_count": 135,
   "metadata": {
    "collapsed": true
   },
   "outputs": [],
   "source": [
    "def inference(lda,newdocs,ite):\n",
    "    alpha = 1\n",
    "    \n",
    "    topics = lda[0]\n",
    "    tau = lda[2]\n",
    "    kappa = lda[3]\n",
    "    \n",
    "    phi = np.random.gamma(100.,1./100.,(topics.shape))\n",
    "    \n",
    "    if len(newdocs.shape)==1:\n",
    "        gamma_new  = np.random.gamma(100.,1./100.,(1,lda[1].shape[1]))\n",
    "        for it in range(ite):\n",
    "            ids = np.nonzero(newdocs)[0]\n",
    "            cts = newdocs[ids]\n",
    "            gamma_ = gamma_new\n",
    "            Elogbeta = np.apply_along_axis(digamma, axis=0, arr=topics)[ids,:]\n",
    "            dott = lambda x: np.dot(x,cts)\n",
    "            for tt in range(100):\n",
    "                old_gamma_ = gamma_\n",
    "                Elogtheta = digamma(gamma_)\n",
    "                E_sum = Elogbeta + Elogtheta\n",
    "                phi = np.exp(E_sum)/np.exp(E_sum).sum(axis=1)[:, np.newaxis]\n",
    "                gamma_ = alpha + np.apply_along_axis(dott,axis=0,arr=phi)\n",
    "                if np.sqrt(np.mean((gamma_-old_gamma_)**2))<0.0001:\n",
    "                    break  \n",
    "            gamma_new = gamma_\n",
    "            topics_temp = nu +  phi * cts[:, np.newaxis]\n",
    "            rt = rho(tau,kappa,it)\n",
    "            topics[ids,:] = (1-rt)*topics[ids,:] + rt*topics_temp\n",
    "    \n",
    "    else:\n",
    "        gamma_new  = np.random.gamma(100.,1./100.,(newdocs.shape[0],lda[1].shape[1]))\n",
    "        idx = range(newdocs.shape[0])\n",
    "        idx *= ite\n",
    "        np.random.shuffle(idx)\n",
    "        for it in range(len(idx)):\n",
    "            doc = idx[it]\n",
    "            ids = np.nonzero(newdocs[doc,:])[0]\n",
    "            cts = newdocs[doc,ids]\n",
    "            gamma_ = gamma_new[doc,:]\n",
    "            Elogbeta = np.apply_along_axis(digamma, axis=0, arr=topics)[ids,:]\n",
    "            dott = lambda x: np.dot(x,cts)\n",
    "            for tt in range(100):\n",
    "                old_gamma_ = gamma_\n",
    "                Elogtheta = digamma(gamma_)\n",
    "                E_sum = Elogbeta + Elogtheta\n",
    "                phi = np.exp(E_sum)/np.exp(E_sum).sum(axis=1)[:, np.newaxis]\n",
    "                gamma_ = alpha + np.apply_along_axis(dott,axis=0,arr=phi)\n",
    "                if np.sqrt(np.mean((gamma_-old_gamma_)**2))<0.0001:\n",
    "                    break  \n",
    "            gamma_new[doc,:] = gamma_\n",
    "            topics_temp = nu +  phi * cts[:, np.newaxis]\n",
    "            rt = rho(tau,kappa,it)\n",
    "            topics[ids,:] = (1-rt)*topics[ids,:] + rt*topics_temp\n",
    "            \n",
    "    return topics,gamma_new"
   ]
  },
  {
   "cell_type": "code",
   "execution_count": 145,
   "metadata": {
    "collapsed": true
   },
   "outputs": [],
   "source": [
    "def show_topics(lda,whichtopic,topwords,wordlist):\n",
    "    topics = lda[0]\n",
    "    for t in whichtopic:\n",
    "        idx = np.argsort(t)[::-1][:topwords]\n",
    "        words  = wordlist[idx]\n",
    "        print \"Topic %s:\" % t\n",
    "        print \"\"\n",
    "        print words\n",
    "        print \"\""
   ]
  },
  {
   "cell_type": "code",
   "execution_count": 2,
   "metadata": {
    "collapsed": true
   },
   "outputs": [],
   "source": [
    "dtm = np.zeros((100, 100))\n",
    "dtm_ = np.zeros((10, 100))\n",
    "for i in range(10):\n",
    "    dtm_[i,] = [0]*10*i + [10]*10 + [0]*(10*(9-i))\n",
    "for i in range(10):\n",
    "    dtm[10*i:10*(i+1),]= dtm_"
   ]
  },
  {
   "cell_type": "code",
   "execution_count": 114,
   "metadata": {
    "collapsed": false
   },
   "outputs": [],
   "source": [
    "test = lda(dtm,10,10,0.5,300)"
   ]
  },
  {
   "cell_type": "code",
   "execution_count": 101,
   "metadata": {
    "collapsed": false
   },
   "outputs": [
    {
     "data": {
      "image/png": "[encoded data removed]",
      "text/plain": [
       "<matplotlib.figure.Figure at 0x10826eb50>"
      ]
     },
     "metadata": {},
     "output_type": "display_data"
    },
    {
     "name": "stdout",
     "output_type": "stream",
     "text": [
      "\n"
     ]
    },
    {
     "data": {
      "image/png": "[encoded data removed]",
      "text/plain": [
       "<matplotlib.figure.Figure at 0x1085e8ed0>"
      ]
     },
     "metadata": {},
     "output_type": "display_data"
    },
    {
     "name": "stdout",
     "output_type": "stream",
     "text": [
      "\n"
     ]
    }
   ],
   "source": [
    "for i in range(2):\n",
    "    plt.plot(range(100),test[0][:,i])\n",
    "    plt.show()\n",
    "    raw_input()\n",
    "    "
   ]
  },
  {
   "cell_type": "code",
   "execution_count": 63,
   "metadata": {
    "collapsed": false
   },
   "outputs": [],
   "source": [
    "new_doc = [0]*100\n",
    "new_doc[:10] = [5]*10\n",
    "new_doc[90:] = [5]*10\n",
    "new_doc = np.array(new_doc)"
   ]
  },
  {
   "cell_type": "code",
   "execution_count": 136,
   "metadata": {
    "collapsed": false
   },
   "outputs": [],
   "source": [
    "test2 = inference(test,new_doc,3)"
   ]
  },
  {
   "cell_type": "code",
   "execution_count": 137,
   "metadata": {
    "collapsed": false
   },
   "outputs": [
    {
     "data": {
      "text/plain": [
       "array([  1.00016538,   1.00205872,   1.00006296,  50.99974546,\n",
       "         1.        ,  50.99794627,   1.        ,   1.00000019,\n",
       "         1.00000194,   1.00001908])"
      ]
     },
     "execution_count": 137,
     "metadata": {},
     "output_type": "execute_result"
    }
   ],
   "source": [
    "test2[1]"
   ]
  },
  {
   "cell_type": "code",
   "execution_count": 140,
   "metadata": {
    "collapsed": false
   },
   "outputs": [],
   "source": [
    "new_docs = np.zeros((2,100))\n",
    "new_docs[0,:10] = [5]*10\n",
    "new_docs[0,90:] = [5]*10\n",
    "new_docs[1,10:20] = [5]*10\n",
    "new_docs[1,80:90] = [5]*10"
   ]
  },
  {
   "cell_type": "code",
   "execution_count": 142,
   "metadata": {
    "collapsed": false
   },
   "outputs": [],
   "source": [
    "test3 = inference(test,new_docs,3)"
   ]
  },
  {
   "cell_type": "code",
   "execution_count": 192,
   "metadata": {
    "collapsed": true
   },
   "outputs": [],
   "source": [
    "def perplexity_train(lda,dtm,docs_id):\n",
    "    \n",
    "    topics = lda[0]/lda[0].sum(axis=0)\n",
    "    gammas = lda[1]/lda[1].sum(axis=1)[:, np.newaxis]\n",
    "    \n",
    "    if isinstance(docs_id, int) or len(docs_id) == 1:\n",
    "        doc_idx = np.nonzero(dtm[docs_id,:])[0]\n",
    "        doc_cts = dtm[docs_id,doc_idx]\n",
    "        return np.exp(-np.log(np.sum(np.dot(topics[doc_idx,:],gammas[docs_id,:])*doc_cts))/np.sum(doc_cts))\n",
    "    \n",
    "    else:\n",
    "        num = 0\n",
    "        denom = 0\n",
    "        \n",
    "        for i in docs_id:\n",
    "            doc_idx = np.nonzero(dtm[i,:])[0]\n",
    "            doc_cts = dtm[docs_id,doc_idx]\n",
    "            num -= np.log(np.sum(np.dot(topics[doc_idx,:],gammas[i,:])*doc_cts))\n",
    "            denom += np.sum(doc_cts)\n",
    "            \n",
    "        return np.exp(num/denom)"
   ]
  },
  {
   "cell_type": "code",
   "execution_count": 204,
   "metadata": {
    "collapsed": true
   },
   "outputs": [],
   "source": [
    "def perplexity_test(lda,newdocs,ite):\n",
    "    \n",
    "    new = inference(lda,newdocs,ite)\n",
    "    \n",
    "    topics = new[0]\n",
    "    gammas = new[1]\n",
    "    \n",
    "    topics = topics/topics.sum(axis=0)\n",
    "    \n",
    "    if len(gammas.shape) == 1:\n",
    "        gammas = gammas/np.sum(gammas)\n",
    "        doc_idx = np.nonzero(newdocs)[0]\n",
    "        doc_cts = newdocs[doc_idx]\n",
    "        return np.exp(-np.log(np.sum(np.dot(topics[doc_idx,:],gammas)*doc_cts))/np.sum(doc_cts))\n",
    "    \n",
    "    else:\n",
    "        gammas = gammas/gammas.sum(axis=1)[:, np.newaxis]\n",
    "        \n",
    "        num = 0\n",
    "        denom = 0\n",
    "        \n",
    "        for i in range(gammas.shape[0]):\n",
    "            doc_idx = np.nonzero(newdocs[i,:])[0]\n",
    "            doc_cts = newdocs[i,doc_idx]\n",
    "            num -= np.log(np.sum(np.dot(topics[doc_idx,:],gammas[i,:])*doc_cts))\n",
    "            denom += np.sum(doc_cts)\n",
    "            \n",
    "        return np.exp(num/denom)"
   ]
  }
 ],
 "metadata": {
  "kernelspec": {
   "display_name": "Python 2",
   "language": "python",
   "name": "python2"
  },
  "language_info": {
   "codemirror_mode": {
    "name": "ipython",
    "version": 2
   },
   "file_extension": ".py",
   "mimetype": "text/x-python",
   "name": "python",
   "nbconvert_exporter": "python",
   "pygments_lexer": "ipython2",
   "version": "2.7.10"
  }
 },
 "nbformat": 4,
 "nbformat_minor": 0
}
