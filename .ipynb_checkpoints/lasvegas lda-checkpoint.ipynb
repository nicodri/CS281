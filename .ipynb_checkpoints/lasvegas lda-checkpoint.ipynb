{
 "cells": [
  {
   "cell_type": "markdown",
   "metadata": {},
   "source": [
    "# LAS VEGAS: LDA"
   ]
  },
  {
   "cell_type": "code",
   "execution_count": 1,
   "metadata": {
    "collapsed": true
   },
   "outputs": [],
   "source": [
    "import sys\n",
    "sys.path.append('/Library/Frameworks/Python.framework/Versions/2.7/lib/python2.7/site-packages')"
   ]
  },
  {
   "cell_type": "code",
   "execution_count": 2,
   "metadata": {
    "collapsed": true
   },
   "outputs": [],
   "source": [
    "import LDA\n",
    "import lda\n",
    "import time\n",
    "import numpy as np\n",
    "import matplotlib.pyplot as plt\n",
    "from scipy.special import psi\n",
    "import collections\n",
    "import json\n",
    "from scipy import sparse\n",
    "import sklearn.cluster\n",
    "import sklearn.decomposition"
   ]
  },
  {
   "cell_type": "code",
   "execution_count": 541,
   "metadata": {
    "collapsed": true
   },
   "outputs": [],
   "source": [
    "%matplotlib inline\n",
    "import matplotlib.pyplot as plt"
   ]
  },
  {
   "cell_type": "markdown",
   "metadata": {},
   "source": [
    "### Loading the data:"
   ]
  },
  {
   "cell_type": "markdown",
   "metadata": {},
   "source": [
    "Loading the data for Las vegas:"
   ]
  },
  {
   "cell_type": "code",
   "execution_count": 4,
   "metadata": {
    "collapsed": false
   },
   "outputs": [],
   "source": [
    "with open('../Zipped_data_LV/lasvegas_word_adjective.json', 'r') as fp:\n",
    "    lv_wadj = json.load(fp)"
   ]
  },
  {
   "cell_type": "markdown",
   "metadata": {},
   "source": [
    "Creating the vocabulary list with words present at least 10 times in all the reviews:"
   ]
  },
  {
   "cell_type": "code",
   "execution_count": 6,
   "metadata": {
    "collapsed": false
   },
   "outputs": [],
   "source": [
    "vocab = []\n",
    "for i in lv_wadj.keys():\n",
    "    vocab.extend(lv_wadj[i][0][0])\n",
    "import collections\n",
    "lv_vocab10 = []\n",
    "d = collections.Counter(vocab)\n",
    "for w in vocab:\n",
    "    if d[w]>=10:\n",
    "        lv_vocab10.append(w)\n",
    "lv_vocab10 = list(set(lv_vocab10)) "
   ]
  },
  {
   "cell_type": "code",
   "execution_count": 235,
   "metadata": {
    "collapsed": false
   },
   "outputs": [
    {
     "data": {
      "text/plain": [
       "10364"
      ]
     },
     "execution_count": 235,
     "metadata": {},
     "output_type": "execute_result"
    }
   ],
   "source": [
    "len(lv_vocab10)"
   ]
  },
  {
   "cell_type": "code",
   "execution_count": 614,
   "metadata": {
    "collapsed": true
   },
   "outputs": [],
   "source": [
    "np.save('temp/lv_vocab10.npy',lv_vocab10)"
   ]
  },
  {
   "cell_type": "markdown",
   "metadata": {},
   "source": [
    "Creating dictionaries to map bid to an index and words to index:"
   ]
  },
  {
   "cell_type": "code",
   "execution_count": 236,
   "metadata": {
    "collapsed": false
   },
   "outputs": [],
   "source": [
    "lv_word_to_index  = dict(zip(lv_vocab10,range(len(lv_vocab10))))\n",
    "lv_index_to_word = dict(zip(range(len(lv_vocab10)),lv_vocab10))\n",
    "lv_bid_to_index = dict(zip(lv_wadj.keys(),range(len(lv_wadj.keys()))))\n",
    "lv_index_to_bid = dict(zip(range(len(lv_wadj.keys())),lv_wadj.keys()))"
   ]
  },
  {
   "cell_type": "code",
   "execution_count": 547,
   "metadata": {
    "collapsed": true
   },
   "outputs": [],
   "source": [
    "with open('temp/bidtoindex.json', 'w') as fp:\n",
    "    json.dump(lv_bid_to_index, fp)\n",
    "with open('temp/indextobid.json', 'w') as fp:\n",
    "    json.dump(lv_index_to_bid, fp)"
   ]
  },
  {
   "cell_type": "markdown",
   "metadata": {},
   "source": [
    "Loading the dtm:"
   ]
  },
  {
   "cell_type": "markdown",
   "metadata": {},
   "source": [
    "### DTM TRAIN AND TEST:"
   ]
  },
  {
   "cell_type": "code",
   "execution_count": 21,
   "metadata": {
    "collapsed": true
   },
   "outputs": [
    {
     "name": "stdout",
     "output_type": "stream",
     "text": [
      "0\n",
      "50\n",
      "100\n",
      "150\n",
      "200\n",
      "250\n",
      "300\n",
      "350\n",
      "400\n",
      "450\n",
      "500\n",
      "550\n",
      "600\n",
      "650\n",
      "700\n",
      "750\n",
      "800\n",
      "850\n",
      "900\n",
      "950\n",
      "1000\n",
      "1050\n",
      "1100\n",
      "1150\n",
      "1200\n",
      "1250\n",
      "1300\n",
      "1350\n",
      "1400\n",
      "1450\n",
      "1500\n",
      "1550\n",
      "1600\n",
      "1650\n",
      "1700\n",
      "1750\n",
      "1800\n",
      "1850\n",
      "1900\n",
      "1950\n",
      "2000\n",
      "2050\n",
      "2100\n",
      "2150\n",
      "2200\n",
      "2250\n",
      "2300\n",
      "2350\n",
      "2400\n",
      "2450\n",
      "2500\n",
      "2550\n",
      "2600\n",
      "2650\n",
      "2700\n",
      "2750\n",
      "2800\n",
      "2850\n",
      "2900\n",
      "2950\n",
      "3000\n",
      "3050\n",
      "3100\n",
      "3150\n",
      "3200\n",
      "3250\n",
      "3300\n",
      "3350\n",
      "3400\n",
      "3450\n",
      "3500\n",
      "3550\n",
      "3600\n",
      "3650\n",
      "3700\n",
      "3750\n",
      "3800\n"
     ]
    }
   ],
   "source": [
    "reduced_lv = {}\n",
    "it = 0\n",
    "for (k,v) in lv_wadj.items():\n",
    "    if it % 50 == 0:\n",
    "        print it\n",
    "    new = []\n",
    "    for w in v[0][0]:\n",
    "        if w in lv_vocab10:\n",
    "            new.append(w)\n",
    "    reduced_lv[k] = new\n",
    "    it+=1"
   ]
  },
  {
   "cell_type": "markdown",
   "metadata": {},
   "source": [
    "Removing some of the top 30 words most present in the reviews:"
   ]
  },
  {
   "cell_type": "code",
   "execution_count": 228,
   "metadata": {
    "collapsed": true
   },
   "outputs": [],
   "source": [
    "toremove = ['food','place','service','time','restaurant','menu','order','price','dish','table','thing','person','experience','server','staff','way','bit','portion','lot','hour','star','plate','course','option','customer','liking']"
   ]
  },
  {
   "cell_type": "code",
   "execution_count": 258,
   "metadata": {
    "collapsed": false
   },
   "outputs": [],
   "source": [
    "from scipy import sparse\n",
    "\n",
    "nonzero_data = []\n",
    "rows_s = []\n",
    "cols_s = []\n",
    "\n",
    "for k in reduced_lv.keys():\n",
    "    counter = collections.Counter(reduced_lv[k])\n",
    "    for r in toremove:\n",
    "        counter[r] = 0\n",
    "    nonzero_data += list(np.floor(np.array(counter.values())*100/np.max(counter.values()))) #Rescaling to account for the important differences in the lengths of the reviews\n",
    "    rows_s += [lv_bid_to_index[k]]*len(counter.values())\n",
    "    cols_s += [lv_word_to_index[ck] for ck in counter.keys()]\n",
    "\n",
    "sparse_mat = sparse.csc_matrix((nonzero_data,(rows_s,cols_s)),shape = (len(lv_bid_to_index),len(lv_word_to_index)))"
   ]
  },
  {
   "cell_type": "markdown",
   "metadata": {},
   "source": [
    "Saving the document term matrix for the complete data:"
   ]
  },
  {
   "cell_type": "code",
   "execution_count": 613,
   "metadata": {
    "collapsed": true
   },
   "outputs": [],
   "source": [
    "lv_dtm = sparse_mat.toarray()\n",
    "np.save('temp/lv_dtm.npy',lv_dtm)"
   ]
  },
  {
   "cell_type": "markdown",
   "metadata": {},
   "source": [
    "Dividing the data into training and validation/testing by splitting each document into 2 on an 80/20 basis:"
   ]
  },
  {
   "cell_type": "code",
   "execution_count": null,
   "metadata": {
    "collapsed": true
   },
   "outputs": [],
   "source": [
    "train = {}\n",
    "test = {}\n",
    "\n",
    "for k in reduced_lv.keys():\n",
    "    spl = np.split(range(len(reduced_lv[k])),[int(np.floor(0.8*len(reduced_lv[k]))),len(reduced_lv[k])])\n",
    "    train[k] = np.array(reduced_lv[k])[spl[0]]\n",
    "    test[k] = np.array(reduced_lv[k])[spl[1]]"
   ]
  },
  {
   "cell_type": "code",
   "execution_count": 276,
   "metadata": {
    "collapsed": true
   },
   "outputs": [],
   "source": [
    "from scipy import sparse\n",
    "\n",
    "nonzero_data_tr = []\n",
    "rows_s_tr = []\n",
    "cols_s_tr = []\n",
    "nonzero_data_ts = []\n",
    "rows_s_ts = []\n",
    "cols_s_ts = []\n",
    "\n",
    "for k in reduced_lv.keys():\n",
    "    \n",
    "    counter_tr = collections.Counter(train[k])\n",
    "    for r in toremove:\n",
    "        counter_tr[r] = 0\n",
    "    nonzero_data_tr += counter_tr.values()\n",
    "    rows_s_tr += [lv_bid_to_index[k]]*len(counter_tr.values())\n",
    "    cols_s_tr += [lv_word_to_index[ck] for ck in counter_tr.keys()]\n",
    "    \n",
    "    counter_ts = collections.Counter(test[k])\n",
    "    for r in toremove:\n",
    "        counter_ts[r] = 0\n",
    "    nonzero_data_ts += counter_ts.values()\n",
    "    rows_s_ts += [lv_bid_to_index[k]]*len(counter_ts.values())\n",
    "    cols_s_ts += [lv_word_to_index[ck] for ck in counter_ts.keys()]\n",
    "\n",
    "sparse_mat_tr = sparse.csc_matrix((nonzero_data_tr,(rows_s_tr,cols_s_tr)),shape = (len(lv_bid_to_index),len(lv_word_to_index)))\n",
    "sparse_mat_ts = sparse.csc_matrix((nonzero_data_ts,(rows_s_ts,cols_s_ts)),shape = (len(lv_bid_to_index),len(lv_word_to_index)))"
   ]
  },
  {
   "cell_type": "code",
   "execution_count": 277,
   "metadata": {
    "collapsed": true
   },
   "outputs": [],
   "source": [
    "dtm_lv_train = sparse_mat_tr.toarray()\n",
    "dtm_lv_test = sparse_mat_ts.toarray()"
   ]
  },
  {
   "cell_type": "markdown",
   "metadata": {},
   "source": [
    "Saving the data:"
   ]
  },
  {
   "cell_type": "code",
   "execution_count": 278,
   "metadata": {
    "collapsed": true
   },
   "outputs": [],
   "source": [
    "np.save('temp/dtm_lv_train.npy',dtm_lv_train)\n",
    "np.save('temp/dtm_lv_test.npy',dtm_lv_test)"
   ]
  },
  {
   "cell_type": "markdown",
   "metadata": {},
   "source": [
    "### Loading the lda functions:"
   ]
  },
  {
   "cell_type": "code",
   "execution_count": 59,
   "metadata": {
    "collapsed": true
   },
   "outputs": [],
   "source": [
    "def rho(tau,kappa,t):\n",
    "\treturn pow(tau + t, - kappa)\n",
    "\n",
    "def digamma(mat):\n",
    "\tif (len(mat.shape) == 1):\n",
    "\t\treturn(psi(mat) - psi(np.sum(mat)))\n",
    "\telse:\n",
    "\t\treturn(psi(mat) - psi(np.sum(mat, 0))[np.newaxis,:])"
   ]
  },
  {
   "cell_type": "code",
   "execution_count": 54,
   "metadata": {
    "collapsed": true
   },
   "outputs": [],
   "source": [
    "def lda_batch(dtm,ntopic,batch_size,tau,kappa):\n",
    "\tnvoc = dtm.shape[1]\n",
    "\tndoc = dtm.shape[0]\n",
    "\tnu = 1./ntopic\n",
    "\talpha = 1./ntopic\n",
    "\n",
    "\ttopics = np.random.gamma(100.,1./100.,(nvoc,ntopic))\n",
    "\tgamma  = np.random.gamma(100.,1./100.,(ndoc,ntopic))\n",
    "\n",
    "\tnumbatch = ndoc / batch_size\n",
    "\tbatches = np.array_split(range(ndoc),numbatch)\n",
    "\n",
    "\n",
    "\tfor it_batch in range(numbatch):\n",
    "\t\tELogBeta = digamma(topics)\n",
    "\t\tExpELogBeta = np.exp(ELogBeta)\n",
    "\t\t\n",
    "\t\ttemp_topics = np.zeros(topics.shape)\n",
    "\n",
    "\t\tindices = []\n",
    "\n",
    "\t\tfor d in batches[it_batch]:\n",
    "\t\t\t# print d\n",
    "\t\t\tids = np.nonzero(dtm[d,:])[0]\n",
    "\t\t\tindices.extend(ids)\n",
    "\t\t\tcts = dtm[d,ids]\n",
    "\t\t\tExpELogBetad = ExpELogBeta[ids,:]\n",
    "\n",
    "\t\t\tgammad = gamma[d,:]\n",
    "\t\t\tElogTethad = digamma(gammad)\n",
    "\t\t\tExpLogTethad = np.exp(ElogTethad)\n",
    "\n",
    "\t\t\t# print gammad\n",
    "\n",
    "\t\t\tfor inner_it in range(1000):\n",
    "\t\t\t\t\n",
    "\t\t\t\toldgammad = gammad\n",
    "\n",
    "\t\t\t\tphi =  ExpLogTethad * ExpELogBetad\n",
    "\t\t\t\tphi = phi / (phi.sum(axis=1)+0.00001)[:, np.newaxis]\n",
    "\n",
    "\t\t\t\tgammad = alpha + np.dot(cts,phi)\n",
    "\n",
    "\t\t\t\tElogTethad = digamma(gammad)\n",
    "\t\t\t\tExpLogTethad = np.exp(ElogTethad)\n",
    "\t\t\t\t# print gammad\n",
    "\n",
    "\t\t\t\tif np.mean((gammad-oldgammad)**2)<0.0000001:\n",
    "\t\t\t\t\tbreak\n",
    "\n",
    "\t\t\t#print inner_it\n",
    "\t\t\tgamma[d,:] = gammad\n",
    "\n",
    "\t\t\ttemp_topics[ids,:] += phi * cts[:,np.newaxis]\n",
    "\n",
    "\t\tindices = np.unique(indices)\n",
    "\n",
    "\t\trt = rho(tau,kappa,it_batch)\n",
    "\n",
    "\t\ttopics[indices] = (1 - rt) * topics[indices,:] + rt * ndoc * (nu + temp_topics[indices,:]) / len(batches[it_batch])\n",
    "\n",
    "\treturn topics,gamma"
   ]
  },
  {
   "cell_type": "code",
   "execution_count": 450,
   "metadata": {
    "collapsed": false
   },
   "outputs": [],
   "source": [
    "def inference(lda,dtm,tau,kappa):\n",
    "\n",
    "\tntopic = lda[0].shape[1]\n",
    "\tnvoc = dtm.shape[1]\n",
    "\tndoc = dtm.shape[0]\n",
    "\tnu = 1./ntopic\n",
    "\talpha = 1./ntopic\n",
    "\n",
    "\ttopics = lda[0].copy()\n",
    "\tphi = np.random.gamma(100.,1./100.,(nvoc,ntopic))\n",
    "\tgamma  = np.random.gamma(100.,1./100.,(ndoc,ntopic))\n",
    "\n",
    "\tnumbatch = ndoc\n",
    "\tbatches = np.array_split(range(ndoc),numbatch)\n",
    "\n",
    "\tfor it_batch in range(numbatch):\n",
    "\t\tELogBeta = digamma(topics)\n",
    "\t\tExpELogBeta = np.exp(ELogBeta)\n",
    "\t\t\n",
    "\t\ttemp_topics = np.zeros(topics.shape)\n",
    "\n",
    "\t\tindices = []\n",
    "\n",
    "\t\tfor d in batches[it_batch]:\n",
    "\t\t\t# print d\n",
    "\t\t\tids = np.nonzero(dtm[d,:])[0]\n",
    "\t\t\tindices.extend(ids)\n",
    "\t\t\tcts = dtm[d,ids]\n",
    "\t\t\tExpELogBetad = ExpELogBeta[ids,:]\n",
    "\n",
    "\t\t\tgammad = gamma[d,:]\n",
    "\t\t\tElogTethad = digamma(gammad)\n",
    "\t\t\tExpLogTethad = np.exp(ElogTethad)\n",
    "\n",
    "\t\t\t# print gammad\n",
    "\n",
    "\t\t\tfor inner_it in range(1000):\n",
    "\t\t\t\t\n",
    "\t\t\t\toldgammad = gammad\n",
    "\n",
    "\t\t\t\tphi =  ExpLogTethad * ExpELogBetad\n",
    "\t\t\t\tphi = phi / (phi.sum(axis=1)+0.00001)[:, np.newaxis]\n",
    "\n",
    "\t\t\t\tgammad = alpha + np.dot(cts,phi)\n",
    "\n",
    "\t\t\t\tElogTethad = digamma(gammad)\n",
    "\t\t\t\tExpLogTethad = np.exp(ElogTethad)\n",
    "\t\t\t\t# print gammad\n",
    "\n",
    "\t\t\t\tif np.mean((gammad-oldgammad)**2)<0.0000001:\n",
    "\t\t\t\t\tbreak\n",
    "\n",
    "\t\t\t#print inner_it\n",
    "\t\t\tgamma[d,:] = gammad\n",
    "\n",
    "\t\t\ttemp_topics[ids,:] += phi * cts[:,np.newaxis]\n",
    "\n",
    "\t\tindices = np.unique(indices)\n",
    "\t\tif indices.size == 0:\n",
    "\t\t\tcontinue\n",
    "\t\trt = rho(tau,kappa,it_batch)\n",
    "\n",
    "\t\ttopics[indices] = (1 - rt) * topics[indices,:] + rt * ndoc * (nu + temp_topics[indices,:]) / len(batches[it_batch])\n",
    "\n",
    "\treturn topics,gamma"
   ]
  },
  {
   "cell_type": "code",
   "execution_count": 470,
   "metadata": {
    "collapsed": true
   },
   "outputs": [],
   "source": [
    "def perplexity(lda,newdocs,tau,kappa,perword = False):\n",
    "\t\n",
    "\tnew = inference(lda,newdocs,tau,kappa)\n",
    "\t\n",
    "\ttopics = new[0]\n",
    "\tgammas = new[1]\n",
    "\t\n",
    "\ttopics = topics/topics.sum(axis=0)\n",
    "\t\n",
    "\tif len(gammas.shape) == 1:\n",
    "\t\tgammas = gammas/np.sum(gammas)\n",
    "\t\tdoc_idx = np.nonzero(newdocs)[0]\n",
    "\t\tdoc_cts = newdocs[doc_idx]\n",
    "\t\treturn np.exp(-np.log(np.sum(np.dot(topics[doc_idx,:],gammas)*doc_cts))/np.sum(doc_cts))\n",
    "\t\n",
    "\telse:\n",
    "\t\tnorm = lambda x: x/np.sum(x)\n",
    "\t\tgammas = np.apply_along_axis(norm,axis = 1,arr = gammas)\n",
    "\t\t\n",
    "\t\tnum = 0\n",
    "\t\tdenom = 0\n",
    "\t\t\n",
    "\t\tfor i in range(gammas.shape[0]):\n",
    "\t\t\tdoc_idx = np.nonzero(newdocs[i,:])[0]\n",
    "\t\t\tdoc_cts = newdocs[i,doc_idx]\n",
    "\t\t\tnum += np.sum(np.log(np.dot(topics[doc_idx,:],gammas[i,:]))*doc_cts)\n",
    "\t\t\tdenom += np.sum(doc_cts)\n",
    "\t\t\t\n",
    "\t\tif ~perword:\n",
    "\t\t\treturn num\n",
    "\t\telse:\n",
    "\t\t\treturn num/denom"
   ]
  },
  {
   "cell_type": "code",
   "execution_count": 388,
   "metadata": {
    "collapsed": true
   },
   "outputs": [],
   "source": [
    "def perp(lda,newdocs,tau,kappa):\n",
    "    \n",
    "    from scipy.special import gammaln,psi\n",
    "    \n",
    "    new = inference(lda,newdocs,tau,kappa)\n",
    "    \n",
    "    score = 0\n",
    "    gamma = new[1]\n",
    "    topics = new[0]\n",
    "    Elogtheta = psi(gamma) - psi(np.sum(gamma, 1))[:,np.newaxis]\n",
    "    expElogtheta = np.exp(Elogtheta)\n",
    "    Elogbeta = digamma(topics)\n",
    "    # E[log p(docs | theta, beta)]\n",
    "    for d in range(0, newdocs.shape[0]):\n",
    "        gammad = gamma[d, :]\n",
    "        ids = np.nonzero(newdocs[d,:])[0]\n",
    "        cts = newdocs[d,ids]\n",
    "        phinorm = np.zeros(len(ids))\n",
    "        for i in range(0, len(ids)):\n",
    "            temp = Elogtheta[d, :] + Elogbeta[ids[i],:]\n",
    "            tmax = max(temp)\n",
    "            phinorm[i] = np.log(sum(np.exp(temp - tmax))) + tmax\n",
    "        score += np.sum(cts * phinorm)\n",
    "\n",
    "\n",
    "    # E[log p(theta | alpha) - log q(theta | gamma)]\n",
    "    score += np.sum((1./topics.shape[1] - gamma)*Elogtheta)\n",
    "    score += np.sum(gammaln(gamma) - gammaln(1./topics.shape[1]))\n",
    "    score += np.sum(gammaln(1/topics.shape[1]*topics.shape[1]) - gammaln(np.sum(gamma, 1)))\n",
    "\n",
    "#     Compensate for the subsampling of the population of documents\n",
    "    score = score * float(newdocs.shape[0]) / lda[0].shape[0]\n",
    "\n",
    "    # E[log p(beta | eta) - log q (beta | lambda)]\n",
    "    score = score + np.sum((1/topics.shape[1]-topics)*Elogbeta)\n",
    "    score = score + np.sum(gammaln(topics) - gammaln(1./topics.shape[1]))\n",
    "    score = score + np.sum(gammaln(1./topics.shape[1]*topics.shape[0]) - gammaln(np.sum(topics, 0)))\n",
    "\n",
    "    return(score)"
   ]
  },
  {
   "cell_type": "code",
   "execution_count": 469,
   "metadata": {
    "collapsed": true
   },
   "outputs": [],
   "source": [
    "batchsize = 40\n",
    "kappa = 0.5\n",
    "tau = 1024\n",
    "\n",
    "K = range(30,90,10)\n",
    "\n",
    "perplexity_dict = {}"
   ]
  },
  {
   "cell_type": "code",
   "execution_count": 471,
   "metadata": {
    "collapsed": false
   },
   "outputs": [
    {
     "name": "stdout",
     "output_type": "stream",
     "text": [
      "CPU times: user 15min 34s, sys: 13.6 s, total: 15min 47s\n",
      "Wall time: 15min 53s\n"
     ]
    }
   ],
   "source": [
    "%%time\n",
    "for k in K:\n",
    "    np.random.seed(0)\n",
    "    train_lda = lda_batch(dtm_lv_train,k,batchsize,tau,kappa)\n",
    "    perplexity_dict[k] = perplexity(train_lda,dtm_lv_test,tau,kappa,True)"
   ]
  },
  {
   "cell_type": "code",
   "execution_count": 472,
   "metadata": {
    "collapsed": true
   },
   "outputs": [],
   "source": [
    "best_k = max(perplexity_dict, key=perplexity_dict.get)"
   ]
  },
  {
   "cell_type": "code",
   "execution_count": 473,
   "metadata": {
    "collapsed": false
   },
   "outputs": [
    {
     "data": {
      "text/plain": [
       "40"
      ]
     },
     "execution_count": 473,
     "metadata": {},
     "output_type": "execute_result"
    }
   ],
   "source": [
    "best_k"
   ]
  },
  {
   "cell_type": "code",
   "execution_count": 474,
   "metadata": {
    "collapsed": false
   },
   "outputs": [
    {
     "name": "stdout",
     "output_type": "stream",
     "text": [
      "CPU times: user 39 s, sys: 253 ms, total: 39.2 s\n",
      "Wall time: 39.3 s\n"
     ]
    }
   ],
   "source": [
    "%%time\n",
    "np.random.seed(0)\n",
    "model = lda_batch(lv_dtm,best_k,batchsize,tau,kappa)"
   ]
  },
  {
   "cell_type": "code",
   "execution_count": 475,
   "metadata": {
    "collapsed": false
   },
   "outputs": [
    {
     "name": "stdout",
     "output_type": "stream",
     "text": [
      "Topic 0: rice chicken soup roll beef sushi sauce noodle lunch pork\n",
      "Topic 1: dog fry bun chili truck hotdog pretzel tot onion lemonade\n",
      "Topic 2: campus inconvenience popover thirst student contamination quenching ll yumm class\n",
      "Topic 3: bar drink beer night bartender waitress music friend game area\n",
      "Topic 4: change nugget ranch cheeseburger character bathroom hooker cop hiding teen\n",
      "Topic 5: tapas ceviche empanada paella plantain sangria date saltado sangrium la\n",
      "Topic 6: sandwich bread sub meat subway location airport cheese turkey deli\n",
      "Topic 7: store counter donut ass floor owner grocery wheat produce remark\n",
      "Topic 8: location drive employee minute manager window guy chicken cashier car\n",
      "Topic 9: discontent dippin tamal sympathy soooooo gesture printer transaction standpoint behalf\n",
      "Topic 10: popsicle chicharone cabana escort drink gelatin sirloin tasting stall cheek\n",
      "Topic 11: contamination cross bark inconvenience campus shuttle steak meat chicken piano\n",
      "Topic 12: attitude rice line kick local view music location pick theme\n",
      "Topic 13: cinnabon sisig shrimp crawfish crab juicy halo sauce fry tilapia\n",
      "Topic 14: theme street plastic finger school offering turkey mint tuna couple\n",
      "Topic 15: catfish fish puppy soul cornbread okra gumbo collard cat seafood\n",
      "Topic 16: drink taco ragoon beef night chicken lunch quesidilla rice beers\n",
      "Topic 17: steak dinner meal wine waiter lobster dessert salad appetizer night\n",
      "Topic 18: check street woman moment batter range vinaigrette salad charge sit\n",
      "Topic 19: correct straw discovery gps highway clientele lb wrapper heck jap\n",
      "Topic 20: breakfast egg pancake toast morning bacon hash coffee omelet waitress\n",
      "Topic 21: pupusa pupusas papusa chicharron curtido plantain poisoning revuelta salvadorean veronica\n",
      "Topic 22: taco salsa chicken bean burrito chip cheese sauce location meat\n",
      "Topic 23: wing boneless buffalo fry ghost ranch living drumstick pepper franchising\n",
      "Topic 24: sisig crawfish shrimp juicy sauce crab pajama seafood fry tilapia\n",
      "Topic 25: franchisee smh lau l&l shack twinky unlv flamingo nathan pb&j\n",
      "Topic 26: coffee bagel smoothie pastry chocolate cup ice tea gelato cream\n",
      "Topic 27: state booth management child rating issue compliment skin sister mind\n",
      "Topic 28: buffet selection dessert station line leg item variety crab quality\n",
      "Topic 29: lake pat stench production smoking boxing lakeside bar curve procedure\n",
      "Topic 30: chicken salad sauce burger meal cheese flavor fry lunch meat\n",
      "Topic 31: lechon halo pancit sisig adobo pata lumpia filipino sample kawali\n",
      "Topic 32: decorum sanwich subway location sandwich mail confusion employee daughter coupon\n",
      "Topic 33: pizza shuttle salad van wine waiter sauce meal dinner piano\n",
      "Topic 34: pizza rice parameter neighbourhood chicken lunch egg foo beef noodle\n",
      "Topic 35: bud piping patron yelp break ring smell bun cold perfection\n",
      "Topic 36: naan masala tikka paneer injera samosa tandoori samosas lassi chutney\n",
      "Topic 37: pizza crust cheese delivery slice sauce wing pepperoni garlic topping\n",
      "Topic 38: crisps sandwich co-worker guy couple bread fry pool size burger\n",
      "Topic 39: mintue nugget chicken hooker change cop salad judgement sandwich potato\n"
     ]
    }
   ],
   "source": [
    "topic_word = model[0].T  # model.components_ also works\n",
    "n_top_words = 10\n",
    "for i, topic_dist in enumerate(topic_word):\n",
    "    topic_words = np.array(lv_vocab10)[np.argsort(topic_dist)][:-(n_top_words+1):-1]\n",
    "    print(u'Topic {}: {}'.format(i, ' '.join(topic_words)))"
   ]
  },
  {
   "cell_type": "code",
   "execution_count": 476,
   "metadata": {
    "collapsed": true
   },
   "outputs": [],
   "source": [
    "np.save('temp/topics_lv.npy',model[0])"
   ]
  },
  {
   "cell_type": "code",
   "execution_count": 477,
   "metadata": {
    "collapsed": true
   },
   "outputs": [],
   "source": [
    "np.save('temp/assignment_lv.npy',model[1])"
   ]
  },
  {
   "cell_type": "code",
   "execution_count": 555,
   "metadata": {
    "collapsed": true
   },
   "outputs": [],
   "source": [
    "np.save('../dtm.npy',lv_dtm)"
   ]
  },
  {
   "cell_type": "markdown",
   "metadata": {},
   "source": [
    "We now try to find the best hyperparametrisation:"
   ]
  },
  {
   "cell_type": "code",
   "execution_count": 480,
   "metadata": {
    "collapsed": false
   },
   "outputs": [
    {
     "name": "stdout",
     "output_type": "stream",
     "text": [
      "CPU times: user 18min 6s, sys: 11.9 s, total: 18min 18s\n",
      "Wall time: 18min 28s\n"
     ]
    }
   ],
   "source": [
    "%%time\n",
    "Kappa = [0.5,0.6,0.7]\n",
    "Tau = [216,512,1024]\n",
    "perplexity_dict2 = {}\n",
    "\n",
    "for kappa in Kappa:\n",
    "    for tau in Tau:\n",
    "        np.random.seed(0)\n",
    "        train_lda = lda_batch(dtm_lv_train,best_k,batchsize,tau,kappa)\n",
    "        perplexity_dict2[(tau,kappa)] = perplexity(train_lda,dtm_lv_test,tau,kappa,True)"
   ]
  },
  {
   "cell_type": "code",
   "execution_count": 481,
   "metadata": {
    "collapsed": false
   },
   "outputs": [
    {
     "data": {
      "text/plain": [
       "(512, 0.7)"
      ]
     },
     "execution_count": 481,
     "metadata": {},
     "output_type": "execute_result"
    }
   ],
   "source": [
    "best_combi = max(perplexity_dict2, key=perplexity_dict2.get)\n",
    "best_combi"
   ]
  },
  {
   "cell_type": "code",
   "execution_count": 616,
   "metadata": {
    "collapsed": false
   },
   "outputs": [
    {
     "name": "stdout",
     "output_type": "stream",
     "text": [
      "CPU times: user 36.2 s, sys: 882 ms, total: 37.1 s\n",
      "Wall time: 38.1 s\n"
     ]
    }
   ],
   "source": [
    "%%time\n",
    "np.random.seed(0)\n",
    "model_bis = lda_batch(lv_dtm,best_k,batchsize,best_combi[0],best_combi[1])"
   ]
  },
  {
   "cell_type": "code",
   "execution_count": 483,
   "metadata": {
    "collapsed": true
   },
   "outputs": [],
   "source": [
    "np.save('temp/topics2_lv.npy',model_bis[0])\n",
    "np.save('temp/assignment2_lv.npy',model_bis[1])"
   ]
  },
  {
   "cell_type": "code",
   "execution_count": null,
   "metadata": {
    "collapsed": true
   },
   "outputs": [],
   "source": []
  },
  {
   "cell_type": "code",
   "execution_count": 617,
   "metadata": {
    "collapsed": false,
    "scrolled": true
   },
   "outputs": [
    {
     "name": "stdout",
     "output_type": "stream",
     "text": [
      "Topic 0: rice chicken soup beef roll lunch sauce sushi noodle pork\n",
      "Topic 1: dog hotdog chili pretzel bun fry sauerkraut sausage mustard corndog\n",
      "Topic 2: popover steak lobster meal flavor dinner cheese salad potato meat\n",
      "Topic 3: bar drink beer bartender night game music wing waitress pool\n",
      "Topic 4: nugget change discovery hooker salad cop hiding chicken soup dressing\n",
      "Topic 5: date tapas cheese sangria sauce sangrium pitcher drink paella strip\n",
      "Topic 6: sandwich bread sub subway turkey meat location deli employee pickle\n",
      "Topic 7: donut counter ass baking remark store knife bout method lobby\n",
      "Topic 8: drive window employee car manager minute location drive-thru girl store\n",
      "Topic 9: chicken drive gravy minute meal girl transaction house attitude employee\n",
      "Topic 10: drink event garlic venue variety flavor cabbage fun night selection\n",
      "Topic 11: meat bark steak meal chicken sauce salad pork waiter sample\n",
      "Topic 12: attitude rice theme line pick kick local view music season\n",
      "Topic 13: shrimp crab sisig sauce fry seafood garlic buffet bang crawfish\n",
      "Topic 14: theme street plastic finger mint school offering search turkey tuna\n",
      "Topic 15: heating letdown rice fish sauce meal night foody seafood thai\n",
      "Topic 16: drink taco beef night chicken lunch rice sauce salsa meal\n",
      "Topic 17: contamination steak convention inconvenience restroom cross steakhouse meal realm lobster\n",
      "Topic 18: check street vinaigrette improvement woman sit moment batter range pleasure\n",
      "Topic 19: gps highway heel taste straw location fry correct number chicken\n",
      "Topic 20: latina rental cheese night drink salad wine breakfast celebration chicken\n",
      "Topic 21: border burrito chicken taco tripas buffet sauce bean rice meat\n",
      "Topic 22: location chicken taco fry burger breakfast cheese sauce salsa meal\n",
      "Topic 23: wing fry location ice straw collar highway number correct living\n",
      "Topic 24: shrimp sauce crab seafood sisig fry crawfish plastic bag business\n",
      "Topic 25: smh line dog twinky drumstick banana casino stand area item\n",
      "Topic 26: coffee bagel pastry breakfast gelato cafe chocolate crepe croissant morning\n",
      "Topic 27: state booth management child rating personality appetite issue venue compliment\n",
      "Topic 28: buffet selection station leg brunch line dessert section breakfast crab\n",
      "Topic 29: pat bar boxing bartender wing smoking home cook night production\n",
      "Topic 30: pizza salad sauce meal dinner cheese chicken flavor steak bread\n",
      "Topic 31: bark kalua coconut pig peppermint pineapple mango huli sample meat\n",
      "Topic 32: location subway sandwich decorum sanwich employee daughter mail coupon family\n",
      "Topic 33: pizza salad wine waiter sauce meal dinner crust flavor atmosphere\n",
      "Topic 34: pizza rice chicken lunch egg beef noodle sauce soup delivery\n",
      "Topic 35: bud piping patron ring yelp break smell bun cold perfection\n",
      "Topic 36: pupusa naan masala pupusas tikka paneer samosa plantain tandoori samosas\n",
      "Topic 37: cinnabon pizza cheese crust sauce slice buffet chicken salad breakfast\n",
      "Topic 38: sandwich crisps co-worker guy couple bread fry pool size burger\n",
      "Topic 39: chicken change salad sandwich nugget potato dressing today location bacon\n"
     ]
    }
   ],
   "source": [
    "topic_word = model_bis[0].T  # model.components_ also works\n",
    "n_top_words = 10\n",
    "for i, topic_dist in enumerate(topic_word):\n",
    "    topic_words = np.array(lv_vocab10)[np.argsort(topic_dist)][:-(n_top_words+1):-1]\n",
    "    print(u'Topic {}: {}'.format(i, ' '.join(topic_words)))"
   ]
  },
  {
   "cell_type": "markdown",
   "metadata": {},
   "source": [
    "### NMF"
   ]
  },
  {
   "cell_type": "code",
   "execution_count": 493,
   "metadata": {
    "collapsed": true
   },
   "outputs": [],
   "source": [
    "from sklearn.decomposition import NMF"
   ]
  },
  {
   "cell_type": "code",
   "execution_count": 504,
   "metadata": {
    "collapsed": true
   },
   "outputs": [],
   "source": [
    "nmf40 = NMF(n_components=40, init='random', random_state=0,max_iter=1500)"
   ]
  },
  {
   "cell_type": "code",
   "execution_count": 505,
   "metadata": {
    "collapsed": true
   },
   "outputs": [],
   "source": [
    "nmf70 = NMF(n_components=70, init='random',random_state=0,max_iter=1500)"
   ]
  },
  {
   "cell_type": "code",
   "execution_count": 515,
   "metadata": {
    "collapsed": false
   },
   "outputs": [],
   "source": [
    "mat40 = nmf40.fit_transform(lv_dtm)\n",
    "mat70 = nmf70.fit_transform(lv_dtm)"
   ]
  },
  {
   "cell_type": "code",
   "execution_count": 517,
   "metadata": {
    "collapsed": false
   },
   "outputs": [
    {
     "data": {
      "text/plain": [
       "(3822, 40)"
      ]
     },
     "execution_count": 517,
     "metadata": {},
     "output_type": "execute_result"
    }
   ],
   "source": [
    "mat40.shape"
   ]
  },
  {
   "cell_type": "code",
   "execution_count": 516,
   "metadata": {
    "collapsed": false
   },
   "outputs": [
    {
     "data": {
      "text/plain": [
       "(40, 10364)"
      ]
     },
     "execution_count": 516,
     "metadata": {},
     "output_type": "execute_result"
    }
   ],
   "source": [
    "nmf40.components_.shape"
   ]
  },
  {
   "cell_type": "code",
   "execution_count": 518,
   "metadata": {
    "collapsed": false
   },
   "outputs": [
    {
     "name": "stdout",
     "output_type": "stream",
     "text": [
      "Topic 0: sandwich bread sub subway location meat cheese lunch employee turkey\n",
      "Topic 1: cheese bean sauce pork chip flavor drink salsa beef tortilla\n",
      "Topic 2: rib sauce pork meat brisket potato flavor bbq tender bean\n",
      "Topic 3: cheese pancake location egg taste breakfast bacon flavor fry cake\n",
      "Topic 4: salad fry chicken location gyro meat sauce wrap meal juice\n",
      "Topic 5: soup pho pork rice beef roll egg broth noodle bowl\n",
      "Topic 6: meat beef friend meal item kind waitress quality selection area\n",
      "Topic 7: bar drink bartender beer night friend game area waitress atmosphere\n",
      "Topic 8: sushi roll fish sauce tuna rice shrimp chef tempura salmon\n",
      "Topic 9: chicken meal sauce drink salad bar location flavor cheese night\n",
      "Topic 10: pasta sauce bread cheese wine salad pizza meatball dinner tomato\n",
      "Topic 11: taco salsa burrito chip bean tortilla meat guacamole sauce enchilada\n",
      "Topic 12: flavor meal wine dessert beef sauce dinner steak meat duck\n",
      "Topic 13: sushi roll fish tuna dinner chef salad bar meal bread\n",
      "Topic 14: location meal minute waitress night manager drink waiter day strip\n",
      "Topic 15: dessert dinner wine chocolate meal room view cheese dining lobster\n",
      "Topic 16: wine night music waiter dinner friend sauce appetizer salad atmosphere\n",
      "Topic 17: chicken bar drink chip salsa bartender location wing lunch beer\n",
      "Topic 18: buffet selection lunch chicken dessert quality dinner item drink day\n",
      "Topic 19: bread salad meal sauce appetizer dinner wine flavor waiter pasta\n",
      "Topic 20: dinner drink night margarita waiter meal decor appetizer entree chicken\n",
      "Topic 21: lunch beef soup rice gyro owner salad chicken kabob special\n",
      "Topic 22: burger drink meal flavor item cheese taste friend tapas cocktail\n",
      "Topic 23: salad potato ice meal cream dessert flavor friend lunch coffee\n",
      "Topic 24: chicken salad sauce meal lunch location fry drink flavor cheese\n",
      "Topic 25: lunch sauce meal chicken dinner rice home day style shrimp\n",
      "Topic 26: pizza salad crust sauce cheese delivery garlic lunch pasta slice\n",
      "Topic 27: steak lobster dinner potato rib drink night waiter filet crab\n",
      "Topic 28: rice chicken bean meat bowl burrito meal flavor owner taste\n",
      "Topic 29: meal employee chicken night drink day location minute manager line\n",
      "Topic 30: sauce shrimp meal rice dinner location crab seafood garlic quality\n",
      "Topic 31: pizza slice cheese wing crust delivery minute day guy pepperoni\n",
      "Topic 32: shrimp chicken rice beef chow lunch mein seafood item dinner\n",
      "Topic 33: steak salad meal chip salsa soup dinner margarita waiter potato\n",
      "Topic 34: drive location window employee fry minute day ice car drink\n",
      "Topic 35: burger fry cheese sandwich onion bacon bun potato breakfast dog\n",
      "Topic 36: chicken sauce rice lunch egg beef flavor teriyaki roll delivery\n",
      "Topic 37: location taco burrito cheese dog employee line drive night burritos\n",
      "Topic 38: soup rice noodle thai chicken beef pad flavor lunch tea\n",
      "Topic 39: breakfast egg pancake coffee toast potato chicken waitress bacon hash\n"
     ]
    }
   ],
   "source": [
    "topic_word = nmf40.components_  # model.components_ also works\n",
    "n_top_words = 10\n",
    "for i, topic_dist in enumerate(topic_word):\n",
    "    topic_words = np.array(lv_vocab10)[np.argsort(topic_dist)][:-(n_top_words+1):-1]\n",
    "    print(u'Topic {}: {}'.format(i, ' '.join(topic_words)))"
   ]
  },
  {
   "cell_type": "code",
   "execution_count": 522,
   "metadata": {
    "collapsed": false,
    "scrolled": true
   },
   "outputs": [
    {
     "name": "stdout",
     "output_type": "stream",
     "text": [
      "Topic 0: rice chicken soup sauce lunch roll noodle beef shrimp pork\n",
      "Topic 1: salsa bean sauce chip meat lunch rice burrito tortilla enchilada\n",
      "Topic 2: pho bar sandwich broth day beer bite night owner drink\n",
      "Topic 3: bar beer breakfast steak night lunch drink bartender home atmosphere\n",
      "Topic 4: burger cheese bar flavor fry salsa chip lunch drink beer\n",
      "Topic 5: meat sauce lunch burrito buffet flavor taco pork location salsa\n",
      "Topic 6: lunch tea sauce flavor owner gelato lamb item water noodle\n",
      "Topic 7: meal salad sandwich bread breakfast flavor rib taste sauce quality\n",
      "Topic 8: drink breakfast bar night friend cheese fry steak egg meal\n",
      "Topic 9: bar drink pizza bartender waitress beer burger night minute sandwich\n",
      "Topic 10: night sushi drink friend flavor breakfast roll pho egg meal\n",
      "Topic 11: drink beer shrimp night seafood bar store pasta day cheese\n",
      "Topic 12: taco breakfast egg steak sandwich meat location cheese toast line\n",
      "Topic 13: steak cheese meal dinner bread breakfast drink salad potato waiter\n",
      "Topic 14: breakfast buffet egg line coffee room hotel pancake location toast\n",
      "Topic 15: meal dinner shrimp seafood dessert night flavor buffet music drink\n",
      "Topic 16: chicken beef rice location shrimp lunch burger flavor minute noodle\n",
      "Topic 17: lobster pho noodle soup salad oyster pasta seafood bread dinner\n",
      "Topic 18: fry sandwich bagel burger fish drive employee manager court ice\n",
      "Topic 19: sauce drink bowl chicken taco burger location drive visit rice\n",
      "Topic 20: chicken night cheese drink pizza dog meal sauce minute bar\n",
      "Topic 21: fry cheese egg burger location breakfast taco chicken meal rice\n",
      "Topic 22: taco sauce meat steak cheese bean meal taste salsa family\n",
      "Topic 23: burger fry sushi potato onion rib breakfast cheese wine ring\n",
      "Topic 24: sushi fry roll burger lunch breakfast owner friend potato waitress\n",
      "Topic 25: bar drink meat sauce bartender owner bread flavor friend area\n",
      "Topic 26: sauce wine cheese flavor dinner dessert salad meal bread quality\n",
      "Topic 27: burger meal fry location steak salad waitress bread drink breakfast\n",
      "Topic 28: salsa location rice bean chip taco chicken strip tortilla stuff\n",
      "Topic 29: bar drink salad night sauce dinner beer bartender friend pasta\n",
      "Topic 30: bread subway location salad water pizza store sport hotel combo\n",
      "Topic 31: taco coffee cheese steak fry breakfast bar bean day chip\n",
      "Topic 32: location taco night drink day employee burrito drive bar burger\n",
      "Topic 33: area lunch ice location cream delivery day selection year store\n",
      "Topic 34: chicken salad meal lunch potato bar cheese burger bread breakfast\n",
      "Topic 35: burger fry salad employee gyro drink tea location drive day\n",
      "Topic 36: soup chicken rice noodle beef lunch sauce egg bar salad\n",
      "Topic 37: beef sandwich soup chicken coffee lunch breakfast day wing egg\n",
      "Topic 38: bar drink burger bartender steak beer salad potato game fry\n",
      "Topic 39: taco salsa drink sandwich chip breakfast bean fry bar margarita\n",
      "Topic 40: burger meal night waiter wine bread dinner sauce dessert friend\n",
      "Topic 41: salad bread dinner wine meal pasta sauce cheese waiter sushi\n",
      "Topic 42: breakfast cheese coffee egg waiter chocolate morning night location waitress\n",
      "Topic 43: pizza bar sandwich chip cheese drink day bartender salsa minute\n",
      "Topic 44: dinner bread meal waiter wine pizza steak sauce dessert bean\n",
      "Topic 45: chicken lunch rice sauce buffet pork meal shrimp location bean\n",
      "Topic 46: cheese salad taco court area bread flavor fry room sandwich\n",
      "Topic 47: taco location meal burger soup burrito fry sauce flavor salsa\n",
      "Topic 48: steak wine dinner night shrimp potato fish sauce wing egg\n",
      "Topic 49: sandwich salad steak sub lunch chip cheese bread location salsa\n",
      "Topic 50: sandwich location cheese burger sub fry kid employee line meat\n",
      "Topic 51: pizza breakfast egg crust slice cheese salad coffee minute day\n",
      "Topic 52: sushi roll delivery soup meat pho pizza gyro drive greek\n",
      "Topic 53: location drive drink bar burger sandwich window chicken employee fry\n",
      "Topic 54: chicken salad potato meal day steak buffet bar burger fry\n",
      "Topic 55: meat cheese coffee gyro sauce bean burrito taste flavor dog\n",
      "Topic 56: salad buffet sandwich chicken meat lunch flavor sauce pasta pork\n",
      "Topic 57: sushi roll bar fish chicken chef ice tuna selection quality\n",
      "Topic 58: sandwich bread buffet salad beef owner flavor day meat coffee\n",
      "Topic 59: sandwich breakfast coffee egg location pancake lunch waitress bread friend\n",
      "Topic 60: rice bean meat beef pork chicken lunch flavor salsa sauce\n",
      "Topic 61: dinner night beef waiter sauce bar roll meal sushi flavor\n",
      "Topic 62: night day pork bean chip beef salsa music friend owner\n",
      "Topic 63: taco fry location chicken salsa burrito bean cheese chip ice\n",
      "Topic 64: pizza salad cheese bread pasta meal sauce tomato lunch sandwich\n",
      "Topic 65: sauce fry dinner potato cake steak drink bar breakfast crab\n",
      "Topic 66: dog drive shrimp location fry minute kid employee window soda\n",
      "Topic 67: pizza sandwich sauce sub bread crust cheese lunch subway location\n",
      "Topic 68: chicken sandwich cheese pork soup sauce flavor beef lunch meat\n",
      "Topic 69: breakfast bar bartender drink location pancake guy day waitress lunch\n"
     ]
    }
   ],
   "source": [
    "topic_word = nmf70.components_  # model.components_ also works\n",
    "n_top_words = 10\n",
    "for i, topic_dist in enumerate(topic_word):\n",
    "    topic_words = np.array(lv_vocab10)[np.argsort(topic_dist)][:-(n_top_words+1):-1]\n",
    "    print(u'Topic {}: {}'.format(i, ' '.join(topic_words)))"
   ]
  },
  {
   "cell_type": "code",
   "execution_count": 523,
   "metadata": {
    "collapsed": true
   },
   "outputs": [],
   "source": [
    "np.save('temp/nmf_topics40.npy',nmf40.components_)"
   ]
  },
  {
   "cell_type": "code",
   "execution_count": 524,
   "metadata": {
    "collapsed": true
   },
   "outputs": [],
   "source": [
    "np.save('temp/nmf_assignments40.npy',mat40)"
   ]
  },
  {
   "cell_type": "markdown",
   "metadata": {},
   "source": [
    "### Clustering using KL divergence:"
   ]
  },
  {
   "cell_type": "code",
   "execution_count": 485,
   "metadata": {
    "collapsed": false
   },
   "outputs": [],
   "source": [
    "def kl_div_sym(v1,v2):\n",
    "    l = np.log(v1/v2)\n",
    "    return np.sum(v1*l) + np.sum(-v2*l)"
   ]
  },
  {
   "cell_type": "code",
   "execution_count": 486,
   "metadata": {
    "collapsed": false
   },
   "outputs": [],
   "source": [
    "G = model_bis[1]\n",
    "kl_mat = np.zeros((3822,3822))\n",
    "for i in range(3822):\n",
    "    for j in range(i+1,3822,1):\n",
    "        kl_mat[i,j] = kl_mat[j,i] = kl_div_sym(G[i,:]/np.sum(G[i,:]),G[j,:]/np.sum(G[j,:]))"
   ]
  },
  {
   "cell_type": "code",
   "execution_count": 538,
   "metadata": {
    "collapsed": false
   },
   "outputs": [],
   "source": [
    "closest_id_kl = {}\n",
    "for i in range(kl_mat.shape[0]):\n",
    "    v = kl_mat[i,:]\n",
    "    closest_id_kl[i] = zip(np.array(range(kl_mat.shape[0]))[np.argsort(v)][1:11],v[np.argsort(v)][1:11])"
   ]
  },
  {
   "cell_type": "code",
   "execution_count": 539,
   "metadata": {
    "collapsed": false
   },
   "outputs": [
    {
     "data": {
      "text/plain": [
       "[(857, 0.38168444740052349),\n",
       " (1799, 0.3852247801476717),\n",
       " (3330, 0.41070517156736075),\n",
       " (3677, 0.41717690445738859),\n",
       " (2919, 0.41929608585073103),\n",
       " (1597, 0.42333173587204148),\n",
       " (3106, 0.42447702801295206),\n",
       " (2949, 0.42486043690122594),\n",
       " (3373, 0.42543123016052042),\n",
       " (129, 0.42581309251850152)]"
      ]
     },
     "execution_count": 539,
     "metadata": {},
     "output_type": "execute_result"
    }
   ],
   "source": [
    "closest_id_kl[0]"
   ]
  },
  {
   "cell_type": "code",
   "execution_count": 543,
   "metadata": {
    "collapsed": false
   },
   "outputs": [
    {
     "data": {
      "text/plain": [
       "(array([ 209.,  160.,  164.,  153.,  141.,  165.,  164.,  190.,  212.,\n",
       "         213.,  233.,  241.,  245.,  185.,  141.,   84.,   30.,   10.,\n",
       "           2.,    0.,   12.,  160.,  364.,  255.,   89.]),\n",
       " array([  0.        ,   0.95419638,   1.90839276,   2.86258914,\n",
       "          3.81678552,   4.77098191,   5.72517829,   6.67937467,\n",
       "          7.63357105,   8.58776743,   9.54196381,  10.49616019,\n",
       "         11.45035657,  12.40455295,  13.35874933,  14.31294572,\n",
       "         15.2671421 ,  16.22133848,  17.17553486,  18.12973124,\n",
       "         19.08392762,  20.038124  ,  20.99232038,  21.94651676,\n",
       "         22.90071314,  23.85490953]),\n",
       " <a list of 25 Patch objects>)"
      ]
     },
     "execution_count": 543,
     "metadata": {},
     "output_type": "execute_result"
    },
    {
     "data": {
      "image/png": "[encoded data removed]",
      "text/plain": [
       "<matplotlib.figure.Figure at 0x1084c6650>"
      ]
     },
     "metadata": {},
     "output_type": "display_data"
    }
   ],
   "source": [
    "plt.hist(kl_mat[0,:],bins=25)"
   ]
  },
  {
   "cell_type": "code",
   "execution_count": 544,
   "metadata": {
    "collapsed": false
   },
   "outputs": [
    {
     "data": {
      "text/plain": [
       "(array([   1.,    0.,    1.,  316.,  277.,  232.,  204.,  215.,  217.,\n",
       "         207.,  228.,  233.,  222.,  219.,  213.,  163.,  137.,   70.,\n",
       "          18.,    4.,    0.,   23.,  181.,  330.,  111.]),\n",
       " array([  0.        ,   0.90701664,   1.81403328,   2.72104992,\n",
       "          3.62806656,   4.5350832 ,   5.44209984,   6.34911648,\n",
       "          7.25613312,   8.16314976,   9.07016639,   9.97718303,\n",
       "         10.88419967,  11.79121631,  12.69823295,  13.60524959,\n",
       "         14.51226623,  15.41928287,  16.32629951,  17.23331615,\n",
       "         18.14033279,  19.04734943,  19.95436607,  20.86138271,\n",
       "         21.76839935,  22.67541599]),\n",
       " <a list of 25 Patch objects>)"
      ]
     },
     "execution_count": 544,
     "metadata": {},
     "output_type": "execute_result"
    },
    {
     "data": {
      "image/png": "[encoded data removed]",
      "text/plain": [
       "<matplotlib.figure.Figure at 0x10ce696d0>"
      ]
     },
     "metadata": {},
     "output_type": "display_data"
    }
   ],
   "source": [
    "plt.hist(kl_mat[1,:],bins=25)"
   ]
  },
  {
   "cell_type": "code",
   "execution_count": 562,
   "metadata": {
    "collapsed": true
   },
   "outputs": [],
   "source": [
    "graph_mat = kl_mat.copy()\n",
    "graph_mat[graph_mat<1] = -1\n",
    "graph_mat[graph_mat>=0] = 0\n",
    "graph_mat[graph_mat<0] = 1"
   ]
  },
  {
   "cell_type": "code",
   "execution_count": 563,
   "metadata": {
    "collapsed": true
   },
   "outputs": [],
   "source": [
    "np.savetxt(\"../adjacency_kl.csv\", graph_mat, delimiter=\",\")"
   ]
  },
  {
   "cell_type": "code",
   "execution_count": 564,
   "metadata": {
    "collapsed": false
   },
   "outputs": [
    {
     "data": {
      "text/plain": [
       "1235214.0"
      ]
     },
     "execution_count": 564,
     "metadata": {},
     "output_type": "execute_result"
    }
   ],
   "source": [
    "np.sum(graph_mat)"
   ]
  },
  {
   "cell_type": "markdown",
   "metadata": {
    "collapsed": true
   },
   "source": [
    "We sample now to improve graphing:"
   ]
  },
  {
   "cell_type": "code",
   "execution_count": 556,
   "metadata": {
    "collapsed": true
   },
   "outputs": [],
   "source": [
    "sample = np.load('temp/sample_restaurants_lv.npy')"
   ]
  },
  {
   "cell_type": "code",
   "execution_count": 561,
   "metadata": {
    "collapsed": false
   },
   "outputs": [],
   "source": [
    "sample_id = [lv_bid_to_index[s] for s in sample]"
   ]
  },
  {
   "cell_type": "code",
   "execution_count": 565,
   "metadata": {
    "collapsed": true
   },
   "outputs": [],
   "source": [
    "sample_touse = sample_id[:500]"
   ]
  },
  {
   "cell_type": "code",
   "execution_count": 575,
   "metadata": {
    "collapsed": true
   },
   "outputs": [],
   "source": [
    "sample_adj = graph_mat[sample_touse,:]"
   ]
  },
  {
   "cell_type": "code",
   "execution_count": 576,
   "metadata": {
    "collapsed": false
   },
   "outputs": [],
   "source": [
    "sample_adj = sample_adj[:,sample_touse]"
   ]
  },
  {
   "cell_type": "code",
   "execution_count": 577,
   "metadata": {
    "collapsed": true
   },
   "outputs": [],
   "source": [
    "np.savetxt(\"../sample_adj.csv\", sample_adj, delimiter=\",\")"
   ]
  },
  {
   "cell_type": "code",
   "execution_count": 574,
   "metadata": {
    "collapsed": false
   },
   "outputs": [
    {
     "data": {
      "text/plain": [
       "121610.0"
      ]
     },
     "execution_count": 574,
     "metadata": {},
     "output_type": "execute_result"
    }
   ],
   "source": [
    "np.sum(sample_adj)"
   ]
  },
  {
   "cell_type": "code",
   "execution_count": 578,
   "metadata": {
    "collapsed": true
   },
   "outputs": [],
   "source": [
    "cat = np.load('../sample_categories_lv')"
   ]
  },
  {
   "cell_type": "code",
   "execution_count": 587,
   "metadata": {
    "collapsed": false
   },
   "outputs": [],
   "source": [
    "import csv\n",
    "\n",
    "with open('../cat.csv', 'wb') as myfile:\n",
    "    wr = csv.writer(myfile, quoting=csv.QUOTE_ALL)\n",
    "    wr.writerow(cat)"
   ]
  },
  {
   "cell_type": "markdown",
   "metadata": {},
   "source": [
    "We now try with 6 categories:"
   ]
  },
  {
   "cell_type": "code",
   "execution_count": 589,
   "metadata": {
    "collapsed": false
   },
   "outputs": [],
   "source": [
    "cat6 = np.load('temp/sample_6categories_lv')"
   ]
  },
  {
   "cell_type": "code",
   "execution_count": 654,
   "metadata": {
    "collapsed": false
   },
   "outputs": [],
   "source": [
    "sample_touse2 = [lv_bid_to_index[s] for s in cat6.index][:500]\n",
    "sample_touse3 = [lv_bid_to_index[s] for s in cat6.index]"
   ]
  },
  {
   "cell_type": "code",
   "execution_count": 655,
   "metadata": {
    "collapsed": false
   },
   "outputs": [
    {
     "data": {
      "text/plain": [
       "1077"
      ]
     },
     "execution_count": 655,
     "metadata": {},
     "output_type": "execute_result"
    }
   ],
   "source": [
    "len(sample_touse3)"
   ]
  },
  {
   "cell_type": "code",
   "execution_count": 656,
   "metadata": {
    "collapsed": false
   },
   "outputs": [],
   "source": [
    "sample_adj2 = graph_mat[sample_touse2,:]\n",
    "sample_adj2 = sample_adj2[:,sample_touse2]\n",
    "sample_adj3 = graph_mat[sample_touse3,:]\n",
    "sample_adj3 = sample_adj3[:,sample_touse3]"
   ]
  },
  {
   "cell_type": "code",
   "execution_count": 657,
   "metadata": {
    "collapsed": true
   },
   "outputs": [],
   "source": [
    "np.savetxt(\"../sample_adj2.csv\", sample_adj2, delimiter=\",\")\n",
    "np.savetxt(\"../sample_adj3.csv\", sample_adj3, delimiter=\",\")"
   ]
  },
  {
   "cell_type": "code",
   "execution_count": 612,
   "metadata": {
    "collapsed": false
   },
   "outputs": [],
   "source": [
    "with open('../cat2.csv', 'wb') as myfile:\n",
    "    wr = csv.writer(myfile, quoting=csv.QUOTE_ALL)\n",
    "    wr.writerow(list(catt6))"
   ]
  },
  {
   "cell_type": "code",
   "execution_count": 652,
   "metadata": {
    "collapsed": false
   },
   "outputs": [
    {
     "data": {
      "text/plain": [
       "1077"
      ]
     },
     "execution_count": 652,
     "metadata": {},
     "output_type": "execute_result"
    }
   ],
   "source": [
    "len()"
   ]
  },
  {
   "cell_type": "code",
   "execution_count": 611,
   "metadata": {
    "collapsed": true
   },
   "outputs": [],
   "source": [
    "catt6 = []\n",
    "for i in cat6.values:\n",
    "    if i=='Sushi Bars':\n",
    "        catt6.append('Sushi')\n",
    "    elif i=='Breakfast & Brunch':\n",
    "        catt6.append('B_B')\n",
    "    elif i=='Sports Bars':\n",
    "        catt6.append('Sports')\n",
    "    else:\n",
    "        catt6.append(i)"
   ]
  },
  {
   "cell_type": "code",
   "execution_count": 615,
   "metadata": {
    "collapsed": true
   },
   "outputs": [],
   "source": [
    "np.save('../vocab.npy',lv_vocab10)"
   ]
  },
  {
   "cell_type": "markdown",
   "metadata": {},
   "source": [
    "### weighted graph:"
   ]
  },
  {
   "cell_type": "code",
   "execution_count": 618,
   "metadata": {
    "collapsed": true
   },
   "outputs": [],
   "source": [
    "w_adjacency = np.zeros(kl_mat.shape)\n",
    "for i in range(kl_mat.shape[0]):\n",
    "    for j in range(i+1,kl_mat.shape[0]):\n",
    "        if kl_mat[i,j]<0.1:\n",
    "            w_adjacency[i,j] = w_adjacency[j,i] = 10\n",
    "        elif kl_mat[i,j]<0.2:\n",
    "            w_adjacency[i,j] = w_adjacency[j,i] = 9\n",
    "        elif kl_mat[i,j]<0.3:\n",
    "            w_adjacency[i,j] = w_adjacency[j,i] = 8\n",
    "        elif kl_mat[i,j]<0.4:\n",
    "            w_adjacency[i,j] = w_adjacency[j,i] = 7\n",
    "        elif kl_mat[i,j]<0.5:\n",
    "            w_adjacency[i,j] = w_adjacency[j,i] = 6\n",
    "        elif kl_mat[i,j]<0.6:\n",
    "            w_adjacency[i,j] = w_adjacency[j,i] = 5\n",
    "        elif kl_mat[i,j]<0.7:\n",
    "            w_adjacency[i,j] = w_adjacency[j,i] = 4\n",
    "        elif kl_mat[i,j]<0.8:\n",
    "            w_adjacency[i,j] = w_adjacency[j,i] = 3\n",
    "        elif kl_mat[i,j]<0.9:\n",
    "            w_adjacency[i,j] = w_adjacency[j,i] = 2\n",
    "        elif kl_mat[i,j]<1:\n",
    "            w_adjacency[i,j] = w_adjacency[j,i] = 1"
   ]
  },
  {
   "cell_type": "code",
   "execution_count": 619,
   "metadata": {
    "collapsed": true
   },
   "outputs": [],
   "source": [
    "sample_wadj = w_adjacency[sample_touse,:]\n",
    "sample_wadj = sample_wadj[:,sample_touse]"
   ]
  },
  {
   "cell_type": "code",
   "execution_count": 620,
   "metadata": {
    "collapsed": true
   },
   "outputs": [],
   "source": [
    "np.savetxt(\"../sample_weight.csv\", sample_wadj, delimiter=\",\")"
   ]
  },
  {
   "cell_type": "code",
   "execution_count": 622,
   "metadata": {
    "collapsed": true
   },
   "outputs": [],
   "source": [
    "sample_name = [lv_index_to_bid[i] for i in sample_touse]"
   ]
  },
  {
   "cell_type": "code",
   "execution_count": 626,
   "metadata": {
    "collapsed": false
   },
   "outputs": [],
   "source": [
    "with open('../names.csv', 'wb') as myfile:\n",
    "    wr = csv.writer(myfile, quoting=csv.QUOTE_ALL)\n",
    "    wr.writerow(list(sample_name))"
   ]
  },
  {
   "cell_type": "code",
   "execution_count": 627,
   "metadata": {
    "collapsed": true
   },
   "outputs": [],
   "source": [
    "import json\n",
    "data = []\n",
    "with open(\"../cs281_data/yelp_dataset_challenge_academic_dataset/yelp_academic_dataset_business.json\") as f:\n",
    "    for l in f:\n",
    "        data.append(json.loads(l))"
   ]
  },
  {
   "cell_type": "code",
   "execution_count": 629,
   "metadata": {
    "collapsed": false
   },
   "outputs": [
    {
     "data": {
      "text/html": [
       "<div>\n",
       "<table border=\"1\" class=\"dataframe\">\n",
       "  <thead>\n",
       "    <tr style=\"text-align: right;\">\n",
       "      <th></th>\n",
       "      <th>attributes</th>\n",
       "      <th>categories</th>\n",
       "      <th>city</th>\n",
       "      <th>latitude</th>\n",
       "      <th>longitude</th>\n",
       "      <th>open</th>\n",
       "      <th>review_count</th>\n",
       "      <th>stars</th>\n",
       "      <th>state</th>\n",
       "    </tr>\n",
       "    <tr>\n",
       "      <th>business_id</th>\n",
       "      <th></th>\n",
       "      <th></th>\n",
       "      <th></th>\n",
       "      <th></th>\n",
       "      <th></th>\n",
       "      <th></th>\n",
       "      <th></th>\n",
       "      <th></th>\n",
       "      <th></th>\n",
       "    </tr>\n",
       "  </thead>\n",
       "  <tbody>\n",
       "    <tr>\n",
       "      <th>vcNAWiLM4dR7D2nwwJ7nCA</th>\n",
       "      <td>{u'By Appointment Only': True}</td>\n",
       "      <td>[Doctors, Health &amp; Medical]</td>\n",
       "      <td>Phoenix</td>\n",
       "      <td>33.499313</td>\n",
       "      <td>-111.983758</td>\n",
       "      <td>True</td>\n",
       "      <td>9</td>\n",
       "      <td>3.5</td>\n",
       "      <td>AZ</td>\n",
       "    </tr>\n",
       "    <tr>\n",
       "      <th>UsFtqoBl7naz8AVUBZMjQQ</th>\n",
       "      <td>{u'Happy Hour': True, u'Accepts Credit Cards':...</td>\n",
       "      <td>[Nightlife]</td>\n",
       "      <td>Dravosburg</td>\n",
       "      <td>40.350519</td>\n",
       "      <td>-79.886930</td>\n",
       "      <td>True</td>\n",
       "      <td>4</td>\n",
       "      <td>3.5</td>\n",
       "      <td>PA</td>\n",
       "    </tr>\n",
       "    <tr>\n",
       "      <th>cE27W9VPgO88Qxe4ol6y_g</th>\n",
       "      <td>{u'Good for Kids': True}</td>\n",
       "      <td>[Active Life, Mini Golf, Golf]</td>\n",
       "      <td>Bethel Park</td>\n",
       "      <td>40.356896</td>\n",
       "      <td>-80.015910</td>\n",
       "      <td>False</td>\n",
       "      <td>5</td>\n",
       "      <td>2.5</td>\n",
       "      <td>PA</td>\n",
       "    </tr>\n",
       "    <tr>\n",
       "      <th>HZdLhv6COCleJMo7nPl-RA</th>\n",
       "      <td>{}</td>\n",
       "      <td>[Shopping, Home Services, Internet Service Pro...</td>\n",
       "      <td>Pittsburgh</td>\n",
       "      <td>40.357620</td>\n",
       "      <td>-80.059980</td>\n",
       "      <td>True</td>\n",
       "      <td>3</td>\n",
       "      <td>3.5</td>\n",
       "      <td>PA</td>\n",
       "    </tr>\n",
       "    <tr>\n",
       "      <th>mVHrayjG3uZ_RLHkLj-AMg</th>\n",
       "      <td>{u'Alcohol': u'full_bar', u'Noise Level': u'av...</td>\n",
       "      <td>[Bars, American (New), Nightlife, Lounges, Res...</td>\n",
       "      <td>Braddock</td>\n",
       "      <td>40.408735</td>\n",
       "      <td>-79.866351</td>\n",
       "      <td>True</td>\n",
       "      <td>11</td>\n",
       "      <td>4.5</td>\n",
       "      <td>PA</td>\n",
       "    </tr>\n",
       "    <tr>\n",
       "      <th>KayYbHCt-RkbGcPdGOThNg</th>\n",
       "      <td>{u'Alcohol': u'full_bar', u'Noise Level': u'lo...</td>\n",
       "      <td>[Bars, American (Traditional), Nightlife, Rest...</td>\n",
       "      <td>Carnegie</td>\n",
       "      <td>40.415517</td>\n",
       "      <td>-80.067534</td>\n",
       "      <td>True</td>\n",
       "      <td>15</td>\n",
       "      <td>4.0</td>\n",
       "      <td>PA</td>\n",
       "    </tr>\n",
       "    <tr>\n",
       "      <th>b12U9TFESStdy7CsTtcOeg</th>\n",
       "      <td>{}</td>\n",
       "      <td>[Auto Repair, Automotive]</td>\n",
       "      <td>Carnegie</td>\n",
       "      <td>40.394588</td>\n",
       "      <td>-80.084454</td>\n",
       "      <td>True</td>\n",
       "      <td>5</td>\n",
       "      <td>1.5</td>\n",
       "      <td>PA</td>\n",
       "    </tr>\n",
       "    <tr>\n",
       "      <th>Sktj1eHQFuVa-M4bgnEh8g</th>\n",
       "      <td>{u'Good for Kids': True}</td>\n",
       "      <td>[Active Life, Mini Golf]</td>\n",
       "      <td>Carnegie</td>\n",
       "      <td>40.405404</td>\n",
       "      <td>-80.076267</td>\n",
       "      <td>True</td>\n",
       "      <td>4</td>\n",
       "      <td>4.0</td>\n",
       "      <td>PA</td>\n",
       "    </tr>\n",
       "    <tr>\n",
       "      <th>3ZVKmuK2l7uXPE6lXY4Dbg</th>\n",
       "      <td>{}</td>\n",
       "      <td>[Home Services, Contractors]</td>\n",
       "      <td>Carnegie</td>\n",
       "      <td>40.406324</td>\n",
       "      <td>-80.090357</td>\n",
       "      <td>True</td>\n",
       "      <td>3</td>\n",
       "      <td>2.5</td>\n",
       "      <td>PA</td>\n",
       "    </tr>\n",
       "    <tr>\n",
       "      <th>wJr6kSA5dchdgOdwH6dZ2w</th>\n",
       "      <td>{u'Take-out': True, u'Drive-Thru': False, u'Ou...</td>\n",
       "      <td>[Burgers, Breakfast &amp; Brunch, American (Tradit...</td>\n",
       "      <td>Carnegie</td>\n",
       "      <td>40.387732</td>\n",
       "      <td>-80.092874</td>\n",
       "      <td>True</td>\n",
       "      <td>8</td>\n",
       "      <td>3.5</td>\n",
       "      <td>PA</td>\n",
       "    </tr>\n",
       "    <tr>\n",
       "      <th>yXuao0pFz1AxB21vJjDf5w</th>\n",
       "      <td>{u'Price Range': 3, u'Accepts Credit Cards': T...</td>\n",
       "      <td>[Food, Grocery]</td>\n",
       "      <td>Carnegie</td>\n",
       "      <td>40.387732</td>\n",
       "      <td>-80.092874</td>\n",
       "      <td>True</td>\n",
       "      <td>3</td>\n",
       "      <td>3.5</td>\n",
       "      <td>PA</td>\n",
       "    </tr>\n",
       "    <tr>\n",
       "      <th>fNGIbpazjTRdXgwRY_NIXA</th>\n",
       "      <td>{u'Alcohol': u'full_bar', u'Noise Level': u'av...</td>\n",
       "      <td>[Bars, American (Traditional), Nightlife, Loun...</td>\n",
       "      <td>Carnegie</td>\n",
       "      <td>40.396469</td>\n",
       "      <td>-80.084942</td>\n",
       "      <td>True</td>\n",
       "      <td>5</td>\n",
       "      <td>4.0</td>\n",
       "      <td>PA</td>\n",
       "    </tr>\n",
       "    <tr>\n",
       "      <th>b9WZJp5L1RZr4F1nxclOoQ</th>\n",
       "      <td>{u'Alcohol': u'none', u'Noise Level': u'averag...</td>\n",
       "      <td>[Breakfast &amp; Brunch, Restaurants]</td>\n",
       "      <td>Carnegie</td>\n",
       "      <td>40.396744</td>\n",
       "      <td>-80.084800</td>\n",
       "      <td>True</td>\n",
       "      <td>38</td>\n",
       "      <td>4.5</td>\n",
       "      <td>PA</td>\n",
       "    </tr>\n",
       "    <tr>\n",
       "      <th>zaXDakTd3RXyOa7sMrUE1g</th>\n",
       "      <td>{u'Take-out': True, u'Price Range': 1, u'Outdo...</td>\n",
       "      <td>[Cafes, Restaurants]</td>\n",
       "      <td>Carnegie</td>\n",
       "      <td>40.404638</td>\n",
       "      <td>-80.089985</td>\n",
       "      <td>True</td>\n",
       "      <td>5</td>\n",
       "      <td>4.0</td>\n",
       "      <td>PA</td>\n",
       "    </tr>\n",
       "    <tr>\n",
       "      <th>zgy27FSnvwdINfk5cXBIyQ</th>\n",
       "      <td>{u'Accepts Credit Cards': True, u'Wi-Fi': u'fr...</td>\n",
       "      <td>[Hotels &amp; Travel, Event Planning &amp; Services, H...</td>\n",
       "      <td>Carnegie</td>\n",
       "      <td>40.417419</td>\n",
       "      <td>-80.088557</td>\n",
       "      <td>True</td>\n",
       "      <td>5</td>\n",
       "      <td>4.0</td>\n",
       "      <td>PA</td>\n",
       "    </tr>\n",
       "    <tr>\n",
       "      <th>WETE_LykpcnrC1sFcQ5EGg</th>\n",
       "      <td>{u'Take-out': True, u'Price Range': 2, u'Outdo...</td>\n",
       "      <td>[Pubs, Irish, Nightlife, Bars, Restaurants]</td>\n",
       "      <td>Carnegie</td>\n",
       "      <td>40.408670</td>\n",
       "      <td>-80.085279</td>\n",
       "      <td>False</td>\n",
       "      <td>6</td>\n",
       "      <td>3.5</td>\n",
       "      <td>PA</td>\n",
       "    </tr>\n",
       "    <tr>\n",
       "      <th>6o3RK6rTcN3nw-j-r2nQmA</th>\n",
       "      <td>{}</td>\n",
       "      <td>[]</td>\n",
       "      <td>Carnegie</td>\n",
       "      <td>40.408568</td>\n",
       "      <td>-80.084992</td>\n",
       "      <td>True</td>\n",
       "      <td>4</td>\n",
       "      <td>2.5</td>\n",
       "      <td>PA</td>\n",
       "    </tr>\n",
       "    <tr>\n",
       "      <th>woOVJ0Z2f6XNCDntHA3b_g</th>\n",
       "      <td>{u'Accepts Credit Cards': False}</td>\n",
       "      <td>[Local Services, Sewing &amp; Alterations]</td>\n",
       "      <td>Carnegie</td>\n",
       "      <td>40.407889</td>\n",
       "      <td>-80.086060</td>\n",
       "      <td>True</td>\n",
       "      <td>5</td>\n",
       "      <td>5.0</td>\n",
       "      <td>PA</td>\n",
       "    </tr>\n",
       "    <tr>\n",
       "      <th>rv7CY8G_XibTx82YhuqQRw</th>\n",
       "      <td>{u'Take-out': True, u'Accepts Credit Cards': T...</td>\n",
       "      <td>[Restaurants]</td>\n",
       "      <td>Carnegie</td>\n",
       "      <td>40.386891</td>\n",
       "      <td>-80.093704</td>\n",
       "      <td>True</td>\n",
       "      <td>3</td>\n",
       "      <td>3.5</td>\n",
       "      <td>PA</td>\n",
       "    </tr>\n",
       "    <tr>\n",
       "      <th>e_U_FnpdKVgNb4mUN2cU_Q</th>\n",
       "      <td>{u'By Appointment Only': True}</td>\n",
       "      <td>[Health &amp; Medical, Dentists, General Dentistry]</td>\n",
       "      <td>Carnegie</td>\n",
       "      <td>40.390760</td>\n",
       "      <td>-80.078657</td>\n",
       "      <td>True</td>\n",
       "      <td>6</td>\n",
       "      <td>2.0</td>\n",
       "      <td>PA</td>\n",
       "    </tr>\n",
       "  </tbody>\n",
       "</table>\n",
       "</div>"
      ],
      "text/plain": [
       "                                                               attributes  \\\n",
       "business_id                                                                 \n",
       "vcNAWiLM4dR7D2nwwJ7nCA                     {u'By Appointment Only': True}   \n",
       "UsFtqoBl7naz8AVUBZMjQQ  {u'Happy Hour': True, u'Accepts Credit Cards':...   \n",
       "cE27W9VPgO88Qxe4ol6y_g                           {u'Good for Kids': True}   \n",
       "HZdLhv6COCleJMo7nPl-RA                                                 {}   \n",
       "mVHrayjG3uZ_RLHkLj-AMg  {u'Alcohol': u'full_bar', u'Noise Level': u'av...   \n",
       "KayYbHCt-RkbGcPdGOThNg  {u'Alcohol': u'full_bar', u'Noise Level': u'lo...   \n",
       "b12U9TFESStdy7CsTtcOeg                                                 {}   \n",
       "Sktj1eHQFuVa-M4bgnEh8g                           {u'Good for Kids': True}   \n",
       "3ZVKmuK2l7uXPE6lXY4Dbg                                                 {}   \n",
       "wJr6kSA5dchdgOdwH6dZ2w  {u'Take-out': True, u'Drive-Thru': False, u'Ou...   \n",
       "yXuao0pFz1AxB21vJjDf5w  {u'Price Range': 3, u'Accepts Credit Cards': T...   \n",
       "fNGIbpazjTRdXgwRY_NIXA  {u'Alcohol': u'full_bar', u'Noise Level': u'av...   \n",
       "b9WZJp5L1RZr4F1nxclOoQ  {u'Alcohol': u'none', u'Noise Level': u'averag...   \n",
       "zaXDakTd3RXyOa7sMrUE1g  {u'Take-out': True, u'Price Range': 1, u'Outdo...   \n",
       "zgy27FSnvwdINfk5cXBIyQ  {u'Accepts Credit Cards': True, u'Wi-Fi': u'fr...   \n",
       "WETE_LykpcnrC1sFcQ5EGg  {u'Take-out': True, u'Price Range': 2, u'Outdo...   \n",
       "6o3RK6rTcN3nw-j-r2nQmA                                                 {}   \n",
       "woOVJ0Z2f6XNCDntHA3b_g                   {u'Accepts Credit Cards': False}   \n",
       "rv7CY8G_XibTx82YhuqQRw  {u'Take-out': True, u'Accepts Credit Cards': T...   \n",
       "e_U_FnpdKVgNb4mUN2cU_Q                     {u'By Appointment Only': True}   \n",
       "\n",
       "                                                               categories  \\\n",
       "business_id                                                                 \n",
       "vcNAWiLM4dR7D2nwwJ7nCA                        [Doctors, Health & Medical]   \n",
       "UsFtqoBl7naz8AVUBZMjQQ                                        [Nightlife]   \n",
       "cE27W9VPgO88Qxe4ol6y_g                     [Active Life, Mini Golf, Golf]   \n",
       "HZdLhv6COCleJMo7nPl-RA  [Shopping, Home Services, Internet Service Pro...   \n",
       "mVHrayjG3uZ_RLHkLj-AMg  [Bars, American (New), Nightlife, Lounges, Res...   \n",
       "KayYbHCt-RkbGcPdGOThNg  [Bars, American (Traditional), Nightlife, Rest...   \n",
       "b12U9TFESStdy7CsTtcOeg                          [Auto Repair, Automotive]   \n",
       "Sktj1eHQFuVa-M4bgnEh8g                           [Active Life, Mini Golf]   \n",
       "3ZVKmuK2l7uXPE6lXY4Dbg                       [Home Services, Contractors]   \n",
       "wJr6kSA5dchdgOdwH6dZ2w  [Burgers, Breakfast & Brunch, American (Tradit...   \n",
       "yXuao0pFz1AxB21vJjDf5w                                    [Food, Grocery]   \n",
       "fNGIbpazjTRdXgwRY_NIXA  [Bars, American (Traditional), Nightlife, Loun...   \n",
       "b9WZJp5L1RZr4F1nxclOoQ                  [Breakfast & Brunch, Restaurants]   \n",
       "zaXDakTd3RXyOa7sMrUE1g                               [Cafes, Restaurants]   \n",
       "zgy27FSnvwdINfk5cXBIyQ  [Hotels & Travel, Event Planning & Services, H...   \n",
       "WETE_LykpcnrC1sFcQ5EGg        [Pubs, Irish, Nightlife, Bars, Restaurants]   \n",
       "6o3RK6rTcN3nw-j-r2nQmA                                                 []   \n",
       "woOVJ0Z2f6XNCDntHA3b_g             [Local Services, Sewing & Alterations]   \n",
       "rv7CY8G_XibTx82YhuqQRw                                      [Restaurants]   \n",
       "e_U_FnpdKVgNb4mUN2cU_Q    [Health & Medical, Dentists, General Dentistry]   \n",
       "\n",
       "                               city   latitude   longitude   open  \\\n",
       "business_id                                                         \n",
       "vcNAWiLM4dR7D2nwwJ7nCA      Phoenix  33.499313 -111.983758   True   \n",
       "UsFtqoBl7naz8AVUBZMjQQ   Dravosburg  40.350519  -79.886930   True   \n",
       "cE27W9VPgO88Qxe4ol6y_g  Bethel Park  40.356896  -80.015910  False   \n",
       "HZdLhv6COCleJMo7nPl-RA   Pittsburgh  40.357620  -80.059980   True   \n",
       "mVHrayjG3uZ_RLHkLj-AMg     Braddock  40.408735  -79.866351   True   \n",
       "KayYbHCt-RkbGcPdGOThNg     Carnegie  40.415517  -80.067534   True   \n",
       "b12U9TFESStdy7CsTtcOeg     Carnegie  40.394588  -80.084454   True   \n",
       "Sktj1eHQFuVa-M4bgnEh8g     Carnegie  40.405404  -80.076267   True   \n",
       "3ZVKmuK2l7uXPE6lXY4Dbg     Carnegie  40.406324  -80.090357   True   \n",
       "wJr6kSA5dchdgOdwH6dZ2w     Carnegie  40.387732  -80.092874   True   \n",
       "yXuao0pFz1AxB21vJjDf5w     Carnegie  40.387732  -80.092874   True   \n",
       "fNGIbpazjTRdXgwRY_NIXA     Carnegie  40.396469  -80.084942   True   \n",
       "b9WZJp5L1RZr4F1nxclOoQ     Carnegie  40.396744  -80.084800   True   \n",
       "zaXDakTd3RXyOa7sMrUE1g     Carnegie  40.404638  -80.089985   True   \n",
       "zgy27FSnvwdINfk5cXBIyQ     Carnegie  40.417419  -80.088557   True   \n",
       "WETE_LykpcnrC1sFcQ5EGg     Carnegie  40.408670  -80.085279  False   \n",
       "6o3RK6rTcN3nw-j-r2nQmA     Carnegie  40.408568  -80.084992   True   \n",
       "woOVJ0Z2f6XNCDntHA3b_g     Carnegie  40.407889  -80.086060   True   \n",
       "rv7CY8G_XibTx82YhuqQRw     Carnegie  40.386891  -80.093704   True   \n",
       "e_U_FnpdKVgNb4mUN2cU_Q     Carnegie  40.390760  -80.078657   True   \n",
       "\n",
       "                        review_count  stars state  \n",
       "business_id                                        \n",
       "vcNAWiLM4dR7D2nwwJ7nCA             9    3.5    AZ  \n",
       "UsFtqoBl7naz8AVUBZMjQQ             4    3.5    PA  \n",
       "cE27W9VPgO88Qxe4ol6y_g             5    2.5    PA  \n",
       "HZdLhv6COCleJMo7nPl-RA             3    3.5    PA  \n",
       "mVHrayjG3uZ_RLHkLj-AMg            11    4.5    PA  \n",
       "KayYbHCt-RkbGcPdGOThNg            15    4.0    PA  \n",
       "b12U9TFESStdy7CsTtcOeg             5    1.5    PA  \n",
       "Sktj1eHQFuVa-M4bgnEh8g             4    4.0    PA  \n",
       "3ZVKmuK2l7uXPE6lXY4Dbg             3    2.5    PA  \n",
       "wJr6kSA5dchdgOdwH6dZ2w             8    3.5    PA  \n",
       "yXuao0pFz1AxB21vJjDf5w             3    3.5    PA  \n",
       "fNGIbpazjTRdXgwRY_NIXA             5    4.0    PA  \n",
       "b9WZJp5L1RZr4F1nxclOoQ            38    4.5    PA  \n",
       "zaXDakTd3RXyOa7sMrUE1g             5    4.0    PA  \n",
       "zgy27FSnvwdINfk5cXBIyQ             5    4.0    PA  \n",
       "WETE_LykpcnrC1sFcQ5EGg             6    3.5    PA  \n",
       "6o3RK6rTcN3nw-j-r2nQmA             4    2.5    PA  \n",
       "woOVJ0Z2f6XNCDntHA3b_g             5    5.0    PA  \n",
       "rv7CY8G_XibTx82YhuqQRw             3    3.5    PA  \n",
       "e_U_FnpdKVgNb4mUN2cU_Q             6    2.0    PA  "
      ]
     },
     "execution_count": 629,
     "metadata": {},
     "output_type": "execute_result"
    }
   ],
   "source": [
    "import pandas as pd\n",
    "business_list = []\n",
    "    \n",
    "for b in data:\n",
    "    d = b.copy()\n",
    "    \n",
    "    # Dropping unconsidered features\n",
    "    d.pop('hours')\n",
    "    #d.pop('attributes')\n",
    "    d.pop('neighborhoods')\n",
    "    d.pop('type')\n",
    "    d.pop('full_address')\n",
    "    d.pop('name')    \n",
    "    \n",
    "    business_list.append(d)\n",
    "    \n",
    "business=pd.DataFrame(business_list)\n",
    "# Changing the index\n",
    "business = business.set_index('business_id')\n",
    "\n",
    "business.head(20)"
   ]
  },
  {
   "cell_type": "code",
   "execution_count": 630,
   "metadata": {
    "collapsed": true
   },
   "outputs": [],
   "source": [
    "my_data = np.genfromtxt('../random work R/group1.csv', delimiter=',')"
   ]
  },
  {
   "cell_type": "code",
   "execution_count": 631,
   "metadata": {
    "collapsed": false
   },
   "outputs": [
    {
     "data": {
      "text/plain": [
       "array([ nan,  nan])"
      ]
     },
     "execution_count": 631,
     "metadata": {},
     "output_type": "execute_result"
    }
   ],
   "source": [
    "my_data[0]"
   ]
  },
  {
   "cell_type": "code",
   "execution_count": 639,
   "metadata": {
    "collapsed": false
   },
   "outputs": [],
   "source": [
    "mydata = []\n",
    "with open('../random work R/group1.csv', 'rb') as csvfile:\n",
    "    r = csv.reader(csvfile, delimiter=',', quotechar='|')\n",
    "    for row in r:\n",
    "        mydata.append(row[1])\n"
   ]
  },
  {
   "cell_type": "code",
   "execution_count": 641,
   "metadata": {
    "collapsed": false
   },
   "outputs": [],
   "source": [
    "mydata = mydata[1:]"
   ]
  },
  {
   "cell_type": "code",
   "execution_count": 643,
   "metadata": {
    "collapsed": false
   },
   "outputs": [],
   "source": [
    "mydata = [string[1:-1] for string in mydata]"
   ]
  },
  {
   "cell_type": "code",
   "execution_count": 645,
   "metadata": {
    "collapsed": false
   },
   "outputs": [],
   "source": [
    "group1 = mydata"
   ]
  },
  {
   "cell_type": "code",
   "execution_count": 646,
   "metadata": {
    "collapsed": false
   },
   "outputs": [
    {
     "data": {
      "text/html": [
       "<div>\n",
       "<table border=\"1\" class=\"dataframe\">\n",
       "  <thead>\n",
       "    <tr style=\"text-align: right;\">\n",
       "      <th></th>\n",
       "      <th>attributes</th>\n",
       "      <th>categories</th>\n",
       "      <th>city</th>\n",
       "      <th>latitude</th>\n",
       "      <th>longitude</th>\n",
       "      <th>open</th>\n",
       "      <th>review_count</th>\n",
       "      <th>stars</th>\n",
       "      <th>state</th>\n",
       "    </tr>\n",
       "    <tr>\n",
       "      <th>business_id</th>\n",
       "      <th></th>\n",
       "      <th></th>\n",
       "      <th></th>\n",
       "      <th></th>\n",
       "      <th></th>\n",
       "      <th></th>\n",
       "      <th></th>\n",
       "      <th></th>\n",
       "      <th></th>\n",
       "    </tr>\n",
       "  </thead>\n",
       "  <tbody>\n",
       "    <tr>\n",
       "      <th>AFDFOs2GaIyUArGyEUDQzQ</th>\n",
       "      <td>{u'Alcohol': u'beer_and_wine', u'Noise Level':...</td>\n",
       "      <td>[Chinese, Restaurants]</td>\n",
       "      <td>Las Vegas</td>\n",
       "      <td>36.125908</td>\n",
       "      <td>-115.197904</td>\n",
       "      <td>True</td>\n",
       "      <td>155</td>\n",
       "      <td>3.0</td>\n",
       "      <td>NV</td>\n",
       "    </tr>\n",
       "    <tr>\n",
       "      <th>FV16IeXJp2W6pnghTz2FAw</th>\n",
       "      <td>{u'Take-out': True, u'Accepts Credit Cards': T...</td>\n",
       "      <td>[Vietnamese, Chinese, Restaurants]</td>\n",
       "      <td>Las Vegas</td>\n",
       "      <td>36.126177</td>\n",
       "      <td>-115.193971</td>\n",
       "      <td>True</td>\n",
       "      <td>1514</td>\n",
       "      <td>3.5</td>\n",
       "      <td>NV</td>\n",
       "    </tr>\n",
       "    <tr>\n",
       "      <th>pNqHRWlrbh71zbPZNd7_2g</th>\n",
       "      <td>{u'Take-out': True, u'Accepts Credit Cards': T...</td>\n",
       "      <td>[Chinese, Restaurants]</td>\n",
       "      <td>Las Vegas</td>\n",
       "      <td>36.126543</td>\n",
       "      <td>-115.206888</td>\n",
       "      <td>True</td>\n",
       "      <td>10</td>\n",
       "      <td>3.0</td>\n",
       "      <td>NV</td>\n",
       "    </tr>\n",
       "    <tr>\n",
       "      <th>Vkm6ZWlPhIioFk6xiypSjg</th>\n",
       "      <td>{u'Take-out': True, u'Has TV': True, u'Waiter ...</td>\n",
       "      <td>[Chinese, Restaurants]</td>\n",
       "      <td>Las Vegas</td>\n",
       "      <td>36.126331</td>\n",
       "      <td>-115.197076</td>\n",
       "      <td>False</td>\n",
       "      <td>8</td>\n",
       "      <td>3.5</td>\n",
       "      <td>NV</td>\n",
       "    </tr>\n",
       "    <tr>\n",
       "      <th>1ldDbggHHgPlj3k0SpBTKQ</th>\n",
       "      <td>{u'Alcohol': u'none', u'Noise Level': u'averag...</td>\n",
       "      <td>[Barbeque, Chinese, Restaurants]</td>\n",
       "      <td>Las Vegas</td>\n",
       "      <td>36.126378</td>\n",
       "      <td>-115.196994</td>\n",
       "      <td>True</td>\n",
       "      <td>310</td>\n",
       "      <td>2.0</td>\n",
       "      <td>NV</td>\n",
       "    </tr>\n",
       "    <tr>\n",
       "      <th>pj0vl4DIlDCChe80Df40Yw</th>\n",
       "      <td>{u'Take-out': True, u'Accepts Credit Cards': T...</td>\n",
       "      <td>[Chinese, Restaurants]</td>\n",
       "      <td>Las Vegas</td>\n",
       "      <td>36.149726</td>\n",
       "      <td>-115.207664</td>\n",
       "      <td>True</td>\n",
       "      <td>125</td>\n",
       "      <td>4.0</td>\n",
       "      <td>NV</td>\n",
       "    </tr>\n",
       "    <tr>\n",
       "      <th>V3S6RpKgYc5XCLjgI9JeeQ</th>\n",
       "      <td>{u'Take-out': True, u'Accepts Credit Cards': T...</td>\n",
       "      <td>[Chinese, Restaurants]</td>\n",
       "      <td>Las Vegas</td>\n",
       "      <td>36.144017</td>\n",
       "      <td>-115.193618</td>\n",
       "      <td>True</td>\n",
       "      <td>34</td>\n",
       "      <td>3.5</td>\n",
       "      <td>NV</td>\n",
       "    </tr>\n",
       "    <tr>\n",
       "      <th>CHhYILNXTM3DIhmnpXlB3Q</th>\n",
       "      <td>{u'Take-out': True, u'Accepts Credit Cards': T...</td>\n",
       "      <td>[Chinese, Restaurants]</td>\n",
       "      <td>Las Vegas</td>\n",
       "      <td>36.142482</td>\n",
       "      <td>-115.208553</td>\n",
       "      <td>True</td>\n",
       "      <td>24</td>\n",
       "      <td>2.5</td>\n",
       "      <td>NV</td>\n",
       "    </tr>\n",
       "    <tr>\n",
       "      <th>Tigw_9LXyHL63Eu3XAXwRw</th>\n",
       "      <td>{u'Take-out': True, u'Accepts Credit Cards': T...</td>\n",
       "      <td>[Chinese, Restaurants]</td>\n",
       "      <td>Las Vegas</td>\n",
       "      <td>36.126378</td>\n",
       "      <td>-115.196994</td>\n",
       "      <td>True</td>\n",
       "      <td>96</td>\n",
       "      <td>2.0</td>\n",
       "      <td>NV</td>\n",
       "    </tr>\n",
       "    <tr>\n",
       "      <th>zFcd_gelAUEwAvJOgiZpvg</th>\n",
       "      <td>{u'Alcohol': u'beer_and_wine', u'Noise Level':...</td>\n",
       "      <td>[Seafood, Chinese, Restaurants]</td>\n",
       "      <td>Las Vegas</td>\n",
       "      <td>36.125834</td>\n",
       "      <td>-115.203424</td>\n",
       "      <td>True</td>\n",
       "      <td>309</td>\n",
       "      <td>3.5</td>\n",
       "      <td>NV</td>\n",
       "    </tr>\n",
       "    <tr>\n",
       "      <th>DqzyOJTJXu0Iwi8og5DJDA</th>\n",
       "      <td>{u'Take-out': True, u'Accepts Credit Cards': T...</td>\n",
       "      <td>[Thai, Chinese, Restaurants]</td>\n",
       "      <td>Las Vegas</td>\n",
       "      <td>36.156773</td>\n",
       "      <td>-115.148335</td>\n",
       "      <td>True</td>\n",
       "      <td>119</td>\n",
       "      <td>4.0</td>\n",
       "      <td>NV</td>\n",
       "    </tr>\n",
       "    <tr>\n",
       "      <th>9oFB8IPpsRkhlE8WrDMV-Q</th>\n",
       "      <td>{u'Take-out': True, u'Alcohol': u'none', u'Noi...</td>\n",
       "      <td>[Mexican, Restaurants]</td>\n",
       "      <td>Las Vegas</td>\n",
       "      <td>36.158845</td>\n",
       "      <td>-115.121264</td>\n",
       "      <td>True</td>\n",
       "      <td>4</td>\n",
       "      <td>4.5</td>\n",
       "      <td>NV</td>\n",
       "    </tr>\n",
       "    <tr>\n",
       "      <th>q28CkzJaV5yKPXysY8xewA</th>\n",
       "      <td>{u'Alcohol': u'none', u'Noise Level': u'loud',...</td>\n",
       "      <td>[Buffets, Japanese, Chinese, Restaurants]</td>\n",
       "      <td>Las Vegas</td>\n",
       "      <td>36.010452</td>\n",
       "      <td>-115.118553</td>\n",
       "      <td>True</td>\n",
       "      <td>150</td>\n",
       "      <td>3.0</td>\n",
       "      <td>NV</td>\n",
       "    </tr>\n",
       "    <tr>\n",
       "      <th>XaJQnEg63F-CJ9kNhcqOjw</th>\n",
       "      <td>{u'Take-out': True, u'Accepts Credit Cards': T...</td>\n",
       "      <td>[Chinese, Restaurants]</td>\n",
       "      <td>Las Vegas</td>\n",
       "      <td>36.195823</td>\n",
       "      <td>-115.224801</td>\n",
       "      <td>True</td>\n",
       "      <td>12</td>\n",
       "      <td>2.5</td>\n",
       "      <td>NV</td>\n",
       "    </tr>\n",
       "    <tr>\n",
       "      <th>e-eqwMPMDXPYSdwkQbYhSw</th>\n",
       "      <td>{u'Take-out': True, u'Accepts Credit Cards': T...</td>\n",
       "      <td>[Chinese, Restaurants]</td>\n",
       "      <td>Las Vegas</td>\n",
       "      <td>36.089489</td>\n",
       "      <td>-115.243200</td>\n",
       "      <td>False</td>\n",
       "      <td>25</td>\n",
       "      <td>2.5</td>\n",
       "      <td>NV</td>\n",
       "    </tr>\n",
       "    <tr>\n",
       "      <th>OWQJrnXbWkLTI1-qRkkUpQ</th>\n",
       "      <td>{u'Take-out': True, u'Accepts Credit Cards': T...</td>\n",
       "      <td>[Chinese, Restaurants]</td>\n",
       "      <td>Las Vegas</td>\n",
       "      <td>36.085771</td>\n",
       "      <td>-115.102599</td>\n",
       "      <td>True</td>\n",
       "      <td>97</td>\n",
       "      <td>4.0</td>\n",
       "      <td>NV</td>\n",
       "    </tr>\n",
       "    <tr>\n",
       "      <th>ZZtEx_UutNxz9B5knTL4tQ</th>\n",
       "      <td>{u'Take-out': True, u'Accepts Credit Cards': T...</td>\n",
       "      <td>[Thai, Chinese, Restaurants]</td>\n",
       "      <td>Las Vegas</td>\n",
       "      <td>36.097298</td>\n",
       "      <td>-115.101378</td>\n",
       "      <td>True</td>\n",
       "      <td>54</td>\n",
       "      <td>4.0</td>\n",
       "      <td>NV</td>\n",
       "    </tr>\n",
       "    <tr>\n",
       "      <th>w9KBaltlg7B_tca-nNfj_A</th>\n",
       "      <td>{u'Take-out': True, u'Accepts Credit Cards': T...</td>\n",
       "      <td>[Chinese, Restaurants]</td>\n",
       "      <td>Las Vegas</td>\n",
       "      <td>36.070667</td>\n",
       "      <td>-115.091161</td>\n",
       "      <td>True</td>\n",
       "      <td>53</td>\n",
       "      <td>3.5</td>\n",
       "      <td>NV</td>\n",
       "    </tr>\n",
       "    <tr>\n",
       "      <th>HNmyXUXKSr3JI2yXuU7EMQ</th>\n",
       "      <td>{u'Take-out': True, u'Accepts Credit Cards': T...</td>\n",
       "      <td>[Chinese, Restaurants]</td>\n",
       "      <td>Las Vegas</td>\n",
       "      <td>36.200690</td>\n",
       "      <td>-115.281657</td>\n",
       "      <td>True</td>\n",
       "      <td>28</td>\n",
       "      <td>3.5</td>\n",
       "      <td>NV</td>\n",
       "    </tr>\n",
       "    <tr>\n",
       "      <th>TUxCIJ6Jj2lEOqoVIoUH4g</th>\n",
       "      <td>{u'Take-out': True, u'Price Range': 1, u'Outdo...</td>\n",
       "      <td>[Chinese, Restaurants]</td>\n",
       "      <td>Las Vegas</td>\n",
       "      <td>36.263045</td>\n",
       "      <td>-115.248134</td>\n",
       "      <td>True</td>\n",
       "      <td>10</td>\n",
       "      <td>2.5</td>\n",
       "      <td>NV</td>\n",
       "    </tr>\n",
       "    <tr>\n",
       "      <th>1MJ5xmHmeCiau07X2bQyUQ</th>\n",
       "      <td>{u'Take-out': True, u'Accepts Credit Cards': T...</td>\n",
       "      <td>[Chinese, Restaurants]</td>\n",
       "      <td>Las Vegas</td>\n",
       "      <td>36.125688</td>\n",
       "      <td>-115.223141</td>\n",
       "      <td>True</td>\n",
       "      <td>205</td>\n",
       "      <td>4.0</td>\n",
       "      <td>NV</td>\n",
       "    </tr>\n",
       "    <tr>\n",
       "      <th>ME0olHUKPsJ9spaLudZlYA</th>\n",
       "      <td>{u'Take-out': True, u'Accepts Credit Cards': T...</td>\n",
       "      <td>[Dim Sum, Sushi Bars, Japanese, Chinese, Resta...</td>\n",
       "      <td>Las Vegas</td>\n",
       "      <td>36.144758</td>\n",
       "      <td>-115.242268</td>\n",
       "      <td>True</td>\n",
       "      <td>164</td>\n",
       "      <td>3.0</td>\n",
       "      <td>NV</td>\n",
       "    </tr>\n",
       "    <tr>\n",
       "      <th>Xnwjo2TUu4AyGdmsxeG7OQ</th>\n",
       "      <td>{u'Alcohol': u'full_bar', u'Noise Level': u'av...</td>\n",
       "      <td>[Asian Fusion, Cantonese, Dim Sum, Chinese, Re...</td>\n",
       "      <td>Las Vegas</td>\n",
       "      <td>36.126710</td>\n",
       "      <td>-115.213915</td>\n",
       "      <td>False</td>\n",
       "      <td>242</td>\n",
       "      <td>3.0</td>\n",
       "      <td>NV</td>\n",
       "    </tr>\n",
       "    <tr>\n",
       "      <th>t02b8iqce8ZU4y6tpBQXSg</th>\n",
       "      <td>{u'Take-out': True, u'Drive-Thru': False, u'Ou...</td>\n",
       "      <td>[Fast Food, Chinese, Restaurants]</td>\n",
       "      <td>Las Vegas</td>\n",
       "      <td>36.095225</td>\n",
       "      <td>-115.297319</td>\n",
       "      <td>True</td>\n",
       "      <td>7</td>\n",
       "      <td>3.5</td>\n",
       "      <td>NV</td>\n",
       "    </tr>\n",
       "    <tr>\n",
       "      <th>RKI9xvPSuI6mWXMjfdnjXw</th>\n",
       "      <td>{u'Take-out': True, u'Accepts Credit Cards': T...</td>\n",
       "      <td>[Chinese, Restaurants]</td>\n",
       "      <td>Las Vegas</td>\n",
       "      <td>36.194180</td>\n",
       "      <td>-115.025472</td>\n",
       "      <td>True</td>\n",
       "      <td>19</td>\n",
       "      <td>4.0</td>\n",
       "      <td>NV</td>\n",
       "    </tr>\n",
       "    <tr>\n",
       "      <th>tcSgN0K3KhgVSSmHOLSWjQ</th>\n",
       "      <td>{u'Take-out': True, u'Price Range': 1, u'Outdo...</td>\n",
       "      <td>[Chinese, Restaurants]</td>\n",
       "      <td>Las Vegas</td>\n",
       "      <td>36.055507</td>\n",
       "      <td>-115.046182</td>\n",
       "      <td>True</td>\n",
       "      <td>10</td>\n",
       "      <td>2.0</td>\n",
       "      <td>NV</td>\n",
       "    </tr>\n",
       "    <tr>\n",
       "      <th>7VDrYNPhDKFURZbK4MRi8w</th>\n",
       "      <td>{u'Take-out': True, u'Accepts Credit Cards': T...</td>\n",
       "      <td>[Chinese, Restaurants]</td>\n",
       "      <td>Las Vegas</td>\n",
       "      <td>36.115352</td>\n",
       "      <td>-115.224512</td>\n",
       "      <td>True</td>\n",
       "      <td>31</td>\n",
       "      <td>3.0</td>\n",
       "      <td>NV</td>\n",
       "    </tr>\n",
       "    <tr>\n",
       "      <th>2Dbg35sPSGmZGcbBVNa9dA</th>\n",
       "      <td>{u'Alcohol': u'full_bar', u'Noise Level': u'av...</td>\n",
       "      <td>[Thai, Vegetarian, Chinese, Restaurants]</td>\n",
       "      <td>Las Vegas</td>\n",
       "      <td>36.126148</td>\n",
       "      <td>-115.190459</td>\n",
       "      <td>True</td>\n",
       "      <td>246</td>\n",
       "      <td>3.5</td>\n",
       "      <td>NV</td>\n",
       "    </tr>\n",
       "    <tr>\n",
       "      <th>y61Tq9hErVKoT6w-qyRpwQ</th>\n",
       "      <td>{u'Take-out': True, u'Accepts Credit Cards': T...</td>\n",
       "      <td>[Chinese, Restaurants]</td>\n",
       "      <td>Las Vegas</td>\n",
       "      <td>36.101194</td>\n",
       "      <td>-115.225766</td>\n",
       "      <td>True</td>\n",
       "      <td>46</td>\n",
       "      <td>3.5</td>\n",
       "      <td>NV</td>\n",
       "    </tr>\n",
       "    <tr>\n",
       "      <th>5tYLVPc2PKnj6E62sY6QMg</th>\n",
       "      <td>{u'Alcohol': u'beer_and_wine', u'Open 24 Hours...</td>\n",
       "      <td>[Seafood, Cantonese, Dim Sum, Chinese, Restaur...</td>\n",
       "      <td>Las Vegas</td>\n",
       "      <td>36.105081</td>\n",
       "      <td>-115.207640</td>\n",
       "      <td>True</td>\n",
       "      <td>366</td>\n",
       "      <td>3.5</td>\n",
       "      <td>NV</td>\n",
       "    </tr>\n",
       "    <tr>\n",
       "      <th>...</th>\n",
       "      <td>...</td>\n",
       "      <td>...</td>\n",
       "      <td>...</td>\n",
       "      <td>...</td>\n",
       "      <td>...</td>\n",
       "      <td>...</td>\n",
       "      <td>...</td>\n",
       "      <td>...</td>\n",
       "      <td>...</td>\n",
       "    </tr>\n",
       "    <tr>\n",
       "      <th>js12Ev8XKlh36gZeGHzQnA</th>\n",
       "      <td>{u'Alcohol': u'full_bar', u'Noise Level': u'av...</td>\n",
       "      <td>[Dim Sum, Chinese, Restaurants]</td>\n",
       "      <td>Las Vegas</td>\n",
       "      <td>36.128561</td>\n",
       "      <td>-115.171130</td>\n",
       "      <td>True</td>\n",
       "      <td>221</td>\n",
       "      <td>3.0</td>\n",
       "      <td>NV</td>\n",
       "    </tr>\n",
       "    <tr>\n",
       "      <th>-O42yadp5Otp2F2DsilaFA</th>\n",
       "      <td>{u'Take-out': True, u'Price Range': 2, u'Outdo...</td>\n",
       "      <td>[Chinese, Restaurants]</td>\n",
       "      <td>Las Vegas</td>\n",
       "      <td>36.112740</td>\n",
       "      <td>-115.211340</td>\n",
       "      <td>True</td>\n",
       "      <td>20</td>\n",
       "      <td>3.5</td>\n",
       "      <td>NV</td>\n",
       "    </tr>\n",
       "    <tr>\n",
       "      <th>C0r1yj7CBKMXc4Up_5Nmhg</th>\n",
       "      <td>{u'Take-out': True, u'Accepts Credit Cards': T...</td>\n",
       "      <td>[Chinese, Cantonese, Barbeque, Hawaiian, Resta...</td>\n",
       "      <td>Las Vegas</td>\n",
       "      <td>36.038706</td>\n",
       "      <td>-115.198603</td>\n",
       "      <td>True</td>\n",
       "      <td>79</td>\n",
       "      <td>3.5</td>\n",
       "      <td>NV</td>\n",
       "    </tr>\n",
       "    <tr>\n",
       "      <th>3cSnc2Ts0GckC9QRvlQbKA</th>\n",
       "      <td>{u'Take-out': True, u'Accepts Credit Cards': T...</td>\n",
       "      <td>[Chinese, Restaurants]</td>\n",
       "      <td>Las Vegas</td>\n",
       "      <td>36.116354</td>\n",
       "      <td>-115.192881</td>\n",
       "      <td>True</td>\n",
       "      <td>101</td>\n",
       "      <td>3.5</td>\n",
       "      <td>NV</td>\n",
       "    </tr>\n",
       "    <tr>\n",
       "      <th>6AmBMN_8KBxjFii4inppJw</th>\n",
       "      <td>{u'Take-out': True, u'Accepts Credit Cards': F...</td>\n",
       "      <td>[Chinese, Barbeque, Restaurants]</td>\n",
       "      <td>Las Vegas</td>\n",
       "      <td>36.125948</td>\n",
       "      <td>-115.218825</td>\n",
       "      <td>True</td>\n",
       "      <td>50</td>\n",
       "      <td>2.5</td>\n",
       "      <td>NV</td>\n",
       "    </tr>\n",
       "    <tr>\n",
       "      <th>kALWQ76kSTrt_WhdjLAs3g</th>\n",
       "      <td>{u'Take-out': True, u'Accepts Credit Cards': T...</td>\n",
       "      <td>[Seafood, Buffets, Chinese, Restaurants]</td>\n",
       "      <td>Las Vegas</td>\n",
       "      <td>36.115194</td>\n",
       "      <td>-115.118622</td>\n",
       "      <td>True</td>\n",
       "      <td>101</td>\n",
       "      <td>2.5</td>\n",
       "      <td>NV</td>\n",
       "    </tr>\n",
       "    <tr>\n",
       "      <th>bCRrLdBLel3y73tA8w6C3Q</th>\n",
       "      <td>{u'Take-out': True, u'Accepts Credit Cards': T...</td>\n",
       "      <td>[Chinese, Restaurants]</td>\n",
       "      <td>Las Vegas</td>\n",
       "      <td>36.117060</td>\n",
       "      <td>-115.177875</td>\n",
       "      <td>True</td>\n",
       "      <td>449</td>\n",
       "      <td>2.5</td>\n",
       "      <td>NV</td>\n",
       "    </tr>\n",
       "    <tr>\n",
       "      <th>LVUQqdy6sGRXO7UJqhC8-A</th>\n",
       "      <td>{u'Alcohol': u'none', u'Open 24 Hours': False,...</td>\n",
       "      <td>[Vegetarian, Vegan, Chinese, Restaurants]</td>\n",
       "      <td>Las Vegas</td>\n",
       "      <td>36.114321</td>\n",
       "      <td>-115.091887</td>\n",
       "      <td>False</td>\n",
       "      <td>30</td>\n",
       "      <td>4.0</td>\n",
       "      <td>NV</td>\n",
       "    </tr>\n",
       "    <tr>\n",
       "      <th>us7zoME3iW84mo_Ykt2ZLQ</th>\n",
       "      <td>{u'Take-out': True, u'Price Range': 1, u'Outdo...</td>\n",
       "      <td>[Mongolian, Chinese, Restaurants]</td>\n",
       "      <td>Las Vegas</td>\n",
       "      <td>36.116487</td>\n",
       "      <td>-115.141075</td>\n",
       "      <td>False</td>\n",
       "      <td>19</td>\n",
       "      <td>3.0</td>\n",
       "      <td>NV</td>\n",
       "    </tr>\n",
       "    <tr>\n",
       "      <th>oWiicnW4twnBLFT3sAVpGA</th>\n",
       "      <td>{u'Take-out': True, u'Accepts Credit Cards': T...</td>\n",
       "      <td>[Chinese, Restaurants]</td>\n",
       "      <td>Las Vegas</td>\n",
       "      <td>36.114988</td>\n",
       "      <td>-115.147904</td>\n",
       "      <td>True</td>\n",
       "      <td>83</td>\n",
       "      <td>3.5</td>\n",
       "      <td>NV</td>\n",
       "    </tr>\n",
       "    <tr>\n",
       "      <th>GmAGA39Wjv3MLT2ju5ALQQ</th>\n",
       "      <td>{u'Alcohol': u'full_bar', u'Noise Level': u'av...</td>\n",
       "      <td>[Gluten-Free, Asian Fusion, Chinese, Restaurants]</td>\n",
       "      <td>Las Vegas</td>\n",
       "      <td>36.110067</td>\n",
       "      <td>-115.172501</td>\n",
       "      <td>True</td>\n",
       "      <td>290</td>\n",
       "      <td>3.5</td>\n",
       "      <td>NV</td>\n",
       "    </tr>\n",
       "    <tr>\n",
       "      <th>40axkHtNTmROdIMQJ_gOsw</th>\n",
       "      <td>{u'Take-out': True, u'Accepts Credit Cards': T...</td>\n",
       "      <td>[Chinese, Restaurants]</td>\n",
       "      <td>Las Vegas</td>\n",
       "      <td>36.116765</td>\n",
       "      <td>-115.206279</td>\n",
       "      <td>True</td>\n",
       "      <td>48</td>\n",
       "      <td>4.0</td>\n",
       "      <td>NV</td>\n",
       "    </tr>\n",
       "    <tr>\n",
       "      <th>E4-5m-mkGoEtxqNQ2ikqLg</th>\n",
       "      <td>{u'Take-out': True, u'Price Range': 2, u'Outdo...</td>\n",
       "      <td>[Chinese, Restaurants]</td>\n",
       "      <td>Las Vegas</td>\n",
       "      <td>36.146267</td>\n",
       "      <td>-115.182987</td>\n",
       "      <td>True</td>\n",
       "      <td>21</td>\n",
       "      <td>3.0</td>\n",
       "      <td>NV</td>\n",
       "    </tr>\n",
       "    <tr>\n",
       "      <th>yBvj8B6e0Bj7TRM2743Afw</th>\n",
       "      <td>{u'Take-out': True, u'Price Range': 1, u'Outdo...</td>\n",
       "      <td>[Chinese, Restaurants]</td>\n",
       "      <td>Las Vegas</td>\n",
       "      <td>36.126020</td>\n",
       "      <td>-115.219839</td>\n",
       "      <td>False</td>\n",
       "      <td>29</td>\n",
       "      <td>3.5</td>\n",
       "      <td>NV</td>\n",
       "    </tr>\n",
       "    <tr>\n",
       "      <th>Ieuv-XET6SR_qIscZzgD-A</th>\n",
       "      <td>{u'Alcohol': u'full_bar', u'Noise Level': u'av...</td>\n",
       "      <td>[Cantonese, American (New), Chinese, Restaurants]</td>\n",
       "      <td>Las Vegas</td>\n",
       "      <td>36.101813</td>\n",
       "      <td>-115.172596</td>\n",
       "      <td>True</td>\n",
       "      <td>175</td>\n",
       "      <td>4.0</td>\n",
       "      <td>NV</td>\n",
       "    </tr>\n",
       "    <tr>\n",
       "      <th>n2vuEfMHtM1ZE2LR9ppLXg</th>\n",
       "      <td>{u'Take-out': True, u'Accepts Credit Cards': T...</td>\n",
       "      <td>[Thai, Chinese, Restaurants]</td>\n",
       "      <td>Las Vegas</td>\n",
       "      <td>36.021640</td>\n",
       "      <td>-115.277661</td>\n",
       "      <td>True</td>\n",
       "      <td>69</td>\n",
       "      <td>3.0</td>\n",
       "      <td>NV</td>\n",
       "    </tr>\n",
       "    <tr>\n",
       "      <th>RTM18qIdRT4Zt062MaqHXw</th>\n",
       "      <td>{u'Take-out': True, u'Accepts Credit Cards': T...</td>\n",
       "      <td>[Chinese, Restaurants]</td>\n",
       "      <td>Las Vegas</td>\n",
       "      <td>36.172450</td>\n",
       "      <td>-115.195649</td>\n",
       "      <td>True</td>\n",
       "      <td>3</td>\n",
       "      <td>2.5</td>\n",
       "      <td>NV</td>\n",
       "    </tr>\n",
       "    <tr>\n",
       "      <th>NdQMBelvH0TTe1pIrnFYmA</th>\n",
       "      <td>{u'Take-out': True, u'Accepts Credit Cards': T...</td>\n",
       "      <td>[Chinese, Restaurants]</td>\n",
       "      <td>Las Vegas</td>\n",
       "      <td>36.127749</td>\n",
       "      <td>-115.224808</td>\n",
       "      <td>True</td>\n",
       "      <td>139</td>\n",
       "      <td>3.5</td>\n",
       "      <td>NV</td>\n",
       "    </tr>\n",
       "    <tr>\n",
       "      <th>htIMKHDjCIHJALQOdY1keA</th>\n",
       "      <td>{u'Take-out': True, u'Accepts Credit Cards': T...</td>\n",
       "      <td>[Chinese, Restaurants]</td>\n",
       "      <td>Las Vegas</td>\n",
       "      <td>36.020944</td>\n",
       "      <td>-115.267744</td>\n",
       "      <td>True</td>\n",
       "      <td>62</td>\n",
       "      <td>3.0</td>\n",
       "      <td>NV</td>\n",
       "    </tr>\n",
       "    <tr>\n",
       "      <th>mzQp4bnowm0ELC7aJOqpLQ</th>\n",
       "      <td>{u'Take-out': True, u'Accepts Credit Cards': T...</td>\n",
       "      <td>[Korean, Japanese, Chinese, Restaurants]</td>\n",
       "      <td>Las Vegas</td>\n",
       "      <td>36.118221</td>\n",
       "      <td>-115.172532</td>\n",
       "      <td>False</td>\n",
       "      <td>104</td>\n",
       "      <td>3.0</td>\n",
       "      <td>NV</td>\n",
       "    </tr>\n",
       "    <tr>\n",
       "      <th>YzqpmUayG1dhUjkVe8V9Lw</th>\n",
       "      <td>{u'Take-out': False, u'Price Range': 3, u'Good...</td>\n",
       "      <td>[Seafood, Asian Fusion, Restaurants]</td>\n",
       "      <td>Las Vegas</td>\n",
       "      <td>36.119556</td>\n",
       "      <td>-115.173336</td>\n",
       "      <td>True</td>\n",
       "      <td>10</td>\n",
       "      <td>2.5</td>\n",
       "      <td>NV</td>\n",
       "    </tr>\n",
       "    <tr>\n",
       "      <th>aOxyvODx3QeaE-jpw92hzw</th>\n",
       "      <td>{u'Take-out': True, u'Accepts Credit Cards': T...</td>\n",
       "      <td>[Buffets, Chinese, Restaurants]</td>\n",
       "      <td>Las Vegas</td>\n",
       "      <td>36.152701</td>\n",
       "      <td>-115.207670</td>\n",
       "      <td>True</td>\n",
       "      <td>42</td>\n",
       "      <td>2.5</td>\n",
       "      <td>NV</td>\n",
       "    </tr>\n",
       "    <tr>\n",
       "      <th>yk9R3XBW6-zqrS3VIhkLFQ</th>\n",
       "      <td>{u'Take-out': True, u'Accepts Credit Cards': T...</td>\n",
       "      <td>[Chinese, Restaurants]</td>\n",
       "      <td>Las Vegas</td>\n",
       "      <td>36.100504</td>\n",
       "      <td>-115.313444</td>\n",
       "      <td>True</td>\n",
       "      <td>25</td>\n",
       "      <td>4.0</td>\n",
       "      <td>NV</td>\n",
       "    </tr>\n",
       "    <tr>\n",
       "      <th>2sn5BECdlYxqQlw1VODDoA</th>\n",
       "      <td>{u'Take-out': True, u'Accepts Credit Cards': T...</td>\n",
       "      <td>[Chinese, Restaurants]</td>\n",
       "      <td>Las Vegas</td>\n",
       "      <td>36.127288</td>\n",
       "      <td>-115.225012</td>\n",
       "      <td>True</td>\n",
       "      <td>339</td>\n",
       "      <td>4.0</td>\n",
       "      <td>NV</td>\n",
       "    </tr>\n",
       "    <tr>\n",
       "      <th>VnTREYYq-cquQ3f2re8iBg</th>\n",
       "      <td>{u'Take-out': True, u'Accepts Credit Cards': T...</td>\n",
       "      <td>[Chinese, Restaurants]</td>\n",
       "      <td>Las Vegas</td>\n",
       "      <td>36.106763</td>\n",
       "      <td>-115.177087</td>\n",
       "      <td>True</td>\n",
       "      <td>123</td>\n",
       "      <td>4.0</td>\n",
       "      <td>NV</td>\n",
       "    </tr>\n",
       "    <tr>\n",
       "      <th>uFi6gZIorIy9WGkCxnGrdQ</th>\n",
       "      <td>{u'Take-out': True, u'Accepts Credit Cards': T...</td>\n",
       "      <td>[Chinese, Restaurants]</td>\n",
       "      <td>Las Vegas</td>\n",
       "      <td>36.121239</td>\n",
       "      <td>-115.171338</td>\n",
       "      <td>True</td>\n",
       "      <td>20</td>\n",
       "      <td>2.5</td>\n",
       "      <td>NV</td>\n",
       "    </tr>\n",
       "    <tr>\n",
       "      <th>PGkKmZIK_tCMbLPy1BRwMg</th>\n",
       "      <td>{u'Take-out': True, u'Accepts Credit Cards': T...</td>\n",
       "      <td>[Chinese, Restaurants]</td>\n",
       "      <td>Las Vegas</td>\n",
       "      <td>36.206795</td>\n",
       "      <td>-115.302340</td>\n",
       "      <td>True</td>\n",
       "      <td>75</td>\n",
       "      <td>3.5</td>\n",
       "      <td>NV</td>\n",
       "    </tr>\n",
       "    <tr>\n",
       "      <th>fJX4coaMuEwipbQlkhskWQ</th>\n",
       "      <td>{u'Take-out': True, u'Accepts Credit Cards': T...</td>\n",
       "      <td>[Chinese, Restaurants]</td>\n",
       "      <td>Las Vegas</td>\n",
       "      <td>36.068925</td>\n",
       "      <td>-115.298494</td>\n",
       "      <td>False</td>\n",
       "      <td>40</td>\n",
       "      <td>3.0</td>\n",
       "      <td>NV</td>\n",
       "    </tr>\n",
       "    <tr>\n",
       "      <th>s-OomSmBbKJnAkPvCuXFgA</th>\n",
       "      <td>{u'Take-out': True, u'Accepts Credit Cards': T...</td>\n",
       "      <td>[Chinese, Restaurants]</td>\n",
       "      <td>Las Vegas</td>\n",
       "      <td>36.125145</td>\n",
       "      <td>-115.297933</td>\n",
       "      <td>True</td>\n",
       "      <td>59</td>\n",
       "      <td>3.5</td>\n",
       "      <td>NV</td>\n",
       "    </tr>\n",
       "    <tr>\n",
       "      <th>_ZGPu2iKQSfmQ8l8lYN9bQ</th>\n",
       "      <td>{u'Take-out': True, u'Accepts Credit Cards': T...</td>\n",
       "      <td>[Chinese, Restaurants]</td>\n",
       "      <td>Las Vegas</td>\n",
       "      <td>36.246758</td>\n",
       "      <td>-115.209185</td>\n",
       "      <td>False</td>\n",
       "      <td>5</td>\n",
       "      <td>4.0</td>\n",
       "      <td>NV</td>\n",
       "    </tr>\n",
       "  </tbody>\n",
       "</table>\n",
       "<p>132 rows × 9 columns</p>\n",
       "</div>"
      ],
      "text/plain": [
       "                                                               attributes  \\\n",
       "business_id                                                                 \n",
       "AFDFOs2GaIyUArGyEUDQzQ  {u'Alcohol': u'beer_and_wine', u'Noise Level':...   \n",
       "FV16IeXJp2W6pnghTz2FAw  {u'Take-out': True, u'Accepts Credit Cards': T...   \n",
       "pNqHRWlrbh71zbPZNd7_2g  {u'Take-out': True, u'Accepts Credit Cards': T...   \n",
       "Vkm6ZWlPhIioFk6xiypSjg  {u'Take-out': True, u'Has TV': True, u'Waiter ...   \n",
       "1ldDbggHHgPlj3k0SpBTKQ  {u'Alcohol': u'none', u'Noise Level': u'averag...   \n",
       "pj0vl4DIlDCChe80Df40Yw  {u'Take-out': True, u'Accepts Credit Cards': T...   \n",
       "V3S6RpKgYc5XCLjgI9JeeQ  {u'Take-out': True, u'Accepts Credit Cards': T...   \n",
       "CHhYILNXTM3DIhmnpXlB3Q  {u'Take-out': True, u'Accepts Credit Cards': T...   \n",
       "Tigw_9LXyHL63Eu3XAXwRw  {u'Take-out': True, u'Accepts Credit Cards': T...   \n",
       "zFcd_gelAUEwAvJOgiZpvg  {u'Alcohol': u'beer_and_wine', u'Noise Level':...   \n",
       "DqzyOJTJXu0Iwi8og5DJDA  {u'Take-out': True, u'Accepts Credit Cards': T...   \n",
       "9oFB8IPpsRkhlE8WrDMV-Q  {u'Take-out': True, u'Alcohol': u'none', u'Noi...   \n",
       "q28CkzJaV5yKPXysY8xewA  {u'Alcohol': u'none', u'Noise Level': u'loud',...   \n",
       "XaJQnEg63F-CJ9kNhcqOjw  {u'Take-out': True, u'Accepts Credit Cards': T...   \n",
       "e-eqwMPMDXPYSdwkQbYhSw  {u'Take-out': True, u'Accepts Credit Cards': T...   \n",
       "OWQJrnXbWkLTI1-qRkkUpQ  {u'Take-out': True, u'Accepts Credit Cards': T...   \n",
       "ZZtEx_UutNxz9B5knTL4tQ  {u'Take-out': True, u'Accepts Credit Cards': T...   \n",
       "w9KBaltlg7B_tca-nNfj_A  {u'Take-out': True, u'Accepts Credit Cards': T...   \n",
       "HNmyXUXKSr3JI2yXuU7EMQ  {u'Take-out': True, u'Accepts Credit Cards': T...   \n",
       "TUxCIJ6Jj2lEOqoVIoUH4g  {u'Take-out': True, u'Price Range': 1, u'Outdo...   \n",
       "1MJ5xmHmeCiau07X2bQyUQ  {u'Take-out': True, u'Accepts Credit Cards': T...   \n",
       "ME0olHUKPsJ9spaLudZlYA  {u'Take-out': True, u'Accepts Credit Cards': T...   \n",
       "Xnwjo2TUu4AyGdmsxeG7OQ  {u'Alcohol': u'full_bar', u'Noise Level': u'av...   \n",
       "t02b8iqce8ZU4y6tpBQXSg  {u'Take-out': True, u'Drive-Thru': False, u'Ou...   \n",
       "RKI9xvPSuI6mWXMjfdnjXw  {u'Take-out': True, u'Accepts Credit Cards': T...   \n",
       "tcSgN0K3KhgVSSmHOLSWjQ  {u'Take-out': True, u'Price Range': 1, u'Outdo...   \n",
       "7VDrYNPhDKFURZbK4MRi8w  {u'Take-out': True, u'Accepts Credit Cards': T...   \n",
       "2Dbg35sPSGmZGcbBVNa9dA  {u'Alcohol': u'full_bar', u'Noise Level': u'av...   \n",
       "y61Tq9hErVKoT6w-qyRpwQ  {u'Take-out': True, u'Accepts Credit Cards': T...   \n",
       "5tYLVPc2PKnj6E62sY6QMg  {u'Alcohol': u'beer_and_wine', u'Open 24 Hours...   \n",
       "...                                                                   ...   \n",
       "js12Ev8XKlh36gZeGHzQnA  {u'Alcohol': u'full_bar', u'Noise Level': u'av...   \n",
       "-O42yadp5Otp2F2DsilaFA  {u'Take-out': True, u'Price Range': 2, u'Outdo...   \n",
       "C0r1yj7CBKMXc4Up_5Nmhg  {u'Take-out': True, u'Accepts Credit Cards': T...   \n",
       "3cSnc2Ts0GckC9QRvlQbKA  {u'Take-out': True, u'Accepts Credit Cards': T...   \n",
       "6AmBMN_8KBxjFii4inppJw  {u'Take-out': True, u'Accepts Credit Cards': F...   \n",
       "kALWQ76kSTrt_WhdjLAs3g  {u'Take-out': True, u'Accepts Credit Cards': T...   \n",
       "bCRrLdBLel3y73tA8w6C3Q  {u'Take-out': True, u'Accepts Credit Cards': T...   \n",
       "LVUQqdy6sGRXO7UJqhC8-A  {u'Alcohol': u'none', u'Open 24 Hours': False,...   \n",
       "us7zoME3iW84mo_Ykt2ZLQ  {u'Take-out': True, u'Price Range': 1, u'Outdo...   \n",
       "oWiicnW4twnBLFT3sAVpGA  {u'Take-out': True, u'Accepts Credit Cards': T...   \n",
       "GmAGA39Wjv3MLT2ju5ALQQ  {u'Alcohol': u'full_bar', u'Noise Level': u'av...   \n",
       "40axkHtNTmROdIMQJ_gOsw  {u'Take-out': True, u'Accepts Credit Cards': T...   \n",
       "E4-5m-mkGoEtxqNQ2ikqLg  {u'Take-out': True, u'Price Range': 2, u'Outdo...   \n",
       "yBvj8B6e0Bj7TRM2743Afw  {u'Take-out': True, u'Price Range': 1, u'Outdo...   \n",
       "Ieuv-XET6SR_qIscZzgD-A  {u'Alcohol': u'full_bar', u'Noise Level': u'av...   \n",
       "n2vuEfMHtM1ZE2LR9ppLXg  {u'Take-out': True, u'Accepts Credit Cards': T...   \n",
       "RTM18qIdRT4Zt062MaqHXw  {u'Take-out': True, u'Accepts Credit Cards': T...   \n",
       "NdQMBelvH0TTe1pIrnFYmA  {u'Take-out': True, u'Accepts Credit Cards': T...   \n",
       "htIMKHDjCIHJALQOdY1keA  {u'Take-out': True, u'Accepts Credit Cards': T...   \n",
       "mzQp4bnowm0ELC7aJOqpLQ  {u'Take-out': True, u'Accepts Credit Cards': T...   \n",
       "YzqpmUayG1dhUjkVe8V9Lw  {u'Take-out': False, u'Price Range': 3, u'Good...   \n",
       "aOxyvODx3QeaE-jpw92hzw  {u'Take-out': True, u'Accepts Credit Cards': T...   \n",
       "yk9R3XBW6-zqrS3VIhkLFQ  {u'Take-out': True, u'Accepts Credit Cards': T...   \n",
       "2sn5BECdlYxqQlw1VODDoA  {u'Take-out': True, u'Accepts Credit Cards': T...   \n",
       "VnTREYYq-cquQ3f2re8iBg  {u'Take-out': True, u'Accepts Credit Cards': T...   \n",
       "uFi6gZIorIy9WGkCxnGrdQ  {u'Take-out': True, u'Accepts Credit Cards': T...   \n",
       "PGkKmZIK_tCMbLPy1BRwMg  {u'Take-out': True, u'Accepts Credit Cards': T...   \n",
       "fJX4coaMuEwipbQlkhskWQ  {u'Take-out': True, u'Accepts Credit Cards': T...   \n",
       "s-OomSmBbKJnAkPvCuXFgA  {u'Take-out': True, u'Accepts Credit Cards': T...   \n",
       "_ZGPu2iKQSfmQ8l8lYN9bQ  {u'Take-out': True, u'Accepts Credit Cards': T...   \n",
       "\n",
       "                                                               categories  \\\n",
       "business_id                                                                 \n",
       "AFDFOs2GaIyUArGyEUDQzQ                             [Chinese, Restaurants]   \n",
       "FV16IeXJp2W6pnghTz2FAw                 [Vietnamese, Chinese, Restaurants]   \n",
       "pNqHRWlrbh71zbPZNd7_2g                             [Chinese, Restaurants]   \n",
       "Vkm6ZWlPhIioFk6xiypSjg                             [Chinese, Restaurants]   \n",
       "1ldDbggHHgPlj3k0SpBTKQ                   [Barbeque, Chinese, Restaurants]   \n",
       "pj0vl4DIlDCChe80Df40Yw                             [Chinese, Restaurants]   \n",
       "V3S6RpKgYc5XCLjgI9JeeQ                             [Chinese, Restaurants]   \n",
       "CHhYILNXTM3DIhmnpXlB3Q                             [Chinese, Restaurants]   \n",
       "Tigw_9LXyHL63Eu3XAXwRw                             [Chinese, Restaurants]   \n",
       "zFcd_gelAUEwAvJOgiZpvg                    [Seafood, Chinese, Restaurants]   \n",
       "DqzyOJTJXu0Iwi8og5DJDA                       [Thai, Chinese, Restaurants]   \n",
       "9oFB8IPpsRkhlE8WrDMV-Q                             [Mexican, Restaurants]   \n",
       "q28CkzJaV5yKPXysY8xewA          [Buffets, Japanese, Chinese, Restaurants]   \n",
       "XaJQnEg63F-CJ9kNhcqOjw                             [Chinese, Restaurants]   \n",
       "e-eqwMPMDXPYSdwkQbYhSw                             [Chinese, Restaurants]   \n",
       "OWQJrnXbWkLTI1-qRkkUpQ                             [Chinese, Restaurants]   \n",
       "ZZtEx_UutNxz9B5knTL4tQ                       [Thai, Chinese, Restaurants]   \n",
       "w9KBaltlg7B_tca-nNfj_A                             [Chinese, Restaurants]   \n",
       "HNmyXUXKSr3JI2yXuU7EMQ                             [Chinese, Restaurants]   \n",
       "TUxCIJ6Jj2lEOqoVIoUH4g                             [Chinese, Restaurants]   \n",
       "1MJ5xmHmeCiau07X2bQyUQ                             [Chinese, Restaurants]   \n",
       "ME0olHUKPsJ9spaLudZlYA  [Dim Sum, Sushi Bars, Japanese, Chinese, Resta...   \n",
       "Xnwjo2TUu4AyGdmsxeG7OQ  [Asian Fusion, Cantonese, Dim Sum, Chinese, Re...   \n",
       "t02b8iqce8ZU4y6tpBQXSg                  [Fast Food, Chinese, Restaurants]   \n",
       "RKI9xvPSuI6mWXMjfdnjXw                             [Chinese, Restaurants]   \n",
       "tcSgN0K3KhgVSSmHOLSWjQ                             [Chinese, Restaurants]   \n",
       "7VDrYNPhDKFURZbK4MRi8w                             [Chinese, Restaurants]   \n",
       "2Dbg35sPSGmZGcbBVNa9dA           [Thai, Vegetarian, Chinese, Restaurants]   \n",
       "y61Tq9hErVKoT6w-qyRpwQ                             [Chinese, Restaurants]   \n",
       "5tYLVPc2PKnj6E62sY6QMg  [Seafood, Cantonese, Dim Sum, Chinese, Restaur...   \n",
       "...                                                                   ...   \n",
       "js12Ev8XKlh36gZeGHzQnA                    [Dim Sum, Chinese, Restaurants]   \n",
       "-O42yadp5Otp2F2DsilaFA                             [Chinese, Restaurants]   \n",
       "C0r1yj7CBKMXc4Up_5Nmhg  [Chinese, Cantonese, Barbeque, Hawaiian, Resta...   \n",
       "3cSnc2Ts0GckC9QRvlQbKA                             [Chinese, Restaurants]   \n",
       "6AmBMN_8KBxjFii4inppJw                   [Chinese, Barbeque, Restaurants]   \n",
       "kALWQ76kSTrt_WhdjLAs3g           [Seafood, Buffets, Chinese, Restaurants]   \n",
       "bCRrLdBLel3y73tA8w6C3Q                             [Chinese, Restaurants]   \n",
       "LVUQqdy6sGRXO7UJqhC8-A          [Vegetarian, Vegan, Chinese, Restaurants]   \n",
       "us7zoME3iW84mo_Ykt2ZLQ                  [Mongolian, Chinese, Restaurants]   \n",
       "oWiicnW4twnBLFT3sAVpGA                             [Chinese, Restaurants]   \n",
       "GmAGA39Wjv3MLT2ju5ALQQ  [Gluten-Free, Asian Fusion, Chinese, Restaurants]   \n",
       "40axkHtNTmROdIMQJ_gOsw                             [Chinese, Restaurants]   \n",
       "E4-5m-mkGoEtxqNQ2ikqLg                             [Chinese, Restaurants]   \n",
       "yBvj8B6e0Bj7TRM2743Afw                             [Chinese, Restaurants]   \n",
       "Ieuv-XET6SR_qIscZzgD-A  [Cantonese, American (New), Chinese, Restaurants]   \n",
       "n2vuEfMHtM1ZE2LR9ppLXg                       [Thai, Chinese, Restaurants]   \n",
       "RTM18qIdRT4Zt062MaqHXw                             [Chinese, Restaurants]   \n",
       "NdQMBelvH0TTe1pIrnFYmA                             [Chinese, Restaurants]   \n",
       "htIMKHDjCIHJALQOdY1keA                             [Chinese, Restaurants]   \n",
       "mzQp4bnowm0ELC7aJOqpLQ           [Korean, Japanese, Chinese, Restaurants]   \n",
       "YzqpmUayG1dhUjkVe8V9Lw               [Seafood, Asian Fusion, Restaurants]   \n",
       "aOxyvODx3QeaE-jpw92hzw                    [Buffets, Chinese, Restaurants]   \n",
       "yk9R3XBW6-zqrS3VIhkLFQ                             [Chinese, Restaurants]   \n",
       "2sn5BECdlYxqQlw1VODDoA                             [Chinese, Restaurants]   \n",
       "VnTREYYq-cquQ3f2re8iBg                             [Chinese, Restaurants]   \n",
       "uFi6gZIorIy9WGkCxnGrdQ                             [Chinese, Restaurants]   \n",
       "PGkKmZIK_tCMbLPy1BRwMg                             [Chinese, Restaurants]   \n",
       "fJX4coaMuEwipbQlkhskWQ                             [Chinese, Restaurants]   \n",
       "s-OomSmBbKJnAkPvCuXFgA                             [Chinese, Restaurants]   \n",
       "_ZGPu2iKQSfmQ8l8lYN9bQ                             [Chinese, Restaurants]   \n",
       "\n",
       "                             city   latitude   longitude   open  review_count  \\\n",
       "business_id                                                                     \n",
       "AFDFOs2GaIyUArGyEUDQzQ  Las Vegas  36.125908 -115.197904   True           155   \n",
       "FV16IeXJp2W6pnghTz2FAw  Las Vegas  36.126177 -115.193971   True          1514   \n",
       "pNqHRWlrbh71zbPZNd7_2g  Las Vegas  36.126543 -115.206888   True            10   \n",
       "Vkm6ZWlPhIioFk6xiypSjg  Las Vegas  36.126331 -115.197076  False             8   \n",
       "1ldDbggHHgPlj3k0SpBTKQ  Las Vegas  36.126378 -115.196994   True           310   \n",
       "pj0vl4DIlDCChe80Df40Yw  Las Vegas  36.149726 -115.207664   True           125   \n",
       "V3S6RpKgYc5XCLjgI9JeeQ  Las Vegas  36.144017 -115.193618   True            34   \n",
       "CHhYILNXTM3DIhmnpXlB3Q  Las Vegas  36.142482 -115.208553   True            24   \n",
       "Tigw_9LXyHL63Eu3XAXwRw  Las Vegas  36.126378 -115.196994   True            96   \n",
       "zFcd_gelAUEwAvJOgiZpvg  Las Vegas  36.125834 -115.203424   True           309   \n",
       "DqzyOJTJXu0Iwi8og5DJDA  Las Vegas  36.156773 -115.148335   True           119   \n",
       "9oFB8IPpsRkhlE8WrDMV-Q  Las Vegas  36.158845 -115.121264   True             4   \n",
       "q28CkzJaV5yKPXysY8xewA  Las Vegas  36.010452 -115.118553   True           150   \n",
       "XaJQnEg63F-CJ9kNhcqOjw  Las Vegas  36.195823 -115.224801   True            12   \n",
       "e-eqwMPMDXPYSdwkQbYhSw  Las Vegas  36.089489 -115.243200  False            25   \n",
       "OWQJrnXbWkLTI1-qRkkUpQ  Las Vegas  36.085771 -115.102599   True            97   \n",
       "ZZtEx_UutNxz9B5knTL4tQ  Las Vegas  36.097298 -115.101378   True            54   \n",
       "w9KBaltlg7B_tca-nNfj_A  Las Vegas  36.070667 -115.091161   True            53   \n",
       "HNmyXUXKSr3JI2yXuU7EMQ  Las Vegas  36.200690 -115.281657   True            28   \n",
       "TUxCIJ6Jj2lEOqoVIoUH4g  Las Vegas  36.263045 -115.248134   True            10   \n",
       "1MJ5xmHmeCiau07X2bQyUQ  Las Vegas  36.125688 -115.223141   True           205   \n",
       "ME0olHUKPsJ9spaLudZlYA  Las Vegas  36.144758 -115.242268   True           164   \n",
       "Xnwjo2TUu4AyGdmsxeG7OQ  Las Vegas  36.126710 -115.213915  False           242   \n",
       "t02b8iqce8ZU4y6tpBQXSg  Las Vegas  36.095225 -115.297319   True             7   \n",
       "RKI9xvPSuI6mWXMjfdnjXw  Las Vegas  36.194180 -115.025472   True            19   \n",
       "tcSgN0K3KhgVSSmHOLSWjQ  Las Vegas  36.055507 -115.046182   True            10   \n",
       "7VDrYNPhDKFURZbK4MRi8w  Las Vegas  36.115352 -115.224512   True            31   \n",
       "2Dbg35sPSGmZGcbBVNa9dA  Las Vegas  36.126148 -115.190459   True           246   \n",
       "y61Tq9hErVKoT6w-qyRpwQ  Las Vegas  36.101194 -115.225766   True            46   \n",
       "5tYLVPc2PKnj6E62sY6QMg  Las Vegas  36.105081 -115.207640   True           366   \n",
       "...                           ...        ...         ...    ...           ...   \n",
       "js12Ev8XKlh36gZeGHzQnA  Las Vegas  36.128561 -115.171130   True           221   \n",
       "-O42yadp5Otp2F2DsilaFA  Las Vegas  36.112740 -115.211340   True            20   \n",
       "C0r1yj7CBKMXc4Up_5Nmhg  Las Vegas  36.038706 -115.198603   True            79   \n",
       "3cSnc2Ts0GckC9QRvlQbKA  Las Vegas  36.116354 -115.192881   True           101   \n",
       "6AmBMN_8KBxjFii4inppJw  Las Vegas  36.125948 -115.218825   True            50   \n",
       "kALWQ76kSTrt_WhdjLAs3g  Las Vegas  36.115194 -115.118622   True           101   \n",
       "bCRrLdBLel3y73tA8w6C3Q  Las Vegas  36.117060 -115.177875   True           449   \n",
       "LVUQqdy6sGRXO7UJqhC8-A  Las Vegas  36.114321 -115.091887  False            30   \n",
       "us7zoME3iW84mo_Ykt2ZLQ  Las Vegas  36.116487 -115.141075  False            19   \n",
       "oWiicnW4twnBLFT3sAVpGA  Las Vegas  36.114988 -115.147904   True            83   \n",
       "GmAGA39Wjv3MLT2ju5ALQQ  Las Vegas  36.110067 -115.172501   True           290   \n",
       "40axkHtNTmROdIMQJ_gOsw  Las Vegas  36.116765 -115.206279   True            48   \n",
       "E4-5m-mkGoEtxqNQ2ikqLg  Las Vegas  36.146267 -115.182987   True            21   \n",
       "yBvj8B6e0Bj7TRM2743Afw  Las Vegas  36.126020 -115.219839  False            29   \n",
       "Ieuv-XET6SR_qIscZzgD-A  Las Vegas  36.101813 -115.172596   True           175   \n",
       "n2vuEfMHtM1ZE2LR9ppLXg  Las Vegas  36.021640 -115.277661   True            69   \n",
       "RTM18qIdRT4Zt062MaqHXw  Las Vegas  36.172450 -115.195649   True             3   \n",
       "NdQMBelvH0TTe1pIrnFYmA  Las Vegas  36.127749 -115.224808   True           139   \n",
       "htIMKHDjCIHJALQOdY1keA  Las Vegas  36.020944 -115.267744   True            62   \n",
       "mzQp4bnowm0ELC7aJOqpLQ  Las Vegas  36.118221 -115.172532  False           104   \n",
       "YzqpmUayG1dhUjkVe8V9Lw  Las Vegas  36.119556 -115.173336   True            10   \n",
       "aOxyvODx3QeaE-jpw92hzw  Las Vegas  36.152701 -115.207670   True            42   \n",
       "yk9R3XBW6-zqrS3VIhkLFQ  Las Vegas  36.100504 -115.313444   True            25   \n",
       "2sn5BECdlYxqQlw1VODDoA  Las Vegas  36.127288 -115.225012   True           339   \n",
       "VnTREYYq-cquQ3f2re8iBg  Las Vegas  36.106763 -115.177087   True           123   \n",
       "uFi6gZIorIy9WGkCxnGrdQ  Las Vegas  36.121239 -115.171338   True            20   \n",
       "PGkKmZIK_tCMbLPy1BRwMg  Las Vegas  36.206795 -115.302340   True            75   \n",
       "fJX4coaMuEwipbQlkhskWQ  Las Vegas  36.068925 -115.298494  False            40   \n",
       "s-OomSmBbKJnAkPvCuXFgA  Las Vegas  36.125145 -115.297933   True            59   \n",
       "_ZGPu2iKQSfmQ8l8lYN9bQ  Las Vegas  36.246758 -115.209185  False             5   \n",
       "\n",
       "                        stars state  \n",
       "business_id                          \n",
       "AFDFOs2GaIyUArGyEUDQzQ    3.0    NV  \n",
       "FV16IeXJp2W6pnghTz2FAw    3.5    NV  \n",
       "pNqHRWlrbh71zbPZNd7_2g    3.0    NV  \n",
       "Vkm6ZWlPhIioFk6xiypSjg    3.5    NV  \n",
       "1ldDbggHHgPlj3k0SpBTKQ    2.0    NV  \n",
       "pj0vl4DIlDCChe80Df40Yw    4.0    NV  \n",
       "V3S6RpKgYc5XCLjgI9JeeQ    3.5    NV  \n",
       "CHhYILNXTM3DIhmnpXlB3Q    2.5    NV  \n",
       "Tigw_9LXyHL63Eu3XAXwRw    2.0    NV  \n",
       "zFcd_gelAUEwAvJOgiZpvg    3.5    NV  \n",
       "DqzyOJTJXu0Iwi8og5DJDA    4.0    NV  \n",
       "9oFB8IPpsRkhlE8WrDMV-Q    4.5    NV  \n",
       "q28CkzJaV5yKPXysY8xewA    3.0    NV  \n",
       "XaJQnEg63F-CJ9kNhcqOjw    2.5    NV  \n",
       "e-eqwMPMDXPYSdwkQbYhSw    2.5    NV  \n",
       "OWQJrnXbWkLTI1-qRkkUpQ    4.0    NV  \n",
       "ZZtEx_UutNxz9B5knTL4tQ    4.0    NV  \n",
       "w9KBaltlg7B_tca-nNfj_A    3.5    NV  \n",
       "HNmyXUXKSr3JI2yXuU7EMQ    3.5    NV  \n",
       "TUxCIJ6Jj2lEOqoVIoUH4g    2.5    NV  \n",
       "1MJ5xmHmeCiau07X2bQyUQ    4.0    NV  \n",
       "ME0olHUKPsJ9spaLudZlYA    3.0    NV  \n",
       "Xnwjo2TUu4AyGdmsxeG7OQ    3.0    NV  \n",
       "t02b8iqce8ZU4y6tpBQXSg    3.5    NV  \n",
       "RKI9xvPSuI6mWXMjfdnjXw    4.0    NV  \n",
       "tcSgN0K3KhgVSSmHOLSWjQ    2.0    NV  \n",
       "7VDrYNPhDKFURZbK4MRi8w    3.0    NV  \n",
       "2Dbg35sPSGmZGcbBVNa9dA    3.5    NV  \n",
       "y61Tq9hErVKoT6w-qyRpwQ    3.5    NV  \n",
       "5tYLVPc2PKnj6E62sY6QMg    3.5    NV  \n",
       "...                       ...   ...  \n",
       "js12Ev8XKlh36gZeGHzQnA    3.0    NV  \n",
       "-O42yadp5Otp2F2DsilaFA    3.5    NV  \n",
       "C0r1yj7CBKMXc4Up_5Nmhg    3.5    NV  \n",
       "3cSnc2Ts0GckC9QRvlQbKA    3.5    NV  \n",
       "6AmBMN_8KBxjFii4inppJw    2.5    NV  \n",
       "kALWQ76kSTrt_WhdjLAs3g    2.5    NV  \n",
       "bCRrLdBLel3y73tA8w6C3Q    2.5    NV  \n",
       "LVUQqdy6sGRXO7UJqhC8-A    4.0    NV  \n",
       "us7zoME3iW84mo_Ykt2ZLQ    3.0    NV  \n",
       "oWiicnW4twnBLFT3sAVpGA    3.5    NV  \n",
       "GmAGA39Wjv3MLT2ju5ALQQ    3.5    NV  \n",
       "40axkHtNTmROdIMQJ_gOsw    4.0    NV  \n",
       "E4-5m-mkGoEtxqNQ2ikqLg    3.0    NV  \n",
       "yBvj8B6e0Bj7TRM2743Afw    3.5    NV  \n",
       "Ieuv-XET6SR_qIscZzgD-A    4.0    NV  \n",
       "n2vuEfMHtM1ZE2LR9ppLXg    3.0    NV  \n",
       "RTM18qIdRT4Zt062MaqHXw    2.5    NV  \n",
       "NdQMBelvH0TTe1pIrnFYmA    3.5    NV  \n",
       "htIMKHDjCIHJALQOdY1keA    3.0    NV  \n",
       "mzQp4bnowm0ELC7aJOqpLQ    3.0    NV  \n",
       "YzqpmUayG1dhUjkVe8V9Lw    2.5    NV  \n",
       "aOxyvODx3QeaE-jpw92hzw    2.5    NV  \n",
       "yk9R3XBW6-zqrS3VIhkLFQ    4.0    NV  \n",
       "2sn5BECdlYxqQlw1VODDoA    4.0    NV  \n",
       "VnTREYYq-cquQ3f2re8iBg    4.0    NV  \n",
       "uFi6gZIorIy9WGkCxnGrdQ    2.5    NV  \n",
       "PGkKmZIK_tCMbLPy1BRwMg    3.5    NV  \n",
       "fJX4coaMuEwipbQlkhskWQ    3.0    NV  \n",
       "s-OomSmBbKJnAkPvCuXFgA    3.5    NV  \n",
       "_ZGPu2iKQSfmQ8l8lYN9bQ    4.0    NV  \n",
       "\n",
       "[132 rows x 9 columns]"
      ]
     },
     "execution_count": 646,
     "metadata": {},
     "output_type": "execute_result"
    }
   ],
   "source": [
    "business.loc[group1,:]"
   ]
  },
  {
   "cell_type": "code",
   "execution_count": 647,
   "metadata": {
    "collapsed": false
   },
   "outputs": [
    {
     "data": {
      "text/plain": [
       "attributes      {u'Take-out': True, u'Accepts Credit Cards': T...\n",
       "categories      [Gluten-Free, Asian Fusion, Chinese, Restaurants]\n",
       "city                                                    Las Vegas\n",
       "latitude                                                 36.11344\n",
       "longitude                                               -115.1542\n",
       "open                                                         True\n",
       "review_count                                                  130\n",
       "stars                                                         3.5\n",
       "state                                                          NV\n",
       "Name: Ug97walz3YLxPMrpkktsFg, dtype: object"
      ]
     },
     "execution_count": 647,
     "metadata": {},
     "output_type": "execute_result"
    }
   ],
   "source": [
    "business.loc['Ug97walz3YLxPMrpkktsFg',:]"
   ]
  },
  {
   "cell_type": "code",
   "execution_count": 651,
   "metadata": {
    "collapsed": false
   },
   "outputs": [
    {
     "data": {
      "text/plain": [
       "{u'Accepts Credit Cards': True,\n",
       " u'Alcohol': u'full_bar',\n",
       " u'Ambience': {u'casual': True,\n",
       "  u'classy': False,\n",
       "  u'divey': False,\n",
       "  u'hipster': False,\n",
       "  u'intimate': False,\n",
       "  u'romantic': False,\n",
       "  u'touristy': False,\n",
       "  u'trendy': False,\n",
       "  u'upscale': False},\n",
       " u'Attire': u'casual',\n",
       " u'Caters': True,\n",
       " u'Delivery': False,\n",
       " u'Good For': {u'breakfast': False,\n",
       "  u'brunch': False,\n",
       "  u'dessert': False,\n",
       "  u'dinner': True,\n",
       "  u'latenight': False,\n",
       "  u'lunch': False},\n",
       " u'Good For Groups': True,\n",
       " u'Good For Kids': True,\n",
       " u'Good for Kids': True,\n",
       " u'Has TV': True,\n",
       " u'Noise Level': u'average',\n",
       " u'Outdoor Seating': True,\n",
       " u'Parking': {u'garage': False,\n",
       "  u'lot': True,\n",
       "  u'street': False,\n",
       "  u'valet': False,\n",
       "  u'validated': False},\n",
       " u'Price Range': 2,\n",
       " u'Take-out': True,\n",
       " u'Takes Reservations': True,\n",
       " u'Waiter Service': True,\n",
       " u'Wheelchair Accessible': True,\n",
       " u'Wi-Fi': u'no'}"
      ]
     },
     "execution_count": 651,
     "metadata": {},
     "output_type": "execute_result"
    }
   ],
   "source": [
    "business.loc['Ug97walz3YLxPMrpkktsFg',:]['attributes']"
   ]
  },
  {
   "cell_type": "code",
   "execution_count": 650,
   "metadata": {
    "collapsed": false
   },
   "outputs": [
    {
     "data": {
      "text/plain": [
       "{u'Accepts Credit Cards': True,\n",
       " u'Alcohol': u'none',\n",
       " u'Ambience': {u'casual': False,\n",
       "  u'classy': False,\n",
       "  u'divey': False,\n",
       "  u'hipster': False,\n",
       "  u'intimate': False,\n",
       "  u'romantic': False,\n",
       "  u'touristy': False,\n",
       "  u'trendy': False,\n",
       "  u'upscale': False},\n",
       " u'Attire': u'casual',\n",
       " u'Caters': True,\n",
       " u'Delivery': False,\n",
       " u'Good For Groups': True,\n",
       " u'Good for Kids': True,\n",
       " u'Has TV': False,\n",
       " u'Noise Level': u'quiet',\n",
       " u'Outdoor Seating': False,\n",
       " u'Parking': {u'garage': False,\n",
       "  u'lot': False,\n",
       "  u'street': False,\n",
       "  u'valet': False,\n",
       "  u'validated': False},\n",
       " u'Price Range': 1,\n",
       " u'Take-out': True,\n",
       " u'Takes Reservations': False,\n",
       " u'Waiter Service': False,\n",
       " u'Wi-Fi': u'no'}"
      ]
     },
     "execution_count": 650,
     "metadata": {},
     "output_type": "execute_result"
    }
   ],
   "source": [
    "business.loc['qx3ffZQonHYtttXaWd9Z5Q',:]['attributes']"
   ]
  },
  {
   "cell_type": "code",
   "execution_count": null,
   "metadata": {
    "collapsed": true
   },
   "outputs": [],
   "source": []
  }
 ],
 "metadata": {
  "kernelspec": {
   "display_name": "Python 2",
   "language": "python",
   "name": "python2"
  },
  "language_info": {
   "codemirror_mode": {
    "name": "ipython",
    "version": 2
   },
   "file_extension": ".py",
   "mimetype": "text/x-python",
   "name": "python",
   "nbconvert_exporter": "python",
   "pygments_lexer": "ipython2",
   "version": "2.7.10"
  }
 },
 "nbformat": 4,
 "nbformat_minor": 0
}
