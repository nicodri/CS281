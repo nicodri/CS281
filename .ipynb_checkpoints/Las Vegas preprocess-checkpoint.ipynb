{
 "cells": [
  {
   "cell_type": "code",
   "execution_count": 1,
   "metadata": {
    "collapsed": true
   },
   "outputs": [],
   "source": [
    "%matplotlib inline\n",
    "import numpy as np\n",
    "import scipy as sp\n",
    "import matplotlib as mpl\n",
    "import matplotlib.cm as cm\n",
    "import matplotlib.pyplot as plt\n",
    "import pandas as pd\n",
    "pd.set_option('display.width', 500)\n",
    "pd.set_option('display.max_columns', 100)\n",
    "pd.set_option('display.notebook_repr_html', True)\n",
    "import seaborn as sns\n",
    "sns.set_style(\"whitegrid\")\n",
    "sns.set_context(\"poster\")"
   ]
  },
  {
   "cell_type": "code",
   "execution_count": 2,
   "metadata": {
    "collapsed": true
   },
   "outputs": [],
   "source": [
    "import json\n",
    "data = []\n",
    "with open(\"../cs281_data/yelp_dataset_challenge_academic_dataset/yelp_academic_dataset_business.json\") as f:\n",
    "    for l in f:\n",
    "        data.append(json.loads(l))"
   ]
  },
  {
   "cell_type": "code",
   "execution_count": 3,
   "metadata": {
    "collapsed": false
   },
   "outputs": [
    {
     "data": {
      "text/html": [
       "<div>\n",
       "<table border=\"1\" class=\"dataframe\">\n",
       "  <thead>\n",
       "    <tr style=\"text-align: right;\">\n",
       "      <th></th>\n",
       "      <th>attributes</th>\n",
       "      <th>categories</th>\n",
       "      <th>city</th>\n",
       "      <th>latitude</th>\n",
       "      <th>longitude</th>\n",
       "      <th>open</th>\n",
       "      <th>review_count</th>\n",
       "      <th>stars</th>\n",
       "      <th>state</th>\n",
       "    </tr>\n",
       "    <tr>\n",
       "      <th>business_id</th>\n",
       "      <th></th>\n",
       "      <th></th>\n",
       "      <th></th>\n",
       "      <th></th>\n",
       "      <th></th>\n",
       "      <th></th>\n",
       "      <th></th>\n",
       "      <th></th>\n",
       "      <th></th>\n",
       "    </tr>\n",
       "  </thead>\n",
       "  <tbody>\n",
       "    <tr>\n",
       "      <th>vcNAWiLM4dR7D2nwwJ7nCA</th>\n",
       "      <td>{u'By Appointment Only': True}</td>\n",
       "      <td>[Doctors, Health &amp; Medical]</td>\n",
       "      <td>Phoenix</td>\n",
       "      <td>33.499313</td>\n",
       "      <td>-111.983758</td>\n",
       "      <td>True</td>\n",
       "      <td>9</td>\n",
       "      <td>3.5</td>\n",
       "      <td>AZ</td>\n",
       "    </tr>\n",
       "    <tr>\n",
       "      <th>UsFtqoBl7naz8AVUBZMjQQ</th>\n",
       "      <td>{u'Happy Hour': True, u'Accepts Credit Cards':...</td>\n",
       "      <td>[Nightlife]</td>\n",
       "      <td>Dravosburg</td>\n",
       "      <td>40.350519</td>\n",
       "      <td>-79.886930</td>\n",
       "      <td>True</td>\n",
       "      <td>4</td>\n",
       "      <td>3.5</td>\n",
       "      <td>PA</td>\n",
       "    </tr>\n",
       "    <tr>\n",
       "      <th>cE27W9VPgO88Qxe4ol6y_g</th>\n",
       "      <td>{u'Good for Kids': True}</td>\n",
       "      <td>[Active Life, Mini Golf, Golf]</td>\n",
       "      <td>Bethel Park</td>\n",
       "      <td>40.356896</td>\n",
       "      <td>-80.015910</td>\n",
       "      <td>False</td>\n",
       "      <td>5</td>\n",
       "      <td>2.5</td>\n",
       "      <td>PA</td>\n",
       "    </tr>\n",
       "    <tr>\n",
       "      <th>HZdLhv6COCleJMo7nPl-RA</th>\n",
       "      <td>{}</td>\n",
       "      <td>[Shopping, Home Services, Internet Service Pro...</td>\n",
       "      <td>Pittsburgh</td>\n",
       "      <td>40.357620</td>\n",
       "      <td>-80.059980</td>\n",
       "      <td>True</td>\n",
       "      <td>3</td>\n",
       "      <td>3.5</td>\n",
       "      <td>PA</td>\n",
       "    </tr>\n",
       "    <tr>\n",
       "      <th>mVHrayjG3uZ_RLHkLj-AMg</th>\n",
       "      <td>{u'Alcohol': u'full_bar', u'Noise Level': u'av...</td>\n",
       "      <td>[Bars, American (New), Nightlife, Lounges, Res...</td>\n",
       "      <td>Braddock</td>\n",
       "      <td>40.408735</td>\n",
       "      <td>-79.866351</td>\n",
       "      <td>True</td>\n",
       "      <td>11</td>\n",
       "      <td>4.5</td>\n",
       "      <td>PA</td>\n",
       "    </tr>\n",
       "    <tr>\n",
       "      <th>KayYbHCt-RkbGcPdGOThNg</th>\n",
       "      <td>{u'Alcohol': u'full_bar', u'Noise Level': u'lo...</td>\n",
       "      <td>[Bars, American (Traditional), Nightlife, Rest...</td>\n",
       "      <td>Carnegie</td>\n",
       "      <td>40.415517</td>\n",
       "      <td>-80.067534</td>\n",
       "      <td>True</td>\n",
       "      <td>15</td>\n",
       "      <td>4.0</td>\n",
       "      <td>PA</td>\n",
       "    </tr>\n",
       "    <tr>\n",
       "      <th>b12U9TFESStdy7CsTtcOeg</th>\n",
       "      <td>{}</td>\n",
       "      <td>[Auto Repair, Automotive]</td>\n",
       "      <td>Carnegie</td>\n",
       "      <td>40.394588</td>\n",
       "      <td>-80.084454</td>\n",
       "      <td>True</td>\n",
       "      <td>5</td>\n",
       "      <td>1.5</td>\n",
       "      <td>PA</td>\n",
       "    </tr>\n",
       "    <tr>\n",
       "      <th>Sktj1eHQFuVa-M4bgnEh8g</th>\n",
       "      <td>{u'Good for Kids': True}</td>\n",
       "      <td>[Active Life, Mini Golf]</td>\n",
       "      <td>Carnegie</td>\n",
       "      <td>40.405404</td>\n",
       "      <td>-80.076267</td>\n",
       "      <td>True</td>\n",
       "      <td>4</td>\n",
       "      <td>4.0</td>\n",
       "      <td>PA</td>\n",
       "    </tr>\n",
       "    <tr>\n",
       "      <th>3ZVKmuK2l7uXPE6lXY4Dbg</th>\n",
       "      <td>{}</td>\n",
       "      <td>[Home Services, Contractors]</td>\n",
       "      <td>Carnegie</td>\n",
       "      <td>40.406324</td>\n",
       "      <td>-80.090357</td>\n",
       "      <td>True</td>\n",
       "      <td>3</td>\n",
       "      <td>2.5</td>\n",
       "      <td>PA</td>\n",
       "    </tr>\n",
       "    <tr>\n",
       "      <th>wJr6kSA5dchdgOdwH6dZ2w</th>\n",
       "      <td>{u'Take-out': True, u'Drive-Thru': False, u'Ou...</td>\n",
       "      <td>[Burgers, Breakfast &amp; Brunch, American (Tradit...</td>\n",
       "      <td>Carnegie</td>\n",
       "      <td>40.387732</td>\n",
       "      <td>-80.092874</td>\n",
       "      <td>True</td>\n",
       "      <td>8</td>\n",
       "      <td>3.5</td>\n",
       "      <td>PA</td>\n",
       "    </tr>\n",
       "    <tr>\n",
       "      <th>yXuao0pFz1AxB21vJjDf5w</th>\n",
       "      <td>{u'Price Range': 3, u'Accepts Credit Cards': T...</td>\n",
       "      <td>[Food, Grocery]</td>\n",
       "      <td>Carnegie</td>\n",
       "      <td>40.387732</td>\n",
       "      <td>-80.092874</td>\n",
       "      <td>True</td>\n",
       "      <td>3</td>\n",
       "      <td>3.5</td>\n",
       "      <td>PA</td>\n",
       "    </tr>\n",
       "    <tr>\n",
       "      <th>fNGIbpazjTRdXgwRY_NIXA</th>\n",
       "      <td>{u'Alcohol': u'full_bar', u'Noise Level': u'av...</td>\n",
       "      <td>[Bars, American (Traditional), Nightlife, Loun...</td>\n",
       "      <td>Carnegie</td>\n",
       "      <td>40.396469</td>\n",
       "      <td>-80.084942</td>\n",
       "      <td>True</td>\n",
       "      <td>5</td>\n",
       "      <td>4.0</td>\n",
       "      <td>PA</td>\n",
       "    </tr>\n",
       "    <tr>\n",
       "      <th>b9WZJp5L1RZr4F1nxclOoQ</th>\n",
       "      <td>{u'Alcohol': u'none', u'Noise Level': u'averag...</td>\n",
       "      <td>[Breakfast &amp; Brunch, Restaurants]</td>\n",
       "      <td>Carnegie</td>\n",
       "      <td>40.396744</td>\n",
       "      <td>-80.084800</td>\n",
       "      <td>True</td>\n",
       "      <td>38</td>\n",
       "      <td>4.5</td>\n",
       "      <td>PA</td>\n",
       "    </tr>\n",
       "    <tr>\n",
       "      <th>zaXDakTd3RXyOa7sMrUE1g</th>\n",
       "      <td>{u'Take-out': True, u'Price Range': 1, u'Outdo...</td>\n",
       "      <td>[Cafes, Restaurants]</td>\n",
       "      <td>Carnegie</td>\n",
       "      <td>40.404638</td>\n",
       "      <td>-80.089985</td>\n",
       "      <td>True</td>\n",
       "      <td>5</td>\n",
       "      <td>4.0</td>\n",
       "      <td>PA</td>\n",
       "    </tr>\n",
       "    <tr>\n",
       "      <th>zgy27FSnvwdINfk5cXBIyQ</th>\n",
       "      <td>{u'Accepts Credit Cards': True, u'Wi-Fi': u'fr...</td>\n",
       "      <td>[Hotels &amp; Travel, Event Planning &amp; Services, H...</td>\n",
       "      <td>Carnegie</td>\n",
       "      <td>40.417419</td>\n",
       "      <td>-80.088557</td>\n",
       "      <td>True</td>\n",
       "      <td>5</td>\n",
       "      <td>4.0</td>\n",
       "      <td>PA</td>\n",
       "    </tr>\n",
       "    <tr>\n",
       "      <th>WETE_LykpcnrC1sFcQ5EGg</th>\n",
       "      <td>{u'Take-out': True, u'Price Range': 2, u'Outdo...</td>\n",
       "      <td>[Pubs, Irish, Nightlife, Bars, Restaurants]</td>\n",
       "      <td>Carnegie</td>\n",
       "      <td>40.408670</td>\n",
       "      <td>-80.085279</td>\n",
       "      <td>False</td>\n",
       "      <td>6</td>\n",
       "      <td>3.5</td>\n",
       "      <td>PA</td>\n",
       "    </tr>\n",
       "    <tr>\n",
       "      <th>6o3RK6rTcN3nw-j-r2nQmA</th>\n",
       "      <td>{}</td>\n",
       "      <td>[]</td>\n",
       "      <td>Carnegie</td>\n",
       "      <td>40.408568</td>\n",
       "      <td>-80.084992</td>\n",
       "      <td>True</td>\n",
       "      <td>4</td>\n",
       "      <td>2.5</td>\n",
       "      <td>PA</td>\n",
       "    </tr>\n",
       "    <tr>\n",
       "      <th>woOVJ0Z2f6XNCDntHA3b_g</th>\n",
       "      <td>{u'Accepts Credit Cards': False}</td>\n",
       "      <td>[Local Services, Sewing &amp; Alterations]</td>\n",
       "      <td>Carnegie</td>\n",
       "      <td>40.407889</td>\n",
       "      <td>-80.086060</td>\n",
       "      <td>True</td>\n",
       "      <td>5</td>\n",
       "      <td>5.0</td>\n",
       "      <td>PA</td>\n",
       "    </tr>\n",
       "    <tr>\n",
       "      <th>rv7CY8G_XibTx82YhuqQRw</th>\n",
       "      <td>{u'Take-out': True, u'Accepts Credit Cards': T...</td>\n",
       "      <td>[Restaurants]</td>\n",
       "      <td>Carnegie</td>\n",
       "      <td>40.386891</td>\n",
       "      <td>-80.093704</td>\n",
       "      <td>True</td>\n",
       "      <td>3</td>\n",
       "      <td>3.5</td>\n",
       "      <td>PA</td>\n",
       "    </tr>\n",
       "    <tr>\n",
       "      <th>e_U_FnpdKVgNb4mUN2cU_Q</th>\n",
       "      <td>{u'By Appointment Only': True}</td>\n",
       "      <td>[Health &amp; Medical, Dentists, General Dentistry]</td>\n",
       "      <td>Carnegie</td>\n",
       "      <td>40.390760</td>\n",
       "      <td>-80.078657</td>\n",
       "      <td>True</td>\n",
       "      <td>6</td>\n",
       "      <td>2.0</td>\n",
       "      <td>PA</td>\n",
       "    </tr>\n",
       "  </tbody>\n",
       "</table>\n",
       "</div>"
      ],
      "text/plain": [
       "                                                               attributes                                         categories         city   latitude   longitude   open  review_count  stars state\n",
       "business_id                                                                                                                                                                                       \n",
       "vcNAWiLM4dR7D2nwwJ7nCA                     {u'By Appointment Only': True}                        [Doctors, Health & Medical]      Phoenix  33.499313 -111.983758   True             9    3.5    AZ\n",
       "UsFtqoBl7naz8AVUBZMjQQ  {u'Happy Hour': True, u'Accepts Credit Cards':...                                        [Nightlife]   Dravosburg  40.350519  -79.886930   True             4    3.5    PA\n",
       "cE27W9VPgO88Qxe4ol6y_g                           {u'Good for Kids': True}                     [Active Life, Mini Golf, Golf]  Bethel Park  40.356896  -80.015910  False             5    2.5    PA\n",
       "HZdLhv6COCleJMo7nPl-RA                                                 {}  [Shopping, Home Services, Internet Service Pro...   Pittsburgh  40.357620  -80.059980   True             3    3.5    PA\n",
       "mVHrayjG3uZ_RLHkLj-AMg  {u'Alcohol': u'full_bar', u'Noise Level': u'av...  [Bars, American (New), Nightlife, Lounges, Res...     Braddock  40.408735  -79.866351   True            11    4.5    PA\n",
       "KayYbHCt-RkbGcPdGOThNg  {u'Alcohol': u'full_bar', u'Noise Level': u'lo...  [Bars, American (Traditional), Nightlife, Rest...     Carnegie  40.415517  -80.067534   True            15    4.0    PA\n",
       "b12U9TFESStdy7CsTtcOeg                                                 {}                          [Auto Repair, Automotive]     Carnegie  40.394588  -80.084454   True             5    1.5    PA\n",
       "Sktj1eHQFuVa-M4bgnEh8g                           {u'Good for Kids': True}                           [Active Life, Mini Golf]     Carnegie  40.405404  -80.076267   True             4    4.0    PA\n",
       "3ZVKmuK2l7uXPE6lXY4Dbg                                                 {}                       [Home Services, Contractors]     Carnegie  40.406324  -80.090357   True             3    2.5    PA\n",
       "wJr6kSA5dchdgOdwH6dZ2w  {u'Take-out': True, u'Drive-Thru': False, u'Ou...  [Burgers, Breakfast & Brunch, American (Tradit...     Carnegie  40.387732  -80.092874   True             8    3.5    PA\n",
       "yXuao0pFz1AxB21vJjDf5w  {u'Price Range': 3, u'Accepts Credit Cards': T...                                    [Food, Grocery]     Carnegie  40.387732  -80.092874   True             3    3.5    PA\n",
       "fNGIbpazjTRdXgwRY_NIXA  {u'Alcohol': u'full_bar', u'Noise Level': u'av...  [Bars, American (Traditional), Nightlife, Loun...     Carnegie  40.396469  -80.084942   True             5    4.0    PA\n",
       "b9WZJp5L1RZr4F1nxclOoQ  {u'Alcohol': u'none', u'Noise Level': u'averag...                  [Breakfast & Brunch, Restaurants]     Carnegie  40.396744  -80.084800   True            38    4.5    PA\n",
       "zaXDakTd3RXyOa7sMrUE1g  {u'Take-out': True, u'Price Range': 1, u'Outdo...                               [Cafes, Restaurants]     Carnegie  40.404638  -80.089985   True             5    4.0    PA\n",
       "zgy27FSnvwdINfk5cXBIyQ  {u'Accepts Credit Cards': True, u'Wi-Fi': u'fr...  [Hotels & Travel, Event Planning & Services, H...     Carnegie  40.417419  -80.088557   True             5    4.0    PA\n",
       "WETE_LykpcnrC1sFcQ5EGg  {u'Take-out': True, u'Price Range': 2, u'Outdo...        [Pubs, Irish, Nightlife, Bars, Restaurants]     Carnegie  40.408670  -80.085279  False             6    3.5    PA\n",
       "6o3RK6rTcN3nw-j-r2nQmA                                                 {}                                                 []     Carnegie  40.408568  -80.084992   True             4    2.5    PA\n",
       "woOVJ0Z2f6XNCDntHA3b_g                   {u'Accepts Credit Cards': False}             [Local Services, Sewing & Alterations]     Carnegie  40.407889  -80.086060   True             5    5.0    PA\n",
       "rv7CY8G_XibTx82YhuqQRw  {u'Take-out': True, u'Accepts Credit Cards': T...                                      [Restaurants]     Carnegie  40.386891  -80.093704   True             3    3.5    PA\n",
       "e_U_FnpdKVgNb4mUN2cU_Q                     {u'By Appointment Only': True}    [Health & Medical, Dentists, General Dentistry]     Carnegie  40.390760  -80.078657   True             6    2.0    PA"
      ]
     },
     "execution_count": 3,
     "metadata": {},
     "output_type": "execute_result"
    }
   ],
   "source": [
    "business_list = []\n",
    "    \n",
    "for b in data:\n",
    "    d = b.copy()\n",
    "    \n",
    "    # Dropping unconsidered features\n",
    "    d.pop('hours')\n",
    "    #d.pop('attributes')\n",
    "    d.pop('neighborhoods')\n",
    "    d.pop('type')\n",
    "    d.pop('full_address')\n",
    "    d.pop('name')    \n",
    "    \n",
    "    business_list.append(d)\n",
    "    \n",
    "business=pd.DataFrame(business_list)\n",
    "# Changing the index\n",
    "business = business.set_index('business_id')\n",
    "\n",
    "business.head(20)"
   ]
  },
  {
   "cell_type": "code",
   "execution_count": 4,
   "metadata": {
    "collapsed": true
   },
   "outputs": [],
   "source": [
    "Lasvegas = np.array(business.city[business.city=='Las Vegas'].index.values,dtype=str)"
   ]
  },
  {
   "cell_type": "code",
   "execution_count": 6,
   "metadata": {
    "collapsed": false
   },
   "outputs": [],
   "source": [
    "np.save(\"temp/lasvegas_id\",Lasvegas)"
   ]
  },
  {
   "cell_type": "code",
   "execution_count": 7,
   "metadata": {
    "collapsed": true
   },
   "outputs": [],
   "source": [
    "import json\n",
    "review = []\n",
    "with open(\"../cs281_data/yelp_dataset_challenge_academic_dataset/yelp_academic_dataset_review.json\") as f:\n",
    "    for r in f:\n",
    "        review.append(json.loads(r))"
   ]
  },
  {
   "cell_type": "code",
   "execution_count": 8,
   "metadata": {
    "collapsed": true
   },
   "outputs": [],
   "source": [
    "rest = np.load('temp/restaurants_index.npy')"
   ]
  },
  {
   "cell_type": "code",
   "execution_count": 9,
   "metadata": {
    "collapsed": true
   },
   "outputs": [],
   "source": [
    "business_ids = [r['business_id'] for r in review]"
   ]
  },
  {
   "cell_type": "code",
   "execution_count": 10,
   "metadata": {
    "collapsed": true
   },
   "outputs": [],
   "source": [
    "combined_review_dic = dict.fromkeys(list(set(business_ids)))\n",
    "business_ids_tuples = zip(range(len(business_ids)),business_ids)\n",
    "for tup in business_ids_tuples:\n",
    "    if combined_review_dic[tup[1]] is None:\n",
    "        combined_review_dic[tup[1]] = [review[tup[0]]['text'],[review[tup[0]]['stars']]]\n",
    "    else:\n",
    "        combined_review_dic[tup[1]][0] = \" \".join([combined_review_dic[tup[1]][0], review[tup[0]]['text']])\n",
    "        (combined_review_dic[tup[1]][1]).append(review[tup[0]]['stars'])"
   ]
  },
  {
   "cell_type": "code",
   "execution_count": 11,
   "metadata": {
    "collapsed": true
   },
   "outputs": [],
   "source": [
    "restaurant_reviews_lasvegas = {}\n",
    "for r in rest:\n",
    "    if r in Lasvegas:\n",
    "        restaurant_reviews_lasvegas[r] =  combined_review_dic[r]"
   ]
  },
  {
   "cell_type": "code",
   "execution_count": 13,
   "metadata": {
    "collapsed": false
   },
   "outputs": [
    {
     "data": {
      "text/plain": [
       "3822"
      ]
     },
     "execution_count": 13,
     "metadata": {},
     "output_type": "execute_result"
    }
   ],
   "source": [
    "len(restaurant_reviews_lasvegas)"
   ]
  },
  {
   "cell_type": "code",
   "execution_count": 14,
   "metadata": {
    "collapsed": true
   },
   "outputs": [],
   "source": [
    "from pattern.en import parse\n",
    "from pattern.en import pprint\n",
    "from pattern.vector import stem, PORTER, LEMMA\n",
    "punctuation = list('.,;:!?()[]{}`''\\\"@#$^&*+-|=~_')\n",
    "from sklearn.feature_extraction import text \n",
    "stopwords=text.ENGLISH_STOP_WORDS\n",
    "import re\n",
    "regex1=re.compile(r\"\\.{2,}\")\n",
    "regex2=re.compile(r\"\\-{2,}\")\n",
    "def get_parts(thetext,seperate_w_adj):\n",
    "    import itertools\n",
    "    thetext=re.sub(regex1, ' ', thetext)\n",
    "    thetext=re.sub(regex2, ' ', thetext)\n",
    "    nouns=[]\n",
    "    descriptives=[]\n",
    "    for i,sentence in enumerate(parse(thetext, tokenize=True, lemmata=True).split()):\n",
    "        nouns.append([])\n",
    "        descriptives.append([])\n",
    "        for token in sentence:\n",
    "            #print token\n",
    "            if len(token[4]) >0:\n",
    "                if token[1] in ['JJ', 'JJR', 'JJS']:\n",
    "                    if token[4] in stopwords or token[4][0] in punctuation or token[4][-1] in punctuation or len(token[4])==1:\n",
    "                        continue\n",
    "                    descriptives[i].append(token[4])\n",
    "                elif token[1] in ['NN', 'NNS']:\n",
    "                    if token[4] in stopwords or token[4][0] in punctuation or token[4][-1] in punctuation or len(token[4])==1:\n",
    "                        continue\n",
    "                    nouns[i].append(token[4])\n",
    "    out=zip(nouns, descriptives)\n",
    "    nouns2=[]\n",
    "    descriptives2=[]\n",
    "    for n,d in out:\n",
    "        if len(n)!=0 and len(d)!=0:\n",
    "            nouns2.append(n)\n",
    "            descriptives2.append(d)\n",
    "    if seperate_w_adj:\n",
    "        return list(itertools.chain.from_iterable(nouns2)), list(itertools.chain.from_iterable(descriptives2))\n",
    "    else:\n",
    "        return list(itertools.chain.from_iterable(nouns2+descriptives2))"
   ]
  },
  {
   "cell_type": "code",
   "execution_count": 17,
   "metadata": {
    "collapsed": false
   },
   "outputs": [
    {
     "name": "stdout",
     "output_type": "stream",
     "text": [
      "0\n",
      "50\n",
      "100\n",
      "150\n",
      "200\n",
      "250\n",
      "300\n",
      "350\n",
      "400\n",
      "450\n",
      "500\n",
      "550\n",
      "600\n",
      "650\n",
      "700\n",
      "750\n",
      "800\n",
      "850\n",
      "900\n",
      "950\n",
      "1000\n",
      "1050\n",
      "1100\n",
      "1150\n",
      "1200\n",
      "1250\n",
      "1300\n",
      "1350\n",
      "1400\n",
      "1450\n",
      "1500\n",
      "1550\n",
      "1600\n",
      "1650\n",
      "1700\n",
      "1750\n",
      "1800\n",
      "1850\n",
      "1900\n",
      "1950\n",
      "2000\n",
      "2050\n",
      "2100\n",
      "2150\n",
      "2200\n",
      "2250\n",
      "2300\n",
      "2350\n",
      "2400\n",
      "2450\n",
      "2500\n",
      "2550\n",
      "2600\n",
      "2650\n",
      "2700\n",
      "2750\n",
      "2800\n",
      "2850\n",
      "2900\n",
      "2950\n",
      "3000\n",
      "3050\n",
      "3100\n",
      "3150\n",
      "3200\n",
      "3250\n",
      "3300\n",
      "3350\n",
      "3400\n",
      "3450\n",
      "3500\n",
      "3550\n",
      "3600\n",
      "3650\n",
      "3700\n",
      "3750\n",
      "3800\n",
      "CPU times: user 1h 32min 50s, sys: 1min 6s, total: 1h 33min 57s\n",
      "Wall time: 1h 36min 5s\n"
     ]
    }
   ],
   "source": [
    "%%time\n",
    "lasvegas_reviews_wandaj = {}\n",
    "it = 0\n",
    "for k in restaurant_reviews_lasvegas.keys():\n",
    "    if it % 50 == 0:\n",
    "        print it\n",
    "    lasvegas_reviews_wandaj[k] = [get_parts(restaurant_reviews_lasvegas[k][0],True)]\n",
    "    it+=1"
   ]
  },
  {
   "cell_type": "code",
   "execution_count": 18,
   "metadata": {
    "collapsed": true
   },
   "outputs": [],
   "source": [
    "with open('temp/lasvegas_word_adjective.json', 'w') as fp:\n",
    "    json.dump(lasvegas_reviews_wandaj, fp)"
   ]
  },
  {
   "cell_type": "code",
   "execution_count": 19,
   "metadata": {
    "collapsed": true
   },
   "outputs": [],
   "source": [
    "vocab = []\n",
    "for i in lasvegas_reviews_wandaj.keys():\n",
    "    vocab.extend(lasvegas_reviews_wandaj[i][0][0])"
   ]
  },
  {
   "cell_type": "code",
   "execution_count": 21,
   "metadata": {
    "collapsed": false
   },
   "outputs": [],
   "source": [
    "import collections\n",
    "lv_vocab10 = []\n",
    "d = collections.Counter(vocab)\n",
    "for w in vocab:\n",
    "    if d[w]>=10:\n",
    "        lv_vocab10.append(w)"
   ]
  },
  {
   "cell_type": "code",
   "execution_count": 25,
   "metadata": {
    "collapsed": false
   },
   "outputs": [
    {
     "data": {
      "text/plain": [
       "10364"
      ]
     },
     "execution_count": 25,
     "metadata": {},
     "output_type": "execute_result"
    }
   ],
   "source": [
    "len(lv_vocab10)"
   ]
  },
  {
   "cell_type": "code",
   "execution_count": 24,
   "metadata": {
    "collapsed": false
   },
   "outputs": [],
   "source": [
    "lv_vocab10 = list(set(lv_vocab10)) "
   ]
  },
  {
   "cell_type": "code",
   "execution_count": 27,
   "metadata": {
    "collapsed": false
   },
   "outputs": [
    {
     "name": "stdout",
     "output_type": "stream",
     "text": [
      "0\n",
      "50\n",
      "100\n",
      "150\n",
      "200\n",
      "250\n",
      "300\n",
      "350\n",
      "400\n",
      "450\n",
      "500\n",
      "550\n",
      "600\n",
      "650\n",
      "700\n",
      "750\n",
      "800\n",
      "850\n",
      "900\n",
      "950\n",
      "1000\n",
      "1050\n",
      "1100\n",
      "1150\n",
      "1200\n",
      "1250\n",
      "1300\n",
      "1350\n",
      "1400\n",
      "1450\n",
      "1500\n",
      "1550\n",
      "1600\n",
      "1650\n",
      "1700\n",
      "1750\n",
      "1800\n",
      "1850\n",
      "1900\n",
      "1950\n",
      "2000\n",
      "2050\n",
      "2100\n",
      "2150\n",
      "2200\n",
      "2250\n",
      "2300\n",
      "2350\n",
      "2400\n",
      "2450\n",
      "2500\n",
      "2550\n",
      "2600\n",
      "2650\n",
      "2700\n",
      "2750\n",
      "2800\n",
      "2850\n",
      "2900\n",
      "2950\n",
      "3000\n",
      "3050\n",
      "3100\n",
      "3150\n",
      "3200\n",
      "3250\n",
      "3300\n",
      "3350\n",
      "3400\n",
      "3450\n",
      "3500\n",
      "3550\n",
      "3600\n",
      "3650\n",
      "3700\n",
      "3750\n",
      "3800\n"
     ]
    }
   ],
   "source": [
    "reduced_lv = {}\n",
    "it = 0\n",
    "for (k,v) in lasvegas_reviews_wandaj.items():\n",
    "    if it % 50 == 0:\n",
    "        print it\n",
    "    new = []\n",
    "    for w in v[0][0]:\n",
    "        if w in lv_vocab10:\n",
    "            new.append(w)\n",
    "    reduced_lv[k] = new\n",
    "    it+=1"
   ]
  },
  {
   "cell_type": "code",
   "execution_count": 28,
   "metadata": {
    "collapsed": true
   },
   "outputs": [],
   "source": [
    "lv_word_to_index  = dict(zip(lv_vocab10,range(len(lv_vocab10))))\n",
    "lv_index_to_word = dict(zip(range(len(lv_vocab10)),lv_vocab10))\n",
    "lv_bid_to_index = dict(zip(reduced_lv.keys(),range(len(reduced_lv.keys()))))\n",
    "lv_index_to_bid = dict(zip(range(len(reduced_lv.keys())),reduced_lv.keys()))"
   ]
  },
  {
   "cell_type": "code",
   "execution_count": 29,
   "metadata": {
    "collapsed": true
   },
   "outputs": [],
   "source": [
    "from scipy import sparse\n",
    "\n",
    "nonzero_data = []\n",
    "rows_s = []\n",
    "cols_s = []\n",
    "\n",
    "for k in reduced_lv.keys():\n",
    "    counter = collections.Counter(reduced_lv[k])\n",
    "    nonzero_data += counter.values()\n",
    "    rows_s += [lv_bid_to_index[k]]*len(counter.values())\n",
    "    cols_s += [lv_word_to_index[ck] for ck in counter.keys()]\n",
    "\n",
    "sparse_mat = sparse.csc_matrix((nonzero_data,(rows_s,cols_s)),shape = (len(lv_bid_to_index),len(lv_word_to_index)))"
   ]
  },
  {
   "cell_type": "code",
   "execution_count": 30,
   "metadata": {
    "collapsed": true
   },
   "outputs": [],
   "source": [
    "dtm_lv = sparse_mat.toarray()"
   ]
  },
  {
   "cell_type": "code",
   "execution_count": 33,
   "metadata": {
    "collapsed": false
   },
   "outputs": [],
   "source": [
    "np.save(\"temp/lasvegas_dtm\",dtm_lv)"
   ]
  }
 ],
 "metadata": {
  "kernelspec": {
   "display_name": "Python 2",
   "language": "python",
   "name": "python2"
  },
  "language_info": {
   "codemirror_mode": {
    "name": "ipython",
    "version": 2
   },
   "file_extension": ".py",
   "mimetype": "text/x-python",
   "name": "python",
   "nbconvert_exporter": "python",
   "pygments_lexer": "ipython2",
   "version": "2.7.10"
  }
 },
 "nbformat": 4,
 "nbformat_minor": 0
}
