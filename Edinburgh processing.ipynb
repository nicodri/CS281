{
 "cells": [
  {
   "cell_type": "code",
   "execution_count": 1,
   "metadata": {
    "collapsed": true
   },
   "outputs": [],
   "source": [
    "%matplotlib inline\n",
    "import numpy as np\n",
    "import scipy as sp\n",
    "import matplotlib as mpl\n",
    "import matplotlib.cm as cm\n",
    "import matplotlib.pyplot as plt\n",
    "import pandas as pd\n",
    "pd.set_option('display.width', 500)\n",
    "pd.set_option('display.max_columns', 100)\n",
    "pd.set_option('display.notebook_repr_html', True)\n",
    "import seaborn as sns\n",
    "sns.set_style(\"whitegrid\")\n",
    "sns.set_context(\"poster\")"
   ]
  },
  {
   "cell_type": "code",
   "execution_count": 2,
   "metadata": {
    "collapsed": false
   },
   "outputs": [],
   "source": [
    "import findspark\n",
    "findspark.init()\n",
    "import pyspark\n",
    "conf = (pyspark.SparkConf()\n",
    "    .setMaster('local')\n",
    "    .setAppName('pyspark')\n",
    "    .set(\"spark.executor.memory\", \"2g\"))\n",
    "sc = pyspark.SparkContext(conf=conf)"
   ]
  },
  {
   "cell_type": "code",
   "execution_count": 4,
   "metadata": {
    "collapsed": false
   },
   "outputs": [],
   "source": [
    "import json\n",
    "data = []\n",
    "with open(\"../cs281_data/yelp_dataset_challenge_academic_dataset/yelp_academic_dataset_business.json\") as f:\n",
    "    for l in f:\n",
    "        data.append(json.loads(l))"
   ]
  },
  {
   "cell_type": "code",
   "execution_count": 5,
   "metadata": {
    "collapsed": false
   },
   "outputs": [
    {
     "data": {
      "text/html": [
       "<div>\n",
       "<table border=\"1\" class=\"dataframe\">\n",
       "  <thead>\n",
       "    <tr style=\"text-align: right;\">\n",
       "      <th></th>\n",
       "      <th>attributes</th>\n",
       "      <th>categories</th>\n",
       "      <th>city</th>\n",
       "      <th>latitude</th>\n",
       "      <th>longitude</th>\n",
       "      <th>open</th>\n",
       "      <th>review_count</th>\n",
       "      <th>stars</th>\n",
       "      <th>state</th>\n",
       "    </tr>\n",
       "    <tr>\n",
       "      <th>business_id</th>\n",
       "      <th></th>\n",
       "      <th></th>\n",
       "      <th></th>\n",
       "      <th></th>\n",
       "      <th></th>\n",
       "      <th></th>\n",
       "      <th></th>\n",
       "      <th></th>\n",
       "      <th></th>\n",
       "    </tr>\n",
       "  </thead>\n",
       "  <tbody>\n",
       "    <tr>\n",
       "      <th>vcNAWiLM4dR7D2nwwJ7nCA</th>\n",
       "      <td>{u'By Appointment Only': True}</td>\n",
       "      <td>[Doctors, Health &amp; Medical]</td>\n",
       "      <td>Phoenix</td>\n",
       "      <td>33.499313</td>\n",
       "      <td>-111.983758</td>\n",
       "      <td>True</td>\n",
       "      <td>9</td>\n",
       "      <td>3.5</td>\n",
       "      <td>AZ</td>\n",
       "    </tr>\n",
       "    <tr>\n",
       "      <th>UsFtqoBl7naz8AVUBZMjQQ</th>\n",
       "      <td>{u'Happy Hour': True, u'Accepts Credit Cards':...</td>\n",
       "      <td>[Nightlife]</td>\n",
       "      <td>Dravosburg</td>\n",
       "      <td>40.350519</td>\n",
       "      <td>-79.886930</td>\n",
       "      <td>True</td>\n",
       "      <td>4</td>\n",
       "      <td>3.5</td>\n",
       "      <td>PA</td>\n",
       "    </tr>\n",
       "    <tr>\n",
       "      <th>cE27W9VPgO88Qxe4ol6y_g</th>\n",
       "      <td>{u'Good for Kids': True}</td>\n",
       "      <td>[Active Life, Mini Golf, Golf]</td>\n",
       "      <td>Bethel Park</td>\n",
       "      <td>40.356896</td>\n",
       "      <td>-80.015910</td>\n",
       "      <td>False</td>\n",
       "      <td>5</td>\n",
       "      <td>2.5</td>\n",
       "      <td>PA</td>\n",
       "    </tr>\n",
       "    <tr>\n",
       "      <th>HZdLhv6COCleJMo7nPl-RA</th>\n",
       "      <td>{}</td>\n",
       "      <td>[Shopping, Home Services, Internet Service Pro...</td>\n",
       "      <td>Pittsburgh</td>\n",
       "      <td>40.357620</td>\n",
       "      <td>-80.059980</td>\n",
       "      <td>True</td>\n",
       "      <td>3</td>\n",
       "      <td>3.5</td>\n",
       "      <td>PA</td>\n",
       "    </tr>\n",
       "    <tr>\n",
       "      <th>mVHrayjG3uZ_RLHkLj-AMg</th>\n",
       "      <td>{u'Alcohol': u'full_bar', u'Noise Level': u'av...</td>\n",
       "      <td>[Bars, American (New), Nightlife, Lounges, Res...</td>\n",
       "      <td>Braddock</td>\n",
       "      <td>40.408735</td>\n",
       "      <td>-79.866351</td>\n",
       "      <td>True</td>\n",
       "      <td>11</td>\n",
       "      <td>4.5</td>\n",
       "      <td>PA</td>\n",
       "    </tr>\n",
       "  </tbody>\n",
       "</table>\n",
       "</div>"
      ],
      "text/plain": [
       "                                                               attributes                                         categories         city   latitude   longitude   open  review_count  stars state\n",
       "business_id                                                                                                                                                                                       \n",
       "vcNAWiLM4dR7D2nwwJ7nCA                     {u'By Appointment Only': True}                        [Doctors, Health & Medical]      Phoenix  33.499313 -111.983758   True             9    3.5    AZ\n",
       "UsFtqoBl7naz8AVUBZMjQQ  {u'Happy Hour': True, u'Accepts Credit Cards':...                                        [Nightlife]   Dravosburg  40.350519  -79.886930   True             4    3.5    PA\n",
       "cE27W9VPgO88Qxe4ol6y_g                           {u'Good for Kids': True}                     [Active Life, Mini Golf, Golf]  Bethel Park  40.356896  -80.015910  False             5    2.5    PA\n",
       "HZdLhv6COCleJMo7nPl-RA                                                 {}  [Shopping, Home Services, Internet Service Pro...   Pittsburgh  40.357620  -80.059980   True             3    3.5    PA\n",
       "mVHrayjG3uZ_RLHkLj-AMg  {u'Alcohol': u'full_bar', u'Noise Level': u'av...  [Bars, American (New), Nightlife, Lounges, Res...     Braddock  40.408735  -79.866351   True            11    4.5    PA"
      ]
     },
     "execution_count": 5,
     "metadata": {},
     "output_type": "execute_result"
    }
   ],
   "source": [
    "business_list = []\n",
    "    \n",
    "for b in data:\n",
    "    d = b.copy()\n",
    "    \n",
    "    # Dropping unconsidered features\n",
    "    d.pop('hours')\n",
    "    #d.pop('attributes')\n",
    "    d.pop('neighborhoods')\n",
    "    d.pop('type')\n",
    "    d.pop('full_address')\n",
    "    d.pop('name')    \n",
    "    \n",
    "    business_list.append(d)\n",
    "    \n",
    "business=pd.DataFrame(business_list)\n",
    "# Changing the index\n",
    "business = business.set_index('business_id')\n",
    "\n",
    "business.head(5)"
   ]
  },
  {
   "cell_type": "code",
   "execution_count": 6,
   "metadata": {
    "collapsed": false
   },
   "outputs": [],
   "source": [
    "edinburg = np.array(business.city[business.city=='Edinburgh'].index.values,dtype=str)"
   ]
  },
  {
   "cell_type": "code",
   "execution_count": 7,
   "metadata": {
    "collapsed": false
   },
   "outputs": [],
   "source": [
    "import json\n",
    "review = []\n",
    "with open(\"../cs281_data/yelp_dataset_challenge_academic_dataset/yelp_academic_dataset_review.json\") as f:\n",
    "    for r in f:\n",
    "        review.append(json.loads(r))"
   ]
  },
  {
   "cell_type": "code",
   "execution_count": 8,
   "metadata": {
    "collapsed": false
   },
   "outputs": [
    {
     "data": {
      "text/plain": [
       "{u'business_id': u'vcNAWiLM4dR7D2nwwJ7nCA',\n",
       " u'date': u'2007-05-17',\n",
       " u'review_id': u'15SdjuK7DmYqUAj6rjGowg',\n",
       " u'stars': 5,\n",
       " u'text': u\"dr. goldberg offers everything i look for in a general practitioner.  he's nice and easy to talk to without being patronizing; he's always on time in seeing his patients; he's affiliated with a top-notch hospital (nyu) which my parents have explained to me is very important in case something happens and you need surgery; and you can get referrals to see specialists without having to see him first.  really, what more do you need?  i'm sitting here trying to think of any complaints i have about him, but i'm really drawing a blank.\",\n",
       " u'type': u'review',\n",
       " u'user_id': u'Xqd0DzHaiyRqVH3WRG7hzg',\n",
       " u'votes': {u'cool': 1, u'funny': 0, u'useful': 2}}"
      ]
     },
     "execution_count": 8,
     "metadata": {},
     "output_type": "execute_result"
    }
   ],
   "source": [
    "review[0]"
   ]
  },
  {
   "cell_type": "code",
   "execution_count": 9,
   "metadata": {
    "collapsed": true
   },
   "outputs": [],
   "source": [
    "rest = np.load('temp/restaurants_index.npy')"
   ]
  },
  {
   "cell_type": "code",
   "execution_count": 32,
   "metadata": {
    "collapsed": true
   },
   "outputs": [],
   "source": [
    "business_ids = [r['business_id'] for r in review]"
   ]
  },
  {
   "cell_type": "code",
   "execution_count": 43,
   "metadata": {
    "collapsed": false
   },
   "outputs": [],
   "source": [
    "combined_review_dic = dict.fromkeys(list(set(business_ids)))\n",
    "business_ids_tuples = zip(range(len(business_ids)),business_ids)\n",
    "for tup in business_ids_tuples:\n",
    "    if combined_review_dic[tup[1]] is None:\n",
    "        combined_review_dic[tup[1]] = [review[tup[0]]['text'],[review[tup[0]]['stars']]]\n",
    "    else:\n",
    "        combined_review_dic[tup[1]][0] = \" \".join([combined_review_dic[tup[1]][0], review[tup[0]]['text']])\n",
    "        (combined_review_dic[tup[1]][1]).append(review[tup[0]]['stars'])"
   ]
  },
  {
   "cell_type": "code",
   "execution_count": 44,
   "metadata": {
    "collapsed": true
   },
   "outputs": [],
   "source": [
    "restaurant_reviews_edinburgh = {}\n",
    "for r in rest:\n",
    "    if r in edinburg:\n",
    "        restaurant_reviews_edinburgh[r] =  combined_review_dic[r]\n",
    "    "
   ]
  },
  {
   "cell_type": "code",
   "execution_count": 45,
   "metadata": {
    "collapsed": false
   },
   "outputs": [
    {
     "data": {
      "text/plain": [
       "667"
      ]
     },
     "execution_count": 45,
     "metadata": {},
     "output_type": "execute_result"
    }
   ],
   "source": [
    "len(restaurant_reviews_edinburgh)"
   ]
  },
  {
   "cell_type": "code",
   "execution_count": 46,
   "metadata": {
    "collapsed": true
   },
   "outputs": [],
   "source": [
    "for r in restaurant_reviews_edinburgh.keys():\n",
    "    restaurant_reviews_edinburgh[r][1] = round(np.mean(restaurant_reviews_edinburgh[r][1]))"
   ]
  },
  {
   "cell_type": "code",
   "execution_count": 47,
   "metadata": {
    "collapsed": false
   },
   "outputs": [
    {
     "data": {
      "text/plain": [
       "[u\"I wandered into town still half asleep before hopping onto a bus up to Aberdeen. My Belly was not happy at the thought of having to wait til reaching the granite city before getting something to eat, so a quick breakfast was what I was looking for. I had walked past this place a few times, it is close to the bus station so I headed straight for it.\\n\\nI arrived and as it was early morning they were quite busy with takeaways and such like, but it wasn't too busy! I then decided I had enough time to sit and enjoy my breakfast roll rather than walk and eat (that always ends badly for me!!) I grabbed a seat and one of the girls came over to clear the cups and plates off the table. I had decided on what I wanted and sat there for a good ten minutes without anyone coming over to see what I was wanting. Although it does not suggest anywhere that you need to order at the counter, I was a bit peeved that none of the staff thought to come over, or for the girl that was clearing to inform me that it was not table service!? I therefore ended up getting my egg and tattie scone roll to takeaway as I had already wasted 10 minutes sitting in which time the queue and got vastly longer! Not happy. The roll, was well, an egg and tattie scone roll.\\n\\n The soup board sounded tasty with lots of choices, but I think if I was going to go back for lunch, I would maybe try avoid the 'lunch rush' as I would feel the service may not be quite up to scratch. This is simply a fab place to have breakfast - they even do rib eye steak and eggs. The service is friendly and the food is just delicious. Have been twice now and each time have loved the scrambled eggs - first on toast (loads of it!) and second time on a roll - freshly cooked and hot. \\n\\nYou must try it! \\n\\nWifi available if you have a BT account... We'd made up our minds to grab a bite in the National Portrait Gallery but decided to pop across the road to the Square for a change of scenery.  Have to say the jury's out on whether we chose wisely. \\n\\nInside is pretty standard 'sandwich shoppy' though there are some comfy seats to grab. We sat near the door - mistake number one, and ordered a steak baguette (not bad) and a chicken and sweet corn chowder - mistake number two.\\n\\nFor some reason folk coming in and out didn't quite grasp the concept of a front door that can close as well as open so it was a chilly dining experience.  Got up to close it once but hoped the staff might have done something after the double doors were left open for the fifth time. Not good.\\n\\nI'd opted for the steak, but sweetness and light thought the chowder would be more up her street.  Golden rule for chefs - you can't take salt out, so better to under do it than over do it.  I could almost see her mineral levels rising in front of me and said goodbye to my can of San Pellagrino as she tried in vain to combat her saline intake.\\n\\nThat said, I thought the steak baguette was pretty decent but I don't think we'll be rushing back. I used to work on York Place and so most lunch times I would go to The Square. The staff were super friendly and the sandwiches and hot dishes such as yummy mac'n'cheese.\\n\\nOne thing in particular that I like is that they post their soups daily on Facebook so you can decide before you go, and they always have something different, from Smoked Turkey and yellow split pea to Sweet potato beetroot and feta.\\n\\nThere were always queues out the door at lunch time so they opened up another place 5 mins just down the road.\\n\\nI haven't been for a while so I'm definitely due another visit :) What a mentally crazy place. If I hadn't been warned about the process at The Square, I would have just been confused ie. pick your bread from the side (oh how I think about grubby paws manhandling the bread...euw) and then order. I was a bit confused as there was a huge queue, which I joined like a good and proper Brit, only to watch someone else march straight up to the counter and order. I then realised this was some strange gathering of people who were either waiting for a table, to pay, or to get their order. \\n\\nThus enlightened, I walked up to the counter and placed my order. Looking in the deli counter I started to feel less confident, noticing that there was no separation of meat and non meat products, and the same equipment used for both. \\n\\nI heard another guy complaining after his lunch was lost, and my confidence dorpped further. I then saw, from the side, my lunch (a vegetable melt) which I assume would have been treated like a panini, having the contents removed from the bread, thrown into the panini toaster, then shovelled back into the panini and toasted as one. Hmm.  Hungry and not super fastidious, I took it, but I wouldn't return, The Squares practices just seem a bit too shambolic for me. We love going to the square because the food quality is always great. Love the lentil soup! I was meeting up with a few friends and this was the suggested meet up point for breakfast / lunch.\\n\\n\\nWith only a few seats this could have been a cosy place to go to but the no heating knocked that one in the head, all the guests that where eating in, kept their jackets on.\\n\\n\\nA good menu on offer from steak sandwiches, daily specials, breakfast's to filled roll's.\\n\\n\\nThe food would have been nice if it had been served on hot plates, as they where served on cold plates the food went cold quickly.\\n\\n\\nThe floor looked as if it hadn't been swept in a day or two, \\n\\n\\nThe coffee is nice not could not fault that.\",\n",
       " 3.0]"
      ]
     },
     "execution_count": 47,
     "metadata": {},
     "output_type": "execute_result"
    }
   ],
   "source": [
    "restaurant_reviews_edinburgh[restaurant_reviews_edinburgh.keys()[0]]"
   ]
  },
  {
   "cell_type": "code",
   "execution_count": 15,
   "metadata": {
    "collapsed": true
   },
   "outputs": [],
   "source": [
    "from pattern.en import parse\n",
    "from pattern.en import pprint\n",
    "from pattern.vector import stem, PORTER, LEMMA\n",
    "punctuation = list('.,;:!?()[]{}`''\\\"@#$^&*+-|=~_')"
   ]
  },
  {
   "cell_type": "code",
   "execution_count": 16,
   "metadata": {
    "collapsed": true
   },
   "outputs": [],
   "source": [
    "from sklearn.feature_extraction import text \n",
    "stopwords=text.ENGLISH_STOP_WORDS"
   ]
  },
  {
   "cell_type": "code",
   "execution_count": 17,
   "metadata": {
    "collapsed": true
   },
   "outputs": [],
   "source": [
    "import re\n",
    "regex1=re.compile(r\"\\.{2,}\")\n",
    "regex2=re.compile(r\"\\-{2,}\")"
   ]
  },
  {
   "cell_type": "code",
   "execution_count": 37,
   "metadata": {
    "collapsed": true
   },
   "outputs": [],
   "source": [
    "def get_parts(thetext,seperate_w_adj):\n",
    "    import itertools\n",
    "    thetext=re.sub(regex1, ' ', thetext)\n",
    "    thetext=re.sub(regex2, ' ', thetext)\n",
    "    nouns=[]\n",
    "    descriptives=[]\n",
    "    for i,sentence in enumerate(parse(thetext, tokenize=True, lemmata=True).split()):\n",
    "        nouns.append([])\n",
    "        descriptives.append([])\n",
    "        for token in sentence:\n",
    "            #print token\n",
    "            if len(token[4]) >0:\n",
    "                if token[1] in ['JJ', 'JJR', 'JJS']:\n",
    "                    if token[4] in stopwords or token[4][0] in punctuation or token[4][-1] in punctuation or len(token[4])==1:\n",
    "                        continue\n",
    "                    descriptives[i].append(token[4])\n",
    "                elif token[1] in ['NN', 'NNS']:\n",
    "                    if token[4] in stopwords or token[4][0] in punctuation or token[4][-1] in punctuation or len(token[4])==1:\n",
    "                        continue\n",
    "                    nouns[i].append(token[4])\n",
    "    out=zip(nouns, descriptives)\n",
    "    nouns2=[]\n",
    "    descriptives2=[]\n",
    "    for n,d in out:\n",
    "        if len(n)!=0 and len(d)!=0:\n",
    "            nouns2.append(n)\n",
    "            descriptives2.append(d)\n",
    "    if seperate_w_adj:\n",
    "        return list(itertools.chain.from_iterable(nouns2)), list(itertools.chain.from_iterable(descriptives2))\n",
    "    else:\n",
    "        return list(itertools.chain.from_iterable(nouns2+descriptives2))"
   ]
  },
  {
   "cell_type": "code",
   "execution_count": 48,
   "metadata": {
    "collapsed": false
   },
   "outputs": [
    {
     "name": "stdout",
     "output_type": "stream",
     "text": [
      "CPU times: user 2min 45s, sys: 1.27 s, total: 2min 46s\n",
      "Wall time: 2min 47s\n"
     ]
    }
   ],
   "source": [
    "%%time\n",
    "edinburgh_reviews_complete = {}\n",
    "for k in restaurant_reviews_edinburgh.keys():\n",
    "    edinburgh_reviews_complete[k] = [get_parts(restaurant_reviews_edinburgh[k][0],False),restaurant_reviews_edinburgh[k][1]]"
   ]
  },
  {
   "cell_type": "code",
   "execution_count": 49,
   "metadata": {
    "collapsed": false
   },
   "outputs": [
    {
     "data": {
      "text/plain": [
       "[[u'thought',\n",
       "  u'granite',\n",
       "  u'city',\n",
       "  u'breakfast',\n",
       "  u'place',\n",
       "  u'time',\n",
       "  u'bus',\n",
       "  u'station',\n",
       "  u'morning',\n",
       "  u'takeaway',\n",
       "  u'minute',\n",
       "  u'order',\n",
       "  u'bit',\n",
       "  u'staff',\n",
       "  u'girl',\n",
       "  u'table',\n",
       "  u'service',\n",
       "  u'egg',\n",
       "  u'tattie',\n",
       "  u'scone',\n",
       "  u'roll',\n",
       "  u'minute',\n",
       "  u'time',\n",
       "  u'queue',\n",
       "  u'soup',\n",
       "  u'board',\n",
       "  u'lot',\n",
       "  u'choice',\n",
       "  u'lunch',\n",
       "  u'lunch',\n",
       "  u'rush',\n",
       "  u'service',\n",
       "  u'place',\n",
       "  u'breakfast',\n",
       "  u'rib',\n",
       "  u'eye',\n",
       "  u'steak',\n",
       "  u'egg',\n",
       "  u'service',\n",
       "  u'food',\n",
       "  u'time',\n",
       "  u'egg',\n",
       "  u'toast',\n",
       "  u'load',\n",
       "  u'time',\n",
       "  u'roll',\n",
       "  u'wifi',\n",
       "  u'mind',\n",
       "  u'bite',\n",
       "  u'portrait',\n",
       "  u'gallery',\n",
       "  u'road',\n",
       "  u'change',\n",
       "  u'scenery',\n",
       "  u'inside',\n",
       "  u'sandwich',\n",
       "  u'seat',\n",
       "  u'door',\n",
       "  u'mistake',\n",
       "  u'number',\n",
       "  u'steak',\n",
       "  u'chicken',\n",
       "  u'corn',\n",
       "  u'chowder',\n",
       "  u'mistake',\n",
       "  u'number',\n",
       "  u'reason',\n",
       "  u'folk',\n",
       "  u'concept',\n",
       "  u'door',\n",
       "  u'dining',\n",
       "  u'experience',\n",
       "  u'staff',\n",
       "  u'door',\n",
       "  u'time',\n",
       "  u'mineral',\n",
       "  u'level',\n",
       "  u'goodbye',\n",
       "  u'saline',\n",
       "  u'intake',\n",
       "  u'steak',\n",
       "  u'staff',\n",
       "  u'sandwich',\n",
       "  u'dish',\n",
       "  u\"mac'n'cheese\",\n",
       "  u'thing',\n",
       "  u'soup',\n",
       "  u'split',\n",
       "  u'pea',\n",
       "  u'potato',\n",
       "  u'beetroot',\n",
       "  u'feta',\n",
       "  u'visit',\n",
       "  u'place',\n",
       "  u'bread',\n",
       "  u'paw',\n",
       "  u'bread',\n",
       "  u'euw',\n",
       "  u'order',\n",
       "  u'bit',\n",
       "  u'queue',\n",
       "  u'march',\n",
       "  u'order',\n",
       "  u'gathering',\n",
       "  u'person',\n",
       "  u'table',\n",
       "  u'order',\n",
       "  u'order',\n",
       "  u'deli',\n",
       "  u'separation',\n",
       "  u'meat',\n",
       "  u'meat',\n",
       "  u'product',\n",
       "  u'equipment',\n",
       "  u'square',\n",
       "  u'practice',\n",
       "  u'bit',\n",
       "  u'square',\n",
       "  u'food',\n",
       "  u'quality',\n",
       "  u'soup',\n",
       "  u'seat',\n",
       "  u'place',\n",
       "  u'heating',\n",
       "  u'head',\n",
       "  u'guest',\n",
       "  u'eating',\n",
       "  u'jacket',\n",
       "  u'menu',\n",
       "  u'offer',\n",
       "  u'steak',\n",
       "  u'sandwich',\n",
       "  u'special',\n",
       "  u'breakfast',\n",
       "  u'roll',\n",
       "  u'food',\n",
       "  u'plate',\n",
       "  u'plate',\n",
       "  u'food',\n",
       "  u'coffee',\n",
       "  u'fault',\n",
       "  u'happy',\n",
       "  u'quick',\n",
       "  u'close',\n",
       "  u'early',\n",
       "  u'busy',\n",
       "  u'busy',\n",
       "  u'good',\n",
       "  u'counter',\n",
       "  u'longer',\n",
       "  u'tasty',\n",
       "  u'fab',\n",
       "  u'friendly',\n",
       "  u'delicious',\n",
       "  u'scrambled',\n",
       "  u'second',\n",
       "  u'hot',\n",
       "  u'available',\n",
       "  u'standard',\n",
       "  u'shoppy',\n",
       "  u'comfy',\n",
       "  u'bad',\n",
       "  u'sweet',\n",
       "  u'open',\n",
       "  u'chilly',\n",
       "  u'double',\n",
       "  u'open',\n",
       "  u'fifth',\n",
       "  u'vain',\n",
       "  u'pretty',\n",
       "  u'decent',\n",
       "  u'super',\n",
       "  u'friendly',\n",
       "  u'hot',\n",
       "  u'yummy',\n",
       "  u'particular',\n",
       "  u'different',\n",
       "  u'yellow',\n",
       "  u'crazy',\n",
       "  u'grubby',\n",
       "  u'confused',\n",
       "  u'huge',\n",
       "  u'good',\n",
       "  u'proper',\n",
       "  u'counter',\n",
       "  u'strange',\n",
       "  u'counter',\n",
       "  u'confident',\n",
       "  u'hungry',\n",
       "  u'super',\n",
       "  u'fastidious',\n",
       "  u'shambolic',\n",
       "  u'great',\n",
       "  u'lentil',\n",
       "  u'cosy',\n",
       "  u'good',\n",
       "  u'daily',\n",
       "  u'filled',\n",
       "  u'nice',\n",
       "  u'hot',\n",
       "  u'cold',\n",
       "  u'cold',\n",
       "  u'nice'],\n",
       " 3.0]"
      ]
     },
     "execution_count": 49,
     "metadata": {},
     "output_type": "execute_result"
    }
   ],
   "source": [
    "edinburgh_reviews_complete[edinburgh_reviews_complete.keys()[0]]"
   ]
  },
  {
   "cell_type": "code",
   "execution_count": 50,
   "metadata": {
    "collapsed": false
   },
   "outputs": [
    {
     "name": "stdout",
     "output_type": "stream",
     "text": [
      "CPU times: user 2min 41s, sys: 1.43 s, total: 2min 42s\n",
      "Wall time: 2min 43s\n"
     ]
    }
   ],
   "source": [
    "%%time\n",
    "edinburgh_reviews_wandaj = {}\n",
    "for k in restaurant_reviews_edinburgh.keys():\n",
    "    edinburgh_reviews_wandaj[k] = [get_parts(restaurant_reviews_edinburgh[k][0],True),restaurant_reviews_edinburgh[k][1]]"
   ]
  },
  {
   "cell_type": "code",
   "execution_count": 51,
   "metadata": {
    "collapsed": false
   },
   "outputs": [
    {
     "data": {
      "text/plain": [
       "[([u'thought',\n",
       "   u'granite',\n",
       "   u'city',\n",
       "   u'breakfast',\n",
       "   u'place',\n",
       "   u'time',\n",
       "   u'bus',\n",
       "   u'station',\n",
       "   u'morning',\n",
       "   u'takeaway',\n",
       "   u'minute',\n",
       "   u'order',\n",
       "   u'bit',\n",
       "   u'staff',\n",
       "   u'girl',\n",
       "   u'table',\n",
       "   u'service',\n",
       "   u'egg',\n",
       "   u'tattie',\n",
       "   u'scone',\n",
       "   u'roll',\n",
       "   u'minute',\n",
       "   u'time',\n",
       "   u'queue',\n",
       "   u'soup',\n",
       "   u'board',\n",
       "   u'lot',\n",
       "   u'choice',\n",
       "   u'lunch',\n",
       "   u'lunch',\n",
       "   u'rush',\n",
       "   u'service',\n",
       "   u'place',\n",
       "   u'breakfast',\n",
       "   u'rib',\n",
       "   u'eye',\n",
       "   u'steak',\n",
       "   u'egg',\n",
       "   u'service',\n",
       "   u'food',\n",
       "   u'time',\n",
       "   u'egg',\n",
       "   u'toast',\n",
       "   u'load',\n",
       "   u'time',\n",
       "   u'roll',\n",
       "   u'wifi',\n",
       "   u'mind',\n",
       "   u'bite',\n",
       "   u'portrait',\n",
       "   u'gallery',\n",
       "   u'road',\n",
       "   u'change',\n",
       "   u'scenery',\n",
       "   u'inside',\n",
       "   u'sandwich',\n",
       "   u'seat',\n",
       "   u'door',\n",
       "   u'mistake',\n",
       "   u'number',\n",
       "   u'steak',\n",
       "   u'chicken',\n",
       "   u'corn',\n",
       "   u'chowder',\n",
       "   u'mistake',\n",
       "   u'number',\n",
       "   u'reason',\n",
       "   u'folk',\n",
       "   u'concept',\n",
       "   u'door',\n",
       "   u'dining',\n",
       "   u'experience',\n",
       "   u'staff',\n",
       "   u'door',\n",
       "   u'time',\n",
       "   u'mineral',\n",
       "   u'level',\n",
       "   u'goodbye',\n",
       "   u'saline',\n",
       "   u'intake',\n",
       "   u'steak',\n",
       "   u'staff',\n",
       "   u'sandwich',\n",
       "   u'dish',\n",
       "   u\"mac'n'cheese\",\n",
       "   u'thing',\n",
       "   u'soup',\n",
       "   u'split',\n",
       "   u'pea',\n",
       "   u'potato',\n",
       "   u'beetroot',\n",
       "   u'feta',\n",
       "   u'visit',\n",
       "   u'place',\n",
       "   u'bread',\n",
       "   u'paw',\n",
       "   u'bread',\n",
       "   u'euw',\n",
       "   u'order',\n",
       "   u'bit',\n",
       "   u'queue',\n",
       "   u'march',\n",
       "   u'order',\n",
       "   u'gathering',\n",
       "   u'person',\n",
       "   u'table',\n",
       "   u'order',\n",
       "   u'order',\n",
       "   u'deli',\n",
       "   u'separation',\n",
       "   u'meat',\n",
       "   u'meat',\n",
       "   u'product',\n",
       "   u'equipment',\n",
       "   u'square',\n",
       "   u'practice',\n",
       "   u'bit',\n",
       "   u'square',\n",
       "   u'food',\n",
       "   u'quality',\n",
       "   u'soup',\n",
       "   u'seat',\n",
       "   u'place',\n",
       "   u'heating',\n",
       "   u'head',\n",
       "   u'guest',\n",
       "   u'eating',\n",
       "   u'jacket',\n",
       "   u'menu',\n",
       "   u'offer',\n",
       "   u'steak',\n",
       "   u'sandwich',\n",
       "   u'special',\n",
       "   u'breakfast',\n",
       "   u'roll',\n",
       "   u'food',\n",
       "   u'plate',\n",
       "   u'plate',\n",
       "   u'food',\n",
       "   u'coffee',\n",
       "   u'fault'],\n",
       "  [u'happy',\n",
       "   u'quick',\n",
       "   u'close',\n",
       "   u'early',\n",
       "   u'busy',\n",
       "   u'busy',\n",
       "   u'good',\n",
       "   u'counter',\n",
       "   u'longer',\n",
       "   u'tasty',\n",
       "   u'fab',\n",
       "   u'friendly',\n",
       "   u'delicious',\n",
       "   u'scrambled',\n",
       "   u'second',\n",
       "   u'hot',\n",
       "   u'available',\n",
       "   u'standard',\n",
       "   u'shoppy',\n",
       "   u'comfy',\n",
       "   u'bad',\n",
       "   u'sweet',\n",
       "   u'open',\n",
       "   u'chilly',\n",
       "   u'double',\n",
       "   u'open',\n",
       "   u'fifth',\n",
       "   u'vain',\n",
       "   u'pretty',\n",
       "   u'decent',\n",
       "   u'super',\n",
       "   u'friendly',\n",
       "   u'hot',\n",
       "   u'yummy',\n",
       "   u'particular',\n",
       "   u'different',\n",
       "   u'yellow',\n",
       "   u'crazy',\n",
       "   u'grubby',\n",
       "   u'confused',\n",
       "   u'huge',\n",
       "   u'good',\n",
       "   u'proper',\n",
       "   u'counter',\n",
       "   u'strange',\n",
       "   u'counter',\n",
       "   u'confident',\n",
       "   u'hungry',\n",
       "   u'super',\n",
       "   u'fastidious',\n",
       "   u'shambolic',\n",
       "   u'great',\n",
       "   u'lentil',\n",
       "   u'cosy',\n",
       "   u'good',\n",
       "   u'daily',\n",
       "   u'filled',\n",
       "   u'nice',\n",
       "   u'hot',\n",
       "   u'cold',\n",
       "   u'cold',\n",
       "   u'nice']),\n",
       " 3.0]"
      ]
     },
     "execution_count": 51,
     "metadata": {},
     "output_type": "execute_result"
    }
   ],
   "source": [
    "edinburgh_reviews_wandaj[edinburgh_reviews_wandaj.keys()[0]]"
   ]
  },
  {
   "cell_type": "code",
   "execution_count": 52,
   "metadata": {
    "collapsed": true
   },
   "outputs": [],
   "source": [
    "with open('temp/edinburgh_noseparation.json', 'w') as fp:\n",
    "    json.dump(edinburgh_reviews_complete, fp)\n",
    "with open('temp/edinburgh_word_adjective.json', 'w') as fp:\n",
    "    json.dump(edinburgh_reviews_wandaj, fp)"
   ]
  },
  {
   "cell_type": "code",
   "execution_count": null,
   "metadata": {
    "collapsed": true
   },
   "outputs": [],
   "source": []
  }
 ],
 "metadata": {
  "kernelspec": {
   "display_name": "Python 2",
   "language": "python",
   "name": "python2"
  },
  "language_info": {
   "codemirror_mode": {
    "name": "ipython",
    "version": 2
   },
   "file_extension": ".py",
   "mimetype": "text/x-python",
   "name": "python",
   "nbconvert_exporter": "python",
   "pygments_lexer": "ipython2",
   "version": "2.7.10"
  }
 },
 "nbformat": 4,
 "nbformat_minor": 0
}
