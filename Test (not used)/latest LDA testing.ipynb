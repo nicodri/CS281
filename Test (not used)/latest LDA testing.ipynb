{
 "cells": [
  {
   "cell_type": "code",
   "execution_count": 1,
   "metadata": {
    "collapsed": true
   },
   "outputs": [],
   "source": [
    "%matplotlib inline\n",
    "import time\n",
    "import numpy as np\n",
    "import matplotlib.pyplot as plt\n",
    "import scipy.special as spec\n",
    "from sklearn.preprocessing import normalize\n",
    "import matplotlib.pyplot as plt\n",
    "import sklearn.cluster\n",
    "import sklearn.decomposition"
   ]
  },
  {
   "cell_type": "code",
   "execution_count": 3,
   "metadata": {
    "collapsed": false
   },
   "outputs": [],
   "source": [
    "N_docs = 100\n",
    "N_words = 450\n",
    "num_topics = 9\n",
    "corpus = np.zeros((N_docs, N_words))  # shape (docs, words)\n",
    "vocabulary = np.arange(N_words)\n",
    "\n",
    "block = 10 * np.ones((20, 50))\n",
    "for i in range(num_topics):\n",
    "    corpus[10*i:10*(i+2),50*i:50*(i+1)] = block\n",
    "\n",
    "np.random.seed(0)\n",
    "shuff = np.random.choice(100, 100, replace=False)\n",
    "corpus_shuffled = corpus[shuff,:]"
   ]
  },
  {
   "cell_type": "code",
   "execution_count": 69,
   "metadata": {
    "collapsed": true
   },
   "outputs": [],
   "source": [
    "nmf = sklearn.decomposition.NMF(9)"
   ]
  },
  {
   "cell_type": "code",
   "execution_count": 70,
   "metadata": {
    "collapsed": false
   },
   "outputs": [
    {
     "data": {
      "text/plain": [
       "NMF(beta=1, eta=0.1, init=None, max_iter=200, n_components=9,\n",
       "  nls_max_iter=2000, random_state=None, sparseness=None, tol=0.0001)"
      ]
     },
     "execution_count": 70,
     "metadata": {},
     "output_type": "execute_result"
    }
   ],
   "source": [
    "nmf.fit(corpus)"
   ]
  },
  {
   "cell_type": "code",
   "execution_count": 6,
   "metadata": {
    "collapsed": false
   },
   "outputs": [
    {
     "data": {
      "text/plain": [
       "(9, 450)"
      ]
     },
     "execution_count": 6,
     "metadata": {},
     "output_type": "execute_result"
    }
   ],
   "source": [
    "nmf.components_.shape"
   ]
  },
  {
   "cell_type": "code",
   "execution_count": 9,
   "metadata": {
    "collapsed": false
   },
   "outputs": [
    {
     "data": {
      "image/png": "[encoded data removed]",
      "text/plain": [
       "<matplotlib.figure.Figure at 0x109355310>"
      ]
     },
     "metadata": {},
     "output_type": "display_data"
    }
   ],
   "source": [
    "for i in range(9):\n",
    "    plt.plot(range(450),nmf.components_[i,:]/sum(nmf.components_[i,:]))\n",
    "plt.show()"
   ]
  },
  {
   "cell_type": "code",
   "execution_count": 74,
   "metadata": {
    "collapsed": true
   },
   "outputs": [],
   "source": [
    "nmf_shuffled = sklearn.decomposition.NMF(9,max_iter=2000)"
   ]
  },
  {
   "cell_type": "code",
   "execution_count": 75,
   "metadata": {
    "collapsed": false
   },
   "outputs": [
    {
     "data": {
      "text/plain": [
       "NMF(beta=1, eta=0.1, init=None, max_iter=2000, n_components=9,\n",
       "  nls_max_iter=2000, random_state=None, sparseness=None, tol=0.0001)"
      ]
     },
     "execution_count": 75,
     "metadata": {},
     "output_type": "execute_result"
    }
   ],
   "source": [
    "nmf_shuffled.fit(corpus_shuffled)"
   ]
  },
  {
   "cell_type": "code",
   "execution_count": 55,
   "metadata": {
    "collapsed": false
   },
   "outputs": [
    {
     "data": {
      "image/png": "[encoded data removed]",
      "text/plain": [
       "<matplotlib.figure.Figure at 0x10991fb50>"
      ]
     },
     "metadata": {},
     "output_type": "display_data"
    }
   ],
   "source": [
    "for i in range(9):\n",
    "    plt.plot(range(450),nmf_shuffled.components_[i,:]/sum(nmf.components_[i,:]))\n",
    "plt.show()"
   ]
  },
  {
   "cell_type": "code",
   "execution_count": 24,
   "metadata": {
    "collapsed": true
   },
   "outputs": [],
   "source": [
    "def rho(tau,kappa,t):\n",
    "    return (tau+t)**(-kappa)\n",
    "\n",
    "def digamma(mat):\n",
    "    if (len(mat.shape) == 1):\n",
    "        return(spec.psi(mat) - spec.psi(np.sum(mat)))\n",
    "    else:\n",
    "        return(spec.psi(mat) - spec.psi(np.sum(mat, 0))[np.newaxis,:])"
   ]
  },
  {
   "cell_type": "code",
   "execution_count": 46,
   "metadata": {
    "collapsed": true
   },
   "outputs": [],
   "source": [
    "def lda_minibatch_ordering(dtm,ntopic,mb_size,tau,kappa,itemax,start = False,lambda_ = None):\n",
    "    nvoc = dtm.shape[1]\n",
    "    ndoc = dtm.shape[0]\n",
    "    nu = 1./ndoc\n",
    "    alpha = 1./ndoc\n",
    "    \n",
    "    topics = np.random.gamma(100.,1./100.,(nvoc,ntopic))\n",
    "    if start:\n",
    "        topics = lambda_ \n",
    "    phi = np.random.gamma(100.,1./100.,(nvoc,ntopic))\n",
    "    gamma  = np.random.gamma(100.,1./100.,(ndoc,ntopic))\n",
    "    \n",
    "    intint = 100\n",
    "    idx = range(ndoc)\n",
    "    minibatchesids = np.array_split(idx,len(idx)/mb_size)\n",
    "\n",
    "    for it in range(itemax):\n",
    "        topics_temp = np.zeros(topics.shape)\n",
    "        indices = []\n",
    "        for t in range(len(minibatchesids)):\n",
    "            for id_ in minibatchesids[t]:\n",
    "                doc = idx[id_]\n",
    "                ids = np.nonzero(dtm[doc,:])[0]\n",
    "                indices.extend(ids)\n",
    "                cts = dtm[doc,ids]\n",
    "                gamma_ = gamma[doc,:]\n",
    "                Elogbeta = np.apply_along_axis(digamma, axis=0, arr=topics)[ids,:]\n",
    "                dott = lambda x: np.dot(x,cts)\n",
    "                \n",
    "                for tt in range(intint):\n",
    "                    old_gamma_ = gamma_\n",
    "                    Elogtheta = digamma(gamma_)\n",
    "                    E_sum = Elogbeta + Elogtheta\n",
    "                    phi = np.exp(E_sum)/np.exp(E_sum).sum(axis=1)[:, np.newaxis]\n",
    "                    gamma_ = alpha + np.apply_along_axis(dott,axis=0,arr=phi)\n",
    "                    if np.sqrt(np.mean((gamma_-old_gamma_)**2))<0.000001:\n",
    "                        break  \n",
    "                gamma[doc,:] = gamma_\n",
    "                topics_temp[ids,:] += phi * dtm[doc,ids][:, np.newaxis]\n",
    "            \n",
    "        indices  = np.unique(indices)\n",
    "        topics_temp[indices,:] = nu + (ndoc/len(minibatchesids[t])) * topics_temp[indices,:]\n",
    "        rt = rho(tau,kappa,it)\n",
    "        topics[indices ,:] = (1-rt)*topics[indices,:] + rt*topics_temp[indices,:]\n",
    "\n",
    "        if it % 10 == 0:\n",
    "            sorted_model  = sklearn.cluster.KMeans(n_clusters  = ntopic)\n",
    "            sorted_index = np.argsort(sorted_model.fit_predict(gamma))\n",
    "            minibatchesids = np.array_split(sorted_index,len(sorted_index)/mb_size)\n",
    "\n",
    "    return topics,gamma"
   ]
  },
  {
   "cell_type": "code",
   "execution_count": 73,
   "metadata": {
    "collapsed": true
   },
   "outputs": [],
   "source": [
    "def lda_minibatch(dtm,ntopic,mb_size,tau,kappa,itemax,start = False,lambda_ = None):\n",
    "    nvoc = dtm.shape[1]\n",
    "    ndoc = dtm.shape[0]\n",
    "    nu = 1./ndoc\n",
    "    alpha = 1./ndoc\n",
    "    \n",
    "    topics = np.random.gamma(100.,1./100.,(nvoc,ntopic))\n",
    "    if start:\n",
    "        topics = lambda_.copy() + nu\n",
    "    phi = np.random.gamma(100.,1./100.,(nvoc,ntopic))\n",
    "    gamma  = np.random.gamma(100.,1./100.,(ndoc,ntopic))\n",
    "    \n",
    "    intint = 100\n",
    "    idx = range(ndoc)\n",
    "    #np.random.shuffle(idx)\n",
    "    idx *= itemax\n",
    "    #np.random.shuffle(idx)\n",
    "    minibatchesids = np.array_split(idx,len(idx)/mb_size)\n",
    "    \n",
    "    for t in range(len(minibatchesids)):\n",
    "        topics_temp = np.zeros(topics.shape)\n",
    "        indices = []\n",
    "        \n",
    "        for id_ in minibatchesids[t]:\n",
    "            doc = idx[id_]\n",
    "            ids = np.nonzero(dtm[doc,:])[0]\n",
    "            indices.extend(ids)\n",
    "            cts = dtm[doc,ids]\n",
    "            gamma_ = gamma[doc,:]\n",
    "            Elogbeta = np.apply_along_axis(digamma, axis=0, arr=topics)[ids,:]\n",
    "            dott = lambda x: np.dot(x,cts)\n",
    "            \n",
    "            for tt in range(intint):\n",
    "                old_gamma_ = gamma_\n",
    "                Elogtheta = digamma(gamma_)\n",
    "                E_sum = Elogbeta + Elogtheta\n",
    "                phi = np.exp(E_sum)/np.exp(E_sum).sum(axis=1)[:, np.newaxis]\n",
    "                gamma_ = alpha + np.apply_along_axis(dott,axis=0,arr=phi)\n",
    "                if np.sqrt(np.mean((gamma_-old_gamma_)**2))<0.000001:\n",
    "                    break  \n",
    "            gamma[doc,:] = gamma_\n",
    "            topics_temp[ids,:] += phi * dtm[doc,ids][:, np.newaxis]\n",
    "            \n",
    "        indices  = np.unique(indices)\n",
    "        topics_temp[indices,:] = nu + (ndoc/len(minibatchesids[t])) * topics_temp[indices,:]\n",
    "        rt = rho(tau,kappa,t)\n",
    "        topics[indices ,:] = (1-rt)*topics[indices,:] + rt*topics_temp[indices,:]\n",
    "    \n",
    "    return topics,gamma,tau,kappa"
   ]
  },
  {
   "cell_type": "code",
   "execution_count": 124,
   "metadata": {
    "collapsed": true
   },
   "outputs": [],
   "source": [
    "def show_topics(lda,whichtopic,topwords,wordlist):\n",
    "    topics = lda[0]\n",
    "    for t in whichtopic:\n",
    "        idx = np.argsort(topics[:,t])[::-1][:topwords].astype(int)\n",
    "        words = []\n",
    "        for i in idx:\n",
    "            words.append(wordlist[i])\n",
    "        print \"Topic %s:\" % t\n",
    "        print \"\"\n",
    "        print words\n",
    "        print \"\""
   ]
  },
  {
   "cell_type": "code",
   "execution_count": 41,
   "metadata": {
    "collapsed": false
   },
   "outputs": [],
   "source": [
    "np.random.seed(10)\n",
    "test = lda_minibatch_ordering(corpus_shuffled,9,10,1,0.6,100)"
   ]
  },
  {
   "cell_type": "code",
   "execution_count": 77,
   "metadata": {
    "collapsed": true
   },
   "outputs": [],
   "source": [
    "np.random.seed(10)\n",
    "test2 = lda_minibatch(corpus_shuffled,12,10,1,0.6,100)"
   ]
  },
  {
   "cell_type": "code",
   "execution_count": 79,
   "metadata": {
    "collapsed": false
   },
   "outputs": [
    {
     "data": {
      "image/png": "[encoded data removed]",
      "text/plain": [
       "<matplotlib.figure.Figure at 0x109a69cd0>"
      ]
     },
     "metadata": {},
     "output_type": "display_data"
    }
   ],
   "source": [
    "for i in range(9):\n",
    "    plt.plot(range(450),test[0][:,i]/sum(test[0][:,i]))\n",
    "plt.show()"
   ]
  },
  {
   "cell_type": "code",
   "execution_count": 81,
   "metadata": {
    "collapsed": false
   },
   "outputs": [
    {
     "data": {
      "image/png": "[encoded data removed]",
      "text/plain": [
       "<matplotlib.figure.Figure at 0x10a51cd10>"
      ]
     },
     "metadata": {},
     "output_type": "display_data"
    },
    {
     "data": {
      "image/png": "[encoded data removed]",
      "text/plain": [
       "<matplotlib.figure.Figure at 0x10a0a5290>"
      ]
     },
     "metadata": {},
     "output_type": "display_data"
    },
    {
     "data": {
      "image/png": "[encoded data removed]",
      "text/plain": [
       "<matplotlib.figure.Figure at 0x109e2ed90>"
      ]
     },
     "metadata": {},
     "output_type": "display_data"
    },
    {
     "data": {
      "image/png": "[encoded data removed]",
      "text/plain": [
       "<matplotlib.figure.Figure at 0x109ee1b90>"
      ]
     },
     "metadata": {},
     "output_type": "display_data"
    },
    {
     "data": {
      "image/png": "[encoded data removed]",
      "text/plain": [
       "<matplotlib.figure.Figure at 0x109842190>"
      ]
     },
     "metadata": {},
     "output_type": "display_data"
    },
    {
     "data": {
      "image/png": "[encoded data removed]",
      "text/plain": [
       "<matplotlib.figure.Figure at 0x10a3b1f10>"
      ]
     },
     "metadata": {},
     "output_type": "display_data"
    },
    {
     "data": {
      "image/png": "[encoded data removed]",
      "text/plain": [
       "<matplotlib.figure.Figure at 0x10a449b10>"
      ]
     },
     "metadata": {},
     "output_type": "display_data"
    },
    {
     "data": {
      "image/png": "[encoded data removed]",
      "text/plain": [
       "<matplotlib.figure.Figure at 0x10a3b1950>"
      ]
     },
     "metadata": {},
     "output_type": "display_data"
    },
    {
     "data": {
      "image/png": "[encoded data removed]",
      "text/plain": [
       "<matplotlib.figure.Figure at 0x10a05f1d0>"
      ]
     },
     "metadata": {},
     "output_type": "display_data"
    },
    {
     "data": {
      "image/png": "[encoded data removed]",
      "text/plain": [
       "<matplotlib.figure.Figure at 0x10950f190>"
      ]
     },
     "metadata": {},
     "output_type": "display_data"
    },
    {
     "data": {
      "image/png": "[encoded data removed]",
      "text/plain": [
       "<matplotlib.figure.Figure at 0x10958b250>"
      ]
     },
     "metadata": {},
     "output_type": "display_data"
    },
    {
     "data": {
      "image/png": "[encoded data removed]",
      "text/plain": [
       "<matplotlib.figure.Figure at 0x10a326dd0>"
      ]
     },
     "metadata": {},
     "output_type": "display_data"
    }
   ],
   "source": [
    "for i in range(12):\n",
    "    plt.plot(range(450),test2[0][:,i]/sum(test2[0][:,i]))\n",
    "    plt.show()"
   ]
  },
  {
   "cell_type": "code",
   "execution_count": 76,
   "metadata": {
    "collapsed": false
   },
   "outputs": [
    {
     "ename": "KeyboardInterrupt",
     "evalue": "",
     "output_type": "error",
     "traceback": [
      "\u001b[0;31m---------------------------------------------------------------------------\u001b[0m",
      "\u001b[0;31mKeyboardInterrupt\u001b[0m                         Traceback (most recent call last)",
      "\u001b[0;32m<ipython-input-76-95ea2324a8ff>\u001b[0m in \u001b[0;36m<module>\u001b[0;34m()\u001b[0m\n\u001b[0;32m----> 1\u001b[0;31m \u001b[0mtest3\u001b[0m \u001b[0;34m=\u001b[0m \u001b[0mlda_minibatch\u001b[0m\u001b[0;34m(\u001b[0m\u001b[0mcorpus_shuffled\u001b[0m\u001b[0;34m,\u001b[0m\u001b[0;36m9\u001b[0m\u001b[0;34m,\u001b[0m\u001b[0;36m10\u001b[0m\u001b[0;34m,\u001b[0m\u001b[0;36m1\u001b[0m\u001b[0;34m,\u001b[0m\u001b[0;36m0.6\u001b[0m\u001b[0;34m,\u001b[0m\u001b[0;36m100\u001b[0m\u001b[0;34m,\u001b[0m\u001b[0mTrue\u001b[0m\u001b[0;34m,\u001b[0m\u001b[0mcopy\u001b[0m\u001b[0;34m)\u001b[0m\u001b[0;34m\u001b[0m\u001b[0m\n\u001b[0m",
      "\u001b[0;32m<ipython-input-73-478979d68034>\u001b[0m in \u001b[0;36mlda_minibatch\u001b[0;34m(dtm, ntopic, mb_size, tau, kappa, itemax, start, lambda_)\u001b[0m\n\u001b[1;32m     36\u001b[0m                 \u001b[0mE_sum\u001b[0m \u001b[0;34m=\u001b[0m \u001b[0mElogbeta\u001b[0m \u001b[0;34m+\u001b[0m \u001b[0mElogtheta\u001b[0m\u001b[0;34m\u001b[0m\u001b[0m\n\u001b[1;32m     37\u001b[0m                 \u001b[0mphi\u001b[0m \u001b[0;34m=\u001b[0m \u001b[0mnp\u001b[0m\u001b[0;34m.\u001b[0m\u001b[0mexp\u001b[0m\u001b[0;34m(\u001b[0m\u001b[0mE_sum\u001b[0m\u001b[0;34m)\u001b[0m\u001b[0;34m/\u001b[0m\u001b[0mnp\u001b[0m\u001b[0;34m.\u001b[0m\u001b[0mexp\u001b[0m\u001b[0;34m(\u001b[0m\u001b[0mE_sum\u001b[0m\u001b[0;34m)\u001b[0m\u001b[0;34m.\u001b[0m\u001b[0msum\u001b[0m\u001b[0;34m(\u001b[0m\u001b[0maxis\u001b[0m\u001b[0;34m=\u001b[0m\u001b[0;36m1\u001b[0m\u001b[0;34m)\u001b[0m\u001b[0;34m[\u001b[0m\u001b[0;34m:\u001b[0m\u001b[0;34m,\u001b[0m \u001b[0mnp\u001b[0m\u001b[0;34m.\u001b[0m\u001b[0mnewaxis\u001b[0m\u001b[0;34m]\u001b[0m\u001b[0;34m\u001b[0m\u001b[0m\n\u001b[0;32m---> 38\u001b[0;31m                 \u001b[0mgamma_\u001b[0m \u001b[0;34m=\u001b[0m \u001b[0malpha\u001b[0m \u001b[0;34m+\u001b[0m \u001b[0mnp\u001b[0m\u001b[0;34m.\u001b[0m\u001b[0mapply_along_axis\u001b[0m\u001b[0;34m(\u001b[0m\u001b[0mdott\u001b[0m\u001b[0;34m,\u001b[0m\u001b[0maxis\u001b[0m\u001b[0;34m=\u001b[0m\u001b[0;36m0\u001b[0m\u001b[0;34m,\u001b[0m\u001b[0marr\u001b[0m\u001b[0;34m=\u001b[0m\u001b[0mphi\u001b[0m\u001b[0;34m)\u001b[0m\u001b[0;34m\u001b[0m\u001b[0m\n\u001b[0m\u001b[1;32m     39\u001b[0m                 \u001b[0;32mif\u001b[0m \u001b[0mnp\u001b[0m\u001b[0;34m.\u001b[0m\u001b[0msqrt\u001b[0m\u001b[0;34m(\u001b[0m\u001b[0mnp\u001b[0m\u001b[0;34m.\u001b[0m\u001b[0mmean\u001b[0m\u001b[0;34m(\u001b[0m\u001b[0;34m(\u001b[0m\u001b[0mgamma_\u001b[0m\u001b[0;34m-\u001b[0m\u001b[0mold_gamma_\u001b[0m\u001b[0;34m)\u001b[0m\u001b[0;34m**\u001b[0m\u001b[0;36m2\u001b[0m\u001b[0;34m)\u001b[0m\u001b[0;34m)\u001b[0m\u001b[0;34m<\u001b[0m\u001b[0;36m0.000001\u001b[0m\u001b[0;34m:\u001b[0m\u001b[0;34m\u001b[0m\u001b[0m\n\u001b[1;32m     40\u001b[0m                     \u001b[0;32mbreak\u001b[0m\u001b[0;34m\u001b[0m\u001b[0m\n",
      "\u001b[0;32m/Users/virgileaudi/anaconda/lib/python2.7/site-packages/numpy/lib/shape_base.pyc\u001b[0m in \u001b[0;36mapply_along_axis\u001b[0;34m(func1d, axis, arr, *args, **kwargs)\u001b[0m\n\u001b[1;32m     18\u001b[0m \u001b[0;34m\u001b[0m\u001b[0m\n\u001b[1;32m     19\u001b[0m \u001b[0;34m\u001b[0m\u001b[0m\n\u001b[0;32m---> 20\u001b[0;31m \u001b[0;32mdef\u001b[0m \u001b[0mapply_along_axis\u001b[0m\u001b[0;34m(\u001b[0m\u001b[0mfunc1d\u001b[0m\u001b[0;34m,\u001b[0m \u001b[0maxis\u001b[0m\u001b[0;34m,\u001b[0m \u001b[0marr\u001b[0m\u001b[0;34m,\u001b[0m \u001b[0;34m*\u001b[0m\u001b[0margs\u001b[0m\u001b[0;34m,\u001b[0m \u001b[0;34m**\u001b[0m\u001b[0mkwargs\u001b[0m\u001b[0;34m)\u001b[0m\u001b[0;34m:\u001b[0m\u001b[0;34m\u001b[0m\u001b[0m\n\u001b[0m\u001b[1;32m     21\u001b[0m     \"\"\"\n\u001b[1;32m     22\u001b[0m     \u001b[0mApply\u001b[0m \u001b[0ma\u001b[0m \u001b[0mfunction\u001b[0m \u001b[0mto\u001b[0m \u001b[0;36m1\u001b[0m\u001b[0;34m-\u001b[0m\u001b[0mD\u001b[0m \u001b[0mslices\u001b[0m \u001b[0malong\u001b[0m \u001b[0mthe\u001b[0m \u001b[0mgiven\u001b[0m \u001b[0maxis\u001b[0m\u001b[0;34m.\u001b[0m\u001b[0;34m\u001b[0m\u001b[0m\n",
      "\u001b[0;31mKeyboardInterrupt\u001b[0m: "
     ]
    }
   ],
   "source": [
    "test3 = lda_minibatch(corpus_shuffled,9,10,1,0.6,100,True,copy)"
   ]
  },
  {
   "cell_type": "code",
   "execution_count": 58,
   "metadata": {
    "collapsed": false
   },
   "outputs": [
    {
     "data": {
      "image/png": "[encoded data removed]",
      "text/plain": [
       "<matplotlib.figure.Figure at 0x109b34690>"
      ]
     },
     "metadata": {},
     "output_type": "display_data"
    }
   ],
   "source": [
    "for i in range(9):\n",
    "    plt.plot(range(450),test3[0][:,i]/sum(test3[0][:,i]))\n",
    "plt.show()"
   ]
  },
  {
   "cell_type": "code",
   "execution_count": 65,
   "metadata": {
    "collapsed": false
   },
   "outputs": [],
   "source": [
    "copy = nmf_shuffled.components_.T"
   ]
  },
  {
   "cell_type": "code",
   "execution_count": 67,
   "metadata": {
    "collapsed": false
   },
   "outputs": [
    {
     "data": {
      "text/plain": [
       "array([[ nan,  nan,  nan, ...,  nan,  nan,  nan],\n",
       "       [ nan,  nan,  nan, ...,  nan,  nan,  nan],\n",
       "       [ nan,  nan,  nan, ...,  nan,  nan,  nan],\n",
       "       ..., \n",
       "       [ nan,  nan,  nan, ...,  nan,  nan,  nan],\n",
       "       [ nan,  nan,  nan, ...,  nan,  nan,  nan],\n",
       "       [ nan,  nan,  nan, ...,  nan,  nan,  nan]])"
      ]
     },
     "execution_count": 67,
     "metadata": {},
     "output_type": "execute_result"
    }
   ],
   "source": [
    "copy"
   ]
  },
  {
   "cell_type": "code",
   "execution_count": 72,
   "metadata": {
    "collapsed": false
   },
   "outputs": [
    {
     "data": {
      "text/plain": [
       "array([[ nan,  nan,  nan, ...,  nan,  nan,  nan],\n",
       "       [ nan,  nan,  nan, ...,  nan,  nan,  nan],\n",
       "       [ nan,  nan,  nan, ...,  nan,  nan,  nan],\n",
       "       ..., \n",
       "       [ nan,  nan,  nan, ...,  nan,  nan,  nan],\n",
       "       [ nan,  nan,  nan, ...,  nan,  nan,  nan],\n",
       "       [ nan,  nan,  nan, ...,  nan,  nan,  nan]])"
      ]
     },
     "execution_count": 72,
     "metadata": {},
     "output_type": "execute_result"
    }
   ],
   "source": [
    "copy"
   ]
  },
  {
   "cell_type": "code",
   "execution_count": 82,
   "metadata": {
    "collapsed": true
   },
   "outputs": [],
   "source": [
    "import json\n",
    "with open('CS281/temp/edinburgh_word_adjective.json', 'r') as fp:\n",
    "    edi = json.load(fp)"
   ]
  },
  {
   "cell_type": "code",
   "execution_count": 85,
   "metadata": {
    "collapsed": false
   },
   "outputs": [],
   "source": [
    "r0 = edi.keys()[0]"
   ]
  },
  {
   "cell_type": "code",
   "execution_count": 86,
   "metadata": {
    "collapsed": true
   },
   "outputs": [],
   "source": [
    "vocab = []\n",
    "for i in edi.keys():\n",
    "    vocab.extend(edi[i][0][0])"
   ]
  },
  {
   "cell_type": "code",
   "execution_count": 94,
   "metadata": {
    "collapsed": false
   },
   "outputs": [
    {
     "data": {
      "text/plain": [
       "7344"
      ]
     },
     "execution_count": 94,
     "metadata": {},
     "output_type": "execute_result"
    }
   ],
   "source": [
    "import collections\n",
    "collections.Counter(vocab)"
   ]
  },
  {
   "cell_type": "code",
   "execution_count": 103,
   "metadata": {
    "collapsed": true
   },
   "outputs": [],
   "source": [
    "vocab10 = []\n",
    "d = collections.Counter(vocab)\n",
    "for w in vocab:\n",
    "    if d[w]>=10:\n",
    "        vocab10.append(w)"
   ]
  },
  {
   "cell_type": "code",
   "execution_count": 99,
   "metadata": {
    "collapsed": false
   },
   "outputs": [
    {
     "data": {
      "text/plain": [
       "264343"
      ]
     },
     "execution_count": 99,
     "metadata": {},
     "output_type": "execute_result"
    }
   ],
   "source": [
    "len(vocab)"
   ]
  },
  {
   "cell_type": "code",
   "execution_count": 100,
   "metadata": {
    "collapsed": false
   },
   "outputs": [
    {
     "data": {
      "text/plain": [
       "241802"
      ]
     },
     "execution_count": 100,
     "metadata": {},
     "output_type": "execute_result"
    }
   ],
   "source": [
    "len(vocab5)"
   ]
  },
  {
   "cell_type": "code",
   "execution_count": 105,
   "metadata": {
    "collapsed": true
   },
   "outputs": [],
   "source": [
    "vocab10 = list(set(vocab10)) "
   ]
  },
  {
   "cell_type": "code",
   "execution_count": 106,
   "metadata": {
    "collapsed": false
   },
   "outputs": [
    {
     "data": {
      "text/plain": [
       "2313"
      ]
     },
     "execution_count": 106,
     "metadata": {},
     "output_type": "execute_result"
    }
   ],
   "source": [
    "len(vocab10)"
   ]
  },
  {
   "cell_type": "code",
   "execution_count": 115,
   "metadata": {
    "collapsed": false
   },
   "outputs": [],
   "source": [
    "reduced_edi = {}\n",
    "for (k,v) in edi.items():\n",
    "    new = []\n",
    "    for w in v[0][0]:\n",
    "        if w in vocab10:\n",
    "            new.append(w)\n",
    "    reduced_edi[k] = new"
   ]
  },
  {
   "cell_type": "code",
   "execution_count": 117,
   "metadata": {
    "collapsed": false
   },
   "outputs": [],
   "source": [
    "word_to_index  = dict(zip(vocab10,range(len(vocab10))))\n",
    "index_to_word = dict(zip(range(len(vocab10)),vocab10))\n",
    "bid_to_index = dict(zip(reduced_edi.keys(),range(len(reduced_edi.keys()))))\n",
    "index_to_bid = dict(zip(range(len(reduced_edi.keys())),reduced_edi.keys()))"
   ]
  },
  {
   "cell_type": "code",
   "execution_count": 120,
   "metadata": {
    "collapsed": false
   },
   "outputs": [],
   "source": [
    "from scipy import sparse\n",
    "\n",
    "nonzero_data = []\n",
    "rows_s = []\n",
    "cols_s = []\n",
    "\n",
    "for k in reduced_edi.keys():\n",
    "    counter = collections.Counter(reduced_edi[k])\n",
    "    nonzero_data += counter.values()\n",
    "    rows_s += [bid_to_index[k]]*len(counter.values())\n",
    "    cols_s += [word_to_index[ck] for ck in counter.keys()]\n",
    "\n",
    "sparse_mat = sparse.csc_matrix((nonzero_data,(rows_s,cols_s)),shape = (len(bid_to_index),len(word_to_index)))"
   ]
  },
  {
   "cell_type": "code",
   "execution_count": 121,
   "metadata": {
    "collapsed": true
   },
   "outputs": [],
   "source": [
    "dtm_edi = sparse_mat.toarray()"
   ]
  },
  {
   "cell_type": "code",
   "execution_count": 133,
   "metadata": {
    "collapsed": false
   },
   "outputs": [
    {
     "name": "stdout",
     "output_type": "stream",
     "text": [
      "CPU times: user 6min 4s, sys: 3.79 s, total: 6min 8s\n",
      "Wall time: 6min 20s\n"
     ]
    }
   ],
   "source": [
    "%%time\n",
    "test2 = lda_minibatch(dtm_edi,10,10,512,0.6,100)"
   ]
  },
  {
   "cell_type": "code",
   "execution_count": 134,
   "metadata": {
    "collapsed": false
   },
   "outputs": [
    {
     "name": "stdout",
     "output_type": "stream",
     "text": [
      "Topic 0:\n",
      "\n",
      "[u'pretzel', u'german', u'strudel', u'rye', u'choc', u'baker', u'rhubarb', u'bakery', u'hog', u'farmer']\n",
      "\n",
      "Topic 1:\n",
      "\n",
      "[u'place', u'food', u'bar', u'time', u'burger', u'staff', u'drink', u'bit', u'coffee', u'menu']\n",
      "\n",
      "Topic 2:\n",
      "\n",
      "[u'malone', u'papilio', u'noble', u'cloister', u'rosehip', u'peckham', u'skittle', u'negociant', u'pho', u'arcade']\n",
      "\n",
      "Topic 3:\n",
      "\n",
      "[u'doughnut', u'donut', u'car', u'risk', u'dozen', u'velvet', u'damp', u'pressure', u'glaze', u'length']\n",
      "\n",
      "Topic 4:\n",
      "\n",
      "[u'noble', u'papilio', u'malone', u'cloister', u'skittle', u'pho', u'rosehip', u'peckham', u'negociant', u'hula']\n",
      "\n",
      "Topic 5:\n",
      "\n",
      "[u'food', u'restaurant', u'place', u'menu', u'dish', u'meal', u'time', u'service', u'bit', u'table']\n",
      "\n",
      "Topic 6:\n",
      "\n",
      "[u'cloister', u'papilio', u'malone', u'noble', u'rosehip', u'negociant', u'skittle', u'peckham', u'pho', u'pil']\n",
      "\n",
      "Topic 7:\n",
      "\n",
      "[u'papilio', u'piri', u'celebrity', u'neighborhood', u'squirrel', u'treacle', u'tartar', u'chestnut', u'geek', u'portrait']\n",
      "\n",
      "Topic 8:\n",
      "\n",
      "[u'malone', u'irish', u'immer', u'da', u'war', u'die', u'f\\xfcr', u'baklava', u'crawl', u'es']\n",
      "\n",
      "Topic 9:\n",
      "\n",
      "[u'cloister', u'papilio', u'noble', u'malone', u'pho', u'peckham', u'negociant', u'skittle', u'rosehip', u'hula']\n",
      "\n"
     ]
    }
   ],
   "source": [
    "show_topics(test2,range(10),10,vocab10)"
   ]
  },
  {
   "cell_type": "code",
   "execution_count": 135,
   "metadata": {
    "collapsed": false
   },
   "outputs": [
    {
     "name": "stdout",
     "output_type": "stream",
     "text": [
      "CPU times: user 8min 11s, sys: 4.48 s, total: 8min 16s\n",
      "Wall time: 8min 28s\n"
     ]
    }
   ],
   "source": [
    "%%time\n",
    "test3 = lda_minibatch_ordering(dtm_edi,10,10,512,0.6,150)"
   ]
  },
  {
   "cell_type": "code",
   "execution_count": 136,
   "metadata": {
    "collapsed": false
   },
   "outputs": [
    {
     "name": "stdout",
     "output_type": "stream",
     "text": [
      "Topic 0:\n",
      "\n",
      "[u'burger', u'place', u'bar', u'food', u'drink', u'pub', u'beer', u'time', u'menu', u'bit']\n",
      "\n",
      "Topic 1:\n",
      "\n",
      "[u'pub', u'beer', u'bar', u'place', u'drink', u'food', u'night', u'time', u'staff', u'bit']\n",
      "\n",
      "Topic 2:\n",
      "\n",
      "[u'cocktail', u'food', u'place', u'menu', u'bar', u'restaurant', u'meal', u'drink', u'time', u'table']\n",
      "\n",
      "Topic 3:\n",
      "\n",
      "[u'food', u'place', u'restaurant', u'bar', u'menu', u'service', u'table', u'time', u'staff', u'wine']\n",
      "\n",
      "Topic 4:\n",
      "\n",
      "[u'pizza', u'food', u'place', u'menu', u'time', u'service', u'bit', u'mash', u'sausage', u'lunch']\n",
      "\n",
      "Topic 5:\n",
      "\n",
      "[u'food', u'place', u'restaurant', u'dish', u'menu', u'meal', u'time', u'chicken', u'bit', u'service']\n",
      "\n",
      "Topic 6:\n",
      "\n",
      "[u'food', u'restaurant', u'place', u'sushi', u'dish', u'time', u'menu', u'service', u'bit', u'table']\n",
      "\n",
      "Topic 7:\n",
      "\n",
      "[u'place', u'soup', u'sandwich', u'food', u'bread', u'pork', u'cheese', u'lunch', u'roll', u'sauce']\n",
      "\n",
      "Topic 8:\n",
      "\n",
      "[u'place', u'coffee', u'food', u'cake', u'tea', u'time', u'staff', u'breakfast', u'sandwich', u'cafe']\n",
      "\n",
      "Topic 9:\n",
      "\n",
      "[u'chip', u'food', u'place', u'fish', u'restaurant', u'time', u'service', u'table', u'steak', u'sauce']\n",
      "\n"
     ]
    }
   ],
   "source": [
    "show_topics(test3,range(10),10,vocab10)"
   ]
  },
  {
   "cell_type": "code",
   "execution_count": null,
   "metadata": {
    "collapsed": true
   },
   "outputs": [],
   "source": []
  }
 ],
 "metadata": {
  "kernelspec": {
   "display_name": "Python 2",
   "language": "python",
   "name": "python2"
  },
  "language_info": {
   "codemirror_mode": {
    "name": "ipython",
    "version": 2
   },
   "file_extension": ".py",
   "mimetype": "text/x-python",
   "name": "python",
   "nbconvert_exporter": "python",
   "pygments_lexer": "ipython2",
   "version": "2.7.10"
  }
 },
 "nbformat": 4,
 "nbformat_minor": 0
}
