{
 "cells": [
  {
   "cell_type": "code",
   "execution_count": 1,
   "metadata": {
    "collapsed": true
   },
   "outputs": [],
   "source": [
    "import lda\n",
    "import numpy as np"
   ]
  },
  {
   "cell_type": "code",
   "execution_count": 3,
   "metadata": {
    "collapsed": false
   },
   "outputs": [],
   "source": [
    "# Loading dtm\n",
    "dtm = np.load('../Zipped_data_LV/lasvegas_dtm.npy')"
   ]
  },
  {
   "cell_type": "code",
   "execution_count": 8,
   "metadata": {
    "collapsed": true
   },
   "outputs": [],
   "source": [
    "# Loading voca\n",
    "vocab10 = np.load('temp/lv_vocab10.npy')"
   ]
  },
  {
   "cell_type": "code",
   "execution_count": 4,
   "metadata": {
    "collapsed": false
   },
   "outputs": [
    {
     "data": {
      "text/plain": [
       "(3822, 10364)"
      ]
     },
     "execution_count": 4,
     "metadata": {},
     "output_type": "execute_result"
    }
   ],
   "source": [
    "dtm.shape"
   ]
  },
  {
   "cell_type": "code",
   "execution_count": 5,
   "metadata": {
    "collapsed": true
   },
   "outputs": [],
   "source": [
    "model = lda.LDA(n_topics=70, n_iter=1500, random_state=1)"
   ]
  },
  {
   "cell_type": "code",
   "execution_count": 7,
   "metadata": {
    "collapsed": false
   },
   "outputs": [
    {
     "name": "stdout",
     "output_type": "stream",
     "text": [
      "CPU times: user 2 µs, sys: 0 ns, total: 2 µs\n",
      "Wall time: 3.81 µs\n"
     ]
    },
    {
     "data": {
      "text/plain": [
       "<lda.lda.LDA instance at 0x107166e60>"
      ]
     },
     "execution_count": 7,
     "metadata": {},
     "output_type": "execute_result"
    }
   ],
   "source": [
    "%time\n",
    "model.fit(dtm)"
   ]
  },
  {
   "cell_type": "code",
   "execution_count": 9,
   "metadata": {
    "collapsed": false
   },
   "outputs": [
    {
     "name": "stdout",
     "output_type": "stream",
     "text": [
      "Topic 0: document feat gland godzilla half-roll hurdle openness pisco\n",
      "Topic 1: wind feat towelette life pisco document wear office\n",
      "Topic 2: control document pisco siew schon feat half-roll frenzy\n",
      "Topic 3: veteran document rue engagement pisco hrs sadness break\n",
      "Topic 4: xxl effing document pisco wort tinga like engagement\n",
      "Topic 5: win-win engagement document openness hurdle dawn puzzle lapse\n",
      "Topic 6: pant pupusa life hurdle garage selecting stomache document\n",
      "Topic 7: gent aji bacon veteran rue biscuit foto pisco\n",
      "Topic 8: document godzilla feat pisco towelette xxx bourguignon collar\n",
      "Topic 9: softball rosemary overload pavilion deli crossaint hurdle xxx\n",
      "Topic 10: paymon drinks xxx openness siew document cheesesteak office\n",
      "Topic 11: pluss life crossaint garage pisco supreme bacon sadness\n",
      "Topic 12: selecting analysis xxx pole satellite pisco derby engagement\n",
      "Topic 13: document pisco openness engagement collar frenzy paymon dawn\n",
      "Topic 14: mite towelette hurdle document paymon concierge openness control\n",
      "Topic 15: music document pisco banh xxl non-smoker oreos frenzy\n",
      "Topic 16: marble siew pisco document frenzy korea collar pant\n",
      "Topic 17: tinga effing renovation wort pisco oreos korea martini\n",
      "Topic 18: stein 's pisco cabinet office intrigue decadence godzilla\n",
      "Topic 19: document blondie pisco collar stk eating yayo gellato\n",
      "Topic 20: pisco korea posted document frenzy marble tobiko collar\n",
      "Topic 21: clumpy music tinga korea haste pisco frenzy tsukune\n",
      "Topic 22: foliage king tablemate pisco korea tobiko condensation tsukune\n",
      "Topic 23: flagship shocker corona lapse gelato floater pisco break\n",
      "Topic 24: tangerine slope pitum bourguignon cake cabinet wonderfulness yardhouse\n",
      "Topic 25: feat document sichuan sadness champaign dawn bookmark pisco\n",
      "Topic 26: bacony pupusa control collar tablemate sadness puzzle korea\n",
      "Topic 27: document pisco staircase greed bitching hydration sichuan charleston\n",
      "Topic 28: bourguignon towelette tangerine pisco mandarin life slope tonkatsu\n",
      "Topic 29: pisco soul bloodys smokiness surrounding antioxidant ginger like\n",
      "Topic 30: break ahold pisco tinga strip-mall date favourite sud\n",
      "Topic 31: life pluss stairway document towelette pill ragoon manga\n",
      "Topic 32: carry buena fizz haste foie watier instruction motorcycle\n",
      "Topic 33: cowboy towelette drinks happening pill document feat hurdle\n",
      "Topic 34: lag multitude hipster crossaint pisco towelette wood-fire creperie\n",
      "Topic 35: pupusa glamour sadness smith muster rosemary bugolgi dawn\n",
      "Topic 36: input document office frenzy engagement codfish photography meatball\n",
      "Topic 37: taco document sprout purity pisco calling puree vision\n",
      "Topic 38: event pisco 's satellite derby openness drinks rosemary\n",
      "Topic 39: douchebag frenzy haste tinga mahi healthier bellman engagement\n",
      "Topic 40: stability paymon stress champaign crossaint coffeehouse bulgolgi towelette\n",
      "Topic 41: flagship lapse maitake core document pisco office tinga\n",
      "Topic 42: heffer 's meyer dressing pisco rosemary bookshelf bourguignon\n",
      "Topic 43: washer ooh superbowl paymon purchase intrigue towelette xxx\n",
      "Topic 44: cake napkin lapse instagram flagship booby foto maitake\n",
      "Topic 45: xxx bacony paymon extract rosemary pill drinks champaign\n",
      "Topic 46: rosemary control effing pisco offender yayo xxx touristy\n",
      "Topic 47: cabinet purity opinon reason sadness xxl document pole\n",
      "Topic 48: yardhouse crostini slope effing taught gold wellington marble\n",
      "Topic 49: requirement washroom gizzard tobiko douchebag document openness heath\n",
      "Topic 50: half-roll office frenzy document grate engagement pisco trashy\n",
      "Topic 51: correction satellite analysis derby drinks pisco godzilla superbowl\n",
      "Topic 52: bacony drinks towelette syrup rosemary mike calling sadness\n",
      "Topic 53: pager document lapse yayo posted scheme bacony pitum\n",
      "Topic 54: godzilla pisco document control rosemary feat champaign experiment\n",
      "Topic 55: engagement document pasture frenzy douchebag pisco siew openness\n",
      "Topic 56: clafoutis decision blanco bourguignon analysis pisco openness drinks\n",
      "Topic 57: sud core tinga pisco vienna swoop pill maitake\n",
      "Topic 58: document paymon dinky godzilla drain openness analysis feat\n",
      "Topic 59: pisco document ying photography siew engagement frenzy codfish\n",
      "Topic 60: splurge meatiness healthier paymon mustard dawn siew stairway\n",
      "Topic 61: document engagement pasture control frenzy openness half-roll greed\n",
      "Topic 62: pisco frenzy thay carry haste fizz douchebag watier\n",
      "Topic 63: dieter engagement veteran rue aji paymon bacon crossaint\n",
      "Topic 64: visitor life chill crossaint document garage pisco carbonation\n",
      "Topic 65: openness siew document paymon dawn engagement puzzle lapse\n",
      "Topic 66: softball hurdle pisco selecting crossaint control half-roll collar\n",
      "Topic 67: document tool cornbeef soccer veloute siew facelift gaze\n",
      "Topic 68: crossaint hurdle agony maitake bacon control insalata 's\n",
      "Topic 69: win-win crossaint half-roll tomate control consisted glass pill\n"
     ]
    }
   ],
   "source": [
    "topic_word = model.topic_word_  # model.components_ also works\n",
    "n_top_words = 8\n",
    "for i, topic_dist in enumerate(topic_word):\n",
    "    topic_words = np.array(vocab10)[np.argsort(topic_dist)][:-(n_top_words+1):-1]\n",
    "    print('Topic {}: {}'.format(i, ' '.join(topic_words)))"
   ]
  },
  {
   "cell_type": "code",
   "execution_count": 40,
   "metadata": {
    "collapsed": false
   },
   "outputs": [
    {
     "name": "stdout",
     "output_type": "stream",
     "text": [
      "3665\n"
     ]
    }
   ],
   "source": [
    "i = list(vocab10).index('document')\n",
    "print i"
   ]
  },
  {
   "cell_type": "code",
   "execution_count": 41,
   "metadata": {
    "collapsed": false
   },
   "outputs": [
    {
     "data": {
      "text/plain": [
       "u'document'"
      ]
     },
     "execution_count": 41,
     "metadata": {},
     "output_type": "execute_result"
    }
   ],
   "source": [
    "vocab10[i]"
   ]
  },
  {
   "cell_type": "code",
   "execution_count": 42,
   "metadata": {
    "collapsed": false
   },
   "outputs": [],
   "source": [
    "import matplotlib.pyplot as plt\n",
    "\n",
    "plt.plot(range(dtm.shape[0]), dtm[:, i])\n",
    "plt.show()"
   ]
  },
  {
   "cell_type": "code",
   "execution_count": 16,
   "metadata": {
    "collapsed": false
   },
   "outputs": [
    {
     "data": {
      "text/plain": [
       "8"
      ]
     },
     "execution_count": 16,
     "metadata": {},
     "output_type": "execute_result"
    }
   ],
   "source": [
    "n_top_words"
   ]
  },
  {
   "cell_type": "code",
   "execution_count": 18,
   "metadata": {
    "collapsed": false
   },
   "outputs": [
    {
     "data": {
      "text/plain": [
       "10364"
      ]
     },
     "execution_count": 18,
     "metadata": {},
     "output_type": "execute_result"
    }
   ],
   "source": [
    "len(vocab10)"
   ]
  },
  {
   "cell_type": "code",
   "execution_count": 19,
   "metadata": {
    "collapsed": false
   },
   "outputs": [
    {
     "data": {
      "text/plain": [
       "array([u'saimin', u'yellow', u'prices', ..., u'cannon', u'yummmmm',\n",
       "       u'kalbi'], \n",
       "      dtype='<U19')"
      ]
     },
     "execution_count": 19,
     "metadata": {},
     "output_type": "execute_result"
    }
   ],
   "source": [
    "vocab10"
   ]
  },
  {
   "cell_type": "code",
   "execution_count": 45,
   "metadata": {
    "collapsed": false
   },
   "outputs": [
    {
     "data": {
      "text/plain": [
       "array([u'bacony', u'champaign', u'carry', u'frenzy', u'yayo', u'pisco',\n",
       "       u'paymon', u'lapse', u'document', u'pager'], \n",
       "      dtype='<U19')"
      ]
     },
     "execution_count": 45,
     "metadata": {},
     "output_type": "execute_result"
    }
   ],
   "source": [
    "vocab10[np.argsort(dtm[73,:])[-10:]]"
   ]
  },
  {
   "cell_type": "code",
   "execution_count": 49,
   "metadata": {
    "collapsed": false
   },
   "outputs": [
    {
     "data": {
      "text/plain": [
       "array([9513,  330, 6038,  618, 7436, 8612, 9052, 7135, 3665,  924])"
      ]
     },
     "execution_count": 49,
     "metadata": {},
     "output_type": "execute_result"
    }
   ],
   "source": [
    "np.argsort(dtm[73,:])[-10:]"
   ]
  },
  {
   "cell_type": "code",
   "execution_count": 53,
   "metadata": {
    "collapsed": false
   },
   "outputs": [
    {
     "data": {
      "text/plain": [
       "922"
      ]
     },
     "execution_count": 53,
     "metadata": {},
     "output_type": "execute_result"
    }
   ],
   "source": [
    "list(vocab10).index('buffet')"
   ]
  },
  {
   "cell_type": "code",
   "execution_count": 54,
   "metadata": {
    "collapsed": false
   },
   "outputs": [
    {
     "data": {
      "text/plain": [
       "10364"
      ]
     },
     "execution_count": 54,
     "metadata": {},
     "output_type": "execute_result"
    }
   ],
   "source": [
    "len(vocab10)"
   ]
  },
  {
   "cell_type": "code",
   "execution_count": 55,
   "metadata": {
    "collapsed": false
   },
   "outputs": [
    {
     "data": {
      "text/plain": [
       "(3822, 10364)"
      ]
     },
     "execution_count": 55,
     "metadata": {},
     "output_type": "execute_result"
    }
   ],
   "source": [
    "dtm.shape"
   ]
  },
  {
   "cell_type": "code",
   "execution_count": null,
   "metadata": {
    "collapsed": true
   },
   "outputs": [],
   "source": []
  }
 ],
 "metadata": {
  "kernelspec": {
   "display_name": "Python 2",
   "language": "python",
   "name": "python2"
  },
  "language_info": {
   "codemirror_mode": {
    "name": "ipython",
    "version": 2
   },
   "file_extension": ".py",
   "mimetype": "text/x-python",
   "name": "python",
   "nbconvert_exporter": "python",
   "pygments_lexer": "ipython2",
   "version": "2.7.9"
  }
 },
 "nbformat": 4,
 "nbformat_minor": 0
}
