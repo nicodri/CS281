{
 "cells": [
  {
   "cell_type": "markdown",
   "metadata": {},
   "source": []
  },
  {
   "cell_type": "code",
   "execution_count": 2,
   "metadata": {
    "collapsed": true
   },
   "outputs": [],
   "source": [
    "import lda\n",
    "import numpy as np"
   ]
  },
  {
   "cell_type": "code",
   "execution_count": 8,
   "metadata": {
    "collapsed": false
   },
   "outputs": [],
   "source": [
    "# Loading dtm\n",
    "dtm_train = np.load('../Lasvegas/dtm_lv_train.npy')\n",
    "dtm_test = np.load('../Lasvegas/dtm_lv_test.npy')\n",
    "dtm = dtm_test + dtm_train"
   ]
  },
  {
   "cell_type": "code",
   "execution_count": 5,
   "metadata": {
    "collapsed": false
   },
   "outputs": [],
   "source": [
    "# Loading voca\n",
    "vocab10 = np.load('temp/Lasvegas_data/lv_vocab10.npy')"
   ]
  },
  {
   "cell_type": "code",
   "execution_count": 10,
   "metadata": {
    "collapsed": false
   },
   "outputs": [
    {
     "name": "stdout",
     "output_type": "stream",
     "text": [
      "(10364,)\n",
      "(3822, 10364)\n",
      "(3822, 10364)\n",
      "(3822, 10364)\n"
     ]
    }
   ],
   "source": [
    "print vocab10.shape\n",
    "print dtm_test.shape\n",
    "print dtm_train.shape\n",
    "print dtm.shape"
   ]
  },
  {
   "cell_type": "code",
   "execution_count": 11,
   "metadata": {
    "collapsed": true
   },
   "outputs": [],
   "source": [
    "model = lda.LDA(n_topics=40, n_iter=1500, random_state=1)"
   ]
  },
  {
   "cell_type": "code",
   "execution_count": 12,
   "metadata": {
    "collapsed": false
   },
   "outputs": [
    {
     "name": "stderr",
     "output_type": "stream",
     "text": [
      "WARNING:lda:all zero column in document-term matrix found\n"
     ]
    },
    {
     "name": "stdout",
     "output_type": "stream",
     "text": [
      "CPU times: user 49min 5s, sys: 15.3 s, total: 49min 20s\n",
      "Wall time: 50min 18s\n"
     ]
    },
    {
     "data": {
      "text/plain": [
       "<lda.lda.LDA instance at 0x1100ecef0>"
      ]
     },
     "execution_count": 12,
     "metadata": {},
     "output_type": "execute_result"
    }
   ],
   "source": [
    "%%time\n",
    "model.fit(dtm)"
   ]
  },
  {
   "cell_type": "code",
   "execution_count": 14,
   "metadata": {
    "collapsed": false
   },
   "outputs": [
    {
     "name": "stdout",
     "output_type": "stream",
     "text": [
      "Topic 0: dinner waiter wine meal appetizer lobster dessert night reservation sauce\n",
      "Topic 1: meat rib pork brisket bbq bean sauce salad beef potato\n",
      "Topic 2: breakfast egg pancake waffle toast potato bacon hash coffee chicken\n",
      "Topic 3: night casino meal hotel strip dinner deal day salad soup\n",
      "Topic 4: taco meat burrito salsa pork sauce tortilla fry flavor cheese\n",
      "Topic 5: salad lunch chicken soup meal dressing item bar cheesecake choice\n",
      "Topic 6: owner flavor town yelp atmosphere strip spot home reviews business\n",
      "Topic 7: burger fry cheese onion bun sauce potato bacon flavor meat\n",
      "Topic 8: steak potato salad meat filet rib steakhouse medium bread cheese\n",
      "Topic 9: location employee drink area minute kid lunch guy home day\n",
      "Topic 10: beef sauce flavor fish item sashimi miso tofu yellowtail sake\n",
      "Topic 11: soup rice beef noodle chicken pork sauce sum shrimp egg\n",
      "Topic 12: bagel deli pastrami airport store pretzel sausage meat cheese potato\n",
      "Topic 13: salsa chip margarita bean taco chicken tortilla rice guacamole sauce\n",
      "Topic 14: sushi roll fish tuna chef rice quality sauce salmon tempura\n",
      "Topic 15: drink waitress waiter minute manager appetizer hostess meal dinner friend\n",
      "Topic 16: line strip wait friend night minute seating location trip style\n",
      "Topic 17: rice chicken sauce bowl salad pork poke beef teriyaki katsu\n",
      "Topic 18: coffee tea pastry drink crepe croissant shop gelato milk latte\n",
      "Topic 19: sandwich bread cheese meat turkey beef sub sauce lunch shop\n",
      "Topic 20: chicken sauce wing fry cheese flavor finger strip piece meal\n",
      "Topic 21: buffet dessert selection crab leg line station rib dinner quality\n",
      "Topic 22: gyro lamb chicken bread salad meat hummus fry lunch sauce\n",
      "Topic 23: dog fry cheese chili truck slider onion tot bun beef\n",
      "Topic 24: pasta sauce bread wine salad meal dinner meatball cheese chicken\n",
      "Topic 25: cheese bread flavor sauce pork corn pudding potato pie meal\n",
      "Topic 26: room pool hotel downtown casino strip bed floor area day\n",
      "Topic 27: lobster seafood oyster fish clam crab shrimp chowder bar roast\n",
      "Topic 28: raman broth noodle pork bowl rice soup miso flavor egg\n",
      "Topic 29: pho roll broth bowl soup pork meat beef noodle egg\n",
      "Topic 30: meal dessert wine flavor foie bread beef chef chocolate truffle\n",
      "Topic 31: rice chicken lunch thai pad spice noodle flavor soup sauce\n",
      "Topic 32: crab shrimp sauce seafood fry crawfish catfish flavor potato corn\n",
      "Topic 33: chocolate dessert cake cream ice flavor cookies strawberry cheese velvet\n",
      "Topic 34: view patio fountain bread steak dinner window strip wine reservation\n",
      "Topic 35: drink music night bar fun club atmosphere friend cocktail lounge\n",
      "Topic 36: tapas cheese date sauce sangria paella flavor shrimp sangrium bacon\n",
      "Topic 37: day kind friend year review fact couple reviews eating minute\n",
      "Topic 38: beer bar bartender drink game selection night waitress chip tv\n",
      "Topic 39: pizza crust slice cheese sauce topping pepperoni garlic salad pie\n"
     ]
    }
   ],
   "source": [
    "topic_word = model.topic_word_  # model.components_ also works\n",
    "n_top_words = 10\n",
    "for i, topic_dist in enumerate(topic_word):\n",
    "    topic_words = np.array(vocab10)[np.argsort(topic_dist)][:-(n_top_words+1):-1]\n",
    "    print('Topic {}: {}'.format(i, ' '.join(topic_words)))"
   ]
  },
  {
   "cell_type": "code",
   "execution_count": 40,
   "metadata": {
    "collapsed": false
   },
   "outputs": [
    {
     "name": "stdout",
     "output_type": "stream",
     "text": [
      "3665\n"
     ]
    }
   ],
   "source": [
    "i = list(vocab10).index('document')\n",
    "print i"
   ]
  },
  {
   "cell_type": "code",
   "execution_count": 41,
   "metadata": {
    "collapsed": false
   },
   "outputs": [
    {
     "data": {
      "text/plain": [
       "u'document'"
      ]
     },
     "execution_count": 41,
     "metadata": {},
     "output_type": "execute_result"
    }
   ],
   "source": [
    "vocab10[i]"
   ]
  },
  {
   "cell_type": "code",
   "execution_count": 42,
   "metadata": {
    "collapsed": false
   },
   "outputs": [],
   "source": [
    "import matplotlib.pyplot as plt\n",
    "\n",
    "plt.plot(range(dtm.shape[0]), dtm[:, i])\n",
    "plt.show()"
   ]
  },
  {
   "cell_type": "code",
   "execution_count": 16,
   "metadata": {
    "collapsed": false
   },
   "outputs": [
    {
     "data": {
      "text/plain": [
       "8"
      ]
     },
     "execution_count": 16,
     "metadata": {},
     "output_type": "execute_result"
    }
   ],
   "source": [
    "n_top_words"
   ]
  },
  {
   "cell_type": "code",
   "execution_count": 18,
   "metadata": {
    "collapsed": false
   },
   "outputs": [
    {
     "data": {
      "text/plain": [
       "10364"
      ]
     },
     "execution_count": 18,
     "metadata": {},
     "output_type": "execute_result"
    }
   ],
   "source": [
    "len(vocab10)"
   ]
  },
  {
   "cell_type": "code",
   "execution_count": 19,
   "metadata": {
    "collapsed": false
   },
   "outputs": [
    {
     "data": {
      "text/plain": [
       "array([u'saimin', u'yellow', u'prices', ..., u'cannon', u'yummmmm',\n",
       "       u'kalbi'], \n",
       "      dtype='<U19')"
      ]
     },
     "execution_count": 19,
     "metadata": {},
     "output_type": "execute_result"
    }
   ],
   "source": [
    "vocab10"
   ]
  },
  {
   "cell_type": "code",
   "execution_count": 45,
   "metadata": {
    "collapsed": false
   },
   "outputs": [
    {
     "data": {
      "text/plain": [
       "array([u'bacony', u'champaign', u'carry', u'frenzy', u'yayo', u'pisco',\n",
       "       u'paymon', u'lapse', u'document', u'pager'], \n",
       "      dtype='<U19')"
      ]
     },
     "execution_count": 45,
     "metadata": {},
     "output_type": "execute_result"
    }
   ],
   "source": [
    "vocab10[np.argsort(dtm[73,:])[-10:]]"
   ]
  },
  {
   "cell_type": "code",
   "execution_count": 49,
   "metadata": {
    "collapsed": false
   },
   "outputs": [
    {
     "data": {
      "text/plain": [
       "array([9513,  330, 6038,  618, 7436, 8612, 9052, 7135, 3665,  924])"
      ]
     },
     "execution_count": 49,
     "metadata": {},
     "output_type": "execute_result"
    }
   ],
   "source": [
    "np.argsort(dtm[73,:])[-10:]"
   ]
  },
  {
   "cell_type": "code",
   "execution_count": 53,
   "metadata": {
    "collapsed": false
   },
   "outputs": [
    {
     "data": {
      "text/plain": [
       "922"
      ]
     },
     "execution_count": 53,
     "metadata": {},
     "output_type": "execute_result"
    }
   ],
   "source": [
    "list(vocab10).index('buffet')"
   ]
  },
  {
   "cell_type": "code",
   "execution_count": 54,
   "metadata": {
    "collapsed": false
   },
   "outputs": [
    {
     "data": {
      "text/plain": [
       "10364"
      ]
     },
     "execution_count": 54,
     "metadata": {},
     "output_type": "execute_result"
    }
   ],
   "source": [
    "len(vocab10)"
   ]
  },
  {
   "cell_type": "code",
   "execution_count": 55,
   "metadata": {
    "collapsed": false
   },
   "outputs": [
    {
     "data": {
      "text/plain": [
       "(3822, 10364)"
      ]
     },
     "execution_count": 55,
     "metadata": {},
     "output_type": "execute_result"
    }
   ],
   "source": [
    "dtm.shape"
   ]
  },
  {
   "cell_type": "code",
   "execution_count": 18,
   "metadata": {
    "collapsed": false
   },
   "outputs": [],
   "source": [
    "# Saving the components of the model\n",
    "np.save('temp/package_topics_lv.npy',model.components_)\n",
    "np.save('temp/package_assignement_lv.npy',model.doc_topic_)"
   ]
  },
  {
   "cell_type": "code",
   "execution_count": 17,
   "metadata": {
    "collapsed": false
   },
   "outputs": [
    {
     "data": {
      "text/plain": [
       "(3822, 40)"
      ]
     },
     "execution_count": 17,
     "metadata": {},
     "output_type": "execute_result"
    }
   ],
   "source": [
    "model.doc_topic_.shape"
   ]
  },
  {
   "cell_type": "code",
   "execution_count": null,
   "metadata": {
    "collapsed": true
   },
   "outputs": [],
   "source": []
  }
 ],
 "metadata": {
  "kernelspec": {
   "display_name": "Python 2",
   "language": "python",
   "name": "python2"
  },
  "language_info": {
   "codemirror_mode": {
    "name": "ipython",
    "version": 2
   },
   "file_extension": ".py",
   "mimetype": "text/x-python",
   "name": "python",
   "nbconvert_exporter": "python",
   "pygments_lexer": "ipython2",
   "version": "2.7.9"
  }
 },
 "nbformat": 4,
 "nbformat_minor": 0
}
