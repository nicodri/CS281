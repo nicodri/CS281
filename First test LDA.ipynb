{
 "cells": [
  {
   "cell_type": "code",
   "execution_count": 1,
   "metadata": {
    "collapsed": false
   },
   "outputs": [],
   "source": [
    "import json\n",
    "import numpy as np\n",
    "import csv\n",
    "import scipy.io as sp\n",
    "import pandas as pd\n",
    "from itertools import groupby\n",
    "import collections\n",
    "import sys\n",
    "sys.path.append('/Library/Frameworks/Python.framework/Versions/2.7/lib/python2.7/site-packages')\n",
    "import lda"
   ]
  },
  {
   "cell_type": "code",
   "execution_count": 2,
   "metadata": {
    "collapsed": false
   },
   "outputs": [],
   "source": [
    "sparse_res = sp.mmread(\"../cs281_data/sparse_matrix_restaurants_small\")"
   ]
  },
  {
   "cell_type": "code",
   "execution_count": 3,
   "metadata": {
    "collapsed": true
   },
   "outputs": [],
   "source": [
    "with open('../cs281_data/venue_to_idx_small_map.json', 'r') as fp:\n",
    "    venue_to_idx = json.load(fp)"
   ]
  },
  {
   "cell_type": "code",
   "execution_count": 4,
   "metadata": {
    "collapsed": true
   },
   "outputs": [],
   "source": [
    "with open('../cs281_data/word_to_idx_small_map.json', 'r') as fp:\n",
    "    word_to_idx = json.load(fp)"
   ]
  },
  {
   "cell_type": "code",
   "execution_count": 5,
   "metadata": {
    "collapsed": false
   },
   "outputs": [
    {
     "data": {
      "text/plain": [
       "(500, 36745)"
      ]
     },
     "execution_count": 5,
     "metadata": {},
     "output_type": "execute_result"
    }
   ],
   "source": [
    "sparse_res.shape"
   ]
  },
  {
   "cell_type": "code",
   "execution_count": 6,
   "metadata": {
    "collapsed": false
   },
   "outputs": [],
   "source": [
    "model = lda.LDA(n_topics=50, n_iter=1500, random_state=1)"
   ]
  },
  {
   "cell_type": "code",
   "execution_count": 7,
   "metadata": {
    "collapsed": false
   },
   "outputs": [
    {
     "data": {
      "text/plain": [
       "<lda.lda.LDA instance at 0x107764bd8>"
      ]
     },
     "execution_count": 7,
     "metadata": {},
     "output_type": "execute_result"
    }
   ],
   "source": [
    "model.fit(sparse_res) "
   ]
  },
  {
   "cell_type": "code",
   "execution_count": 8,
   "metadata": {
    "collapsed": true
   },
   "outputs": [],
   "source": [
    "topic_word = model.topic_word_"
   ]
  },
  {
   "cell_type": "code",
   "execution_count": 18,
   "metadata": {
    "collapsed": true
   },
   "outputs": [],
   "source": [
    "n_top_words = 10"
   ]
  },
  {
   "cell_type": "code",
   "execution_count": 19,
   "metadata": {
    "collapsed": false
   },
   "outputs": [
    {
     "name": "stdout",
     "output_type": "stream",
     "text": [
      "Topic 0: ensued pendant uninspired direkt emerald creations freee laptop nola\n",
      "Topic 1: smell galette corking direkt pakoora reluctant scatter restaurateurs cacha\n",
      "Topic 2: uninspired emerald feutr adrienne ceramics gl entomatadas efficient washing\n",
      "Topic 3: ciscos direkt bubbled crannied chese ischitana crick litchees dwarfs\n",
      "Topic 4: rita revamped waitressed incompetant heathen beggars tazhiki seaweed spiking\n",
      "Topic 5: crannied mlk bullet trixies har hephaestus bothers moira onlined\n",
      "Topic 6: marischino perused cucumber entomatadas traveler jackson parrot vetted boris\n",
      "Topic 7: efficient dolci ciscos wrecking crick sunnyd therefore doggy ensued\n",
      "Topic 8: direkt capresese licieux chese efficient hostesses reuben overpoweringly upcharging\n",
      "Topic 9: austentatious alexander hedge efficient ensued gil bubbled leverage frog\n",
      "Topic 10: dufferent otra thursday listen clt veryyy tasse artificial navigating\n",
      "Topic 11: bearing chz rechnung escapes yury reuben solant hongkong loosening\n",
      "Topic 12: pakoora yury boneless paru disasters ill vetted cacha gaudy\n",
      "Topic 13: direkt cacha bubbled gunning tightenings rattling steap licieux solant\n",
      "Topic 14: direkt food_mexican_restaurants mentaire chillies pakoora ci preps friggen amaaaazing\n",
      "Topic 15: sg underfunded discarded nontheless choros pjhl unappetizing viennoiserie boris\n",
      "Topic 16: cacha solant coherently fidgeting snatches buildings belle seaweed angering\n",
      "Topic 17: whata crapes diavlo nuoc chapati reuben dolci authorized cutesy\n",
      "Topic 18: rooting fishy coverage shortcake sashima rivers hootin looked dufferent\n",
      "Topic 19: viennoiserie slowly nontheless bbls pram byeee choros morgan intimidated\n",
      "Topic 20: cobblestone nostalgia portugaise steap neice mashed comprehension soysauce loco\n",
      "Topic 21: whitemeat cutout italiano slef lines direkt cucumber francais aggravating\n",
      "Topic 22: livers barockgeb direkt bbls amiable buildings coverage weapon entomatadas\n",
      "Topic 23: positiven awekward maitake importantly invitant adrienne sensuous agreeing anges\n",
      "Topic 24: morgan moderne entomatadas jitsu hoc extras divided listen diavlo\n",
      "Topic 25: brucetta jackson boris gremlins jitsu entomatadas crack tightenings baies\n",
      "Topic 26: alchemy boning puddle refrained pawn cassava celeriac wwife visible\n",
      "Topic 27: ailie smoothest pois buritto footlong curbs sanwiches biter slumber\n",
      "Topic 28: boris becoz seawater trader manhattans io und adrienne agreeing\n",
      "Topic 29: conoisseur concourses scents honor ball cocomo preps accolades deli\n",
      "Topic 30: thickening cojita yunzer shed ciscos crannied chese dwarfs teleport\n",
      "Topic 31: gunning direkt licieux ischitana docg managment uncovered reuben flawlessy\n",
      "Topic 32: balbacoa reggae io tariens pound manostein doggy disheartened amaaaazing\n",
      "Topic 33: therefore excelente quart sola garden veloppement whitemeat pomme handling\n",
      "Topic 34: onlined miese skull extra maybes hacking irreversibly jarred undeniable\n",
      "Topic 35: smiley hief brucetta belle yury cutesy boris decompression hooo\n",
      "Topic 36: sumantha wrecking amiable viennoiserie overpoweringly upcharging adrienne poses boris\n",
      "Topic 37: zigzagging poinsetta entomatadas tightenings bubbled fishies clt novemember pakoora\n",
      "Topic 38: cacha velvety choros entomatadas aims direkt jitsu professional preps\n",
      "Topic 39: fashions boneless rivers slef averted conversationist cacha gaudy pipping\n",
      "Topic 40: boneless paru surrender ill greeny solant chickenest belle entomatadas\n",
      "Topic 41: steakhouseish escapes macaroon hooo viennoiserie grandparents pjhl cutesy conversationist\n",
      "Topic 42: listen entomatadas puckery overpoweringly janel droppings upcharging salted empanads\n",
      "Topic 43: licieux reuben steap docg schlep ciscos direkt tortilleria environ\n",
      "Topic 44: offererings direkt pjhl tit knoxs washing gusterez yury fathom\n",
      "Topic 45: knowingly pudding gaudy swedened maturely velvety falsche pjhl coherently\n",
      "Topic 46: licieux ischitana chese bubbled brixx mlk rattling crick authorized\n",
      "Topic 47: savoring galore permitid gelatinous tennessee revisting fathom grandparents individu\n",
      "Topic 48: recovered pjhl unappetizing choros aggravating yury specializes boris pram\n",
      "Topic 49: ischitana licieux bubbled mirin teddy hanna iain chutney pawn\n"
     ]
    }
   ],
   "source": [
    "for i, topic_dist in enumerate(topic_word):\n",
    "    topic_words = np.array(word_to_idx.keys())[np.argsort(topic_dist)][:-n_top_words:-1]\n",
    "    print('Topic {}: {}'.format(i, ' '.join(topic_words)))"
   ]
  },
  {
   "cell_type": "code",
   "execution_count": null,
   "metadata": {
    "collapsed": true
   },
   "outputs": [],
   "source": []
  }
 ],
 "metadata": {
  "kernelspec": {
   "display_name": "Python 2",
   "language": "python",
   "name": "python2"
  },
  "language_info": {
   "codemirror_mode": {
    "name": "ipython",
    "version": 2
   },
   "file_extension": ".py",
   "mimetype": "text/x-python",
   "name": "python",
   "nbconvert_exporter": "python",
   "pygments_lexer": "ipython2",
   "version": "2.7.10"
  }
 },
 "nbformat": 4,
 "nbformat_minor": 0
}
