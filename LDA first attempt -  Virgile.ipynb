{
 "cells": [
  {
   "cell_type": "code",
   "execution_count": 293,
   "metadata": {
    "collapsed": true
   },
   "outputs": [],
   "source": [
    "import numpy as np\n",
    "import scipy as sp\n",
    "import scipy.special as spec\n",
    "from sklearn.preprocessing import normalize\n",
    "%matplotlib inline\n",
    "import matplotlib.pyplot as plt"
   ]
  },
  {
   "cell_type": "code",
   "execution_count": 24,
   "metadata": {
    "collapsed": true
   },
   "outputs": [],
   "source": [
    "dtm = np.zeros((100, 100))"
   ]
  },
  {
   "cell_type": "code",
   "execution_count": 32,
   "metadata": {
    "collapsed": false
   },
   "outputs": [],
   "source": [
    "dtm_ = np.zeros((10, 100))\n",
    "for i in range(10):\n",
    "    dtm_[i,] = [0]*10*i + [10]*10 + [0]*(10*(9-i))"
   ]
  },
  {
   "cell_type": "code",
   "execution_count": 34,
   "metadata": {
    "collapsed": false
   },
   "outputs": [],
   "source": [
    "for i in range(10):\n",
    "    dtm[10*i:10*(i+1),]= dtm_"
   ]
  },
  {
   "cell_type": "code",
   "execution_count": 465,
   "metadata": {
    "collapsed": true
   },
   "outputs": [],
   "source": [
    "def rho(tau,kappa,t):\n",
    "    return (tau+t)**(-kappa)"
   ]
  },
  {
   "cell_type": "code",
   "execution_count": 503,
   "metadata": {
    "collapsed": true
   },
   "outputs": [],
   "source": [
    "def digamma(row):\n",
    "    return spec.psi(row)-spec.psi(np.sum(row))"
   ]
  },
  {
   "cell_type": "code",
   "execution_count": 567,
   "metadata": {
    "collapsed": true
   },
   "outputs": [],
   "source": [
    "nvoc = 100.\n",
    "ndoc = 100.\n",
    "ntopic = 10.\n",
    "nu = 1./100\n",
    "alpha = 1."
   ]
  },
  {
   "cell_type": "code",
   "execution_count": 564,
   "metadata": {
    "collapsed": false
   },
   "outputs": [
    {
     "data": {
      "text/plain": [
       "array([[ 0.88435312,  1.09050786],\n",
       "       [ 1.06821697,  1.26865688],\n",
       "       [ 0.91334417,  0.88025873]])"
      ]
     },
     "execution_count": 564,
     "metadata": {},
     "output_type": "execute_result"
    }
   ],
   "source": [
    "np.random.gamma(100., 1./100.,(3,2))"
   ]
  },
  {
   "cell_type": "code",
   "execution_count": 568,
   "metadata": {
    "collapsed": false
   },
   "outputs": [
    {
     "data": {
      "text/plain": [
       "1.0"
      ]
     },
     "execution_count": 568,
     "metadata": {},
     "output_type": "execute_result"
    }
   ],
   "source": [
    "topics = np.random.rand(100,10)\n",
    "topics = normalize(topics,axis=0, norm='l1')\n",
    "np.sum(topics[:,1])"
   ]
  },
  {
   "cell_type": "code",
   "execution_count": 569,
   "metadata": {
    "collapsed": false
   },
   "outputs": [],
   "source": [
    "#per_document_prop = normalize(np.random.rand(100,10),axis=1, norm='l1')\n",
    "per_document_prop = np.random.gamma(100.,1./100.,(100,10))"
   ]
  },
  {
   "cell_type": "code",
   "execution_count": 570,
   "metadata": {
    "collapsed": false
   },
   "outputs": [],
   "source": [
    "per_word_prop = [normalize(np.random.gamma(100., 1./100.,(100,10)),axis=0, norm='l1') for i in range(int(ndoc))]"
   ]
  },
  {
   "cell_type": "code",
   "execution_count": 571,
   "metadata": {
    "collapsed": false
   },
   "outputs": [
    {
     "name": "stdout",
     "output_type": "stream",
     "text": [
      "CPU times: user 173 ms, sys: 2.4 ms, total: 176 ms\n",
      "Wall time: 176 ms\n"
     ]
    }
   ],
   "source": [
    "%%time\n",
    "tau = 1\n",
    "kappa = 0.8\n",
    "itemax = 100\n",
    "intint = 10\n",
    "idx = range(100)\n",
    "np.random.shuffle(idx)\n",
    "\n",
    "for t in range(itemax):\n",
    "    doc = idx[t]\n",
    "    \n",
    "    EqLogBeta = np.apply_along_axis(digamma, axis=0, arr=topics)\n",
    "    \n",
    "    for tt in range(intint):\n",
    "        EqLogTheta = digamma(per_document_prop[doc,:])\n",
    "        #EqLogBeta = np.einsum('ij,i->ij',EqLogBeta,dtm[doc,])\n",
    "\n",
    "        #per_word_prop[doc] = normalize(np.exp((EqLogBeta+EqLogTheta)**0.1),axis=0, norm='l1')\n",
    "        per_word_prop[doc] = normalize(np.einsum('ij,i->ij',np.exp((EqLogBeta+EqLogTheta)),(dtm[doc,:] > 0)),axis=0, norm='l1')\n",
    "        per_document_prop[doc,:] = normalize([alpha + np.dot(per_word_prop[doc][:,k],dtm[doc,:]) for k in range(int(ntopic))],axis=1, norm='l1')\n",
    "    \n",
    "    temp_topics = nu + ndoc*np.einsum('ij,i->ij',per_word_prop[doc],dtm[doc,])\n",
    "    \n",
    "    topics = (1-rho(tau,kappa,t))*topics + rho(tau,kappa,t)*temp_topics"
   ]
  },
  {
   "cell_type": "code",
   "execution_count": 545,
   "metadata": {
    "collapsed": false
   },
   "outputs": [
    {
     "data": {
      "text/plain": [
       "array([0, 0, 0, 0, 0, 0, 0, 0, 0, 0, 0, 0, 0, 0, 0, 0, 0, 0, 0, 0, 0, 0, 0,\n",
       "       0, 0, 0, 0, 0, 0, 0, 0, 0, 0, 0, 0, 0, 0, 0, 0, 0, 0, 0, 0, 0, 0, 0,\n",
       "       0, 0, 0, 0, 2, 2, 2, 2, 2, 2, 2, 2, 2, 2, 0, 0, 0, 0, 0, 0, 0, 0, 0,\n",
       "       0, 0, 0, 0, 0, 0, 0, 0, 0, 0, 0, 0, 0, 0, 0, 0, 0, 0, 0, 0, 0, 0, 0,\n",
       "       0, 0, 0, 0, 0, 0, 0, 0])"
      ]
     },
     "execution_count": 545,
     "metadata": {},
     "output_type": "execute_result"
    }
   ],
   "source": [
    "ttt = np.array([3,0,3])\n",
    "(dtm[doc,:] > 0)*2"
   ]
  },
  {
   "cell_type": "code",
   "execution_count": 575,
   "metadata": {
    "collapsed": false
   },
   "outputs": [
    {
     "data": {
      "text/plain": [
       "[<matplotlib.lines.Line2D at 0x110b56690>]"
      ]
     },
     "execution_count": 575,
     "metadata": {},
     "output_type": "execute_result"
    },
    {
     "data": {
      "image/png": "[encoded data removed]",
      "text/plain": [
       "<matplotlib.figure.Figure at 0x11053f810>"
      ]
     },
     "metadata": {},
     "output_type": "display_data"
    }
   ],
   "source": [
    "8"
   ]
  },
  {
   "cell_type": "code",
   "execution_count": 476,
   "metadata": {
    "collapsed": false
   },
   "outputs": [
    {
     "data": {
      "text/plain": [
       "array([[ 0.33333333,  0.33333333],\n",
       "       [ 0.33333333,  0.33333333],\n",
       "       [ 0.33333333,  0.33333333]])"
      ]
     },
     "execution_count": 476,
     "metadata": {},
     "output_type": "execute_result"
    }
   ],
   "source": [
    "normalize(test,axis = 0,norm = 'l1')"
   ]
  },
  {
   "cell_type": "code",
   "execution_count": 525,
   "metadata": {
    "collapsed": false
   },
   "outputs": [
    {
     "data": {
      "text/plain": [
       "38"
      ]
     },
     "execution_count": 525,
     "metadata": {},
     "output_type": "execute_result"
    }
   ],
   "source": [
    "doc = np.random.randint(0, 99)\n",
    "doc"
   ]
  },
  {
   "cell_type": "code",
   "execution_count": 526,
   "metadata": {
    "collapsed": false
   },
   "outputs": [
    {
     "data": {
      "text/plain": [
       "array([-11.14034284,  -6.82386715, -18.52564873, -10.56980416,\n",
       "       -18.56987775, -10.84146399,  -6.99618588, -11.92119262,\n",
       "        -8.99771096,  -6.60550368])"
      ]
     },
     "execution_count": 526,
     "metadata": {},
     "output_type": "execute_result"
    }
   ],
   "source": [
    "EqLogTheta = digamma(per_document_prop[doc,])\n",
    "EqLogTheta"
   ]
  },
  {
   "cell_type": "code",
   "execution_count": 527,
   "metadata": {
    "collapsed": false
   },
   "outputs": [
    {
     "data": {
      "text/plain": [
       "array([[   -93.64239107,   -346.17046706,   -141.38920323,    -61.06998823,\n",
       "           -75.83113173,   -137.0354476 ,   -103.2400431 ,    -71.66106677,\n",
       "          -265.53939738,    -76.73407555],\n",
       "       [   -73.02308224,    -53.99923743,    -50.58886426,   -239.73915018,\n",
       "           -71.27314792,    -61.35211697,   -510.56366588,   -187.71540503,\n",
       "           -50.35009266,   -104.36024762],\n",
       "       [   -59.58841299,   -108.90118694,   -904.5324831 ,   -520.36230421,\n",
       "           -58.26799556,   -880.91210785,   -136.5347117 ,    -78.11000822,\n",
       "          -348.51607036,    -97.31642829],\n",
       "       [   -93.50321547,  -1579.37815539,    -80.91497795, -12078.22624294,\n",
       "           -66.02860869,   -255.0351843 ,   -138.64479117,  -1019.32940419,\n",
       "           -52.04692441,   -120.76675047],\n",
       "       [   -57.79618039,   -201.73035027,   -330.49496701,    -51.93309023,\n",
       "          -622.28181211,    -52.02157013,    -52.7900874 ,   -139.7161414 ,\n",
       "           -56.75909282,   -252.18685409],\n",
       "       [   -91.55889871,    -57.41948812,    -65.85706315,   -111.06844103,\n",
       "           -69.75203886,    -66.78832091,   -120.104542  ,    -56.54153355,\n",
       "          -405.51666546,    -96.90566686],\n",
       "       [  -411.48666278,    -75.41385908,    -88.6051595 ,   -135.49160806,\n",
       "           -55.39447039,   -139.49248962,   -132.74871779,    -92.21094826,\n",
       "          -245.53053425,    -99.26505977],\n",
       "       [   -93.18217916,   -195.78985272,   -225.94212037,   -538.65590087,\n",
       "          -485.433898  ,   -868.51259466, -20753.93692994,    -76.65869488,\n",
       "           -54.02589925,  -5519.86710744],\n",
       "       [   -72.73249259,  -1334.56849755,   -151.81224388,    -58.00964253,\n",
       "          -250.24242857,   -117.18279847,   -106.39907718,    -75.13947778,\n",
       "           -74.37449604,   -114.55638688],\n",
       "       [  -120.79048311,    -53.49003744,  -1812.89954986,   -241.89573889,\n",
       "          -120.58128211,    -67.29758809,    -62.78225511,   -184.54903727,\n",
       "           -83.39393314,    -52.46189271],\n",
       "       [   -84.73143776,   -244.66801789,    -57.65956105,    -67.73326099,\n",
       "         -1040.53652186,   -196.59799183,   -253.96076882,   -118.22808667,\n",
       "           -98.71425223,    -52.18922986],\n",
       "       [   -70.29184842,  -1492.78625754,   -299.30146584,   -111.10099946,\n",
       "          -199.40520749,    -88.90118911,   -149.49503555,    -54.69241618,\n",
       "           -48.30377542,   -121.44543563],\n",
       "       [  -177.61456963,   -553.66114107,    -90.77978536,    -72.07020504,\n",
       "           -76.4492485 ,   -203.05954741,    -58.38852864,    -58.37407948,\n",
       "           -51.66004518,    -68.45986983],\n",
       "       [   -59.97184819,    -59.58076868,   -396.46799403,    -83.77963502,\n",
       "           -65.46125406,   -181.39728172,    -72.22534116,   -117.86965079,\n",
       "           -54.35989945,  -1005.95831847],\n",
       "       [   -71.11896298,  -1801.83749195,   -557.14335237,    -95.79727047,\n",
       "           -71.07374317,  -1089.36929288,   -177.87686872,    -91.38729636,\n",
       "          -153.05119332,   -103.1565873 ],\n",
       "       [  -608.70890199,  -1307.58421917,   -331.57592315,   -145.48401468,\n",
       "          -106.74775218,    -56.84315044,   -101.00753242,   -345.29535977,\n",
       "           -92.75298296,    -93.37717624],\n",
       "       [  -224.86804684,   -266.21729105,    -69.59457139,    -57.19487675,\n",
       "          -103.90295021,   -450.49590241,  -1100.46939078,   -182.21570198,\n",
       "          -286.18072213,   -400.79715529],\n",
       "       [  -129.04716358,   -563.51560653,    -54.19413927,    -69.94193434,\n",
       "          -110.95174393,    -58.28450606,    -65.23709737,    -62.35003601,\n",
       "           -67.12303842,    -69.85530007],\n",
       "       [  -295.49310858,   -142.39489384,   -305.33311021,   -478.22934017,\n",
       "           -53.73719888,   -131.08670517,    -71.84313216,    -59.03383339,\n",
       "          -301.74861974,   -829.57758574],\n",
       "       [   -89.78524067,    -59.47299269,    -59.68713423,   -395.137614  ,\n",
       "           -52.38809756,   -149.2621475 ,    -80.01566775,    -66.50291624,\n",
       "           -78.95844196,    -83.59872371],\n",
       "       [   -74.9594187 ,   -121.72935186,    -67.76232953,    -54.24894405,\n",
       "           -64.44385857,   -965.75730523,    -95.73991994,   -876.13558057,\n",
       "          -215.3911653 ,    -55.04605954],\n",
       "       [   -79.06376533,    -56.67984288,   -106.79807184,   -340.09185382,\n",
       "          -270.89066085,   -281.09983402,    -50.58934781,   -118.62807624,\n",
       "          -291.58254654,    -84.18042142],\n",
       "       [  -137.60899778,    -62.34435398,    -61.66830087, -11475.0319216 ,\n",
       "          -239.1604004 ,    -58.27502577,    -68.81674286,    -81.025686  ,\n",
       "           -84.55514332,    -65.34368876],\n",
       "       [   -62.17918302,    -80.61426773,    -62.74999133,   -482.73924142,\n",
       "          -189.93499581,   -113.98071383,   -407.10032355,   -135.53189809,\n",
       "           -60.27330759,   -201.83282117],\n",
       "       [   -83.57465701,    -57.58097632,    -88.21469996,    -54.76229137,\n",
       "          -118.54297263,    -54.73914263,    -71.44012384,    -65.15031281,\n",
       "           -53.41544524,   -305.01414587],\n",
       "       [   -64.94760004,    -83.25027264,    -67.60324462,   -161.69957053,\n",
       "          -215.36644301,    -54.57028742,    -75.04716344,    -53.63937911,\n",
       "          -233.70769256,   -514.57076194],\n",
       "       [  -143.86669294,   -247.29627509,   -297.96648635,    -75.81023977,\n",
       "           -93.45886658,   -106.99567951,   -143.44159239,    -55.14338417,\n",
       "          -317.25134465,   -104.52741865],\n",
       "       [  -132.89204452,    -66.09147922,    -53.47195933,    -61.0072567 ,\n",
       "          -183.94746096,   -180.95142623,    -83.18516975,    -72.45883422,\n",
       "          -320.41310747,    -59.42309117],\n",
       "       [   -99.65539893,    -51.21662399,   -314.59277927,    -66.28707353,\n",
       "          -120.27381809,    -74.34555638,    -79.1706182 ,   -109.58444334,\n",
       "          -278.33727024,    -52.61155605],\n",
       "       [  -158.39667086,    -66.10949687,   -115.50334615,   -190.71484968,\n",
       "           -56.22066153,    -64.71187501,  -1140.83343452,    -63.70080787,\n",
       "          -146.83572048,    -53.84123255],\n",
       "       [   -65.98119492,    -86.59056149,   -219.88070084,   -110.9589535 ,\n",
       "           -62.27284814,   -170.17008158,    -66.88755308,    -96.91657263,\n",
       "           -78.9237879 ,    -70.59963965],\n",
       "       [   -57.61096865,   -301.59506135,   -229.89143894,   -167.89827133,\n",
       "           -68.46218148,   -176.84774261,    -51.73493342,    -86.51197904,\n",
       "          -157.57564289,   -224.48636184],\n",
       "       [   -67.40329842,    -54.85357235,    -86.7255995 ,   -215.0777027 ,\n",
       "           -53.49069952,   -135.55590134,   -331.49304045,   -304.03701748,\n",
       "         -2720.02396644,   -945.28728009],\n",
       "       [   -57.97365434,   -133.7761552 ,   -550.9937702 ,   -100.05351258,\n",
       "          -116.81233235,   -309.18134654,   -180.99895456,   -189.85089495,\n",
       "           -89.75244753,  -2639.46644451],\n",
       "       [   -65.07443195,    -69.6159295 ,   -215.14156341,    -65.39999302,\n",
       "           -60.55326538,   -327.82384665,    -52.66275412,   -302.57341299,\n",
       "           -57.51461344,   -178.74653901],\n",
       "       [   -66.7504454 ,   -145.09102759,    -51.62039546,    -58.68801962,\n",
       "           -75.20191222,    -73.9349437 ,    -71.14537763,   -209.62586722,\n",
       "           -70.73731496,   -167.41091164],\n",
       "       [   -65.28894654,    -74.57381479,   -264.48459424,    -60.33224049,\n",
       "          -100.97969816,   -126.50069481,   -131.47783472,   -161.1963985 ,\n",
       "          -409.21793447,    -93.06977683],\n",
       "       [   -76.15101711,    -69.97298465,   -149.9879989 ,   -116.51904008,\n",
       "          -109.54047594,   -174.32259917,   -485.35203603,    -55.87705317,\n",
       "           -95.21200611,    -52.51416881],\n",
       "       [  -146.43085313,   -102.63054824,    -70.29232103,   -118.56812684,\n",
       "           -59.48573026,    -75.96760211,    -48.99397982,    -83.64809977,\n",
       "           -49.59828781,   -320.6046165 ],\n",
       "       [   -93.7110522 ,   -572.72688857,   -137.38524967,    -95.14525178,\n",
       "          -144.72899228,   -356.05160889,   -307.08723355,    -59.72402131,\n",
       "          -294.2909567 ,    -61.44424969],\n",
       "       [  -313.84968043,   -315.38380132,    -58.51366301,    -67.6704579 ,\n",
       "           -77.41214482,    -97.88130682,    -59.8470685 ,   -127.07867858,\n",
       "           -56.86246354,    -64.75791057],\n",
       "       [   -85.26418085,   -159.57964821,    -55.48347216,   -268.61477515,\n",
       "           -96.5103367 ,   -131.94506352,  -1268.77290535,   -112.81889698,\n",
       "           -56.97025293,  -1996.57706167],\n",
       "       [  -110.6371762 ,  -2639.21522121,   -210.99507734,    -78.79366124,\n",
       "           -77.53226013,   -359.27024416,   -147.03866381,    -71.29485218,\n",
       "          -336.35667565,    -82.57776625],\n",
       "       [   -57.61181363,    -75.22164092,    -85.97537941,   -303.72918229,\n",
       "         -3275.83297481,   -104.93935507,   -350.29864881,   -138.08768862,\n",
       "           -66.10078499,    -68.63420051],\n",
       "       [  -469.87628291,   -264.3652599 ,  -5988.12153808,   -102.66376929,\n",
       "          -145.61807743,   -152.37141167,   -107.41156652,    -91.29737845,\n",
       "           -48.25688333,    -57.60262277],\n",
       "       [   -75.17351851,    -86.193514  ,   -597.80582125,   -219.25134241,\n",
       "          -121.29280203,    -87.6323285 ,    -92.32774396,   -112.45148357,\n",
       "          -113.6500576 ,   -164.83696068],\n",
       "       [  -131.68794681,    -73.95664437,    -49.59451506,    -54.24960613,\n",
       "          -581.55590146,    -99.40643398,    -86.61913392,   -112.53114282,\n",
       "          -681.8643846 ,   -149.83238662],\n",
       "       [   -67.66793545,   -134.1780567 ,   -203.48225341,   -115.38294088,\n",
       "          -171.05460286,    -82.88628947,    -64.42760746,   -407.40994946,\n",
       "          -204.25625229,   -104.35623255],\n",
       "       [  -434.98888456,    -94.22910329,    -99.89172491,   -561.6617252 ,\n",
       "           -89.31311778,    -59.00111743,   -104.12682193,   -503.4616045 ,\n",
       "           -83.84656129,  -8010.441679  ],\n",
       "       [   -64.40019937,    -65.48769543,  -1199.06961873,   -239.69578171,\n",
       "          -637.13768576,    -57.58411742,    -65.87537613,   -143.09390834,\n",
       "          -129.37473442,   -637.44731852],\n",
       "       [ -1749.42503828,   -202.51810108,    -73.94219515,   -335.51479869,\n",
       "           -56.24311377,   -203.36120811,   -131.80593477,    -69.31736068,\n",
       "          -186.38146386,    -65.7326098 ],\n",
       "       [   -83.92955736,   -154.99069544,   -212.5873673 ,   -644.78750848,\n",
       "           -82.92093736,   -201.53107882,   -110.18322405,   -137.50225836,\n",
       "           -51.62701979,    -70.6972334 ],\n",
       "       [   -81.9703141 ,   -446.14058484,   -134.13700057,    -60.16518471,\n",
       "           -58.05411397,    -62.10783903,    -61.35731369,   -164.86986053,\n",
       "           -68.06531597,   -105.14385954],\n",
       "       [ -1459.35800041,   -460.20198085,    -49.07174755,   -141.30933117,\n",
       "          -284.7316616 ,    -54.16067553,   -140.9329726 ,   -114.56392021,\n",
       "           -51.7823762 ,    -66.04711861],\n",
       "       [  -820.34114428,    -65.24991272,   -164.91302322,   -271.95232475,\n",
       "           -67.02846482,    -86.68925182,   -119.18670542,  -1150.04771886,\n",
       "          -103.88330594,    -57.6188477 ],\n",
       "       [  -431.36972955,    -87.57695476,   -594.40777994,   -117.69978799,\n",
       "          -259.08557921,   -240.96975594,    -59.66532536,    -83.49165416,\n",
       "          -310.96325105,    -71.27084962],\n",
       "       [   -61.80161796,    -82.8700312 ,    -50.50085348,   -148.26589694,\n",
       "          -126.04051826,    -72.56597902,    -91.77913606,    -97.87837575,\n",
       "          -199.40704207,   -147.18679071],\n",
       "       [   -56.51103073,   -541.15514019,    -53.64849745,    -79.13967897,\n",
       "           -61.97171191,   -493.28648478,    -61.30628612,   -105.59966599,\n",
       "           -78.12365573,    -53.13157005],\n",
       "       [  -213.08853602,   -216.43857025,    -86.23672046,    -92.98336215,\n",
       "          -137.60142512,    -90.22949206,   -188.00037929,    -64.39010337,\n",
       "          -870.7060344 ,   -401.24870418],\n",
       "       [   -86.82643959,    -98.53599408,    -71.11325858,    -97.45280946,\n",
       "          -232.91438593,   -189.96100374,   -175.60807621,   -131.75388673,\n",
       "           -93.28326632,    -56.05958079],\n",
       "       [  -106.11845602,    -56.92962248,    -89.2133731 ,    -58.10932447,\n",
       "           -85.14872367,    -80.77999254,    -71.04678398,   -584.87998482,\n",
       "           -51.77133065,    -84.79432103],\n",
       "       [ -2036.72252218,   -318.36256151,    -58.00196828,   -411.713466  ,\n",
       "           -64.13774226,   -163.04316703,  -1507.58747427,    -66.79550787,\n",
       "          -191.96324864,    -52.74684736],\n",
       "       [  -222.98219825,   -144.1301827 ,    -78.66453725,    -71.24651706,\n",
       "           -96.16058124,   -104.80228412,    -72.44274654,    -74.87613453,\n",
       "          -135.82911318,    -58.01179795],\n",
       "       [   -89.00809157,   -103.47370454,    -55.33313511,    -60.43536899,\n",
       "          -294.89605826,    -54.04541724,    -62.80319585,    -60.78696743,\n",
       "           -79.99554039,   -165.25805199],\n",
       "       [  -444.41673291,    -93.29819144,    -80.46434259,    -50.88716524,\n",
       "           -78.18463803,    -56.25066957,    -72.63365233,   -178.73722212,\n",
       "           -56.51683019,    -88.75978111],\n",
       "       [   -93.35729828,    -60.11422178,   -773.03146945,    -70.18181497,\n",
       "           -79.54798701,    -50.22315146,   -190.60067891,   -103.84985557,\n",
       "          -127.93370115,  -2396.8547657 ],\n",
       "       [   -57.94817868,    -63.07759557,    -77.92178741,    -62.10860294,\n",
       "           -64.6915807 ,    -73.72687611,   -332.37048405,    -60.74736077,\n",
       "          -629.84329863,   -108.35159985],\n",
       "       [  -137.49785839,    -52.75729511,    -90.5586408 ,    -59.66901084,\n",
       "           -97.01458917,    -66.90103415,   -122.7496111 ,  -2213.94604186,\n",
       "           -63.27172479,   -144.695307  ],\n",
       "       [  -120.31269368,    -67.38615718,    -78.11405056,    -54.90864303,\n",
       "           -73.96489146,    -65.42156773,   -415.03308445,    -69.26572089,\n",
       "          -116.909086  ,   -753.27077269],\n",
       "       [   -59.13574022,    -53.81278702,    -93.07669629,   -131.41682594,\n",
       "           -88.26770281,    -69.62280923,   -585.18880945,   -100.38672116,\n",
       "           -65.30853362,   -114.57223402],\n",
       "       [   -91.52394223,   -225.58087247,   -250.68464894,    -50.20754777,\n",
       "          -127.70127874,    -55.80466281,   -296.34261948,    -65.95068493,\n",
       "          -111.91811126,    -83.94910945],\n",
       "       [   -57.38661024,   -242.46449216,   -119.42921584,   -128.15006047,\n",
       "           -60.29355521,    -63.22819819,    -94.73117879,    -64.03352188,\n",
       "          -948.77294583,   -600.22493284],\n",
       "       [   -56.12867136,   -212.33269864,   -176.52942366,    -63.07333096,\n",
       "           -60.39460708,  -4822.43458255,    -66.27224061,   -115.8291426 ,\n",
       "           -51.55742058,    -86.571249  ],\n",
       "       [  -103.59121423,   -217.49461872,   -182.44601449,    -53.60012078,\n",
       "          -158.05520033,    -55.75962107,    -50.46889269,   -581.08831608,\n",
       "          -155.08349313,    -54.58414719],\n",
       "       [  -311.66386309,    -63.81987004,   -233.16734342,    -54.66178391,\n",
       "           -77.42412733,   -114.008086  ,    -48.10040708,   -107.15363914,\n",
       "          -784.24594784,   -258.94095029],\n",
       "       [  -126.90974598,    -57.66015613,    -95.95877526,   -151.46427764,\n",
       "          -102.00528697,    -59.67783925,    -51.41356771,    -89.5798959 ,\n",
       "          -204.5769858 ,    -84.43596045],\n",
       "       [   -84.71390269,    -53.10361506,   -153.46797849,   -117.20005989,\n",
       "           -53.81259382,    -91.22924226,   -229.22803429,    -63.16060331,\n",
       "          -138.47278898,    -64.90652227],\n",
       "       [  -770.64886853,    -69.79345842,    -76.00207893,    -52.93632512,\n",
       "           -73.4776865 ,    -60.03689528,    -49.74642599,    -99.29162932,\n",
       "          -167.1032711 ,    -65.42781557],\n",
       "       [  -147.52200098,    -56.35346014,   -689.14532055,   -270.49257984,\n",
       "          -419.19651957,    -58.39568312,   -334.93419189,    -69.19009996,\n",
       "           -94.81636788,    -67.50092737],\n",
       "       [   -71.37253654,   -255.05368449,    -71.35471781,   -135.28999106,\n",
       "          -116.21113717,    -61.62934035,   -126.92034812,   -148.94928476,\n",
       "          -139.16956673,   -355.85769852],\n",
       "       [   -76.82973608,    -93.69822931,    -83.07013005,    -60.06837889,\n",
       "           -69.95101904, -20161.34307597,   -245.80839297,    -82.10648071,\n",
       "           -64.29048386,   -226.81238617],\n",
       "       [  -203.62643944,    -90.84170483,    -48.79194863,    -59.09174714,\n",
       "          -115.10947183,   -183.56877884,   -135.3305433 ,    -93.43853689,\n",
       "          -166.86328506,   -633.44873842],\n",
       "       [   -56.45539099,    -93.61767419,    -58.75783023,    -94.99757973,\n",
       "          -235.49524964,   -101.91112857,   -202.23270488,   -203.04164763,\n",
       "           -78.34148609,   -532.68163457],\n",
       "       [  -315.10637529,   -112.17798634,    -64.05559064,    -52.17372855,\n",
       "          -325.40474671,  -1200.83728473,   -101.24549807,   -104.2151579 ,\n",
       "           -49.54131855,    -69.70677537],\n",
       "       [   -76.11404929,    -81.2249112 ,   -384.16057546,   -108.54584246,\n",
       "           -86.48452184,    -64.44429054,   -432.94320248,   -338.69361337,\n",
       "           -68.56146789,    -58.97799486],\n",
       "       [  -120.53931997,    -73.82183622,    -55.20686059,   -685.00783154,\n",
       "           -57.30305953,   -156.55850884,    -84.97977776,   -311.23605972,\n",
       "          -119.1885641 ,   -101.62972432],\n",
       "       [  -231.8642242 ,    -71.45587703,    -64.72059675,  -1032.74640404,\n",
       "         -1132.3363786 ,   -209.39396218,   -160.25754247,    -74.65359853,\n",
       "           -60.76500485,   -175.30539821],\n",
       "       [  -114.14499585,    -67.81174855,    -75.93101509,   -784.13221679,\n",
       "          -457.57771516,   -129.2012873 ,    -90.11695031,   -109.46089598,\n",
       "           -52.99043387,   -105.70546574],\n",
       "       [  -294.60025275,   -120.8361039 ,   -744.10144342,   -235.99722881,\n",
       "          -107.77037681,    -71.85435685,    -57.9682742 ,   -116.2440241 ,\n",
       "           -82.28976968,   -113.9606084 ],\n",
       "       [  -156.61566137,   -220.22743496,    -53.42321429,  -1017.03203852,\n",
       "           -57.65203997,   -384.79882556,   -121.34444734,  -1705.80628458,\n",
       "           -87.22096155,    -69.74993217],\n",
       "       [   -76.4610373 ,   -123.32153374,   -117.35917825,   -153.59955748,\n",
       "           -83.77524068,   -257.17307778,   -158.15271421,   -118.87683508,\n",
       "           -50.4135808 ,    -53.61035412],\n",
       "       [   -56.92063024,    -63.11034707,    -70.50932903,    -69.14063036,\n",
       "         -1338.29229502,    -64.69007693,    -51.46468949,    -63.13590416,\n",
       "         -2795.80881634,    -76.86656184],\n",
       "       [  -137.41525652,    -67.8442855 ,   -324.77414127,    -69.83956226,\n",
       "         -1775.54145167,    -64.37995332,   -171.61934506,    -74.27041485,\n",
       "          -461.7232795 ,   -861.73330897],\n",
       "       [  -104.19949963,    -71.9070993 ,    -59.43173664,    -81.57375137,\n",
       "          -345.30737855,    -88.60688292,   -108.63402827,    -63.61123887,\n",
       "         -1494.84800599,    -65.43394207],\n",
       "       [   -74.76139773,   -243.29878874,   -103.79452721,   -120.15700374,\n",
       "          -117.37032422,   -143.66111917,    -52.87772522,    -58.03642365,\n",
       "         -1949.07775646,   -105.88234517],\n",
       "       [   -58.7188671 ,   -264.77439494,    -89.84199345,   -426.46203257,\n",
       "          -212.64733028,   -256.43363024,   -665.13248054,   -115.43133825,\n",
       "          -111.89562208,   -221.31671198],\n",
       "       [  -144.44906324,    -82.61417996,   -699.60471054,    -92.17129492,\n",
       "          -231.3666112 ,   -129.971971  ,   -982.05000524,   -146.59939708,\n",
       "         -1436.79336942,   -101.98203978],\n",
       "       [  -172.6795124 ,    -62.40884708,   -147.12003581,    -69.40839346,\n",
       "           -84.18505084,    -59.01081376,    -62.253708  ,   -102.16648385,\n",
       "          -112.67036509,    -93.79979662],\n",
       "       [  -237.45799947,   -102.24905239,   -136.37984913,   -232.29154885,\n",
       "          -160.65968355,   -139.90166536,    -54.56019967,   -314.41753294,\n",
       "           -99.96218233,    -66.3570912 ],\n",
       "       [  -355.59535669,    -70.99694303,    -54.9527883 ,    -87.49477536,\n",
       "           -63.09642906,    -71.11037576,    -80.30288018,    -81.54401404,\n",
       "          -111.78395728,    -73.97735295]])"
      ]
     },
     "execution_count": 527,
     "metadata": {},
     "output_type": "execute_result"
    }
   ],
   "source": [
    "EqLogBeta = np.apply_along_axis(digamma, axis=0, arr=topics)\n",
    "EqLogBeta"
   ]
  },
  {
   "cell_type": "code",
   "execution_count": 375,
   "metadata": {
    "collapsed": false
   },
   "outputs": [],
   "source": [
    "EqLogBeta = np.einsum('ij,i->ij',EqLogBeta,dtm[doc,])"
   ]
  },
  {
   "cell_type": "code",
   "execution_count": 531,
   "metadata": {
    "collapsed": false
   },
   "outputs": [],
   "source": [
    "per_word_prop[doc] = normalize(np.einsum('ij,i->ij',np.exp((EqLogBeta+EqLogTheta)),dtm[doc,:]),axis=0, norm='l1')"
   ]
  },
  {
   "cell_type": "code",
   "execution_count": 532,
   "metadata": {
    "collapsed": false
   },
   "outputs": [
    {
     "data": {
      "text/plain": [
       "array([ 0.1,  0.1,  0.1,  0.1,  0.1,  0.1,  0.1,  0.1,  0.1,  0.1])"
      ]
     },
     "execution_count": 532,
     "metadata": {},
     "output_type": "execute_result"
    }
   ],
   "source": [
    "per_document_prop[doc,:] = normalize([alpha + np.dot(per_word_prop[doc][:,k],dtm[doc,:]) for k in range(int(ntopic))],axis=1, norm='l1')\n",
    "per_document_prop[doc,:]"
   ]
  },
  {
   "cell_type": "code",
   "execution_count": 280,
   "metadata": {
    "collapsed": false
   },
   "outputs": [
    {
     "data": {
      "text/plain": [
       "array([[  1.00000000e-02,   1.00000000e-02,   1.00000000e-02,\n",
       "          1.00000000e-02,   1.00000000e-02,   1.00000000e-02,\n",
       "          1.00000000e-02,   1.00000000e-02,   1.00000000e-02,\n",
       "          1.00000000e-02],\n",
       "       [  1.00000000e-02,   1.00000000e-02,   1.00000000e-02,\n",
       "          1.00000000e-02,   1.00000000e-02,   1.00000000e-02,\n",
       "          1.00000000e-02,   1.00000000e-02,   1.00000000e-02,\n",
       "          1.00000000e-02],\n",
       "       [  1.00000000e-02,   1.00000000e-02,   1.00000000e-02,\n",
       "          1.00000000e-02,   1.00000000e-02,   1.00000000e-02,\n",
       "          1.00000000e-02,   1.00000000e-02,   1.00000000e-02,\n",
       "          1.00000000e-02],\n",
       "       [  1.00000000e-02,   1.00000000e-02,   1.00000000e-02,\n",
       "          1.00000000e-02,   1.00000000e-02,   1.00000000e-02,\n",
       "          1.00000000e-02,   1.00000000e-02,   1.00000000e-02,\n",
       "          1.00000000e-02],\n",
       "       [  1.00000000e-02,   1.00000000e-02,   1.00000000e-02,\n",
       "          1.00000000e-02,   1.00000000e-02,   1.00000000e-02,\n",
       "          1.00000000e-02,   1.00000000e-02,   1.00000000e-02,\n",
       "          1.00000000e-02],\n",
       "       [  1.00000000e-02,   1.00000000e-02,   1.00000000e-02,\n",
       "          1.00000000e-02,   1.00000000e-02,   1.00000000e-02,\n",
       "          1.00000000e-02,   1.00000000e-02,   1.00000000e-02,\n",
       "          1.00000000e-02],\n",
       "       [  1.00000000e-02,   1.00000000e-02,   1.00000000e-02,\n",
       "          1.00000000e-02,   1.00000000e-02,   1.00000000e-02,\n",
       "          1.00000000e-02,   1.00000000e-02,   1.00000000e-02,\n",
       "          1.00000000e-02],\n",
       "       [  1.00000000e-02,   1.00000000e-02,   1.00000000e-02,\n",
       "          1.00000000e-02,   1.00000000e-02,   1.00000000e-02,\n",
       "          1.00000000e-02,   1.00000000e-02,   1.00000000e-02,\n",
       "          1.00000000e-02],\n",
       "       [  1.00000000e-02,   1.00000000e-02,   1.00000000e-02,\n",
       "          1.00000000e-02,   1.00000000e-02,   1.00000000e-02,\n",
       "          1.00000000e-02,   1.00000000e-02,   1.00000000e-02,\n",
       "          1.00000000e-02],\n",
       "       [  1.00000000e-02,   1.00000000e-02,   1.00000000e-02,\n",
       "          1.00000000e-02,   1.00000000e-02,   1.00000000e-02,\n",
       "          1.00000000e-02,   1.00000000e-02,   1.00000000e-02,\n",
       "          1.00000000e-02],\n",
       "       [  1.00000000e-02,   1.00000000e-02,   1.00000000e-02,\n",
       "          1.00000000e-02,   1.00000000e-02,   1.00000000e-02,\n",
       "          1.00000000e-02,   1.00000000e-02,   1.00000000e-02,\n",
       "          1.00000000e-02],\n",
       "       [  1.00000000e-02,   1.00000000e-02,   1.00000000e-02,\n",
       "          1.00000000e-02,   1.00000000e-02,   1.00000000e-02,\n",
       "          1.00000000e-02,   1.00000000e-02,   1.00000000e-02,\n",
       "          1.00000000e-02],\n",
       "       [  1.00000000e-02,   1.00000000e-02,   1.00000000e-02,\n",
       "          1.00000000e-02,   1.00000000e-02,   1.00000000e-02,\n",
       "          1.00000000e-02,   1.00000000e-02,   1.00000000e-02,\n",
       "          1.00000000e-02],\n",
       "       [  1.00000000e-02,   1.00000000e-02,   1.00000000e-02,\n",
       "          1.00000000e-02,   1.00000000e-02,   1.00000000e-02,\n",
       "          1.00000000e-02,   1.00000000e-02,   1.00000000e-02,\n",
       "          1.00000000e-02],\n",
       "       [  1.00000000e-02,   1.00000000e-02,   1.00000000e-02,\n",
       "          1.00000000e-02,   1.00000000e-02,   1.00000000e-02,\n",
       "          1.00000000e-02,   1.00000000e-02,   1.00000000e-02,\n",
       "          1.00000000e-02],\n",
       "       [  1.00000000e-02,   1.00000000e-02,   1.00000000e-02,\n",
       "          1.00000000e-02,   1.00000000e-02,   1.00000000e-02,\n",
       "          1.00000000e-02,   1.00000000e-02,   1.00000000e-02,\n",
       "          1.00000000e-02],\n",
       "       [  1.00000000e-02,   1.00000000e-02,   1.00000000e-02,\n",
       "          1.00000000e-02,   1.00000000e-02,   1.00000000e-02,\n",
       "          1.00000000e-02,   1.00000000e-02,   1.00000000e-02,\n",
       "          1.00000000e-02],\n",
       "       [  1.00000000e-02,   1.00000000e-02,   1.00000000e-02,\n",
       "          1.00000000e-02,   1.00000000e-02,   1.00000000e-02,\n",
       "          1.00000000e-02,   1.00000000e-02,   1.00000000e-02,\n",
       "          1.00000000e-02],\n",
       "       [  1.00000000e-02,   1.00000000e-02,   1.00000000e-02,\n",
       "          1.00000000e-02,   1.00000000e-02,   1.00000000e-02,\n",
       "          1.00000000e-02,   1.00000000e-02,   1.00000000e-02,\n",
       "          1.00000000e-02],\n",
       "       [  1.00000000e-02,   1.00000000e-02,   1.00000000e-02,\n",
       "          1.00000000e-02,   1.00000000e-02,   1.00000000e-02,\n",
       "          1.00000000e-02,   1.00000000e-02,   1.00000000e-02,\n",
       "          1.00000000e-02],\n",
       "       [  1.00000000e-02,   1.00000000e-02,   1.00000000e-02,\n",
       "          1.00000000e-02,   1.00000000e-02,   1.00000000e-02,\n",
       "          1.00000000e-02,   1.00000000e-02,   1.00000000e-02,\n",
       "          1.00000000e-02],\n",
       "       [  1.00000000e-02,   1.00000000e-02,   1.00000000e-02,\n",
       "          1.00000000e-02,   1.00000000e-02,   1.00000000e-02,\n",
       "          1.00000000e-02,   1.00000000e-02,   1.00000000e-02,\n",
       "          1.00000000e-02],\n",
       "       [  1.00000000e-02,   1.00000000e-02,   1.00000000e-02,\n",
       "          1.00000000e-02,   1.00000000e-02,   1.00000000e-02,\n",
       "          1.00000000e-02,   1.00000000e-02,   1.00000000e-02,\n",
       "          1.00000000e-02],\n",
       "       [  1.00000000e-02,   1.00000000e-02,   1.00000000e-02,\n",
       "          1.00000000e-02,   1.00000000e-02,   1.00000000e-02,\n",
       "          1.00000000e-02,   1.00000000e-02,   1.00000000e-02,\n",
       "          1.00000000e-02],\n",
       "       [  1.00000000e-02,   1.00000000e-02,   1.00000000e-02,\n",
       "          1.00000000e-02,   1.00000000e-02,   1.00000000e-02,\n",
       "          1.00000000e-02,   1.00000000e-02,   1.00000000e-02,\n",
       "          1.00000000e-02],\n",
       "       [  1.00000000e-02,   1.00000000e-02,   1.00000000e-02,\n",
       "          1.00000000e-02,   1.00000000e-02,   1.00000000e-02,\n",
       "          1.00000000e-02,   1.00000000e-02,   1.00000000e-02,\n",
       "          1.00000000e-02],\n",
       "       [  1.00000000e-02,   1.00000000e-02,   1.00000000e-02,\n",
       "          1.00000000e-02,   1.00000000e-02,   1.00000000e-02,\n",
       "          1.00000000e-02,   1.00000000e-02,   1.00000000e-02,\n",
       "          1.00000000e-02],\n",
       "       [  1.00000000e-02,   1.00000000e-02,   1.00000000e-02,\n",
       "          1.00000000e-02,   1.00000000e-02,   1.00000000e-02,\n",
       "          1.00000000e-02,   1.00000000e-02,   1.00000000e-02,\n",
       "          1.00000000e-02],\n",
       "       [  1.00000000e-02,   1.00000000e-02,   1.00000000e-02,\n",
       "          1.00000000e-02,   1.00000000e-02,   1.00000000e-02,\n",
       "          1.00000000e-02,   1.00000000e-02,   1.00000000e-02,\n",
       "          1.00000000e-02],\n",
       "       [  1.00000000e-02,   1.00000000e-02,   1.00000000e-02,\n",
       "          1.00000000e-02,   1.00000000e-02,   1.00000000e-02,\n",
       "          1.00000000e-02,   1.00000000e-02,   1.00000000e-02,\n",
       "          1.00000000e-02],\n",
       "       [  1.00000000e-02,   1.00000000e-02,   1.00000000e-02,\n",
       "          1.00000000e-02,   1.00000000e-02,   1.00000000e-02,\n",
       "          1.00000000e-02,   1.00000000e-02,   1.00000000e-02,\n",
       "          1.00000000e-02],\n",
       "       [  1.00000000e-02,   1.00000000e-02,   1.00000000e-02,\n",
       "          1.00000000e-02,   1.00000000e-02,   1.00000000e-02,\n",
       "          1.00000000e-02,   1.00000000e-02,   1.00000000e-02,\n",
       "          1.00000000e-02],\n",
       "       [  1.00000000e-02,   1.00000000e-02,   1.00000000e-02,\n",
       "          1.00000000e-02,   1.00000000e-02,   1.00000000e-02,\n",
       "          1.00000000e-02,   1.00000000e-02,   1.00000000e-02,\n",
       "          1.00000000e-02],\n",
       "       [  1.00000000e-02,   1.00000000e-02,   1.00000000e-02,\n",
       "          1.00000000e-02,   1.00000000e-02,   1.00000000e-02,\n",
       "          1.00000000e-02,   1.00000000e-02,   1.00000000e-02,\n",
       "          1.00000000e-02],\n",
       "       [  1.00000000e-02,   1.00000000e-02,   1.00000000e-02,\n",
       "          1.00000000e-02,   1.00000000e-02,   1.00000000e-02,\n",
       "          1.00000000e-02,   1.00000000e-02,   1.00000000e-02,\n",
       "          1.00000000e-02],\n",
       "       [  1.00000000e-02,   1.00000000e-02,   1.00000000e-02,\n",
       "          1.00000000e-02,   1.00000000e-02,   1.00000000e-02,\n",
       "          1.00000000e-02,   1.00000000e-02,   1.00000000e-02,\n",
       "          1.00000000e-02],\n",
       "       [  1.00000000e-02,   1.00000000e-02,   1.00000000e-02,\n",
       "          1.00000000e-02,   1.00000000e-02,   1.00000000e-02,\n",
       "          1.00000000e-02,   1.00000000e-02,   1.00000000e-02,\n",
       "          1.00000000e-02],\n",
       "       [  1.00000000e-02,   1.00000000e-02,   1.00000000e-02,\n",
       "          1.00000000e-02,   1.00000000e-02,   1.00000000e-02,\n",
       "          1.00000000e-02,   1.00000000e-02,   1.00000000e-02,\n",
       "          1.00000000e-02],\n",
       "       [  1.00000000e-02,   1.00000000e-02,   1.00000000e-02,\n",
       "          1.00000000e-02,   1.00000000e-02,   1.00000000e-02,\n",
       "          1.00000000e-02,   1.00000000e-02,   1.00000000e-02,\n",
       "          1.00000000e-02],\n",
       "       [  1.00000000e-02,   1.00000000e-02,   1.00000000e-02,\n",
       "          1.00000000e-02,   1.00000000e-02,   1.00000000e-02,\n",
       "          1.00000000e-02,   1.00000000e-02,   1.00000000e-02,\n",
       "          1.00000000e-02],\n",
       "       [  1.00000000e-02,   1.00000000e-02,   1.00000000e-02,\n",
       "          1.00000000e-02,   1.00000000e-02,   1.00000000e-02,\n",
       "          1.00000000e-02,   1.00000000e-02,   1.00000000e-02,\n",
       "          1.00000000e-02],\n",
       "       [  1.00000000e-02,   1.00000000e-02,   1.00000000e-02,\n",
       "          1.00000000e-02,   1.00000000e-02,   1.00000000e-02,\n",
       "          1.00000000e-02,   1.00000000e-02,   1.00000000e-02,\n",
       "          1.00000000e-02],\n",
       "       [  1.00000000e-02,   1.00000000e-02,   1.00000000e-02,\n",
       "          1.00000000e-02,   1.00000000e-02,   1.00000000e-02,\n",
       "          1.00000000e-02,   1.00000000e-02,   1.00000000e-02,\n",
       "          1.00000000e-02],\n",
       "       [  1.00000000e-02,   1.00000000e-02,   1.00000000e-02,\n",
       "          1.00000000e-02,   1.00000000e-02,   1.00000000e-02,\n",
       "          1.00000000e-02,   1.00000000e-02,   1.00000000e-02,\n",
       "          1.00000000e-02],\n",
       "       [  1.00000000e-02,   1.00000000e-02,   1.00000000e-02,\n",
       "          1.00000000e-02,   1.00000000e-02,   1.00000000e-02,\n",
       "          1.00000000e-02,   1.00000000e-02,   1.00000000e-02,\n",
       "          1.00000000e-02],\n",
       "       [  1.00000000e-02,   1.00000000e-02,   1.00000000e-02,\n",
       "          1.00000000e-02,   1.00000000e-02,   1.00000000e-02,\n",
       "          1.00000000e-02,   1.00000000e-02,   1.00000000e-02,\n",
       "          1.00000000e-02],\n",
       "       [  1.00000000e-02,   1.00000000e-02,   1.00000000e-02,\n",
       "          1.00000000e-02,   1.00000000e-02,   1.00000000e-02,\n",
       "          1.00000000e-02,   1.00000000e-02,   1.00000000e-02,\n",
       "          1.00000000e-02],\n",
       "       [  1.00000000e-02,   1.00000000e-02,   1.00000000e-02,\n",
       "          1.00000000e-02,   1.00000000e-02,   1.00000000e-02,\n",
       "          1.00000000e-02,   1.00000000e-02,   1.00000000e-02,\n",
       "          1.00000000e-02],\n",
       "       [  1.00000000e-02,   1.00000000e-02,   1.00000000e-02,\n",
       "          1.00000000e-02,   1.00000000e-02,   1.00000000e-02,\n",
       "          1.00000000e-02,   1.00000000e-02,   1.00000000e-02,\n",
       "          1.00000000e-02],\n",
       "       [  1.00000000e-02,   1.00000000e-02,   1.00000000e-02,\n",
       "          1.00000000e-02,   1.00000000e-02,   1.00000000e-02,\n",
       "          1.00000000e-02,   1.00000000e-02,   1.00000000e-02,\n",
       "          1.00000000e-02],\n",
       "       [  1.08032907e+01,   9.68055043e+00,   9.53819557e+00,\n",
       "          1.05482395e+01,   1.10237599e+01,   1.07878438e+01,\n",
       "          1.07454300e+01,   9.95673072e+00,   1.04134352e+01,\n",
       "          1.08520750e+01],\n",
       "       [  7.56218854e+00,   1.06726430e+01,   1.03863635e+01,\n",
       "          1.07523390e+01,   1.06341038e+01,   1.11684795e+01,\n",
       "          1.06810126e+01,   1.07109651e+01,   1.01023312e+01,\n",
       "          1.02265628e+01],\n",
       "       [  1.11151233e+01,   1.04735302e+01,   5.47934456e+00,\n",
       "          1.12165171e+01,   1.05224573e+01,   8.97640793e+00,\n",
       "          1.07705610e+01,   1.10487103e+01,   9.52461133e+00,\n",
       "          9.96730545e+00],\n",
       "       [  1.07675798e+01,   1.09936941e+01,   1.09016474e+01,\n",
       "          1.10181189e+01,   1.10049718e+01,   1.07150673e+01,\n",
       "          8.36824969e+00,   9.68466813e+00,   1.03101163e+01,\n",
       "          7.77984781e+00],\n",
       "       [  1.07521203e+01,   1.04376229e+01,   1.02555827e+01,\n",
       "          1.08370054e+01,   1.04617795e+01,   1.08109853e+01,\n",
       "          8.84669125e+00,   1.07235428e+01,   1.04676105e+01,\n",
       "          1.08535857e+01],\n",
       "       [  1.12468309e+01,   9.90364852e+00,   9.65859177e+00,\n",
       "          6.65251652e+00,   1.03355405e+01,   9.87316237e+00,\n",
       "          1.06543544e+01,   1.11550145e+01,   6.92275539e+00,\n",
       "          1.11778927e+01],\n",
       "       [  1.02335683e+01,   7.86595902e+00,   9.06741475e+00,\n",
       "          6.18755302e+00,   6.99453500e+00,   1.10137237e+01,\n",
       "          1.12067481e+01,   1.10906728e+01,   1.07460421e+01,\n",
       "          1.08190775e+01],\n",
       "       [  1.05299258e+01,   4.95942821e+00,   1.07038919e+01,\n",
       "          5.47573618e+00,   1.05098429e+01,   1.13916944e+01,\n",
       "          1.07308979e+01,   1.00142688e+01,   1.05695456e+01,\n",
       "          1.08893992e+01],\n",
       "       [  9.04715789e+00,   1.05977446e+01,   1.10896492e+01,\n",
       "          1.06321237e+01,   1.06647034e+01,   1.08577201e+01,\n",
       "          1.08332635e+01,   1.08718684e+01,   1.00116279e+01,\n",
       "          6.37206415e+00],\n",
       "       [  7.98945967e+00,   1.03972484e+01,   1.12347967e+01,\n",
       "          1.08896616e+01,   1.09258743e+01,   7.41070681e+00,\n",
       "          1.04857118e+01,   1.11180700e+01,   1.02444514e+01,\n",
       "          9.28893839e+00],\n",
       "       [  1.00000000e-02,   1.00000000e-02,   1.00000000e-02,\n",
       "          1.00000000e-02,   1.00000000e-02,   1.00000000e-02,\n",
       "          1.00000000e-02,   1.00000000e-02,   1.00000000e-02,\n",
       "          1.00000000e-02],\n",
       "       [  1.00000000e-02,   1.00000000e-02,   1.00000000e-02,\n",
       "          1.00000000e-02,   1.00000000e-02,   1.00000000e-02,\n",
       "          1.00000000e-02,   1.00000000e-02,   1.00000000e-02,\n",
       "          1.00000000e-02],\n",
       "       [  1.00000000e-02,   1.00000000e-02,   1.00000000e-02,\n",
       "          1.00000000e-02,   1.00000000e-02,   1.00000000e-02,\n",
       "          1.00000000e-02,   1.00000000e-02,   1.00000000e-02,\n",
       "          1.00000000e-02],\n",
       "       [  1.00000000e-02,   1.00000000e-02,   1.00000000e-02,\n",
       "          1.00000000e-02,   1.00000000e-02,   1.00000000e-02,\n",
       "          1.00000000e-02,   1.00000000e-02,   1.00000000e-02,\n",
       "          1.00000000e-02],\n",
       "       [  1.00000000e-02,   1.00000000e-02,   1.00000000e-02,\n",
       "          1.00000000e-02,   1.00000000e-02,   1.00000000e-02,\n",
       "          1.00000000e-02,   1.00000000e-02,   1.00000000e-02,\n",
       "          1.00000000e-02],\n",
       "       [  1.00000000e-02,   1.00000000e-02,   1.00000000e-02,\n",
       "          1.00000000e-02,   1.00000000e-02,   1.00000000e-02,\n",
       "          1.00000000e-02,   1.00000000e-02,   1.00000000e-02,\n",
       "          1.00000000e-02],\n",
       "       [  1.00000000e-02,   1.00000000e-02,   1.00000000e-02,\n",
       "          1.00000000e-02,   1.00000000e-02,   1.00000000e-02,\n",
       "          1.00000000e-02,   1.00000000e-02,   1.00000000e-02,\n",
       "          1.00000000e-02],\n",
       "       [  1.00000000e-02,   1.00000000e-02,   1.00000000e-02,\n",
       "          1.00000000e-02,   1.00000000e-02,   1.00000000e-02,\n",
       "          1.00000000e-02,   1.00000000e-02,   1.00000000e-02,\n",
       "          1.00000000e-02],\n",
       "       [  1.00000000e-02,   1.00000000e-02,   1.00000000e-02,\n",
       "          1.00000000e-02,   1.00000000e-02,   1.00000000e-02,\n",
       "          1.00000000e-02,   1.00000000e-02,   1.00000000e-02,\n",
       "          1.00000000e-02],\n",
       "       [  1.00000000e-02,   1.00000000e-02,   1.00000000e-02,\n",
       "          1.00000000e-02,   1.00000000e-02,   1.00000000e-02,\n",
       "          1.00000000e-02,   1.00000000e-02,   1.00000000e-02,\n",
       "          1.00000000e-02],\n",
       "       [  1.00000000e-02,   1.00000000e-02,   1.00000000e-02,\n",
       "          1.00000000e-02,   1.00000000e-02,   1.00000000e-02,\n",
       "          1.00000000e-02,   1.00000000e-02,   1.00000000e-02,\n",
       "          1.00000000e-02],\n",
       "       [  1.00000000e-02,   1.00000000e-02,   1.00000000e-02,\n",
       "          1.00000000e-02,   1.00000000e-02,   1.00000000e-02,\n",
       "          1.00000000e-02,   1.00000000e-02,   1.00000000e-02,\n",
       "          1.00000000e-02],\n",
       "       [  1.00000000e-02,   1.00000000e-02,   1.00000000e-02,\n",
       "          1.00000000e-02,   1.00000000e-02,   1.00000000e-02,\n",
       "          1.00000000e-02,   1.00000000e-02,   1.00000000e-02,\n",
       "          1.00000000e-02],\n",
       "       [  1.00000000e-02,   1.00000000e-02,   1.00000000e-02,\n",
       "          1.00000000e-02,   1.00000000e-02,   1.00000000e-02,\n",
       "          1.00000000e-02,   1.00000000e-02,   1.00000000e-02,\n",
       "          1.00000000e-02],\n",
       "       [  1.00000000e-02,   1.00000000e-02,   1.00000000e-02,\n",
       "          1.00000000e-02,   1.00000000e-02,   1.00000000e-02,\n",
       "          1.00000000e-02,   1.00000000e-02,   1.00000000e-02,\n",
       "          1.00000000e-02],\n",
       "       [  1.00000000e-02,   1.00000000e-02,   1.00000000e-02,\n",
       "          1.00000000e-02,   1.00000000e-02,   1.00000000e-02,\n",
       "          1.00000000e-02,   1.00000000e-02,   1.00000000e-02,\n",
       "          1.00000000e-02],\n",
       "       [  1.00000000e-02,   1.00000000e-02,   1.00000000e-02,\n",
       "          1.00000000e-02,   1.00000000e-02,   1.00000000e-02,\n",
       "          1.00000000e-02,   1.00000000e-02,   1.00000000e-02,\n",
       "          1.00000000e-02],\n",
       "       [  1.00000000e-02,   1.00000000e-02,   1.00000000e-02,\n",
       "          1.00000000e-02,   1.00000000e-02,   1.00000000e-02,\n",
       "          1.00000000e-02,   1.00000000e-02,   1.00000000e-02,\n",
       "          1.00000000e-02],\n",
       "       [  1.00000000e-02,   1.00000000e-02,   1.00000000e-02,\n",
       "          1.00000000e-02,   1.00000000e-02,   1.00000000e-02,\n",
       "          1.00000000e-02,   1.00000000e-02,   1.00000000e-02,\n",
       "          1.00000000e-02],\n",
       "       [  1.00000000e-02,   1.00000000e-02,   1.00000000e-02,\n",
       "          1.00000000e-02,   1.00000000e-02,   1.00000000e-02,\n",
       "          1.00000000e-02,   1.00000000e-02,   1.00000000e-02,\n",
       "          1.00000000e-02],\n",
       "       [  1.00000000e-02,   1.00000000e-02,   1.00000000e-02,\n",
       "          1.00000000e-02,   1.00000000e-02,   1.00000000e-02,\n",
       "          1.00000000e-02,   1.00000000e-02,   1.00000000e-02,\n",
       "          1.00000000e-02],\n",
       "       [  1.00000000e-02,   1.00000000e-02,   1.00000000e-02,\n",
       "          1.00000000e-02,   1.00000000e-02,   1.00000000e-02,\n",
       "          1.00000000e-02,   1.00000000e-02,   1.00000000e-02,\n",
       "          1.00000000e-02],\n",
       "       [  1.00000000e-02,   1.00000000e-02,   1.00000000e-02,\n",
       "          1.00000000e-02,   1.00000000e-02,   1.00000000e-02,\n",
       "          1.00000000e-02,   1.00000000e-02,   1.00000000e-02,\n",
       "          1.00000000e-02],\n",
       "       [  1.00000000e-02,   1.00000000e-02,   1.00000000e-02,\n",
       "          1.00000000e-02,   1.00000000e-02,   1.00000000e-02,\n",
       "          1.00000000e-02,   1.00000000e-02,   1.00000000e-02,\n",
       "          1.00000000e-02],\n",
       "       [  1.00000000e-02,   1.00000000e-02,   1.00000000e-02,\n",
       "          1.00000000e-02,   1.00000000e-02,   1.00000000e-02,\n",
       "          1.00000000e-02,   1.00000000e-02,   1.00000000e-02,\n",
       "          1.00000000e-02],\n",
       "       [  1.00000000e-02,   1.00000000e-02,   1.00000000e-02,\n",
       "          1.00000000e-02,   1.00000000e-02,   1.00000000e-02,\n",
       "          1.00000000e-02,   1.00000000e-02,   1.00000000e-02,\n",
       "          1.00000000e-02],\n",
       "       [  1.00000000e-02,   1.00000000e-02,   1.00000000e-02,\n",
       "          1.00000000e-02,   1.00000000e-02,   1.00000000e-02,\n",
       "          1.00000000e-02,   1.00000000e-02,   1.00000000e-02,\n",
       "          1.00000000e-02],\n",
       "       [  1.00000000e-02,   1.00000000e-02,   1.00000000e-02,\n",
       "          1.00000000e-02,   1.00000000e-02,   1.00000000e-02,\n",
       "          1.00000000e-02,   1.00000000e-02,   1.00000000e-02,\n",
       "          1.00000000e-02],\n",
       "       [  1.00000000e-02,   1.00000000e-02,   1.00000000e-02,\n",
       "          1.00000000e-02,   1.00000000e-02,   1.00000000e-02,\n",
       "          1.00000000e-02,   1.00000000e-02,   1.00000000e-02,\n",
       "          1.00000000e-02],\n",
       "       [  1.00000000e-02,   1.00000000e-02,   1.00000000e-02,\n",
       "          1.00000000e-02,   1.00000000e-02,   1.00000000e-02,\n",
       "          1.00000000e-02,   1.00000000e-02,   1.00000000e-02,\n",
       "          1.00000000e-02],\n",
       "       [  1.00000000e-02,   1.00000000e-02,   1.00000000e-02,\n",
       "          1.00000000e-02,   1.00000000e-02,   1.00000000e-02,\n",
       "          1.00000000e-02,   1.00000000e-02,   1.00000000e-02,\n",
       "          1.00000000e-02],\n",
       "       [  1.00000000e-02,   1.00000000e-02,   1.00000000e-02,\n",
       "          1.00000000e-02,   1.00000000e-02,   1.00000000e-02,\n",
       "          1.00000000e-02,   1.00000000e-02,   1.00000000e-02,\n",
       "          1.00000000e-02],\n",
       "       [  1.00000000e-02,   1.00000000e-02,   1.00000000e-02,\n",
       "          1.00000000e-02,   1.00000000e-02,   1.00000000e-02,\n",
       "          1.00000000e-02,   1.00000000e-02,   1.00000000e-02,\n",
       "          1.00000000e-02],\n",
       "       [  1.00000000e-02,   1.00000000e-02,   1.00000000e-02,\n",
       "          1.00000000e-02,   1.00000000e-02,   1.00000000e-02,\n",
       "          1.00000000e-02,   1.00000000e-02,   1.00000000e-02,\n",
       "          1.00000000e-02],\n",
       "       [  1.00000000e-02,   1.00000000e-02,   1.00000000e-02,\n",
       "          1.00000000e-02,   1.00000000e-02,   1.00000000e-02,\n",
       "          1.00000000e-02,   1.00000000e-02,   1.00000000e-02,\n",
       "          1.00000000e-02],\n",
       "       [  1.00000000e-02,   1.00000000e-02,   1.00000000e-02,\n",
       "          1.00000000e-02,   1.00000000e-02,   1.00000000e-02,\n",
       "          1.00000000e-02,   1.00000000e-02,   1.00000000e-02,\n",
       "          1.00000000e-02],\n",
       "       [  1.00000000e-02,   1.00000000e-02,   1.00000000e-02,\n",
       "          1.00000000e-02,   1.00000000e-02,   1.00000000e-02,\n",
       "          1.00000000e-02,   1.00000000e-02,   1.00000000e-02,\n",
       "          1.00000000e-02],\n",
       "       [  1.00000000e-02,   1.00000000e-02,   1.00000000e-02,\n",
       "          1.00000000e-02,   1.00000000e-02,   1.00000000e-02,\n",
       "          1.00000000e-02,   1.00000000e-02,   1.00000000e-02,\n",
       "          1.00000000e-02],\n",
       "       [  1.00000000e-02,   1.00000000e-02,   1.00000000e-02,\n",
       "          1.00000000e-02,   1.00000000e-02,   1.00000000e-02,\n",
       "          1.00000000e-02,   1.00000000e-02,   1.00000000e-02,\n",
       "          1.00000000e-02],\n",
       "       [  1.00000000e-02,   1.00000000e-02,   1.00000000e-02,\n",
       "          1.00000000e-02,   1.00000000e-02,   1.00000000e-02,\n",
       "          1.00000000e-02,   1.00000000e-02,   1.00000000e-02,\n",
       "          1.00000000e-02]])"
      ]
     },
     "execution_count": 280,
     "metadata": {},
     "output_type": "execute_result"
    }
   ],
   "source": [
    "temp_topics = nu + ndoc*np.einsum('ij,i->ij',per_word_prop[doc],dtm[doc,])\n",
    "temp_topics"
   ]
  },
  {
   "cell_type": "code",
   "execution_count": 281,
   "metadata": {
    "collapsed": false
   },
   "outputs": [
    {
     "data": {
      "text/plain": [
       "array([[ 0.07601022,  0.13361029,  0.05919172,  0.02233614,  0.07138588,\n",
       "         0.13460216,  0.11903411,  0.10231628,  0.1279667 ,  0.15354649],\n",
       "       [ 0.17943783,  0.17798145,  0.11033054,  0.16211731,  0.02838431,\n",
       "         0.07567009,  0.03385851,  0.11635182,  0.01735798,  0.09851016],\n",
       "       [ 0.10222052,  0.11117118,  0.12629293,  0.13676596,  0.12072085,\n",
       "         0.07836924,  0.01528611,  0.08692337,  0.114754  ,  0.10749585],\n",
       "       [ 0.01211282,  0.15653931,  0.05277318,  0.06366245,  0.06107851,\n",
       "         0.15434405,  0.06530254,  0.20749234,  0.03046354,  0.19623125],\n",
       "       [ 0.19373055,  0.20167546,  0.05662445,  0.11280619,  0.03772689,\n",
       "         0.03697778,  0.06939972,  0.0416269 ,  0.1481325 ,  0.10129957],\n",
       "       [ 0.14632519,  0.05078615,  0.10204564,  0.06575565,  0.03190126,\n",
       "         0.08098528,  0.13398767,  0.20898527,  0.15295306,  0.02627483],\n",
       "       [ 0.05136886,  0.17504603,  0.06732828,  0.19667703,  0.09907649,\n",
       "         0.09467194,  0.06983439,  0.09784407,  0.13236371,  0.0157892 ],\n",
       "       [ 0.12398307,  0.09448721,  0.03897435,  0.07978352,  0.06459077,\n",
       "         0.14410522,  0.16211185,  0.11596235,  0.13026735,  0.04573433],\n",
       "       [ 0.06745056,  0.13047161,  0.14685037,  0.13037534,  0.122626  ,\n",
       "         0.07538658,  0.08100437,  0.06792576,  0.15913973,  0.01876967],\n",
       "       [ 0.04559292,  0.08558275,  0.13642732,  0.11026069,  0.15427293,\n",
       "         0.03695855,  0.12529067,  0.10584456,  0.04697887,  0.15279074],\n",
       "       [ 0.08140926,  0.05882321,  0.1421721 ,  0.06580631,  0.08080027,\n",
       "         0.05377059,  0.02903636,  0.24824107,  0.18096865,  0.05897218],\n",
       "       [ 0.0530066 ,  0.05053874,  0.09532086,  0.21145296,  0.04353463,\n",
       "         0.02384333,  0.13776238,  0.19680248,  0.10397767,  0.08376035],\n",
       "       [ 0.13394886,  0.08510168,  0.07709523,  0.13398592,  0.04211561,\n",
       "         0.11264946,  0.10266243,  0.08847216,  0.14181035,  0.08215831],\n",
       "       [ 0.10477315,  0.04098949,  0.13892477,  0.13415349,  0.13149606,\n",
       "         0.07460968,  0.07839915,  0.05318933,  0.12903847,  0.11442641],\n",
       "       [ 0.08485436,  0.10895072,  0.02325444,  0.13531645,  0.08178039,\n",
       "         0.08882347,  0.15746099,  0.11654018,  0.12497731,  0.0780417 ],\n",
       "       [ 0.07019189,  0.18952479,  0.16064287,  0.06925015,  0.12646179,\n",
       "         0.11168319,  0.09875134,  0.05138081,  0.09481495,  0.02729822],\n",
       "       [ 0.10745045,  0.12145449,  0.07928137,  0.12705105,  0.13246636,\n",
       "         0.05437571,  0.13822459,  0.0871791 ,  0.13555303,  0.01696385],\n",
       "       [ 0.1391841 ,  0.04972655,  0.10676975,  0.15370801,  0.14803938,\n",
       "         0.08017577,  0.03663805,  0.02021312,  0.15306952,  0.11247576],\n",
       "       [ 0.02608607,  0.10437558,  0.15074682,  0.04740949,  0.0709688 ,\n",
       "         0.15666341,  0.11149674,  0.19440669,  0.07536164,  0.06248475],\n",
       "       [ 0.07280616,  0.0735735 ,  0.04657112,  0.07174086,  0.26978551,\n",
       "         0.13556989,  0.0360721 ,  0.08816842,  0.04519172,  0.16052073],\n",
       "       [ 0.13105948,  0.1501733 ,  0.02563814,  0.12006673,  0.03563652,\n",
       "         0.11636372,  0.08626601,  0.1000725 ,  0.14592614,  0.08879745],\n",
       "       [ 0.05145573,  0.03403652,  0.09622441,  0.06470439,  0.10521147,\n",
       "         0.11734437,  0.12374826,  0.10084501,  0.11764861,  0.18878123],\n",
       "       [ 0.14015279,  0.08963663,  0.12621717,  0.14625839,  0.0904417 ,\n",
       "         0.04038065,  0.074321  ,  0.13055469,  0.14508044,  0.01695653],\n",
       "       [ 0.0173748 ,  0.18086197,  0.02181515,  0.21108227,  0.12821649,\n",
       "         0.09358769,  0.06355575,  0.20364071,  0.06680543,  0.01305973],\n",
       "       [ 0.06471104,  0.13375183,  0.14121783,  0.06321063,  0.09307583,\n",
       "         0.13905241,  0.04021656,  0.1290356 ,  0.14765569,  0.04807259],\n",
       "       [ 0.08232034,  0.05345868,  0.14673915,  0.17042178,  0.03804359,\n",
       "         0.04456162,  0.1186364 ,  0.08745368,  0.13548048,  0.1228843 ],\n",
       "       [ 0.16537791,  0.03696824,  0.07887007,  0.12280996,  0.07989506,\n",
       "         0.17279405,  0.03232245,  0.09684373,  0.11423714,  0.0998814 ],\n",
       "       [ 0.1216858 ,  0.14718978,  0.04522132,  0.15244984,  0.09275387,\n",
       "         0.07574667,  0.09632159,  0.0647869 ,  0.05894109,  0.14490313],\n",
       "       [ 0.0559796 ,  0.17190567,  0.20099274,  0.02680063,  0.01241404,\n",
       "         0.02384552,  0.15199695,  0.01930943,  0.1865806 ,  0.15017483],\n",
       "       [ 0.10316566,  0.08050951,  0.04980915,  0.19865062,  0.05817259,\n",
       "         0.18134417,  0.10836933,  0.0898948 ,  0.06035219,  0.06973198],\n",
       "       [ 0.1135173 ,  0.08252511,  0.0987511 ,  0.11326916,  0.10994752,\n",
       "         0.10831136,  0.10082569,  0.08240041,  0.11172252,  0.07872983],\n",
       "       [ 0.11300262,  0.09267415,  0.10653106,  0.08589748,  0.10774459,\n",
       "         0.11341852,  0.10171463,  0.10508668,  0.10380478,  0.07012551],\n",
       "       [ 0.11251592,  0.08894973,  0.08119971,  0.10759944,  0.11221365,\n",
       "         0.10945574,  0.07687062,  0.09441842,  0.11098453,  0.10579225],\n",
       "       [ 0.10444122,  0.1131678 ,  0.10408417,  0.10479214,  0.10018495,\n",
       "         0.11491965,  0.06778353,  0.11016419,  0.1098107 ,  0.07065164],\n",
       "       [ 0.12041703,  0.10389148,  0.07708596,  0.11468192,  0.06754053,\n",
       "         0.02000015,  0.13181074,  0.12747019,  0.11725855,  0.11984344],\n",
       "       [ 0.09879566,  0.11109865,  0.10322624,  0.1102706 ,  0.09562223,\n",
       "         0.10807242,  0.06985326,  0.09557463,  0.09422353,  0.11326277],\n",
       "       [ 0.0893008 ,  0.05422876,  0.11312911,  0.10133904,  0.11023257,\n",
       "         0.1104638 ,  0.10934516,  0.09812994,  0.10343572,  0.11039509],\n",
       "       [ 0.0971577 ,  0.10028639,  0.09662163,  0.09874768,  0.09599202,\n",
       "         0.10390844,  0.10085858,  0.10460105,  0.09596537,  0.10586113],\n",
       "       [ 0.06760056,  0.11619369,  0.12059632,  0.1201797 ,  0.05656639,\n",
       "         0.11243229,  0.10091697,  0.08353134,  0.10157251,  0.12041022],\n",
       "       [ 0.12094746,  0.09604226,  0.12043992,  0.02445639,  0.1178449 ,\n",
       "         0.11459319,  0.11403701,  0.11553522,  0.08569145,  0.09041219],\n",
       "       [ 0.10561373,  0.11151008,  0.03746558,  0.11485687,  0.11798258,\n",
       "         0.12310211,  0.01699442,  0.10998997,  0.10486936,  0.15761531],\n",
       "       [ 0.10724437,  0.11118311,  0.10547375,  0.02279969,  0.03505433,\n",
       "         0.21446853,  0.0509368 ,  0.09094526,  0.18272753,  0.07916663],\n",
       "       [ 0.04305525,  0.12633518,  0.04691567,  0.01718551,  0.12126004,\n",
       "         0.09411064,  0.0449321 ,  0.25941918,  0.21310016,  0.03368626],\n",
       "       [ 0.07424123,  0.10467468,  0.07868421,  0.10435533,  0.09404334,\n",
       "         0.09422358,  0.12222179,  0.10527239,  0.07987557,  0.14240788],\n",
       "       [ 0.16279164,  0.08808564,  0.14462876,  0.12864498,  0.06049077,\n",
       "         0.02036352,  0.11970505,  0.13825174,  0.07402371,  0.06301418],\n",
       "       [ 0.12561249,  0.0146531 ,  0.11509264,  0.21134302,  0.15973196,\n",
       "         0.15916675,  0.10306161,  0.01656421,  0.02657182,  0.06820239],\n",
       "       [ 0.06251593,  0.06050906,  0.11754669,  0.11735531,  0.16644302,\n",
       "         0.17323781,  0.08511869,  0.05266817,  0.03708479,  0.12752052],\n",
       "       [ 0.14843106,  0.0613014 ,  0.02557039,  0.06081606,  0.19035727,\n",
       "         0.04320147,  0.11785217,  0.20929499,  0.11660624,  0.02656896],\n",
       "       [ 0.11737638,  0.10821433,  0.11439455,  0.08210322,  0.0964575 ,\n",
       "         0.07041779,  0.15989965,  0.07826251,  0.09523772,  0.07763636],\n",
       "       [ 0.02145016,  0.01523039,  0.0155159 ,  0.1470131 ,  0.2651389 ,\n",
       "         0.2310511 ,  0.10284359,  0.0771788 ,  0.04672334,  0.07785474],\n",
       "       [ 0.10391717,  0.09208981,  0.09049828,  0.10062378,  0.10636245,\n",
       "         0.10364984,  0.10355519,  0.09487044,  0.1000285 ,  0.10440454],\n",
       "       [ 0.07239251,  0.10415548,  0.1005118 ,  0.10426394,  0.1031821 ,\n",
       "         0.10997668,  0.1042035 ,  0.10453268,  0.09794175,  0.09883957],\n",
       "       [ 0.11348994,  0.10564412,  0.05432347,  0.11405412,  0.10575819,\n",
       "         0.08940375,  0.10923423,  0.11304133,  0.09532201,  0.09972883],\n",
       "       [ 0.10628696,  0.10971871,  0.10774695,  0.10877579,  0.10898783,\n",
       "         0.10558302,  0.0813254 ,  0.09458109,  0.1015364 ,  0.07545784],\n",
       "       [ 0.1032204 ,  0.09995514,  0.09767879,  0.10370374,  0.09981018,\n",
       "         0.10382671,  0.08375234,  0.10316782,  0.10055697,  0.10432789],\n",
       "       [ 0.11729045,  0.10074951,  0.09789905,  0.06694457,  0.10522823,\n",
       "         0.10022877,  0.10940684,  0.11645588,  0.06981651,  0.1159802 ],\n",
       "       [ 0.10673161,  0.08130576,  0.09389468,  0.06374903,  0.07214127,\n",
       "         0.11634093,  0.12019002,  0.11818747,  0.1137322 ,  0.11372705],\n",
       "       [ 0.10959552,  0.05085167,  0.11157198,  0.05608392,  0.10918372,\n",
       "         0.12177349,  0.11240389,  0.10379839,  0.11073086,  0.11400656],\n",
       "       [ 0.08849815,  0.10518124,  0.11077412,  0.10483568,  0.105448  ,\n",
       "         0.10788044,  0.10804565,  0.10852008,  0.0987642 ,  0.06205244],\n",
       "       [ 0.07870773,  0.10384221,  0.1139432 ,  0.10884904,  0.10962853,\n",
       "         0.07294188,  0.10483087,  0.11312579,  0.10232747,  0.0918033 ],\n",
       "       [ 0.14731897,  0.12933316,  0.03397799,  0.07884411,  0.1104663 ,\n",
       "         0.1166108 ,  0.11891354,  0.07715062,  0.09784002,  0.08954447],\n",
       "       [ 0.0232987 ,  0.20724888,  0.08984017,  0.19514111,  0.17758522,\n",
       "         0.04908412,  0.07316323,  0.12162031,  0.02707793,  0.03594034],\n",
       "       [ 0.02636653,  0.15589821,  0.15230366,  0.10344008,  0.10143497,\n",
       "         0.01403852,  0.13007388,  0.14262966,  0.13047292,  0.04334159],\n",
       "       [ 0.07182011,  0.15912233,  0.04072793,  0.1563387 ,  0.04678333,\n",
       "         0.0308272 ,  0.16266345,  0.07861866,  0.09577572,  0.15732258],\n",
       "       [ 0.01415286,  0.06153388,  0.17914195,  0.14928907,  0.01264754,\n",
       "         0.06787078,  0.11682726,  0.16258507,  0.09160106,  0.14435053],\n",
       "       [ 0.03131035,  0.1853952 ,  0.07528796,  0.03710096,  0.04504614,\n",
       "         0.09245758,  0.1285437 ,  0.13716415,  0.12926474,  0.1384292 ],\n",
       "       [ 0.07791189,  0.03272138,  0.02969307,  0.02269862,  0.18586589,\n",
       "         0.17988238,  0.1618945 ,  0.08748941,  0.05027516,  0.1715677 ],\n",
       "       [ 0.11772511,  0.12555234,  0.03394892,  0.07489864,  0.10440358,\n",
       "         0.16054989,  0.10057159,  0.12441681,  0.05692925,  0.10100387],\n",
       "       [ 0.088327  ,  0.08308007,  0.16359711,  0.01657826,  0.01549632,\n",
       "         0.17478593,  0.10419643,  0.08973981,  0.16939844,  0.09480064],\n",
       "       [ 0.11044902,  0.03308513,  0.12422549,  0.10883152,  0.0156949 ,\n",
       "         0.07856291,  0.15202556,  0.14841608,  0.14511658,  0.08359281],\n",
       "       [ 0.15630024,  0.16468174,  0.16027267,  0.08669547,  0.13173422,\n",
       "         0.04642058,  0.096312  ,  0.02082642,  0.01211798,  0.12463868],\n",
       "       [ 0.11312484,  0.19411598,  0.02453471,  0.01336914,  0.12805787,\n",
       "         0.09131518,  0.10355991,  0.04118693,  0.15420035,  0.13653509],\n",
       "       [ 0.1624579 ,  0.01895686,  0.11713678,  0.04477665,  0.09243903,\n",
       "         0.19356758,  0.11334624,  0.02816897,  0.19713632,  0.03201365],\n",
       "       [ 0.13370184,  0.11586724,  0.07349514,  0.04093019,  0.1651007 ,\n",
       "         0.02775828,  0.13850934,  0.06948496,  0.08172845,  0.15342387],\n",
       "       [ 0.09668602,  0.08295123,  0.02482952,  0.14914713,  0.12330288,\n",
       "         0.0990822 ,  0.127289  ,  0.02942452,  0.12916527,  0.13812224],\n",
       "       [ 0.15358436,  0.10846431,  0.13948764,  0.03526629,  0.11233405,\n",
       "         0.07330873,  0.05478345,  0.11752576,  0.07778621,  0.1274592 ],\n",
       "       [ 0.05893752,  0.15297829,  0.0663262 ,  0.05010487,  0.1814286 ,\n",
       "         0.05556972,  0.09723002,  0.18897339,  0.05263411,  0.09581727],\n",
       "       [ 0.07759888,  0.1719227 ,  0.16723753,  0.0125261 ,  0.0310169 ,\n",
       "         0.18438176,  0.02922354,  0.052036  ,  0.13006955,  0.14398706],\n",
       "       [ 0.03343261,  0.09279057,  0.01867639,  0.09743795,  0.09347392,\n",
       "         0.07011844,  0.02934175,  0.15313569,  0.20232761,  0.20926507],\n",
       "       [ 0.12689977,  0.14867622,  0.04710664,  0.06853251,  0.13905252,\n",
       "         0.05375868,  0.15037011,  0.10019886,  0.10994829,  0.0554564 ],\n",
       "       [ 0.10700431,  0.10577873,  0.10457694,  0.0692968 ,  0.10315455,\n",
       "         0.10568963,  0.09490101,  0.10973129,  0.09813435,  0.10173238],\n",
       "       [ 0.11231947,  0.08551097,  0.11783201,  0.11442583,  0.0163925 ,\n",
       "         0.11315162,  0.11167897,  0.11315695,  0.10707335,  0.10845833],\n",
       "       [ 0.09320157,  0.10428154,  0.107253  ,  0.09975753,  0.10452873,\n",
       "         0.10021619,  0.10309935,  0.08199473,  0.10005711,  0.10561026],\n",
       "       [ 0.10413092,  0.05111487,  0.11477949,  0.10533462,  0.11341046,\n",
       "         0.11128725,  0.09993638,  0.08903737,  0.10543032,  0.10553832],\n",
       "       [ 0.11572657,  0.12657225,  0.11506672,  0.00848057,  0.12777479,\n",
       "         0.11917162,  0.11535074,  0.01948942,  0.12245169,  0.12991563],\n",
       "       [ 0.1132301 ,  0.11577007,  0.0759522 ,  0.11654352,  0.10900783,\n",
       "         0.09938134,  0.10185975,  0.08890916,  0.10838183,  0.0709642 ],\n",
       "       [ 0.10848104,  0.10436864,  0.07584146,  0.11437413,  0.1112038 ,\n",
       "         0.0649301 ,  0.11135113,  0.11017983,  0.08521987,  0.11404998],\n",
       "       [ 0.1049721 ,  0.10503227,  0.09785155,  0.09974188,  0.08362534,\n",
       "         0.10853532,  0.08995343,  0.10213184,  0.10360718,  0.10454908],\n",
       "       [ 0.10007575,  0.10365086,  0.11731059,  0.10938394,  0.11618702,\n",
       "         0.01874861,  0.10811233,  0.10705025,  0.1105798 ,  0.10890086],\n",
       "       [ 0.10740429,  0.10546538,  0.10619443,  0.10125625,  0.09965529,\n",
       "         0.10643983,  0.10233143,  0.08592247,  0.07260716,  0.11272346],\n",
       "       [ 0.13095091,  0.06659956,  0.04752024,  0.14345525,  0.14920761,\n",
       "         0.12411586,  0.04234742,  0.12033803,  0.14609626,  0.02936887],\n",
       "       [ 0.13073359,  0.08846342,  0.20518705,  0.14654259,  0.13464266,\n",
       "         0.03262376,  0.02457545,  0.01313932,  0.14537457,  0.07871759],\n",
       "       [ 0.09283034,  0.14175946,  0.14901408,  0.14343464,  0.06528549,\n",
       "         0.06321932,  0.03212956,  0.14114711,  0.08442435,  0.08675565],\n",
       "       [ 0.07293409,  0.14996567,  0.16208159,  0.09483455,  0.08562217,\n",
       "         0.02606055,  0.11848363,  0.125281  ,  0.0788666 ,  0.08587016],\n",
       "       [ 0.02346069,  0.02232121,  0.2050671 ,  0.10099084,  0.12943947,\n",
       "         0.04453558,  0.04316174,  0.10199912,  0.20109774,  0.12792651],\n",
       "       [ 0.16530639,  0.10804412,  0.19697346,  0.07549897,  0.02691822,\n",
       "         0.06598248,  0.17306158,  0.04436162,  0.04599116,  0.097862  ],\n",
       "       [ 0.02940374,  0.16593381,  0.0853549 ,  0.06280843,  0.19027819,\n",
       "         0.08705187,  0.11410639,  0.01901365,  0.10161987,  0.14442915],\n",
       "       [ 0.09912218,  0.15027518,  0.1061893 ,  0.02733507,  0.04013646,\n",
       "         0.06619484,  0.13897368,  0.08974949,  0.1505266 ,  0.1314972 ],\n",
       "       [ 0.18902603,  0.06073415,  0.17874821,  0.01598868,  0.0141687 ,\n",
       "         0.05365939,  0.11116474,  0.11549693,  0.18881849,  0.07219468],\n",
       "       [ 0.12045309,  0.12851016,  0.01926802,  0.11202093,  0.07376113,\n",
       "         0.12347232,  0.12281647,  0.12631984,  0.10238756,  0.07099049]])"
      ]
     },
     "execution_count": 281,
     "metadata": {},
     "output_type": "execute_result"
    }
   ],
   "source": [
    "t+=1\n",
    "topics = normalize((1-rho(tau,kappa,t))*topics + rho(tau,kappa,t)*temp_topics,axis=1,norm='l1')\n",
    "topics"
   ]
  },
  {
   "cell_type": "code",
   "execution_count": 354,
   "metadata": {
    "collapsed": false
   },
   "outputs": [
    {
     "data": {
      "text/plain": [
       "array([ 3.46938875,  3.46938866,  3.46938864,  3.46938871,  3.46938878,\n",
       "        3.46938869,  3.46938873,  3.46938869,  3.46938872,  3.46938864,\n",
       "        0.78376232,  0.78376236,  0.78376232,  0.78376233,  0.78376235,\n",
       "        0.78376239,  0.78376237,  0.78376249,  0.78376234,  0.78376239,\n",
       "        3.16115834,  3.16115827,  3.16115834,  3.16115827,  3.16115833,\n",
       "        3.16115829,  3.16115827,  3.16115832,  3.16115833,  3.16115828,\n",
       "        0.09141088,  0.09141085,  0.09141089,  0.09141089,  0.09141091,\n",
       "        0.09141089,  0.09141086,  0.09141088,  0.09141087,  0.09141084,\n",
       "        4.80668024,  4.80668019,  4.80668024,  4.80668022,  4.80668024,\n",
       "        4.80668021,  4.80668024,  4.80668022,  4.80668022,  4.80668024,\n",
       "        0.58497126,  0.58497126,  0.58497122,  0.5849713 ,  0.58497123,\n",
       "        0.58497129,  0.58497128,  0.58497129,  0.5849712 ,  0.58497125,\n",
       "        0.01313973,  0.01313972,  0.0131396 ,  0.01313971,  0.01313971,\n",
       "        0.01313972,  0.01313971,  0.01313973,  0.01313973,  0.01313972,\n",
       "        3.80932563,  3.80932567,  3.80932566,  3.80932563,  3.80932568,\n",
       "        3.80932568,  3.80932566,  3.80932564,  3.80932565,  3.80932566,\n",
       "        3.16601051,  3.16601051,  3.16601053,  3.16601052,  3.1660105 ,\n",
       "        3.1660105 ,  3.16601049,  3.16601047,  3.16601048,  3.16601049,\n",
       "        0.11955977,  0.11955973,  0.11955975,  0.11955977,  0.11955978,\n",
       "        0.11955977,  0.11955978,  0.11955974,  0.11955978,  0.11955978])"
      ]
     },
     "execution_count": 354,
     "metadata": {},
     "output_type": "execute_result"
    }
   ],
   "source": [
    "topics[:,0]"
   ]
  },
  {
   "cell_type": "code",
   "execution_count": 321,
   "metadata": {
    "collapsed": false
   },
   "outputs": [
    {
     "data": {
      "text/plain": [
       "[<matplotlib.lines.Line2D at 0x109ce9d50>]"
      ]
     },
     "execution_count": 321,
     "metadata": {},
     "output_type": "execute_result"
    },
    {
     "data": {
      "image/png": "[encoded data removed]",
      "text/plain": [
       "<matplotlib.figure.Figure at 0x109b9f5d0>"
      ]
     },
     "metadata": {},
     "output_type": "display_data"
    }
   ],
   "source": [
    "plt.plot(range(100),normalize((1-rho(tau,kappa,t))*topics + rho(tau,kappa,t)*temp_topics,axis=0,norm='l1')[:,1])"
   ]
  },
  {
   "cell_type": "code",
   "execution_count": 322,
   "metadata": {
    "collapsed": false
   },
   "outputs": [
    {
     "data": {
      "text/plain": [
       "[<matplotlib.lines.Line2D at 0x109e013d0>]"
      ]
     },
     "execution_count": 322,
     "metadata": {},
     "output_type": "execute_result"
    },
    {
     "data": {
      "image/png": "[encoded data removed]",
      "text/plain": [
       "<matplotlib.figure.Figure at 0x109cae1d0>"
      ]
     },
     "metadata": {},
     "output_type": "display_data"
    }
   ],
   "source": [
    "plt.plot(range(100),normalize((1-rho(tau,kappa,t))*topics + rho(tau,kappa,t)*temp_topics,axis=0,norm='l1')[:,0])"
   ]
  },
  {
   "cell_type": "code",
   "execution_count": null,
   "metadata": {
    "collapsed": true
   },
   "outputs": [],
   "source": []
  }
 ],
 "metadata": {
  "kernelspec": {
   "display_name": "Python 2",
   "language": "python",
   "name": "python2"
  },
  "language_info": {
   "codemirror_mode": {
    "name": "ipython",
    "version": 2
   },
   "file_extension": ".py",
   "mimetype": "text/x-python",
   "name": "python",
   "nbconvert_exporter": "python",
   "pygments_lexer": "ipython2",
   "version": "2.7.10"
  }
 },
 "nbformat": 4,
 "nbformat_minor": 0
}
