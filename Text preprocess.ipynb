{
 "cells": [
  {
   "cell_type": "code",
   "execution_count": 1,
   "metadata": {
    "collapsed": false
   },
   "outputs": [],
   "source": [
    "import json\n",
    "import numpy as np\n",
    "import pandas as pd\n",
    "from string import digits \n",
    "import re\n",
    "from itertools import groupby\n",
    "import collections"
   ]
  },
  {
   "cell_type": "code",
   "execution_count": 2,
   "metadata": {
    "collapsed": false
   },
   "outputs": [],
   "source": [
    "review = []\n",
    "with open(\"../yelp_dataset_challenge_academic_dataset/yelp_academic_dataset_review.json\") as f:\n",
    "    for r in f:\n",
    "        review.append(json.loads(r))"
   ]
  },
  {
   "cell_type": "code",
   "execution_count": 3,
   "metadata": {
    "collapsed": false
   },
   "outputs": [],
   "source": [
    "business_ids = [r['business_id'] for r in review]"
   ]
  },
  {
   "cell_type": "code",
   "execution_count": 5,
   "metadata": {
    "collapsed": false
   },
   "outputs": [],
   "source": [
    "business_ids_tuples = zip(range(len(business_ids)),business_ids)"
   ]
  },
  {
   "cell_type": "code",
   "execution_count": 6,
   "metadata": {
    "collapsed": false
   },
   "outputs": [],
   "source": [
    "combined_review_dic = dict.fromkeys(list(set(business_ids)))\n",
    "for tup in business_ids_tuples:\n",
    "    if combined_review_dic[tup[1]] is None:\n",
    "        combined_review_dic[tup[1]] = review[tup[0]]['text']\n",
    "    else:\n",
    "        combined_review_dic[tup[1]] = \" \".join([combined_review_dic[tup[1]], review[tup[0]]['text']])"
   ]
  },
  {
   "cell_type": "code",
   "execution_count": 7,
   "metadata": {
    "collapsed": false
   },
   "outputs": [
    {
     "data": {
      "text/plain": [
       "60785"
      ]
     },
     "execution_count": 7,
     "metadata": {},
     "output_type": "execute_result"
    }
   ],
   "source": [
    "len(combined_review_dic)"
   ]
  },
  {
   "cell_type": "code",
   "execution_count": 8,
   "metadata": {
    "collapsed": false
   },
   "outputs": [],
   "source": [
    "#Remove punctuation\n",
    "for k in combined_review_dic.keys():\n",
    "    combined_review_dic[k] = re.sub(r'[^\\w\\s]', ' ', combined_review_dic[k].strip().replace(\"\\'\", \" \").replace('\\n',\" \"))"
   ]
  },
  {
   "cell_type": "code",
   "execution_count": 9,
   "metadata": {
    "collapsed": false
   },
   "outputs": [],
   "source": [
    "#Remove numeric characters:\n",
    "for k in combined_review_dic.keys():\n",
    "    combined_review_dic[k] = filter(lambda c: not c.isdigit(), combined_review_dic[k])"
   ]
  },
  {
   "cell_type": "code",
   "execution_count": 10,
   "metadata": {
    "collapsed": false
   },
   "outputs": [],
   "source": [
    "#lower cap:\n",
    "for k in combined_review_dic.keys():\n",
    "    combined_review_dic[k] = combined_review_dic[k].lower()"
   ]
  },
  {
   "cell_type": "code",
   "execution_count": 11,
   "metadata": {
    "collapsed": false
   },
   "outputs": [
    {
     "data": {
      "text/plain": [
       "u'dr  goldberg offers everything i look for in a general practitioner   he s nice and easy to talk to without being patronizing  he s always on time in seeing his patients  he s affiliated with a top notch hospital  nyu  which my parents have explained to me is very important in case something happens and you need surgery  and you can get referrals to see specialists without having to see him first   really  what more do you need   i m sitting here trying to think of any complaints i have about him  but i m really drawing a blank  unfortunately  the frustration of being dr  goldberg s patient is a repeat of the experience i ve had with so many other doctors in nyc    good doctor  terrible staff   it seems that his staff simply never answers the phone   it usually takes  hours of repeated calling to get an answer   who has time for that or wants to deal with it   i have run into this problem with many other doctors and i just don t get it   you have office workers  you have patients with medical needs  why isn t anyone answering the phone   it s incomprehensible and not work the aggravation   it s with regret that i feel that i have to give dr  goldberg  stars  dr  goldberg has been my doctor for years and i like him   i ve found his office to be fairly efficient   today i actually got to see the doctor a few minutes early     he seems very engaged with his patients and his demeanor is friendly  yet authoritative       i m glad to have dr  goldberg as my doctor  been going to dr  goldberg for over  years  i think i was one of his st patients when he started at mhmg  he s been great over the years and is really all about the big picture  it is because of him  not my now former gyn dr  markoff  that i found out i have fibroids  he explores all options with you and is very patient and understanding  he doesn t judge and asks all the right questions  very thorough and wants to be kept in the loop on every aspect of your medical health and your life  got a letter in the mail last week that said dr  goldberg is moving to arizona to take a new position there in june   he will be missed very much     i think finding a new doctor in nyc that you actually like might almost be as awful as trying to find a date  i don t know what dr  goldberg was like before  moving to arizona  but let me tell you  stay away from this doctor and this office  i was going to dr  johnson before he left and goldberg took over when johnson left  he is not a caring doctor  he is only interested in the co pay and having you come in for medication refills every month  he will not give refills and could less about patients s financial situations  trying to get your  days mail away pharmacy prescriptions through this guy is a joke  and to make matters even worse  his office staff is incompetent    of the time when you call the office  they ll put you through to a voice mail  that no one ever answers or returns your call  both my adult children and husband have decided to leave this practice after experiencing such frustration  the entire office has an attitude like they are doing you a favor  give me a break  stay away from this doc and the practice  you deserve better and they will not be there when you really need them  i have never felt compelled to write a bad review about anyone until i met this pathetic excuse for a doctor who is all about the money  top notch doctor in a top notch practice  can t say i am surprised when i was referred to him by another doctor who i think is wonderful and because he went to one of the best medical schools in the country   it is really easy to get an appointment  there is minimal wait to be seen and his bedside manner is great  dr  eric goldberg is a fantastic doctor who has correctly diagnosed every issue that my wife and i have had  unlike many of my past doctors  dr  goldberg is very accessible and we have been able to schedule appointments with him and his staff very quickly  we are happy to have him in the neighborhood and look forward to being his patients for many years to come  i m writing this review to give you a heads up before you see this doctor  the office staff and administration are very unprofessional  i left a message with multiple people regarding my bill  and no one ever called me back  i had to hound them to get an answer about my bill    second  and most important  make sure your insurance is going to cover dr  goldberg s visits and blood work  he recommended to me that i get a physical  and he knew i was a student because i told him  i got the physical done  later  i found out my health insurance doesn t pay for preventative visits  i received an    bill for the blood work  i can t pay for my bill because i m a student and don t have any cash flow at this current time  i can t believe the doctor wouldn t give me a heads up to make sure my insurance would cover work that wasn t necessary and was strictly preventative  the office can t do anything to help me cover the bill  in addition  the office staff said the onus is on me to make sure my insurance covers visits  frustrating situation  i love dr  goldberg  best doctor i ve ever had  and i ve had a bunch after moving around a lot in the past  years  good listener  friendly   straightforward  always presents options and takes a  let s try the least extreme course  first  office staff has improved tremendously since dr  johnson left  highest recommendation '"
      ]
     },
     "execution_count": 11,
     "metadata": {},
     "output_type": "execute_result"
    }
   ],
   "source": [
    "combined_review_dic['vcNAWiLM4dR7D2nwwJ7nCA']"
   ]
  },
  {
   "cell_type": "code",
   "execution_count": 12,
   "metadata": {
    "collapsed": false
   },
   "outputs": [],
   "source": [
    "import csv\n",
    "with open('../yelp_dataset_challenge_academic_dataset/4000-most-common-english-words-csv.csv') as f:\n",
    "    stopwords = [row for row in f]\n",
    "top100stop = stopwords[1:101]\n",
    "new = []\n",
    "for w in top100stop:\n",
    "    new.append(w.strip().lower())\n",
    "top100stop = new"
   ]
  },
  {
   "cell_type": "code",
   "execution_count": 13,
   "metadata": {
    "collapsed": false
   },
   "outputs": [],
   "source": [
    "#Switch to list:\n",
    "combined_review_list_dic = {}\n",
    "for k in combined_review_dic.keys():\n",
    "    combined_review_list_dic[k] = combined_review_dic[k].split()"
   ]
  },
  {
   "cell_type": "code",
   "execution_count": null,
   "metadata": {
    "collapsed": true
   },
   "outputs": [],
   "source": [
    "combined_review_list_nostop_dic = {}\n",
    "t = 1\n",
    "for k in combined_review_list_dic.keys():\n",
    "    combined_review_list_nostop_dic[k]= [item for item in combined_review_list_dic[k] if item not in top100stop]\n",
    "    print t\n",
    "    t += 1"
   ]
  },
  {
   "cell_type": "code",
   "execution_count": 21,
   "metadata": {
    "collapsed": true
   },
   "outputs": [],
   "source": [
    "#save\n",
    "with open('review_combined_inlist.json', 'w') as fp:\n",
    "    json.dump(combined_review_list_nostop_dic, fp)"
   ]
  },
  {
   "cell_type": "code",
   "execution_count": 3,
   "metadata": {
    "collapsed": false
   },
   "outputs": [],
   "source": [
    "#reload\n",
    "with open('review_combined_inlist.json', 'r') as fp:\n",
    "    combined_review_list_nostop_dic = json.load(fp)"
   ]
  },
  {
   "cell_type": "code",
   "execution_count": 6,
   "metadata": {
    "collapsed": false
   },
   "outputs": [],
   "source": [
    "import inflect\n",
    "p = inflect.engine()"
   ]
  },
  {
   "cell_type": "code",
   "execution_count": 8,
   "metadata": {
    "collapsed": false
   },
   "outputs": [],
   "source": [
    "def singular(word):\n",
    "    sing = p.singular_noun(word)\n",
    "    if sing is False:\n",
    "        return word\n",
    "    else:\n",
    "        return sing"
   ]
  },
  {
   "cell_type": "code",
   "execution_count": 5,
   "metadata": {
    "collapsed": true
   },
   "outputs": [],
   "source": [
    "additional_words = ['is','m','i','ain','isn','haven','hadn','weren','t','s','ve','said','was']"
   ]
  },
  {
   "cell_type": "code",
   "execution_count": 6,
   "metadata": {
    "collapsed": false
   },
   "outputs": [],
   "source": [
    "combined_review_list_nostop_dic2 = {}\n",
    "for k in combined_review_list_nostop_dic.keys():\n",
    "    combined_review_list_nostop_dic2[k]= [item for item in combined_review_list_nostop_dic[k] if item not in additional_words]"
   ]
  },
  {
   "cell_type": "code",
   "execution_count": null,
   "metadata": {
    "collapsed": true
   },
   "outputs": [],
   "source": [
    "#save\n",
    "with open('temp/review_combined_inlist2.json', 'w') as fp:\n",
    "    json.dump(combined_review_list_nostop_dic2, fp)"
   ]
  },
  {
   "cell_type": "code",
   "execution_count": 3,
   "metadata": {
    "collapsed": false
   },
   "outputs": [],
   "source": [
    "#reload\n",
    "with open('temp/review_combined_inlist2.json', 'r') as fp:\n",
    "    combined_review_list_nostop_dic2 = json.load(fp)"
   ]
  },
  {
   "cell_type": "code",
   "execution_count": 4,
   "metadata": {
    "collapsed": true
   },
   "outputs": [],
   "source": [
    "res = np.load('temp/restaurants_index.npy')"
   ]
  },
  {
   "cell_type": "code",
   "execution_count": 14,
   "metadata": {
    "collapsed": false
   },
   "outputs": [],
   "source": [
    "restaurant_reviews = {}\n",
    "for r in res:\n",
    "    restaurant_reviews[r] =  combined_review_list_nostop_dic2[r]"
   ]
  },
  {
   "cell_type": "code",
   "execution_count": 15,
   "metadata": {
    "collapsed": false
   },
   "outputs": [],
   "source": [
    "word_list = []\n",
    "for k in restaurant_reviews.keys():\n",
    "    word_list += restaurant_reviews[k]"
   ]
  },
  {
   "cell_type": "code",
   "execution_count": 16,
   "metadata": {
    "collapsed": true
   },
   "outputs": [],
   "source": [
    "unique_words = list(set(word_list))"
   ]
  },
  {
   "cell_type": "code",
   "execution_count": 17,
   "metadata": {
    "collapsed": true
   },
   "outputs": [],
   "source": [
    "word_to_idx = dict(zip(unique_words,range(len(unique_words))))"
   ]
  },
  {
   "cell_type": "code",
   "execution_count": 18,
   "metadata": {
    "collapsed": false
   },
   "outputs": [],
   "source": [
    "with open('temp/word_to_idx_map.json', 'w') as fp:\n",
    "    json.dump(word_to_idx, fp)"
   ]
  },
  {
   "cell_type": "code",
   "execution_count": 19,
   "metadata": {
    "collapsed": false
   },
   "outputs": [],
   "source": [
    "del word_list\n",
    "del unique_words"
   ]
  },
  {
   "cell_type": "code",
   "execution_count": 21,
   "metadata": {
    "collapsed": true
   },
   "outputs": [],
   "source": [
    "venue_to_idx = dict(zip(restaurant_reviews.keys(),range(len(restaurant_reviews.keys()))))"
   ]
  },
  {
   "cell_type": "code",
   "execution_count": 22,
   "metadata": {
    "collapsed": false
   },
   "outputs": [],
   "source": [
    "with open('temp/venue_to_idx_map.json', 'w') as fp:\n",
    "    json.dump(venue_to_idx, fp)"
   ]
  },
  {
   "cell_type": "code",
   "execution_count": 19,
   "metadata": {
    "collapsed": false
   },
   "outputs": [],
   "source": [
    "from scipy import sparse\n",
    "\n",
    "nonzero_data = []\n",
    "rows = []\n",
    "cols = []\n",
    "\n",
    "for k in restaurant_reviews.keys():\n",
    "    counter = collections.Counter(restaurant_reviews[k])\n",
    "    nonzero_data += counter.values()\n",
    "    rows += [venue_to_idx[k]]*len(counter.values())\n",
    "    cols += [word_to_idx[ck] for ck in counter.keys()]\n",
    "\n",
    "sparse_res = sparse.csc_matrix((nonzero_data,(rows,cols)),shape = (len(venue_to_idx),len(word_to_idx)))"
   ]
  },
  {
   "cell_type": "code",
   "execution_count": 23,
   "metadata": {
    "collapsed": false
   },
   "outputs": [],
   "source": [
    "import scipy.io\n",
    "scipy.io.mmwrite(\"temp/sparse_matrix_restaurants\",sparse_res)\n",
    "\n",
    "#Will be zipped"
   ]
  },
  {
   "cell_type": "markdown",
   "metadata": {},
   "source": [
    "# Subsampling the data for computational reasons:"
   ]
  },
  {
   "cell_type": "code",
   "execution_count": 128,
   "metadata": {
    "collapsed": false
   },
   "outputs": [
    {
     "data": {
      "text/plain": [
       "500"
      ]
     },
     "execution_count": 128,
     "metadata": {},
     "output_type": "execute_result"
    }
   ],
   "source": [
    "res_small = np.random.choice(res,504)\n",
    "restaurant_reviews_small = {}\n",
    "for r in res_small:\n",
    "    restaurant_reviews_small[r] =  combined_review_list_nostop_dic2[r]\n",
    "len(restaurant_reviews_small)"
   ]
  },
  {
   "cell_type": "code",
   "execution_count": 129,
   "metadata": {
    "collapsed": true
   },
   "outputs": [],
   "source": [
    "word_list_small = []\n",
    "for k in restaurant_reviews_small.keys():\n",
    "    word_list_small += restaurant_reviews_small[k]\n",
    "unique_words_small = list(set(word_list_small))\n",
    "word_to_idx_small = dict(zip(unique_words_small,range(len(unique_words_small))))\n",
    "venue_to_idx_small = dict(zip(restaurant_reviews_small.keys(),range(len(restaurant_reviews_small.keys()))))"
   ]
  },
  {
   "cell_type": "code",
   "execution_count": 130,
   "metadata": {
    "collapsed": false
   },
   "outputs": [
    {
     "data": {
      "text/plain": [
       "36745"
      ]
     },
     "execution_count": 130,
     "metadata": {},
     "output_type": "execute_result"
    }
   ],
   "source": [
    "len(unique_words_small)"
   ]
  },
  {
   "cell_type": "code",
   "execution_count": 131,
   "metadata": {
    "collapsed": true
   },
   "outputs": [],
   "source": [
    "from scipy import sparse\n",
    "\n",
    "nonzero_data_small = []\n",
    "rows_s = []\n",
    "cols_s = []\n",
    "\n",
    "for k in restaurant_reviews_small.keys():\n",
    "    counter = collections.Counter(restaurant_reviews_small[k])\n",
    "    nonzero_data_small += counter.values()\n",
    "    rows_s += [venue_to_idx_small[k]]*len(counter.values())\n",
    "    cols_s += [word_to_idx_small[ck] for ck in counter.keys()]\n",
    "\n",
    "sparse_res_small = sparse.csc_matrix((nonzero_data_small,(rows_s,cols_s)),shape = (len(venue_to_idx_small),len(word_to_idx_small)))"
   ]
  },
  {
   "cell_type": "code",
   "execution_count": 135,
   "metadata": {
    "collapsed": false
   },
   "outputs": [],
   "source": [
    "import scipy.io\n",
    "scipy.io.mmwrite(\"../cs281_data/sparse_matrix_restaurants_small\",sparse_res_small)"
   ]
  },
  {
   "cell_type": "code",
   "execution_count": 136,
   "metadata": {
    "collapsed": true
   },
   "outputs": [],
   "source": [
    "with open('../cs281_data/word_to_idx_small_map.json', 'w') as fp:\n",
    "    json.dump(word_to_idx_small, fp)\n",
    "with open('../cs281_data/venue_to_idx_small_map.json', 'w') as fp:\n",
    "    json.dump(venue_to_idx_small, fp)"
   ]
  },
  {
   "cell_type": "code",
   "execution_count": null,
   "metadata": {
    "collapsed": true
   },
   "outputs": [],
   "source": []
  }
 ],
 "metadata": {
  "kernelspec": {
   "display_name": "Python 2",
   "language": "python",
   "name": "python2"
  },
  "language_info": {
   "codemirror_mode": {
    "name": "ipython",
    "version": 2
   },
   "file_extension": ".py",
   "mimetype": "text/x-python",
   "name": "python",
   "nbconvert_exporter": "python",
   "pygments_lexer": "ipython2",
   "version": "2.7.10"
  }
 },
 "nbformat": 4,
 "nbformat_minor": 0
}
